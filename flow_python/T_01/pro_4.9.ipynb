{
 "cells": [
  {
   "cell_type": "markdown",
   "id": "f375fdf9-7a0c-4a0a-8369-1ce41c1a104f",
   "metadata": {},
   "source": [
    "# 도전문제 4.9"
   ]
  },
  {
   "cell_type": "code",
   "execution_count": 10,
   "id": "36b32143-b91d-4b16-9e4f-d1439fae3b02",
   "metadata": {},
   "outputs": [
    {
     "name": "stdout",
     "output_type": "stream",
     "text": [
      "Player1의 이름은: 홍길동\n",
      "Player2의 이름은: 홍길순\n",
      "......주사위를 굴립니다......\n",
      "홍길동의 주사위는: 6\n",
      "홍길순의 주사위는: 1\n",
      "홍길동이 이겼습니다.\n"
     ]
    }
   ],
   "source": [
    "import random\n",
    "\n",
    "P1 = \"홍길동\"\n",
    "P2 = \"홍길순\"\n",
    "\n",
    "print(\"Player1의 이름은:\", P1)\n",
    "print(\"Player2의 이름은:\", P2)\n",
    "print(\"......주사위를 굴립니다......\")\n",
    "\n",
    "P1 = random.randint(1, 6)\n",
    "P2 = random.randint(1, 6)\n",
    "\n",
    "print(\"홍길동의 주사위는:\", P1)\n",
    "print(\"홍길순의 주사위는:\", P2)\n",
    "\n",
    "if P1 > P2:\n",
    "    print(\"홍길동이 이겼습니다.\")\n",
    "\n",
    "elif P1 < p2:\n",
    "    print(\"홍길순이 이겼습니다.\")\n",
    "\n",
    "else:\n",
    "    print(\"비겼습니다.\")\n",
    "\n",
    "    \n",
    "\n"
   ]
  },
  {
   "cell_type": "code",
   "execution_count": 14,
   "id": "9f731b94-0c85-4b63-a8be-1b4d33f37f59",
   "metadata": {},
   "outputs": [
    {
     "name": "stdin",
     "output_type": "stream",
     "text": [
      "점의 좌표 x, y를 입력하시오 :  3 3\n"
     ]
    },
    {
     "name": "stdout",
     "output_type": "stream",
     "text": [
      "원이 내부에 있음\n"
     ]
    }
   ],
   "source": [
    "x, y = map(float, input('점의 좌표 x, y를 입력하시오 : ').split())\n",
    "if x * x + y * y > 5 * 5 :\n",
    "    print(\"원의 외부에 있음\")\n",
    "else:\n",
    "    print(\"원이 내부에 있음\")"
   ]
  },
  {
   "cell_type": "markdown",
   "id": "96cfe56c-4d77-48b9-bae8-65615ef45497",
   "metadata": {},
   "source": [
    "# 도전문제 4.10"
   ]
  },
  {
   "cell_type": "code",
   "execution_count": 23,
   "id": "81be97e7-952f-45d6-acd7-8ff979e4fdaf",
   "metadata": {},
   "outputs": [
    {
     "name": "stdin",
     "output_type": "stream",
     "text": [
      "x좌표를 입력하시오: 12\n",
      "y좌표를 입력하시오: 34\n"
     ]
    },
    {
     "name": "stdout",
     "output_type": "stream",
     "text": [
      "원의 외부에 있음\n"
     ]
    }
   ],
   "source": [
    "x = float(input(\"x좌표를 입력하시오:\"))\n",
    "y = float(input(\"y좌표를 입력하시오:\"))\n",
    "\n",
    "dx = abs(3 - x)\n",
    "dy = abs(4 - y)\n",
    "\n",
    "if dx * dx + dy * dy > 10*10:\n",
    "    print('원의 외부에 있음')\n",
    "\n",
    "else:\n",
    "    print(\"원의 내부에 있음\")\n"
   ]
  },
  {
   "cell_type": "code",
   "execution_count": 26,
   "id": "10659307-d462-4d34-9bd2-633c0e0dd785",
   "metadata": {},
   "outputs": [
    {
     "name": "stdin",
     "output_type": "stream",
     "text": [
      "아이디를 입력하시오: wonjun605\n"
     ]
    },
    {
     "name": "stdout",
     "output_type": "stream",
     "text": [
      "환영합니다.\n"
     ]
    }
   ],
   "source": [
    "id = \"wonjun605\"\n",
    "user = input(\"아이디를 입력하시오:\")\n",
    "if user == id:\n",
    "    print(\"환영합니다.\")\n",
    "else:\n",
    "    print(\"아이디를 찾을 수 없습니다.\")\n"
   ]
  },
  {
   "cell_type": "markdown",
   "id": "8691cb78-827f-4be3-b1cf-5ee409031839",
   "metadata": {},
   "source": [
    "# 도전문제 4.11"
   ]
  },
  {
   "cell_type": "code",
   "execution_count": 36,
   "id": "afa4c99b-394a-40e0-a112-e9df8d369e6c",
   "metadata": {},
   "outputs": [
    {
     "name": "stdin",
     "output_type": "stream",
     "text": [
      "아이디를 입력하시오: ㅇ\n",
      "패스워드를 입력하시오: ㅇ\n"
     ]
    },
    {
     "name": "stdout",
     "output_type": "stream",
     "text": [
      "아이디를 찾을 수 없습니다.\n"
     ]
    }
   ],
   "source": [
    "id = \"ilovepython\"\n",
    "pw = \"mypass1234\"\n",
    "\n",
    "a = input('아이디를 입력하시오:')\n",
    "b = input('패스워드를 입력하시오:')\n",
    "\n",
    "if a == id and b == pw:\n",
    "    print(\"환영합니다.\")\n",
    "elif a != id:\n",
    "    print(\"아이디를 찾을 수 없습니다.\")\n",
    "elif a == id and b != pw:\n",
    "    print(\"비밀번호가 틀렸습니다.\")\n"
   ]
  },
  {
   "cell_type": "code",
   "execution_count": 38,
   "id": "bcd98634-4fbe-4443-8980-38845ef1c523",
   "metadata": {},
   "outputs": [
    {
     "name": "stdin",
     "output_type": "stream",
     "text": [
      "어디를 공격하시겠어요?(왼쪽, 가운데, 오른쪽): 왼쪽\n"
     ]
    },
    {
     "name": "stdout",
     "output_type": "stream",
     "text": [
      "축하합니다. 공격에 성공했습니다.\n",
      "컴퓨터의 수비위치 오른쪽\n"
     ]
    }
   ],
   "source": [
    "import random\n",
    "\n",
    "n = random.randint(1, 3)\n",
    "if n == 1:\n",
    "    com_choice = '왼쪽'\n",
    "elif n == 2:\n",
    "    com_choice = '가운데'\n",
    "else:\n",
    "    com_choice = '오른쪽'\n",
    "\n",
    "user_choice = input(\"어디를 공격하시겠어요?(왼쪽, 가운데, 오른쪽):\")\n",
    "if com_choice == user_choice:\n",
    "    print('공격에 실패했습니다.')\n",
    "else:\n",
    "    print(\"축하합니다. 공격에 성공했습니다.\")\n",
    "    print(\"컴퓨터의 수비위치\", com_choice)\n",
    "    "
   ]
  },
  {
   "cell_type": "markdown",
   "id": "728e8d28-a21f-43e2-b573-8cbd50fe4f1b",
   "metadata": {},
   "source": [
    "# 도전문제 4.12"
   ]
  },
  {
   "cell_type": "code",
   "execution_count": null,
   "id": "e6df3ff7-16a7-43b9-adaf-a68effb47369",
   "metadata": {},
   "outputs": [],
   "source": []
  },
  {
   "cell_type": "markdown",
   "id": "b4b7ffe5-57a9-45b8-863f-9e1c036d1fe5",
   "metadata": {},
   "source": [
    "# 도전문제 5.2"
   ]
  },
  {
   "cell_type": "code",
   "execution_count": 2,
   "id": "adc11af6-be9e-4640-8422-f6849198539f",
   "metadata": {},
   "outputs": [
    {
     "name": "stdout",
     "output_type": "stream",
     "text": [
      "1\n",
      "2\n",
      "3\n",
      "4\n",
      "5\n",
      "6\n",
      "7\n",
      "8\n",
      "9\n"
     ]
    }
   ],
   "source": [
    "for t in range(1, 10):\n",
    "    print(t)"
   ]
  },
  {
   "cell_type": "code",
   "execution_count": 4,
   "id": "b0f1425a-50df-49bc-bdc8-53262c800d3c",
   "metadata": {},
   "outputs": [
    {
     "name": "stdout",
     "output_type": "stream",
     "text": [
      "2\n",
      "4\n",
      "6\n",
      "8\n"
     ]
    }
   ],
   "source": [
    "for t in range(2, 10, 2):\n",
    "    print(t)"
   ]
  },
  {
   "cell_type": "code",
   "execution_count": 5,
   "id": "b5f91fab-86c3-42a7-afe1-4736179588a3",
   "metadata": {},
   "outputs": [
    {
     "name": "stdout",
     "output_type": "stream",
     "text": [
      "2\n",
      "5\n",
      "8\n"
     ]
    }
   ],
   "source": [
    "for t in range(2, 10, 3):\n",
    "    print(t)"
   ]
  },
  {
   "cell_type": "markdown",
   "id": "f4399f3e-1378-40d1-953d-fb2d5e71fc56",
   "metadata": {},
   "source": [
    "# 도전문제 5.3"
   ]
  },
  {
   "cell_type": "code",
   "execution_count": 6,
   "id": "a02e4037-db7b-4fdd-ad02-95aef5e4394c",
   "metadata": {},
   "outputs": [
    {
     "name": "stdout",
     "output_type": "stream",
     "text": [
      "V\n",
      "J-Hope\n",
      "Rm\n",
      "Jungkook\n",
      "Jin\n",
      "Jimin\n",
      "Suga\n"
     ]
    }
   ],
   "source": [
    "bts = ['V', 'J-Hope', 'Rm', 'Jungkook', 'Jin', 'Jimin', 'Suga']\n",
    "\n",
    "for i in bts:\n",
    "    print(i)"
   ]
  },
  {
   "cell_type": "code",
   "execution_count": 19,
   "id": "dacebea1-7277-45f5-aab3-4e7e95f570fa",
   "metadata": {},
   "outputs": [],
   "source": [
    "a = list(range(5, 10))"
   ]
  },
  {
   "cell_type": "code",
   "execution_count": 20,
   "id": "03b7f3e7-7343-4972-bd88-5ef34a6053bd",
   "metadata": {},
   "outputs": [
    {
     "name": "stdout",
     "output_type": "stream",
     "text": [
      "35\n"
     ]
    }
   ],
   "source": [
    "s = 0\n",
    "for i in a:\n",
    "    s = s + i\n",
    "print(s)"
   ]
  },
  {
   "cell_type": "code",
   "execution_count": 9,
   "id": "2440b115-6ffd-43c6-9e1b-30589243cf4d",
   "metadata": {},
   "outputs": [
    {
     "data": {
      "text/plain": [
       "[0, 1, 2, 3, 4, 5, 6, 7, 8, 9]"
      ]
     },
     "execution_count": 9,
     "metadata": {},
     "output_type": "execute_result"
    }
   ],
   "source": [
    "a"
   ]
  },
  {
   "cell_type": "code",
   "execution_count": 11,
   "id": "fe1965ad-863c-48ac-b541-26098c400159",
   "metadata": {},
   "outputs": [
    {
     "name": "stdout",
     "output_type": "stream",
     "text": [
      "1 2 3 4 5 "
     ]
    }
   ],
   "source": [
    "for i in range(1, 6, 1):\n",
    "    print(i, end=\" \")"
   ]
  },
  {
   "cell_type": "code",
   "execution_count": 12,
   "id": "7aec8215-46d7-4fb3-b7d2-2325d57c85be",
   "metadata": {},
   "outputs": [
    {
     "name": "stdout",
     "output_type": "stream",
     "text": [
      "10 9 8 7 6 5 4 3 2 1 "
     ]
    }
   ],
   "source": [
    "for i in range(10, 0, -1):\n",
    "    print(i, end=\" \")"
   ]
  },
  {
   "cell_type": "code",
   "execution_count": 13,
   "id": "7fe4c7a1-5b45-486b-bf0e-15a5c87eb28e",
   "metadata": {},
   "outputs": [
    {
     "name": "stdin",
     "output_type": "stream",
     "text": [
      "정수를 입력하시오: 10\n"
     ]
    },
    {
     "name": "stdout",
     "output_type": "stream",
     "text": [
      "10 !은 3628800 이다.\n"
     ]
    }
   ],
   "source": [
    "n = int(input(\"정수를 입력하시오:\"))\n",
    "fact = 1\n",
    "for i in range(1, n + 1):\n",
    "    fact = fact * i\n",
    "print(n, \"!은\", fact, \"이다.\")"
   ]
  },
  {
   "cell_type": "markdown",
   "id": "1bdac9a0-4cb5-42a6-85ba-8e9238c60bf1",
   "metadata": {},
   "source": [
    "# 도전문제 5.9"
   ]
  },
  {
   "cell_type": "code",
   "execution_count": 17,
   "id": "6f98e744-39e0-4fde-bfda-387c6cc7d02b",
   "metadata": {},
   "outputs": [
    {
     "name": "stdout",
     "output_type": "stream",
     "text": [
      "1부터 100 사이의 숫자를 맞추시오.\n"
     ]
    },
    {
     "name": "stdin",
     "output_type": "stream",
     "text": [
      "숫자를 입력하시오. 1\n"
     ]
    },
    {
     "name": "stdout",
     "output_type": "stream",
     "text": [
      "낮음\n"
     ]
    },
    {
     "name": "stdin",
     "output_type": "stream",
     "text": [
      "숫자를 입력하시오. 1\n"
     ]
    },
    {
     "name": "stdout",
     "output_type": "stream",
     "text": [
      "낮음\n"
     ]
    },
    {
     "name": "stdin",
     "output_type": "stream",
     "text": [
      "숫자를 입력하시오. 1\n"
     ]
    },
    {
     "name": "stdout",
     "output_type": "stream",
     "text": [
      "낮음\n"
     ]
    },
    {
     "name": "stdin",
     "output_type": "stream",
     "text": [
      "숫자를 입력하시오. 1\n"
     ]
    },
    {
     "name": "stdout",
     "output_type": "stream",
     "text": [
      "낮음\n",
      "시도 횟수를 초과했습니다. 정답은 87 였습니다.\n"
     ]
    }
   ],
   "source": [
    "import random\n",
    "\n",
    "tries = 0\n",
    "answer = random.randint(1, 100)\n",
    "print(\"1부터 100 사이의 숫자를 맞추시오.\")\n",
    "\n",
    "while tries < 4:\n",
    "    guess = int(input(\"숫자를 입력하시오.\"))\n",
    "    tries += 1\n",
    "    \n",
    "    if guess == answer:\n",
    "        print(\"맞았습니다!\")\n",
    "        break\n",
    "    elif guess < answer:\n",
    "        print(\"낮음\")\n",
    "    elif guess > answer:\n",
    "        print(\"높음\")\n",
    "    \n",
    "    if tries == 4:\n",
    "        print(\"시도 횟수를 초과했습니다. 정답은\", answer, \"였습니다.\")\n",
    "\n"
   ]
  },
  {
   "cell_type": "markdown",
   "id": "8173586f-51dd-4560-b22d-5c0976e8f73a",
   "metadata": {},
   "source": [
    "# LAB 5-10"
   ]
  },
  {
   "cell_type": "markdown",
   "id": "75f5caf8-2cc0-414b-9f91-9c497c43c011",
   "metadata": {},
   "source": [
    "import random\n",
    "\n",
    "while True:\n",
    "    a = random.randint(1, 100)\n",
    "    b = random.randint(1, 100)\n",
    "    print(a, \"+\", b, \"=\", end = ' ')\n",
    "    answer = int(input())\n",
    "    if answer == a + b:\n",
    "        print(\"잘했어요\")\n",
    "    else:\n",
    "        print(\"정답은\", a+b, \"입니다. 다음번에는 잘할 수 있죠?\")\n",
    "    \n"
   ]
  },
  {
   "cell_type": "code",
   "execution_count": 29,
   "id": "61f6e9fa-efc6-492d-9111-39e2562a8dbf",
   "metadata": {},
   "outputs": [
    {
     "name": "stdin",
     "output_type": "stream",
     "text": [
      "신호등 색상을 입력하시오: 녹생\n",
      "신호등 색상을 입력하시오: 녹색\n",
      "신호등 색상을 입력하시오: green\n"
     ]
    },
    {
     "name": "stdout",
     "output_type": "stream",
     "text": [
      "녹색 신호입니다. 길을 건너세요!\n"
     ]
    }
   ],
   "source": [
    "while True:\n",
    "    light = input('신호등 색상을 입력하시오:')\n",
    "    if light == 'green':\n",
    "        break\n",
    "\n",
    "print (\"녹색 신호입니다. 길을 건너세요!\")"
   ]
  },
  {
   "cell_type": "code",
   "execution_count": 1,
   "id": "1ea68692-50cc-4b0a-a0e2-b10aff0546c2",
   "metadata": {},
   "outputs": [
    {
     "name": "stdout",
     "output_type": "stream",
     "text": [
      "pr"
     ]
    }
   ],
   "source": [
    "for ch in 'programming':\n",
    "    if ch == 'o':\n",
    "        break                  ## break\n",
    "    print(ch, end='')"
   ]
  },
  {
   "cell_type": "markdown",
   "id": "d6e60dd6-9801-47f7-a2cf-567c9f43053a",
   "metadata": {},
   "source": [
    "# 도전문제 6.1"
   ]
  },
  {
   "cell_type": "code",
   "execution_count": 4,
   "id": "831b601e-b2a9-4583-a697-e426b4ba3c14",
   "metadata": {},
   "outputs": [
    {
     "name": "stdout",
     "output_type": "stream",
     "text": [
      "서울시 강남구 신사동 11-11\n",
      "파이썬 컴퍼티\n",
      "전화 : 02-333-3333\n",
      "서울시 강남구 신사동 11-11\n",
      "파이썬 컴퍼티\n",
      "전화 : 02-333-3333\n",
      "서울시 강남구 신사동 11-11\n",
      "파이썬 컴퍼티\n",
      "전화 : 02-333-3333\n"
     ]
    }
   ],
   "source": [
    "def print_company_address():\n",
    "    print(\"서울시 강남구 신사동 11-11\")\n",
    "    print(\"파이썬 컴퍼티\")\n",
    "    print(\"전화 : 02-333-3333\")\n",
    "\n",
    "print_company_address()\n",
    "print_company_address()\n",
    "print_company_address()\n"
   ]
  },
  {
   "cell_type": "code",
   "execution_count": 3,
   "id": "d9ac0cf6-38c5-4ae4-8573-316d58667ed4",
   "metadata": {},
   "outputs": [
    {
     "name": "stdout",
     "output_type": "stream",
     "text": [
      "********************\n",
      "********************\n",
      "********************\n",
      "********************\n",
      "********************\n"
     ]
    }
   ],
   "source": [
    "def print_star():\n",
    "    print(\"********************\")\n",
    "\n",
    "for i in range(1,6):\n",
    "    print_star()"
   ]
  },
  {
   "cell_type": "code",
   "execution_count": 6,
   "id": "19cbf3ae-647b-475b-b30b-0f5c4bc11cc2",
   "metadata": {},
   "outputs": [
    {
     "name": "stdout",
     "output_type": "stream",
     "text": [
      "이름 :  홍길순\n",
      "주소 :  부산광역시 남구 광안로 10번길 1-1\n"
     ]
    }
   ],
   "source": [
    "def print_address2(name, address):\n",
    "    print(\"이름 : \", name)\n",
    "    print(\"주소 : \", address)\n",
    "\n",
    "print_address2(\"홍길순\", \"부산광역시 남구 광안로 10번길 1-1\")"
   ]
  },
  {
   "cell_type": "code",
   "execution_count": 13,
   "id": "9c822fba-6776-4e44-acec-2e7fb6997d31",
   "metadata": {},
   "outputs": [
    {
     "name": "stdout",
     "output_type": "stream",
     "text": [
      "n1 = 1 , n2 = 2 , n3 = 3\n",
      "n1 + n2 + n3 = 6\n"
     ]
    }
   ],
   "source": [
    "def add(n1, n2, n3):\n",
    "    print(\"n1 =\", n1, \",\", \"n2 =\", n2, \",\", \"n3 =\", n3)\n",
    "    print(\"n1 + n2 + n3 =\", n1 + n2 + n3)\n",
    "\n",
    "add(1, 2, 3)"
   ]
  },
  {
   "cell_type": "code",
   "execution_count": null,
   "id": "651dc08d-2acc-4897-bb72-afb5edcbdd77",
   "metadata": {},
   "outputs": [],
   "source": []
  }
 ],
 "metadata": {
  "kernelspec": {
   "display_name": "Python 3 (ipykernel)",
   "language": "python",
   "name": "python3"
  },
  "language_info": {
   "codemirror_mode": {
    "name": "ipython",
    "version": 3
   },
   "file_extension": ".py",
   "mimetype": "text/x-python",
   "name": "python",
   "nbconvert_exporter": "python",
   "pygments_lexer": "ipython3",
   "version": "3.11.7"
  }
 },
 "nbformat": 4,
 "nbformat_minor": 5
}
