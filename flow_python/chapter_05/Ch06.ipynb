{
 "cells": [
  {
   "cell_type": "markdown",
   "metadata": {},
   "source": [
    "# 06 함수로 일처리를 짜임새 있게 하자\n",
    "\n",
    "6.1 짜임새 있는 기능을만드는멋진기능: 함수   \n",
    "6.2 함수를 만들고 불러서일을시켜보자   \n",
    "6.3 함수에 일을 시키고그값을받아오도록하자   \n",
    "6.4 여러 개의 값을넘겨주고여러개의값을돌려받자   \n",
    "LAB 6-1 사각형을 그리는 함수 만들어보기   \n",
    "6.5 변수의 범위는 어디까지인가   \n",
    "6.6 함수에 쉽게 일을 시키는디폴트인자   \n",
    "LAB 6-2 주급 계산 프로그램   \n",
    "LAB 6-3 n-각형을 그리는 함수 만들어보기   \n",
    "LAB 6-4 리스트에서 최대/최소값을 찾는 함수   \n",
    "LAB 6-5 리스트에서 최대/최소값을 찾아서 두 개를반환하는함수   \n",
    "6.7 자신을 호출하는 재귀함수   \n",
    "LAB 6-6 피보나치 함수 계산하기   \n",
    "6.8 모듈을 이용해서함수를재사용하자   \n",
    "6.9 모듈과 별명 만들기   \n"
   ]
  },
  {
   "attachments": {},
   "cell_type": "markdown",
   "metadata": {},
   "source": [
    "## 6.1 짜임새 있는 기능을 만드는 멋진 기능 : 함수\n",
    "\n",
    "- 함수는 일을 수행하는 코드의 덩어리이며, 더 큰 프로그램을 구축하는 데 사용할 수 있는 작은 조각이다.\n",
    "\n",
    "    - 함수(function)\n",
    "    - 클래스(class)\n",
    "    - 모듈(module)\n",
    "\n",
    "![image.png](fig1.png)"
   ]
  },
  {
   "attachments": {},
   "cell_type": "markdown",
   "metadata": {},
   "source": [
    "- 함수는 그림과 같이 입력을 받아서 출력을 내보내는 블랙박스로 생각할 수 있다.\n",
    "\n",
    "![image.png](fig2.png)"
   ]
  },
  {
   "cell_type": "code",
   "execution_count": 4,
   "metadata": {},
   "outputs": [
    {
     "data": {
      "text/plain": [
       "8"
      ]
     },
     "execution_count": 4,
     "metadata": {},
     "output_type": "execute_result"
    }
   ],
   "source": [
    "# f(x) = 5x + 3\n",
    "def f(x):\n",
    "    out = 5 * x + 3\n",
    "    return out\n",
    "\n",
    "\n",
    "f(1)"
   ]
  },
  {
   "cell_type": "markdown",
   "metadata": {},
   "source": [
    "## 6.2 함수를 만들고 불러서 일을 시켜보자\n",
    "\n",
    "- 함수 만들기\n",
    "    - def 예약어를 이용하여 함수를 작성하고 호출하기\n",
    "```\n",
    "def 함수이름(파라미터1, 파라미터2,...):\n",
    "    코드 작성\n",
    "    return 반환값1, 반환값2,...\n",
    "```\n",
    "\n",
    "    - 파라미터는 없을 수 있다.\n",
    "    - 반환값은 없을 수 있다.\n",
    "\n",
    "- 함수 호출하기\n",
    "```\n",
    "변수1, 변수2, ... = 함수이름(인자1, 인자2, ...)\n",
    "```\n",
    "    - 변수1, 변수2 등은 반환값을 받을 변수들. 반환값이 없으면 변수도 필요 없다.\n",
    "    - 인자1, 인자2 등은 함수에 넘겨줄 값들. 파라미터와 1 대 1 대응되어야 한다."
   ]
  },
  {
   "cell_type": "code",
   "execution_count": 1,
   "metadata": {},
   "outputs": [],
   "source": [
    "# 파라미터와 리턴 값이 없는 경우\n",
    "\n",
    "def print_address():\n",
    "    print(\"전남 순천시 매곡동\")\n",
    "    print(\"순천대학교 인공지능공학부\")\n"
   ]
  },
  {
   "cell_type": "code",
   "execution_count": 2,
   "metadata": {},
   "outputs": [
    {
     "name": "stdout",
     "output_type": "stream",
     "text": [
      "전남 순천시 매곡동\n",
      "순천대학교 인공지능공학부\n"
     ]
    }
   ],
   "source": [
    "print_address()"
   ]
  },
  {
   "cell_type": "markdown",
   "metadata": {},
   "source": [
    "- 함수에 하나의 값을 넘겨주고 일을 시키자"
   ]
  },
  {
   "cell_type": "code",
   "execution_count": 15,
   "metadata": {},
   "outputs": [
    {
     "name": "stdout",
     "output_type": "stream",
     "text": [
      "전남 순천시 매곡동\n",
      "순천대학교 인공지능공학부\n",
      "수신자: 철수\n"
     ]
    }
   ],
   "source": [
    "def print_address(name):\n",
    "    print(\"전남 순천시 매곡동\")\n",
    "    print(\"순천대학교 인공지능공학부\")\n",
    "    print('수신자:', name)\n",
    "\n",
    "print_address('철수')"
   ]
  },
  {
   "cell_type": "code",
   "execution_count": 16,
   "metadata": {},
   "outputs": [
    {
     "name": "stdout",
     "output_type": "stream",
     "text": [
      "전남 순천시 매곡동\n",
      "순천대학교 인공지능공학부\n",
      "수신자: 철수\n",
      "전남 순천시 매곡동\n",
      "순천대학교 인공지능공학부\n",
      "수신자: 영희\n",
      "전남 순천시 매곡동\n",
      "순천대학교 인공지능공학부\n",
      "수신자: 미영\n",
      "전남 순천시 매곡동\n",
      "순천대학교 인공지능공학부\n",
      "수신자: 석희\n"
     ]
    }
   ],
   "source": [
    "names = ['철수', '영희', '미영', '석희']\n",
    "\n",
    "for name in names:\n",
    "    print_address(name)"
   ]
  },
  {
   "cell_type": "markdown",
   "metadata": {},
   "source": [
    "- 도전문제 6.2: 세개의 수를 더하여 합을 출력하는 함수를 만들어보자."
   ]
  },
  {
   "cell_type": "code",
   "execution_count": 24,
   "metadata": {},
   "outputs": [
    {
     "name": "stdout",
     "output_type": "stream",
     "text": [
      "1 + 2 + 3 = 6\n"
     ]
    }
   ],
   "source": [
    "def add3(num1, num2, num3):\n",
    "    print(f\"{num1} + {num2} + {num3} = {num1 + num2 + num3}\")\n",
    "   \n",
    "add3(1,2,3)\n",
    "\n",
    "    "
   ]
  },
  {
   "cell_type": "markdown",
   "metadata": {},
   "source": [
    "## 6.3 함수에 일을 시키고 그 값을 받아오도록 하자.\n",
    "\n",
    "- 원의 반지름을 입력하면 원의 면적을 되돌려 주는 함수를 만들어 보자"
   ]
  },
  {
   "cell_type": "code",
   "execution_count": 5,
   "metadata": {},
   "outputs": [
    {
     "data": {
      "text/plain": [
       "78.5"
      ]
     },
     "execution_count": 5,
     "metadata": {},
     "output_type": "execute_result"
    }
   ],
   "source": [
    "def get_circle_area(r): # r : 매개변수(parameter)\n",
    "    area = 3.14 * r ** 2\n",
    "    return area # area: 반환값\n",
    "    \n",
    "\n",
    "circle_area = get_circle_area(5) # 5 : 인자(argument)\n",
    "circle_area"
   ]
  },
  {
   "cell_type": "markdown",
   "metadata": {},
   "source": [
    "## 6.4 여러 개의 값을 넘겨주고 여러 개의 값을 돌려받자\n",
    "\n",
    "- 두 양의 정수를 입력 받아서 작은 수에서 큰수 까지의 합을 구하는 함수를 작성해 보자. "
   ]
  },
  {
   "cell_type": "code",
   "execution_count": 28,
   "metadata": {},
   "outputs": [
    {
     "name": "stdout",
     "output_type": "stream",
     "text": [
      "0\n"
     ]
    }
   ],
   "source": [
    "def get_sum(st, end):\n",
    "    if end < st:\n",
    "        st, end = end, st     #순서 바꾸기\n",
    "\n",
    "    s = 0\n",
    "    for i in range(st, end+1):\n",
    "        s = s + i\n",
    "    return s\n",
    "        \n",
    "    \n",
    "\n",
    "my_sum = get_sum(5, 10)\n",
    "print(s)\n",
    "    \n",
    "        "
   ]
  },
  {
   "cell_type": "markdown",
   "metadata": {},
   "source": [
    "- 두 수를 입력 받아서 두 수의 합, 차, 곱, 나눗셈을 계산하여 반환하는 함수를 만들어 보자."
   ]
  },
  {
   "cell_type": "code",
   "execution_count": 26,
   "metadata": {},
   "outputs": [],
   "source": [
    "def get_math(n1, n2):\n",
    "\n",
    "    sum = n1 + n2\n",
    "    sub = n1 - n2\n",
    "    prod = n1 * n2\n",
    "    div = n1 / n2\n",
    "\n",
    "    return sum, sub, prod, div\n",
    "\n",
    "calc = get_math(10, 5) # positional argument\n"
   ]
  },
  {
   "cell_type": "code",
   "execution_count": 27,
   "metadata": {},
   "outputs": [
    {
     "data": {
      "text/plain": [
       "(15, 5, 50, 2.0)"
      ]
     },
     "execution_count": 27,
     "metadata": {},
     "output_type": "execute_result"
    }
   ],
   "source": [
    "calc"
   ]
  },
  {
   "cell_type": "markdown",
   "metadata": {},
   "source": [
    "## 6.5 변수의 범위는 어디까지인가"
   ]
  },
  {
   "cell_type": "code",
   "execution_count": 29,
   "metadata": {},
   "outputs": [
    {
     "ename": "NameError",
     "evalue": "name 'counter' is not defined",
     "output_type": "error",
     "traceback": [
      "\u001b[0;31m---------------------------------------------------------------------------\u001b[0m",
      "\u001b[0;31mNameError\u001b[0m                                 Traceback (most recent call last)",
      "Cell \u001b[0;32mIn[29], line 4\u001b[0m\n\u001b[1;32m      1\u001b[0m \u001b[38;5;28;01mdef\u001b[39;00m \u001b[38;5;21mprint_counter\u001b[39m():\n\u001b[1;32m      2\u001b[0m     \u001b[38;5;28mprint\u001b[39m(\u001b[38;5;124m'\u001b[39m\u001b[38;5;124mcounter = \u001b[39m\u001b[38;5;124m'\u001b[39m, counter)\n\u001b[0;32m----> 4\u001b[0m print_counter()\n",
      "Cell \u001b[0;32mIn[29], line 2\u001b[0m, in \u001b[0;36mprint_counter\u001b[0;34m()\u001b[0m\n\u001b[1;32m      1\u001b[0m \u001b[38;5;28;01mdef\u001b[39;00m \u001b[38;5;21mprint_counter\u001b[39m():\n\u001b[0;32m----> 2\u001b[0m     \u001b[38;5;28mprint\u001b[39m(\u001b[38;5;124m'\u001b[39m\u001b[38;5;124mcounter = \u001b[39m\u001b[38;5;124m'\u001b[39m, counter)\n",
      "\u001b[0;31mNameError\u001b[0m: name 'counter' is not defined"
     ]
    }
   ],
   "source": [
    "def print_counter():\n",
    "    print('counter = ', counter)\n",
    "    \n",
    "print_counter()"
   ]
  },
  {
   "cell_type": "code",
   "execution_count": 30,
   "metadata": {},
   "outputs": [
    {
     "name": "stdout",
     "output_type": "stream",
     "text": [
      "counter =  100\n"
     ]
    }
   ],
   "source": [
    "def print_counter():\n",
    "    print('counter = ', counter)\n",
    "\n",
    "counter = 100 # global variable (전역변수)\n",
    "print_counter()"
   ]
  },
  {
   "cell_type": "code",
   "execution_count": 31,
   "metadata": {},
   "outputs": [
    {
     "name": "stdout",
     "output_type": "stream",
     "text": [
      "counter =  100\n"
     ]
    }
   ],
   "source": [
    "print(\"counter = \", counter)"
   ]
  },
  {
   "cell_type": "code",
   "execution_count": 32,
   "metadata": {},
   "outputs": [
    {
     "name": "stdout",
     "output_type": "stream",
     "text": [
      "counter =  200\n",
      "counter =  100\n"
     ]
    }
   ],
   "source": [
    "def print_counter():\n",
    "    counter = 200 # local variable(지역변수)\n",
    "    print('counter = ', counter)\n",
    "\n",
    "counter = 100\n",
    "print_counter()\n",
    "print(\"counter = \", counter)"
   ]
  },
  {
   "attachments": {},
   "cell_type": "markdown",
   "metadata": {},
   "source": [
    "![image.png](fig3.png)"
   ]
  },
  {
   "cell_type": "markdown",
   "metadata": {},
   "source": [
    "- 함수 안에서 전역변수 사용하기 : global 키워드"
   ]
  },
  {
   "cell_type": "code",
   "execution_count": 33,
   "metadata": {},
   "outputs": [
    {
     "name": "stdout",
     "output_type": "stream",
     "text": [
      "counter =  200\n",
      "counter =  200\n"
     ]
    }
   ],
   "source": [
    "def print_counter():\n",
    "    global counter\n",
    "    counter = 200 # local variable\n",
    "    print('counter = ', counter)\n",
    "\n",
    "print_counter()\n",
    "print(\"counter = \", counter)"
   ]
  },
  {
   "cell_type": "markdown",
   "metadata": {},
   "source": [
    "## 6.6 함수에 쉽게 일을 시키는 디폴트 인자"
   ]
  },
  {
   "cell_type": "code",
   "execution_count": 35,
   "metadata": {},
   "outputs": [
    {
     "data": {
      "text/plain": [
       "200"
      ]
     },
     "execution_count": 35,
     "metadata": {},
     "output_type": "execute_result"
    }
   ],
   "source": [
    "def get_sum(st, end=10): # end: default argument\n",
    "    if st > end:\n",
    "        st, end = end, st\n",
    "    s = 0\n",
    "    for i in range(st, end+1):\n",
    "        s += i\n",
    "    return s\n",
    "\n",
    "my_sum = get_sum(5, 20) # positional argument\n",
    "my_sum"
   ]
  },
  {
   "cell_type": "code",
   "execution_count": 36,
   "metadata": {},
   "outputs": [
    {
     "data": {
      "text/plain": [
       "45"
      ]
     },
     "execution_count": 36,
     "metadata": {},
     "output_type": "execute_result"
    }
   ],
   "source": [
    "my_sum = get_sum(st = 5, end = 10) # keyword argument\n",
    "my_sum"
   ]
  },
  {
   "cell_type": "code",
   "execution_count": 37,
   "metadata": {},
   "outputs": [
    {
     "data": {
      "text/plain": [
       "45"
      ]
     },
     "execution_count": 37,
     "metadata": {},
     "output_type": "execute_result"
    }
   ],
   "source": [
    "my_sum = get_sum(end= 10, st = 5)\n",
    "my_sum"
   ]
  },
  {
   "cell_type": "markdown",
   "metadata": {},
   "source": [
    "- 키워드 인자(keyword argument)로 더욱더 고급지게 함수 활용하기\n",
    "\n",
    "- 거듭제곱을 구하는 함수"
   ]
  },
  {
   "cell_type": "code",
   "execution_count": null,
   "metadata": {},
   "outputs": [],
   "source": [
    "def power(base=2, exponent=2):\n",
    "    return base ** exponent\n",
    "\n",
    "power(base=2, exponent=4) # keyword argument"
   ]
  },
  {
   "attachments": {},
   "cell_type": "markdown",
   "metadata": {},
   "source": [
    "### LAB6-2 주급 계산 프로그램\n",
    "![image.png](fig4.png)"
   ]
  },
  {
   "cell_type": "code",
   "execution_count": 43,
   "metadata": {},
   "outputs": [
    {
     "name": "stdin",
     "output_type": "stream",
     "text": [
      "시급: 9800\n",
      "근무시간: 40\n"
     ]
    },
    {
     "name": "stdout",
     "output_type": "stream",
     "text": [
      "당신의 근무시간은 총40시간이고 급여는392015.0원입니다.\n"
     ]
    }
   ],
   "source": [
    "def weekly_pay(rate, hours):\n",
    "    if rate * hours >30:\n",
    "        pay = 30 * rate + (hours - 30) * rate * 1.5\n",
    "    else:\n",
    "        pay = rate * hours\n",
    "    return pay\n",
    "\n",
    "r = int(input(\"시급:\"))\n",
    "h = int(input(\"근무시간:\"))\n",
    "\n",
    "pay = weekly_pay(r,h)\n",
    "print(f'당신의 근무시간은 총{h}시간이고 급여는{pay}원입니다.')\n",
    "    "
   ]
  },
  {
   "attachments": {},
   "cell_type": "markdown",
   "metadata": {},
   "source": [
    "###  LAB6-4 리스트에서 최대값/최소값을 편리하게 찾는 함수\n",
    "![image.png](fig5.png)"
   ]
  },
  {
   "cell_type": "code",
   "execution_count": null,
   "metadata": {},
   "outputs": [],
   "source": []
  },
  {
   "attachments": {},
   "cell_type": "markdown",
   "metadata": {},
   "source": [
    "### LAB6-5 리스트에서 최대/최소값을 찾아서 두 개를 반환하는 함수\n",
    "![image.png](fig6.png)"
   ]
  },
  {
   "cell_type": "code",
   "execution_count": null,
   "metadata": {},
   "outputs": [],
   "source": []
  },
  {
   "cell_type": "markdown",
   "metadata": {},
   "source": [
    "## 6.7 자신을 호출하는 재귀 함수\n",
    "- 재귀함수recursion란 함수 내부에서 자기 자신을 호출하는 함수\n",
    "- 팩토리얼: n! = n * (n-1)*...*(1) = n * (n-1)!\n",
    "```\n",
    "1! = 1\n",
    "2! = 2 * 1 = 2 * 1!\n",
    "3! = 3 * 2 * 1 = 3 * 2!\n",
    "4! = 4 * 3 * 2 * 1 = 4 * 3!\n",
    "```"
   ]
  },
  {
   "cell_type": "code",
   "execution_count": null,
   "metadata": {},
   "outputs": [],
   "source": [
    "def factorial(n):\n",
    "    if n == 1:\n",
    "        return 1\n",
    "    return n * factorial(n-1)\n",
    "\n",
    "factorial(4)"
   ]
  },
  {
   "cell_type": "markdown",
   "metadata": {},
   "source": [
    "### LAB6-6 피보나치 함수 계산하기\n",
    "```\n",
    "0, 1, 1, 2, 3, 5, 8, 13, ...\n",
    "1: 0\n",
    "2: 1\n",
    "3: 0 + 1 = 1\n",
    "4: 1 + 1 = 2\n",
    "5: 1 + 2 = 3\n",
    "6: 2 + 3 = 5\n",
    "....\n",
    "f(n) = f(n-2) + f(n-1)"
   ]
  },
  {
   "cell_type": "code",
   "execution_count": 44,
   "metadata": {},
   "outputs": [
    {
     "data": {
      "text/plain": [
       "21"
      ]
     },
     "execution_count": 44,
     "metadata": {},
     "output_type": "execute_result"
    }
   ],
   "source": [
    "def fibo(n):\n",
    "    if n == 1:\n",
    "        return 0\n",
    "    elif n == 2:\n",
    "        return 1\n",
    "    else:\n",
    "        return fibo(n-1) + fibo(n-2)\n",
    "\n",
    "\n",
    "fibo(9) # 21"
   ]
  },
  {
   "cell_type": "markdown",
   "metadata": {},
   "source": [
    "## 6.8 모듈을 이용해서 함수를 재사용하자\n",
    "- 모듈(module): 파이썬 함수나 변수 또는 클래스들을 모아놓은 스크립트 파일\n",
    "- 파이썬은 여러 기관과 개발자들에 의해서 만들어진 많은 모듈이 있다.\n",
    "- 모듈을 이용하여 효과적으로 소프트웨어를 개발.\n",
    "\n",
    "```\n",
    "import 모듈이름 [,모듈이름, ...]\n",
    "```\n",
    "\n",
    "- 파이썬 표준 라이브러리(python standard library)\n",
    "    - 파이썬 설치와 함께 제공되는 모듈\n",
    "    - 100여 가지 이상의 모듈이 표준 라이브러리 제공\n",
    "    - math, random, turtle, datetime, ..."
   ]
  },
  {
   "cell_type": "code",
   "execution_count": 47,
   "metadata": {},
   "outputs": [
    {
     "data": {
      "text/plain": [
       "datetime.datetime(2024, 4, 17, 17, 39, 11, 327296)"
      ]
     },
     "execution_count": 47,
     "metadata": {},
     "output_type": "execute_result"
    }
   ],
   "source": [
    "import datetime\n",
    "\n",
    "datetime.datetime.now()"
   ]
  },
  {
   "cell_type": "code",
   "execution_count": 48,
   "metadata": {},
   "outputs": [
    {
     "data": {
      "text/plain": [
       "datetime.date(2024, 4, 17)"
      ]
     },
     "execution_count": 48,
     "metadata": {},
     "output_type": "execute_result"
    }
   ],
   "source": [
    "today = datetime.date.today()\n",
    "today"
   ]
  },
  {
   "cell_type": "code",
   "execution_count": 49,
   "metadata": {},
   "outputs": [
    {
     "data": {
      "text/plain": [
       "2024"
      ]
     },
     "execution_count": 49,
     "metadata": {},
     "output_type": "execute_result"
    }
   ],
   "source": [
    "today.year"
   ]
  },
  {
   "cell_type": "code",
   "execution_count": 50,
   "metadata": {},
   "outputs": [
    {
     "data": {
      "text/plain": [
       "4"
      ]
     },
     "execution_count": 50,
     "metadata": {},
     "output_type": "execute_result"
    }
   ],
   "source": [
    "today.month"
   ]
  },
  {
   "cell_type": "code",
   "execution_count": 51,
   "metadata": {},
   "outputs": [
    {
     "data": {
      "text/plain": [
       "17"
      ]
     },
     "execution_count": 51,
     "metadata": {},
     "output_type": "execute_result"
    }
   ],
   "source": [
    "today.day"
   ]
  },
  {
   "cell_type": "markdown",
   "metadata": {},
   "source": [
    "- 나만의 모듈을 만들고 불러서 사용해보자"
   ]
  },
  {
   "cell_type": "code",
   "execution_count": 52,
   "metadata": {},
   "outputs": [
    {
     "name": "stdout",
     "output_type": "stream",
     "text": [
      "good morning! good morning! good morning! good morning! good morning! \n"
     ]
    }
   ],
   "source": [
    "# my_func.py\n",
    "def mf_print(msg, n=1):\n",
    "    print(msg * n)\n",
    "\n",
    "mf_print('good morning! ', n=5)"
   ]
  },
  {
   "cell_type": "code",
   "execution_count": 54,
   "metadata": {},
   "outputs": [
    {
     "ename": "ModuleNotFoundError",
     "evalue": "No module named 'my_module'",
     "output_type": "error",
     "traceback": [
      "\u001b[0;31m---------------------------------------------------------------------------\u001b[0m",
      "\u001b[0;31mModuleNotFoundError\u001b[0m                       Traceback (most recent call last)",
      "Cell \u001b[0;32mIn[54], line 1\u001b[0m\n\u001b[0;32m----> 1\u001b[0m \u001b[38;5;28;01mimport\u001b[39;00m \u001b[38;5;21;01mmy_module\u001b[39;00m\n\u001b[1;32m      3\u001b[0m my_module\u001b[38;5;241m.\u001b[39mmf_print(\u001b[38;5;124m'\u001b[39m\u001b[38;5;124mjang\u001b[39m\u001b[38;5;124m'\u001b[39m, n\u001b[38;5;241m=\u001b[39m\u001b[38;5;241m10\u001b[39m)\n",
      "\u001b[0;31mModuleNotFoundError\u001b[0m: No module named 'my_module'"
     ]
    }
   ],
   "source": [
    "import my_module\n",
    "\n",
    "my_module.mf_print('jang', n=10)"
   ]
  },
  {
   "cell_type": "code",
   "execution_count": null,
   "metadata": {},
   "outputs": [],
   "source": []
  }
 ],
 "metadata": {
  "kernelspec": {
   "display_name": "Python 3 (ipykernel)",
   "language": "python",
   "name": "python3"
  },
  "language_info": {
   "codemirror_mode": {
    "name": "ipython",
    "version": 3
   },
   "file_extension": ".py",
   "mimetype": "text/x-python",
   "name": "python",
   "nbconvert_exporter": "python",
   "pygments_lexer": "ipython3",
   "version": "3.11.7"
  }
 },
 "nbformat": 4,
 "nbformat_minor": 4
}
