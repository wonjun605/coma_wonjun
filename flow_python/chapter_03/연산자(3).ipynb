{
 "cells": [
  {
   "cell_type": "code",
   "execution_count": 7,
   "id": "228f5e69-39d0-485d-a15d-0caa81affd0b",
   "metadata": {},
   "outputs": [
    {
     "data": {
      "text/plain": [
       "'0b101'"
      ]
     },
     "execution_count": 7,
     "metadata": {},
     "output_type": "execute_result"
    }
   ],
   "source": [
    "bin(5 )"
   ]
  },
  {
   "cell_type": "code",
   "execution_count": 8,
   "id": "ebaf19ae-8492-4370-8b1a-c7e6cc2a4ca4",
   "metadata": {},
   "outputs": [
    {
     "data": {
      "text/plain": [
       "('-0b110', -6)"
      ]
     },
     "execution_count": 8,
     "metadata": {},
     "output_type": "execute_result"
    }
   ],
   "source": [
    "bin(~5), ~5"
   ]
  },
  {
   "cell_type": "code",
   "execution_count": 9,
   "id": "4a3bab50-1818-48e1-8657-b5bc6c595ff7",
   "metadata": {},
   "outputs": [
    {
     "data": {
      "text/plain": [
       "('0b111', 7, 6)"
      ]
     },
     "execution_count": 9,
     "metadata": {},
     "output_type": "execute_result"
    }
   ],
   "source": [
    "bin(5|3), 5|3, 5^3"
   ]
  },
  {
   "cell_type": "code",
   "execution_count": 11,
   "id": "c8224023-d4f8-4998-99d4-4e67c4b893a0",
   "metadata": {},
   "outputs": [
    {
     "data": {
      "text/plain": [
       "True"
      ]
     },
     "execution_count": 11,
     "metadata": {},
     "output_type": "execute_result"
    }
   ],
   "source": [
    "'a' in 'park'"
   ]
  },
  {
   "cell_type": "code",
   "execution_count": 14,
   "id": "ec7c3265-5ee4-44b8-bc95-ac266966ea2f",
   "metadata": {},
   "outputs": [
    {
     "data": {
      "text/plain": [
       "True"
      ]
     },
     "execution_count": 14,
     "metadata": {},
     "output_type": "execute_result"
    }
   ],
   "source": [
    "name = 'park'\n",
    "type(name) == str"
   ]
  },
  {
   "cell_type": "code",
   "execution_count": 17,
   "id": "a6c19efa-1a59-4352-8fae-f9a72f0720d4",
   "metadata": {},
   "outputs": [
    {
     "data": {
      "text/plain": [
       "True"
      ]
     },
     "execution_count": 17,
     "metadata": {},
     "output_type": "execute_result"
    }
   ],
   "source": [
    "'park' == name"
   ]
  },
  {
   "cell_type": "code",
   "execution_count": 18,
   "id": "db190b41-4794-4417-a98a-4df683c110c9",
   "metadata": {},
   "outputs": [
    {
     "data": {
      "text/plain": [
       "3.141592653589793"
      ]
     },
     "execution_count": 18,
     "metadata": {},
     "output_type": "execute_result"
    }
   ],
   "source": [
    "import math\n",
    "\n",
    "math.pi"
   ]
  },
  {
   "cell_type": "code",
   "execution_count": 19,
   "id": "a4c2630b-3e1b-4fa9-8b4e-23af4a30e89b",
   "metadata": {},
   "outputs": [
    {
     "data": {
      "text/plain": [
       "1.0"
      ]
     },
     "execution_count": 19,
     "metadata": {},
     "output_type": "execute_result"
    }
   ],
   "source": [
    "math.sin(0.5 * math.pi)"
   ]
  },
  {
   "cell_type": "code",
   "execution_count": 20,
   "id": "efe57668-fd7d-457d-b437-733967ed8a90",
   "metadata": {},
   "outputs": [
    {
     "data": {
      "text/plain": [
       "0.8836073835311927"
      ]
     },
     "execution_count": 20,
     "metadata": {},
     "output_type": "execute_result"
    }
   ],
   "source": [
    "import random\n",
    "\n",
    "random.random()"
   ]
  },
  {
   "cell_type": "code",
   "execution_count": 22,
   "id": "4519b0e6-e357-42c6-8818-ee23ddbdf507",
   "metadata": {},
   "outputs": [
    {
     "data": {
      "text/plain": [
       "0"
      ]
     },
     "execution_count": 22,
     "metadata": {},
     "output_type": "execute_result"
    }
   ],
   "source": [
    "random.randint(0,7)"
   ]
  },
  {
   "cell_type": "code",
   "execution_count": 25,
   "id": "21d724b7-3f32-4d92-9f7c-fd4b29776488",
   "metadata": {},
   "outputs": [
    {
     "data": {
      "text/plain": [
       "<bound method Random.shuffle of <random.Random object at 0x14e854820>>"
      ]
     },
     "execution_count": 25,
     "metadata": {},
     "output_type": "execute_result"
    }
   ],
   "source": []
  },
  {
   "cell_type": "code",
   "execution_count": null,
   "id": "e9dd7c87-0674-4a2d-b896-b53adde9f22d",
   "metadata": {},
   "outputs": [],
   "source": []
  }
 ],
 "metadata": {
  "kernelspec": {
   "display_name": "Python 3 (ipykernel)",
   "language": "python",
   "name": "python3"
  },
  "language_info": {
   "codemirror_mode": {
    "name": "ipython",
    "version": 3
   },
   "file_extension": ".py",
   "mimetype": "text/x-python",
   "name": "python",
   "nbconvert_exporter": "python",
   "pygments_lexer": "ipython3",
   "version": "3.11.7"
  }
 },
 "nbformat": 4,
 "nbformat_minor": 5
}
