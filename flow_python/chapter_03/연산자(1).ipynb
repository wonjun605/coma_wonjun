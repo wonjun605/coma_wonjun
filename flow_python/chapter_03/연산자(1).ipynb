{
 "cells": [
  {
   "cell_type": "markdown",
   "id": "3608faba-6cdc-4ebe-879d-c965dc51d1ad",
   "metadata": {},
   "source": [
    "# 연산자(1)\n",
    "\n",
    "- 산술 연산자: +, -, *, /, **, //, %\n",
    "- 비교 연산자: ==, !=, >, >=, <, <=\n",
    "- 논리 연산자: and, or, not"
   ]
  },
  {
   "cell_type": "markdown",
   "id": "bb7d4ac3-99b2-4b9b-b0ec-b2c480f63c3b",
   "metadata": {},
   "source": [
    "수식(equation) -> 표현식(expression)"
   ]
  },
  {
   "cell_type": "markdown",
   "id": "1831ccde-8a3f-4d85-b256-18874165ad0b",
   "metadata": {},
   "source": [
    "다중 할당문, 동시 할당문"
   ]
  },
  {
   "cell_type": "code",
   "execution_count": null,
   "id": "6afa7959-189d-4142-b1b1-f2e9057254ef",
   "metadata": {},
   "outputs": [],
   "source": []
  },
  {
   "cell_type": "code",
   "execution_count": 3,
   "id": "5c7151bc-0929-4e9a-bf5e-0ddb5de07304",
   "metadata": {},
   "outputs": [
    {
     "data": {
      "text/plain": [
       "(100, 100)"
      ]
     },
     "execution_count": 3,
     "metadata": {},
     "output_type": "execute_result"
    }
   ],
   "source": [
    "x = y= 100\n",
    "x, y"
   ]
  },
  {
   "cell_type": "code",
   "execution_count": 4,
   "id": "56dab5a4-8553-494e-a3d5-6df08a5c17d9",
   "metadata": {},
   "outputs": [
    {
     "data": {
      "text/plain": [
       "(100, 200)"
      ]
     },
     "execution_count": 4,
     "metadata": {},
     "output_type": "execute_result"
    }
   ],
   "source": [
    "n1, n2 = 100, 200\n",
    "n1, n2"
   ]
  },
  {
   "cell_type": "markdown",
   "id": "984bb4cb-60d8-4d2c-acc9-5a1bb92d94c8",
   "metadata": {},
   "source": [
    "이항 연산자  \n",
    "단항 연산자: -100"
   ]
  },
  {
   "cell_type": "markdown",
   "id": "0d6cb7b4-2cb1-49a0-bc07-4721bebfc443",
   "metadata": {},
   "source": [
    "나눗셈은 항상 실수로 계산된다.  \n",
    "실수 2.0 으로 출력"
   ]
  },
  {
   "cell_type": "code",
   "execution_count": 5,
   "id": "7ab7fd14-cc48-458c-a3b1-9adc0d7968a8",
   "metadata": {},
   "outputs": [
    {
     "name": "stdin",
     "output_type": "stream",
     "text": [
      "분자를 입력하시오:  11\n",
      "분모를 입력하시오:  4\n"
     ]
    },
    {
     "name": "stdout",
     "output_type": "stream",
     "text": [
      "나눗셈의 몫 = 2\n",
      "나눗셈의 나머지= 3\n"
     ]
    }
   ],
   "source": [
    "p = int(input(\"분자를 입력하시오: \"))\n",
    "q = int(input(\"분모를 입력하시오: \"))\n",
    "print(\"나눗셈의 몫 =\", p//q)\n",
    "print(\"나눗셈의 나머지=\", p%q)"
   ]
  },
  {
   "cell_type": "code",
   "execution_count": 6,
   "id": "406d6266-b78d-4c99-8838-f2a833fed812",
   "metadata": {},
   "outputs": [
    {
     "data": {
      "text/plain": [
       "1.0"
      ]
     },
     "execution_count": 6,
     "metadata": {},
     "output_type": "execute_result"
    }
   ],
   "source": [
    "11.5 // 7.8"
   ]
  },
  {
   "cell_type": "code",
   "execution_count": 7,
   "id": "7d49f74b-0c87-4e40-ad65-df5251c0bf21",
   "metadata": {},
   "outputs": [
    {
     "data": {
      "text/plain": [
       "3.7"
      ]
     },
     "execution_count": 7,
     "metadata": {},
     "output_type": "execute_result"
    }
   ],
   "source": [
    "11.5 % 7.8"
   ]
  },
  {
   "cell_type": "code",
   "execution_count": 14,
   "id": "49908cce-274f-462c-93e3-52ccb5086830",
   "metadata": {},
   "outputs": [
    {
     "name": "stdin",
     "output_type": "stream",
     "text": [
      "초를 입력하세요:  2323423\n"
     ]
    },
    {
     "name": "stdout",
     "output_type": "stream",
     "text": [
      "입력한 시간은 645.3952777777778 초 23.71666666666715 분 43 초입니다\n"
     ]
    }
   ],
   "source": [
    "time = int(input(\"초를 입력하세요: \"))\n",
    "sec = time % 60\n",
    "min = (time/60)%60\n",
    "hour = time/60/60\n",
    "print(\"입력한 시간은\", hour,\"초\",min,\"분\",sec,\"초입니다\")"
   ]
  },
  {
   "cell_type": "markdown",
   "id": "ffb4a2cd-ddd8-45db-93e0-c80f677aa697",
   "metadata": {},
   "source": [
    "**을 먼저 연속으로 있으면 뒤에서 부터 연산  \n",
    "(괄호)사용 권장"
   ]
  },
  {
   "cell_type": "code",
   "execution_count": 18,
   "id": "c5c061a0-c180-44d3-98a8-907c5c2781b5",
   "metadata": {},
   "outputs": [
    {
     "data": {
      "text/plain": [
       "4"
      ]
     },
     "execution_count": 18,
     "metadata": {},
     "output_type": "execute_result"
    }
   ],
   "source": [
    "2**2"
   ]
  },
  {
   "cell_type": "code",
   "execution_count": null,
   "id": "74d7f470-b9f1-47f4-a028-df4b6984865f",
   "metadata": {},
   "outputs": [],
   "source": []
  }
 ],
 "metadata": {
  "kernelspec": {
   "display_name": "Python 3 (ipykernel)",
   "language": "python",
   "name": "python3"
  },
  "language_info": {
   "codemirror_mode": {
    "name": "ipython",
    "version": 3
   },
   "file_extension": ".py",
   "mimetype": "text/x-python",
   "name": "python",
   "nbconvert_exporter": "python",
   "pygments_lexer": "ipython3",
   "version": "3.11.7"
  }
 },
 "nbformat": 4,
 "nbformat_minor": 5
}
