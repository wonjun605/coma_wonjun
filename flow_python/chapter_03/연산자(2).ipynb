{
 "cells": [
  {
   "cell_type": "markdown",
   "id": "c2c580dc-cb74-4e6a-9293-5c35d2ae6950",
   "metadata": {},
   "source": [
    "# 연산자(2)"
   ]
  },
  {
   "cell_type": "code",
   "execution_count": 20,
   "id": "cba31c28-9cb8-4c21-85f3-dc1867f90d40",
   "metadata": {},
   "outputs": [
    {
     "data": {
      "text/plain": [
       "10"
      ]
     },
     "execution_count": 20,
     "metadata": {},
     "output_type": "execute_result"
    }
   ],
   "source": [
    "a =10 \n",
    "a = + a\n",
    "a"
   ]
  },
  {
   "cell_type": "code",
   "execution_count": 21,
   "id": "d47d281d-4102-4985-aa04-35a045b9950a",
   "metadata": {},
   "outputs": [
    {
     "data": {
      "text/plain": [
       "15"
      ]
     },
     "execution_count": 21,
     "metadata": {},
     "output_type": "execute_result"
    }
   ],
   "source": [
    "a= 10\n",
    "a += 5\n",
    "a"
   ]
  },
  {
   "cell_type": "code",
   "execution_count": 23,
   "id": "a76568c6-5225-4bbc-ac0d-5617ac1b5c00",
   "metadata": {},
   "outputs": [
    {
     "data": {
      "text/plain": [
       "50"
      ]
     },
     "execution_count": 23,
     "metadata": {},
     "output_type": "execute_result"
    }
   ],
   "source": [
    "a = 10\n",
    "a *= 5\n",
    "a"
   ]
  },
  {
   "cell_type": "code",
   "execution_count": 24,
   "id": "e04ec353-64c4-465e-a036-0e1c8f24e138",
   "metadata": {},
   "outputs": [],
   "source": [
    "a, b = 100, 200\n"
   ]
  },
  {
   "cell_type": "code",
   "execution_count": 25,
   "id": "457b6341-ffba-44d1-8f2b-5c351de986bf",
   "metadata": {},
   "outputs": [
    {
     "data": {
      "text/plain": [
       "False"
      ]
     },
     "execution_count": 25,
     "metadata": {},
     "output_type": "execute_result"
    }
   ],
   "source": [
    "a == b"
   ]
  },
  {
   "cell_type": "code",
   "execution_count": 26,
   "id": "d6e6a15b-04a4-479b-bec2-1b7db6646b1e",
   "metadata": {},
   "outputs": [
    {
     "data": {
      "text/plain": [
       "True"
      ]
     },
     "execution_count": 26,
     "metadata": {},
     "output_type": "execute_result"
    }
   ],
   "source": [
    "a != b"
   ]
  },
  {
   "cell_type": "code",
   "execution_count": 27,
   "id": "32080222-a2d6-418d-986b-4af96449c0a5",
   "metadata": {},
   "outputs": [
    {
     "data": {
      "text/plain": [
       "False"
      ]
     },
     "execution_count": 27,
     "metadata": {},
     "output_type": "execute_result"
    }
   ],
   "source": [
    "a > b"
   ]
  },
  {
   "cell_type": "code",
   "execution_count": 28,
   "id": "db34a158-1108-409a-9afd-4047f5fdfe64",
   "metadata": {},
   "outputs": [
    {
     "data": {
      "text/plain": [
       "True"
      ]
     },
     "execution_count": 28,
     "metadata": {},
     "output_type": "execute_result"
    }
   ],
   "source": [
    "a < b"
   ]
  },
  {
   "cell_type": "code",
   "execution_count": 29,
   "id": "51642941-a16e-47e2-be11-7832e3fee23b",
   "metadata": {},
   "outputs": [
    {
     "data": {
      "text/plain": [
       "True"
      ]
     },
     "execution_count": 29,
     "metadata": {},
     "output_type": "execute_result"
    }
   ],
   "source": [
    "a <= b"
   ]
  },
  {
   "cell_type": "code",
   "execution_count": 30,
   "id": "a51b9851-fc4b-4609-8f9f-5d5d6937c041",
   "metadata": {},
   "outputs": [
    {
     "data": {
      "text/plain": [
       "False"
      ]
     },
     "execution_count": 30,
     "metadata": {},
     "output_type": "execute_result"
    }
   ],
   "source": [
    "a >= b"
   ]
  },
  {
   "cell_type": "code",
   "execution_count": 36,
   "id": "cad2962d-b65c-4489-a4fc-4d3fa9898ab9",
   "metadata": {},
   "outputs": [
    {
     "data": {
      "text/plain": [
       "True"
      ]
     },
     "execution_count": 36,
     "metadata": {},
     "output_type": "execute_result"
    }
   ],
   "source": [
    "True or True"
   ]
  },
  {
   "cell_type": "code",
   "execution_count": 37,
   "id": "6a7b5ab1-136f-4702-9c5d-271033be527c",
   "metadata": {},
   "outputs": [
    {
     "data": {
      "text/plain": [
       "True"
      ]
     },
     "execution_count": 37,
     "metadata": {},
     "output_type": "execute_result"
    }
   ],
   "source": [
    "True or False"
   ]
  },
  {
   "cell_type": "code",
   "execution_count": 38,
   "id": "b3fa90e1-2e8a-412f-8060-6bee55176933",
   "metadata": {},
   "outputs": [
    {
     "data": {
      "text/plain": [
       "False"
      ]
     },
     "execution_count": 38,
     "metadata": {},
     "output_type": "execute_result"
    }
   ],
   "source": [
    "False or False"
   ]
  },
  {
   "cell_type": "code",
   "execution_count": 39,
   "id": "d6550848-cba6-4977-89e3-d45a46a3fae7",
   "metadata": {},
   "outputs": [
    {
     "data": {
      "text/plain": [
       "True"
      ]
     },
     "execution_count": 39,
     "metadata": {},
     "output_type": "execute_result"
    }
   ],
   "source": [
    "False or True"
   ]
  },
  {
   "cell_type": "markdown",
   "id": "5888ead1-979c-444c-a4c7-b2a448d5caf3",
   "metadata": {},
   "source": [
    "and  \n",
    "True  and True   # True  \n",
    "True  and False  # False  \n",
    "False and True   # False  \n",
    "False and False  # False  \n",
    "  \n",
    "or  \n",
    "True   or True   # True  \n",
    "True   or False  # True  \n",
    "False  or True   # True  \n",
    "False  or False  # False  \n",
    "  \n",
    "not\n",
    "not True  # False  \n",
    "not False # True"
   ]
  },
  {
   "cell_type": "code",
   "execution_count": 42,
   "id": "36d0acf8-f4ec-4282-a745-6748251de32a",
   "metadata": {},
   "outputs": [
    {
     "data": {
      "text/plain": [
       "False"
      ]
     },
     "execution_count": 42,
     "metadata": {},
     "output_type": "execute_result"
    }
   ],
   "source": [
    "not True"
   ]
  },
  {
   "cell_type": "markdown",
   "id": "aa487fb5-9f50-48ae-87b0-2852297b79c9",
   "metadata": {},
   "source": [
    "0, \"\", '', None, [] => False"
   ]
  },
  {
   "cell_type": "code",
   "execution_count": 3,
   "id": "fe1c58b1-3cf1-464f-b39c-8c0cfd3a735f",
   "metadata": {},
   "outputs": [
    {
     "data": {
      "text/plain": [
       "(False, False, False, False, False, False, False)"
      ]
     },
     "execution_count": 3,
     "metadata": {},
     "output_type": "execute_result"
    }
   ],
   "source": [
    "bool(0), bool(''), bool(None), bool([]), bool({}), bool(()), bool(False)"
   ]
  },
  {
   "cell_type": "code",
   "execution_count": 47,
   "id": "db16dcea-6821-4621-8404-d6d9acd0cae1",
   "metadata": {},
   "outputs": [
    {
     "data": {
      "text/plain": [
       "0"
      ]
     },
     "execution_count": 47,
     "metadata": {},
     "output_type": "execute_result"
    }
   ],
   "source": [
    "0 and 0"
   ]
  },
  {
   "cell_type": "code",
   "execution_count": 48,
   "id": "b714e941-5e45-4b00-9c4d-7917c9ddc476",
   "metadata": {},
   "outputs": [
    {
     "data": {
      "text/plain": [
       "0"
      ]
     },
     "execution_count": 48,
     "metadata": {},
     "output_type": "execute_result"
    }
   ],
   "source": [
    "0 and 5.5"
   ]
  },
  {
   "cell_type": "code",
   "execution_count": 50,
   "id": "8e50f9bf-bed0-462f-bd0a-fee9cdcf4c7f",
   "metadata": {},
   "outputs": [
    {
     "data": {
      "text/plain": [
       "1.5"
      ]
     },
     "execution_count": 50,
     "metadata": {},
     "output_type": "execute_result"
    }
   ],
   "source": [
    "0 or 1.5"
   ]
  },
  {
   "cell_type": "code",
   "execution_count": 51,
   "id": "e8df5955-bf76-409c-bdef-1b80e7158cbc",
   "metadata": {},
   "outputs": [
    {
     "data": {
      "text/plain": [
       "False"
      ]
     },
     "execution_count": 51,
     "metadata": {},
     "output_type": "execute_result"
    }
   ],
   "source": [
    "(100> 200) and (300 < 400)"
   ]
  },
  {
   "cell_type": "code",
   "execution_count": 52,
   "id": "c6d7a32c-8555-4a53-99cc-3ee3c7f0f5b7",
   "metadata": {},
   "outputs": [
    {
     "data": {
      "text/plain": [
       "8"
      ]
     },
     "execution_count": 52,
     "metadata": {},
     "output_type": "execute_result"
    }
   ],
   "source": [
    "(3 + 5) or ( 5 - 5)"
   ]
  },
  {
   "cell_type": "code",
   "execution_count": 54,
   "id": "049a51af-69a8-409d-8a1e-a3174da4e93b",
   "metadata": {},
   "outputs": [
    {
     "data": {
      "text/plain": [
       "True"
      ]
     },
     "execution_count": 54,
     "metadata": {},
     "output_type": "execute_result"
    }
   ],
   "source": [
    "True or False or False"
   ]
  },
  {
   "cell_type": "code",
   "execution_count": null,
   "id": "1fa69f18-8207-4439-bbb3-e02b4b455edd",
   "metadata": {},
   "outputs": [],
   "source": []
  }
 ],
 "metadata": {
  "kernelspec": {
   "display_name": "Python 3 (ipykernel)",
   "language": "python",
   "name": "python3"
  },
  "language_info": {
   "codemirror_mode": {
    "name": "ipython",
    "version": 3
   },
   "file_extension": ".py",
   "mimetype": "text/x-python",
   "name": "python",
   "nbconvert_exporter": "python",
   "pygments_lexer": "ipython3",
   "version": "3.11.7"
  }
 },
 "nbformat": 4,
 "nbformat_minor": 5
}
