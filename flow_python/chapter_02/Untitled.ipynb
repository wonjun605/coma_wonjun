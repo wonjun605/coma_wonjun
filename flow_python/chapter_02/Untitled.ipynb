{
 "cells": [
  {
   "cell_type": "markdown",
   "id": "1803ac43-483d-4610-b41f-d4cf1ecd4849",
   "metadata": {},
   "source": [
    "## 2.1 변수"
   ]
  },
  {
   "cell_type": "code",
   "execution_count": 1,
   "id": "3c065dc3-bad1-4325-965a-bfb0f7120b2c",
   "metadata": {},
   "outputs": [],
   "source": [
    "weight = 55"
   ]
  },
  {
   "cell_type": "code",
   "execution_count": 2,
   "id": "910f8650-f9d4-4287-9638-9d983eddae72",
   "metadata": {},
   "outputs": [
    {
     "data": {
      "text/plain": [
       "55"
      ]
     },
     "execution_count": 2,
     "metadata": {},
     "output_type": "execute_result"
    }
   ],
   "source": [
    "weight"
   ]
  },
  {
   "cell_type": "code",
   "execution_count": 4,
   "id": "319a558c-6622-48a9-a90b-70f874e1f340",
   "metadata": {},
   "outputs": [
    {
     "name": "stdout",
     "output_type": "stream",
     "text": [
      "55\n"
     ]
    }
   ],
   "source": [
    "print(weight)\n",
    "height = 1.7"
   ]
  },
  {
   "cell_type": "code",
   "execution_count": 5,
   "id": "2ffbda15-1e2b-41a2-8296-a180bd4fe656",
   "metadata": {},
   "outputs": [
    {
     "data": {
      "text/plain": [
       "(100, 200)"
      ]
     },
     "execution_count": 5,
     "metadata": {},
     "output_type": "execute_result"
    }
   ],
   "source": [
    " x = 100\n",
    "y = 200\n",
    "x, y\n"
   ]
  },
  {
   "cell_type": "code",
   "execution_count": 6,
   "id": "d64dea40-2d81-40fa-b0af-501e91f0d50a",
   "metadata": {},
   "outputs": [
    {
     "name": "stdout",
     "output_type": "stream",
     "text": [
      "300\n"
     ]
    }
   ],
   "source": [
    "x, y = 100, 200\n",
    "print(x + y)"
   ]
  },
  {
   "cell_type": "code",
   "execution_count": 7,
   "id": "f7a8017d-af9b-471b-9719-e1f64339b6b1",
   "metadata": {},
   "outputs": [
    {
     "ename": "SyntaxError",
     "evalue": "cannot assign to literal here. Maybe you meant '==' instead of '='? (2430034481.py, line 1)",
     "output_type": "error",
     "traceback": [
      "\u001b[0;36m  Cell \u001b[0;32mIn[7], line 1\u001b[0;36m\u001b[0m\n\u001b[0;31m    100 = x\u001b[0m\n\u001b[0m    ^\u001b[0m\n\u001b[0;31mSyntaxError\u001b[0m\u001b[0;31m:\u001b[0m cannot assign to literal here. Maybe you meant '==' instead of '='?\n"
     ]
    }
   ],
   "source": [
    "100 = x"
   ]
  },
  {
   "cell_type": "code",
   "execution_count": 8,
   "id": "68a7d261-2f33-43f8-bc70-24f705b96141",
   "metadata": {},
   "outputs": [
    {
     "data": {
      "text/plain": [
       "True"
      ]
     },
     "execution_count": 8,
     "metadata": {},
     "output_type": "execute_result"
    }
   ],
   "source": [
    "100 == x\n"
   ]
  },
  {
   "cell_type": "code",
   "execution_count": 9,
   "id": "e3d842cb-eff7-440e-8345-c9cfe9976409",
   "metadata": {},
   "outputs": [],
   "source": [
    "abc = 3\n",
    "ab_ = 5\n",
    "_abc = 7"
   ]
  },
  {
   "cell_type": "code",
   "execution_count": 10,
   "id": "8f8c00dd-e35c-4cc1-8a4a-810cca228749",
   "metadata": {},
   "outputs": [
    {
     "ename": "SyntaxError",
     "evalue": "invalid decimal literal (2050079921.py, line 1)",
     "output_type": "error",
     "traceback": [
      "\u001b[0;36m  Cell \u001b[0;32mIn[10], line 1\u001b[0;36m\u001b[0m\n\u001b[0;31m    3abc = 7\u001b[0m\n\u001b[0m    ^\u001b[0m\n\u001b[0;31mSyntaxError\u001b[0m\u001b[0;31m:\u001b[0m invalid decimal literal\n"
     ]
    }
   ],
   "source": [
    "3abc = 7"
   ]
  },
  {
   "cell_type": "code",
   "execution_count": 11,
   "id": "776723da-44d7-461b-a9be-73da30f5411e",
   "metadata": {},
   "outputs": [],
   "source": [
    "김치 = 100"
   ]
  },
  {
   "cell_type": "code",
   "execution_count": 12,
   "id": "6aac0691-6ba1-400c-a6a8-63dcd33c2c48",
   "metadata": {},
   "outputs": [
    {
     "ename": "SyntaxError",
     "evalue": "invalid syntax (3597622092.py, line 1)",
     "output_type": "error",
     "traceback": [
      "\u001b[0;36m  Cell \u001b[0;32mIn[12], line 1\u001b[0;36m\u001b[0m\n\u001b[0;31m    as = 5\u001b[0m\n\u001b[0m    ^\u001b[0m\n\u001b[0;31mSyntaxError\u001b[0m\u001b[0;31m:\u001b[0m invalid syntax\n"
     ]
    }
   ],
   "source": [
    "as = 5\n",
    "\n"
   ]
  },
  {
   "cell_type": "code",
   "execution_count": 13,
   "id": "17e6188b-b497-4511-9d43-f8a5822a1c38",
   "metadata": {},
   "outputs": [
    {
     "ename": "ModuleNotFoundError",
     "evalue": "No module named 'keywoard'",
     "output_type": "error",
     "traceback": [
      "\u001b[0;31m---------------------------------------------------------------------------\u001b[0m",
      "\u001b[0;31mModuleNotFoundError\u001b[0m                       Traceback (most recent call last)",
      "Cell \u001b[0;32mIn[13], line 1\u001b[0m\n\u001b[0;32m----> 1\u001b[0m \u001b[38;5;28;01mimport\u001b[39;00m \u001b[38;5;21;01mkeywoard\u001b[39;00m\n\u001b[1;32m      3\u001b[0m keyword\u001b[38;5;241m.\u001b[39mkwlist\n",
      "\u001b[0;31mModuleNotFoundError\u001b[0m: No module named 'keywoard'"
     ]
    }
   ],
   "source": [
    "import keywoard\n",
    "\n",
    "keyword.kwlist"
   ]
  },
  {
   "cell_type": "code",
   "execution_count": 15,
   "id": "bdab218e-6384-4dd1-837d-b0eaaed5911e",
   "metadata": {},
   "outputs": [
    {
     "name": "stdout",
     "output_type": "stream",
     "text": [
      "['False', 'None', 'True', 'and', 'as', 'assert', 'async', 'await', 'break', 'class', 'continue', 'def', 'del', 'elif', 'else', 'except', 'finally', 'for', 'from', 'global', 'if', 'import', 'in', 'is', 'lambda', 'nonlocal', 'not', 'or', 'pass', 'raise', 'return', 'try', 'while', 'with', 'yield']\n"
     ]
    }
   ],
   "source": [
    "import keyword\n",
    "\n",
    "print(keyword.kwlist)"
   ]
  },
  {
   "cell_type": "code",
   "execution_count": 16,
   "id": "80434236-215c-4f3f-adae-45e7a39919d1",
   "metadata": {},
   "outputs": [
    {
     "data": {
      "text/plain": [
       "'lee won jun'"
      ]
     },
     "execution_count": 16,
     "metadata": {},
     "output_type": "execute_result"
    }
   ],
   "source": [
    "my_name = \"lee won jun\" # object\n",
    "my_name"
   ]
  },
  {
   "cell_type": "code",
   "execution_count": 17,
   "id": "4e988c18-30e9-41f7-aca7-70b2ca654fa0",
   "metadata": {},
   "outputs": [
    {
     "data": {
      "text/plain": [
       "'LEE WON JUN'"
      ]
     },
     "execution_count": 17,
     "metadata": {},
     "output_type": "execute_result"
    }
   ],
   "source": [
    "my_name.upper() # method"
   ]
  },
  {
   "cell_type": "code",
   "execution_count": 18,
   "id": "018db9e8-dd55-4b33-b8bb-aee4accee5eb",
   "metadata": {},
   "outputs": [
    {
     "data": {
      "text/plain": [
       "'lee won jun'"
      ]
     },
     "execution_count": 18,
     "metadata": {},
     "output_type": "execute_result"
    }
   ],
   "source": [
    "my_name.lower()"
   ]
  },
  {
   "cell_type": "code",
   "execution_count": 19,
   "id": "958d7043-82e1-459b-bda5-24bb6cc26032",
   "metadata": {},
   "outputs": [
    {
     "data": {
      "text/plain": [
       "11"
      ]
     },
     "execution_count": 19,
     "metadata": {},
     "output_type": "execute_result"
    }
   ],
   "source": [
    "len(my_name) # funcion => function_name(argments)"
   ]
  },
  {
   "cell_type": "code",
   "execution_count": 20,
   "id": "c7f23011-2b63-4ce5-803a-4cc8f9d7ca40",
   "metadata": {},
   "outputs": [
    {
     "name": "stdout",
     "output_type": "stream",
     "text": [
      "lee won jun\n"
     ]
    }
   ],
   "source": [
    "print (my_name)"
   ]
  },
  {
   "cell_type": "code",
   "execution_count": 21,
   "id": "d91dbbf7-2a84-4ee0-88a6-6430d18c7964",
   "metadata": {},
   "outputs": [
    {
     "data": {
      "text/plain": [
       "'100100100100100'"
      ]
     },
     "execution_count": 21,
     "metadata": {},
     "output_type": "execute_result"
    }
   ],
   "source": [
    "'100' * 5\n"
   ]
  },
  {
   "cell_type": "code",
   "execution_count": 25,
   "id": "d6809035-3797-4839-b783-9893cd864771",
   "metadata": {},
   "outputs": [],
   "source": [
    "weight = 55\n",
    "height = 1.63\n",
    "bmi = weight / height**2"
   ]
  },
  {
   "cell_type": "code",
   "execution_count": 26,
   "id": "a266d182-5274-43ed-9c5e-6d9a61edba5a",
   "metadata": {},
   "outputs": [
    {
     "name": "stdout",
     "output_type": "stream",
     "text": [
      "20.70081674131507\n"
     ]
    }
   ],
   "source": [
    "print (bmi)"
   ]
  },
  {
   "cell_type": "code",
   "execution_count": 27,
   "id": "17d98112-e9bc-459a-8310-d7e27f706fc1",
   "metadata": {},
   "outputs": [
    {
     "data": {
      "text/plain": [
       "20.70081674131507"
      ]
     },
     "execution_count": 27,
     "metadata": {},
     "output_type": "execute_result"
    }
   ],
   "source": [
    "bmi"
   ]
  },
  {
   "cell_type": "code",
   "execution_count": 28,
   "id": "6d9b52d3-30f6-4927-a9ae-a60221d26e78",
   "metadata": {},
   "outputs": [
    {
     "name": "stdout",
     "output_type": "stream",
     "text": [
      "원금:  100000000\n",
      "이율:  0.03\n",
      "기간:  5\n",
      "수령금액  115927407.43\n"
     ]
    }
   ],
   "source": [
    "principal = 100000000\n",
    "years = 5\n",
    "interest_rate = 0.03\n",
    "money = principal * (1.0 + interest_rate) ** years\n",
    "\n",
    "print('원금: ', principal)\n",
    "print('이율: ', interest_rate)\n",
    "print('기간: ', years)\n",
    "print('수령금액 ', money)"
   ]
  },
  {
   "cell_type": "markdown",
   "id": "c7fea517-21cc-4833-bcd6-d9448ba90562",
   "metadata": {},
   "source": [
    "data type(자료형)\n",
    "- 정수(interger) - int\n",
    "- 실수(float) float\n",
    "- 문자열(string) - str\n",
    "- 불형(bool) - bool"
   ]
  },
  {
   "cell_type": "code",
   "execution_count": 29,
   "id": "be6346b7-734c-4483-9fb2-b85ba48ed7e3",
   "metadata": {},
   "outputs": [
    {
     "data": {
      "text/plain": [
       "'wonjunwonjunwonjun'"
      ]
     },
     "execution_count": 29,
     "metadata": {},
     "output_type": "execute_result"
    }
   ],
   "source": [
    "a = 3\n",
    "b = \"wonjun\"\n",
    "a * b"
   ]
  },
  {
   "cell_type": "code",
   "execution_count": 30,
   "id": "ff3dc0e3-1ca4-40a5-9f17-f0adc94b1ba1",
   "metadata": {},
   "outputs": [
    {
     "ename": "TypeError",
     "evalue": "unsupported operand type(s) for +: 'int' and 'str'",
     "output_type": "error",
     "traceback": [
      "\u001b[0;31m---------------------------------------------------------------------------\u001b[0m",
      "\u001b[0;31mTypeError\u001b[0m                                 Traceback (most recent call last)",
      "Cell \u001b[0;32mIn[30], line 1\u001b[0m\n\u001b[0;32m----> 1\u001b[0m a \u001b[38;5;241m+\u001b[39m b\n",
      "\u001b[0;31mTypeError\u001b[0m: unsupported operand type(s) for +: 'int' and 'str'"
     ]
    }
   ],
   "source": [
    "a + b"
   ]
  },
  {
   "cell_type": "code",
   "execution_count": 31,
   "id": "ab9f0c5c-3924-421d-919b-d5edefce3ac2",
   "metadata": {},
   "outputs": [
    {
     "ename": "TypeError",
     "evalue": "can't multiply sequence by non-int of type 'float'",
     "output_type": "error",
     "traceback": [
      "\u001b[0;31m---------------------------------------------------------------------------\u001b[0m",
      "\u001b[0;31mTypeError\u001b[0m                                 Traceback (most recent call last)",
      "Cell \u001b[0;32mIn[31], line 1\u001b[0m\n\u001b[0;32m----> 1\u001b[0m b \u001b[38;5;241m*\u001b[39m \u001b[38;5;241m3.5\u001b[39m\n",
      "\u001b[0;31mTypeError\u001b[0m: can't multiply sequence by non-int of type 'float'"
     ]
    }
   ],
   "source": [
    "b * 3.5"
   ]
  },
  {
   "cell_type": "code",
   "execution_count": 32,
   "id": "c01cebd5-767f-4118-b9b4-03680bf29b21",
   "metadata": {},
   "outputs": [
    {
     "data": {
      "text/plain": [
       "int"
      ]
     },
     "execution_count": 32,
     "metadata": {},
     "output_type": "execute_result"
    }
   ],
   "source": [
    "type(a)\n"
   ]
  },
  {
   "cell_type": "code",
   "execution_count": 33,
   "id": "4686ddd4-84dc-494c-9fc6-2b0b263c4ae0",
   "metadata": {},
   "outputs": [
    {
     "data": {
      "text/plain": [
       "str"
      ]
     },
     "execution_count": 33,
     "metadata": {},
     "output_type": "execute_result"
    }
   ],
   "source": [
    "type(b)"
   ]
  },
  {
   "cell_type": "code",
   "execution_count": 34,
   "id": "e3554036-6ec7-4b09-b47e-0ec593d5b8b0",
   "metadata": {},
   "outputs": [
    {
     "data": {
      "text/plain": [
       "bool"
      ]
     },
     "execution_count": 34,
     "metadata": {},
     "output_type": "execute_result"
    }
   ],
   "source": [
    "b = True\n",
    "type(b)"
   ]
  },
  {
   "cell_type": "code",
   "execution_count": 35,
   "id": "a1d10e37-d8fc-4368-91dc-94a24477ca05",
   "metadata": {},
   "outputs": [
    {
     "data": {
      "text/plain": [
       "13"
      ]
     },
     "execution_count": 35,
     "metadata": {},
     "output_type": "execute_result"
    }
   ],
   "source": [
    "x = 7\n",
    "y = 6\n",
    "x + y"
   ]
  },
  {
   "cell_type": "code",
   "execution_count": 36,
   "id": "07f190a9-a9dd-4cb2-b4fe-67c04033f6fa",
   "metadata": {},
   "outputs": [],
   "source": [
    "x = '7'"
   ]
  },
  {
   "cell_type": "code",
   "execution_count": 37,
   "id": "8ae6d0b8-1cea-49f6-8de0-a97f31028bcb",
   "metadata": {},
   "outputs": [
    {
     "data": {
      "text/plain": [
       "0.30000000000000004"
      ]
     },
     "execution_count": 37,
     "metadata": {},
     "output_type": "execute_result"
    }
   ],
   "source": [
    "0.1 + 0.1 + 0.1"
   ]
  },
  {
   "cell_type": "code",
   "execution_count": 38,
   "id": "d1800ea0-9591-4f18-b609-a6e3e9182108",
   "metadata": {},
   "outputs": [
    {
     "data": {
      "text/plain": [
       "10000000000000000000000000000000000000000000000000000000000000000000000000000000000000000000000000000"
      ]
     },
     "execution_count": 38,
     "metadata": {},
     "output_type": "execute_result"
    }
   ],
   "source": [
    "10 ** 100"
   ]
  },
  {
   "cell_type": "code",
   "execution_count": 39,
   "id": "d3610ad5-1176-4371-8733-a220727412d3",
   "metadata": {},
   "outputs": [
    {
     "ename": "SyntaxError",
     "evalue": "incomplete input (969763094.py, line 1)",
     "output_type": "error",
     "traceback": [
      "\u001b[0;36m  Cell \u001b[0;32mIn[39], line 1\u001b[0;36m\u001b[0m\n\u001b[0;31m    \"\"\"\u001b[0m\n\u001b[0m    ^\u001b[0m\n\u001b[0;31mSyntaxError\u001b[0m\u001b[0;31m:\u001b[0m incomplete input\n"
     ]
    }
   ],
   "source": [
    "\"\"\""
   ]
  },
  {
   "cell_type": "code",
   "execution_count": 40,
   "id": "2109a035-2e8d-4e49-bf77-21658a905ef2",
   "metadata": {},
   "outputs": [
    {
     "data": {
      "text/plain": [
       "'\"'"
      ]
     },
     "execution_count": 40,
     "metadata": {},
     "output_type": "execute_result"
    }
   ],
   "source": [
    "'\"'"
   ]
  },
  {
   "cell_type": "code",
   "execution_count": 42,
   "id": "766e3dd1-bb09-4433-8050-499b5185c134",
   "metadata": {},
   "outputs": [
    {
     "data": {
      "text/plain": [
       "\"철수가 '나는 잘생겼어' 라고 말했어요\""
      ]
     },
     "execution_count": 42,
     "metadata": {},
     "output_type": "execute_result"
    }
   ],
   "source": [
    "\"철수가 '나는 잘생겼어' 라고 말했어요\"\n"
   ]
  },
  {
   "cell_type": "code",
   "execution_count": 43,
   "id": "b111be06-ade3-40f2-9b7e-1dfcc016ba6a",
   "metadata": {},
   "outputs": [
    {
     "ename": "TypeError",
     "evalue": "unsupported operand type(s) for +: 'int' and 'str'",
     "output_type": "error",
     "traceback": [
      "\u001b[0;31m---------------------------------------------------------------------------\u001b[0m",
      "\u001b[0;31mTypeError\u001b[0m                                 Traceback (most recent call last)",
      "Cell \u001b[0;32mIn[43], line 2\u001b[0m\n\u001b[1;32m      1\u001b[0m money \u001b[38;5;241m=\u001b[39m \u001b[38;5;241m100\u001b[39m\n\u001b[0;32m----> 2\u001b[0m money \u001b[38;5;241m+\u001b[39m \u001b[38;5;124m'\u001b[39m\u001b[38;5;124m원\u001b[39m\u001b[38;5;124m'\u001b[39m\n",
      "\u001b[0;31mTypeError\u001b[0m: unsupported operand type(s) for +: 'int' and 'str'"
     ]
    }
   ],
   "source": [
    "money = 100\n",
    "money + '원'\n"
   ]
  },
  {
   "cell_type": "code",
   "execution_count": 44,
   "id": "51ee7504-d906-46e2-a02f-5e86013e491e",
   "metadata": {},
   "outputs": [
    {
     "data": {
      "text/plain": [
       "'100원'"
      ]
     },
     "execution_count": 44,
     "metadata": {},
     "output_type": "execute_result"
    }
   ],
   "source": [
    "str(money) + '원'"
   ]
  },
  {
   "cell_type": "code",
   "execution_count": 45,
   "id": "8d5d3307-5d7d-4f81-9ee8-7af4238530b4",
   "metadata": {},
   "outputs": [
    {
     "data": {
      "text/plain": [
       "'45.5'"
      ]
     },
     "execution_count": 45,
     "metadata": {},
     "output_type": "execute_result"
    }
   ],
   "source": [
    "str(45.5)\n"
   ]
  },
  {
   "cell_type": "code",
   "execution_count": 46,
   "id": "16f382aa-e8cd-4cb2-b811-155ba3772a65",
   "metadata": {},
   "outputs": [
    {
     "data": {
      "text/plain": [
       "'100100100'"
      ]
     },
     "execution_count": 46,
     "metadata": {},
     "output_type": "execute_result"
    }
   ],
   "source": [
    "money = '100'\n",
    "money * 3"
   ]
  },
  {
   "cell_type": "code",
   "execution_count": 48,
   "id": "ed76463c-d905-48aa-b613-93a0d1fb7988",
   "metadata": {},
   "outputs": [
    {
     "data": {
      "text/plain": [
       "300"
      ]
     },
     "execution_count": 48,
     "metadata": {},
     "output_type": "execute_result"
    }
   ],
   "source": [
    "int(money) * 3"
   ]
  },
  {
   "cell_type": "markdown",
   "id": "a456be61-cf0b-4f46-b776-e9f9c9db7ac4",
   "metadata": {},
   "source": [
    "- str()\n",
    "- int()\n",
    "- float()"
   ]
  },
  {
   "cell_type": "code",
   "execution_count": 49,
   "id": "0a048734-cbaf-46a4-9c33-13d006950df8",
   "metadata": {},
   "outputs": [
    {
     "data": {
      "text/plain": [
       "35"
      ]
     },
     "execution_count": 49,
     "metadata": {},
     "output_type": "execute_result"
    }
   ],
   "source": [
    "int(35.4)"
   ]
  },
  {
   "cell_type": "code",
   "execution_count": 50,
   "id": "fda4e06e-c9f3-4767-a650-76411ce5d445",
   "metadata": {},
   "outputs": [
    {
     "data": {
      "text/plain": [
       "35"
      ]
     },
     "execution_count": 50,
     "metadata": {},
     "output_type": "execute_result"
    }
   ],
   "source": [
    "int('35')"
   ]
  },
  {
   "cell_type": "code",
   "execution_count": 51,
   "id": "ab4369d6-0405-409d-89a1-8471aee87f7d",
   "metadata": {},
   "outputs": [
    {
     "data": {
      "text/plain": [
       "35.4"
      ]
     },
     "execution_count": 51,
     "metadata": {},
     "output_type": "execute_result"
    }
   ],
   "source": [
    "float('35.4')"
   ]
  },
  {
   "cell_type": "code",
   "execution_count": 52,
   "id": "c45da1af-132c-4794-af72-2873ed0659e0",
   "metadata": {},
   "outputs": [
    {
     "data": {
      "text/plain": [
       "45.0"
      ]
     },
     "execution_count": 52,
     "metadata": {},
     "output_type": "execute_result"
    }
   ],
   "source": [
    "float(45)"
   ]
  },
  {
   "cell_type": "markdown",
   "id": "5fca6e2f-38a3-4335-a8e2-6a29b277628a",
   "metadata": {},
   "source": [
    "- 변수\n",
    "- 변수 명 식별자\n",
    "- 자료형\n",
    "- "
   ]
  }
 ],
 "metadata": {
  "kernelspec": {
   "display_name": "Python 3 (ipykernel)",
   "language": "python",
   "name": "python3"
  },
  "language_info": {
   "codemirror_mode": {
    "name": "ipython",
    "version": 3
   },
   "file_extension": ".py",
   "mimetype": "text/x-python",
   "name": "python",
   "nbconvert_exporter": "python",
   "pygments_lexer": "ipython3",
   "version": "3.11.7"
  }
 },
 "nbformat": 4,
 "nbformat_minor": 5
}
