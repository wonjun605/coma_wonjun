{
 "cells": [
  {
   "cell_type": "code",
   "execution_count": 1,
   "id": "97429c0a-f043-4900-9fd8-b53899d2105d",
   "metadata": {},
   "outputs": [
    {
     "data": {
      "text/plain": [
       "'100'"
      ]
     },
     "execution_count": 1,
     "metadata": {},
     "output_type": "execute_result"
    }
   ],
   "source": [
    "str(100)"
   ]
  },
  {
   "cell_type": "code",
   "execution_count": 2,
   "id": "73b664b3-a683-422c-9032-2cbc2ea8febe",
   "metadata": {},
   "outputs": [
    {
     "data": {
      "text/plain": [
       "100"
      ]
     },
     "execution_count": 2,
     "metadata": {},
     "output_type": "execute_result"
    }
   ],
   "source": [
    "int(100)"
   ]
  },
  {
   "cell_type": "code",
   "execution_count": 3,
   "id": "4dd870da-4e62-4865-8ae7-3c38cde0bfcd",
   "metadata": {},
   "outputs": [
    {
     "ename": "ValueError",
     "evalue": "invalid literal for int() with base 10: 'park'",
     "output_type": "error",
     "traceback": [
      "\u001b[0;31m---------------------------------------------------------------------------\u001b[0m",
      "\u001b[0;31mValueError\u001b[0m                                Traceback (most recent call last)",
      "Cell \u001b[0;32mIn[3], line 1\u001b[0m\n\u001b[0;32m----> 1\u001b[0m \u001b[38;5;28mint\u001b[39m(\u001b[38;5;124m\"\u001b[39m\u001b[38;5;124mpark\u001b[39m\u001b[38;5;124m\"\u001b[39m)\n",
      "\u001b[0;31mValueError\u001b[0m: invalid literal for int() with base 10: 'park'"
     ]
    }
   ],
   "source": [
    "int(\"park\")"
   ]
  },
  {
   "cell_type": "code",
   "execution_count": 4,
   "id": "1fabb4dd-a6ab-4d8e-bcd1-b41656563804",
   "metadata": {},
   "outputs": [
    {
     "ename": "ValueError",
     "evalue": "invalid literal for int() with base 10: '11.5'",
     "output_type": "error",
     "traceback": [
      "\u001b[0;31m---------------------------------------------------------------------------\u001b[0m",
      "\u001b[0;31mValueError\u001b[0m                                Traceback (most recent call last)",
      "Cell \u001b[0;32mIn[4], line 1\u001b[0m\n\u001b[0;32m----> 1\u001b[0m \u001b[38;5;28mint\u001b[39m(\u001b[38;5;124m\"\u001b[39m\u001b[38;5;124m11.5\u001b[39m\u001b[38;5;124m\"\u001b[39m)\n",
      "\u001b[0;31mValueError\u001b[0m: invalid literal for int() with base 10: '11.5'"
     ]
    }
   ],
   "source": [
    "int(\"11.5\")"
   ]
  },
  {
   "cell_type": "code",
   "execution_count": 5,
   "id": "f415d807-9723-47e8-8328-f763b23324a1",
   "metadata": {},
   "outputs": [
    {
     "data": {
      "text/plain": [
       "11"
      ]
     },
     "execution_count": 5,
     "metadata": {},
     "output_type": "execute_result"
    }
   ],
   "source": [
    "int(\"11\") #문자열 안에 있는 값이 정수로 바뀔 수 있어야지만 정수로 바뀐다."
   ]
  },
  {
   "cell_type": "code",
   "execution_count": 16,
   "id": "cacd156a-8ee5-48d9-8204-3aeafff49e14",
   "metadata": {},
   "outputs": [
    {
     "name": "stdin",
     "output_type": "stream",
     "text": [
      "몸무게를 입력하세요[kg]: 55\n",
      "당신의 키는[m]:  1.6\n"
     ]
    },
    {
     "name": "stdout",
     "output_type": "stream",
     "text": [
      "당신의 체질량지수는 21.484374999999996\n"
     ]
    }
   ],
   "source": [
    "weight = input(\"몸무게를 입력하세요[kg]:\")\n",
    "weight = float(weight)\n",
    "height = input(\"당신의 키는[m]: \")\n",
    "height = float(height)\n",
    "bmi = weight / height ** 2\n",
    "\n",
    "print (\"당신의 체질량지수는\", bmi)"
   ]
  },
  {
   "cell_type": "code",
   "execution_count": 14,
   "id": "edbe1eff-7957-49ae-a3b6-3b42f8314e70",
   "metadata": {},
   "outputs": [
    {
     "data": {
      "text/plain": [
       "float"
      ]
     },
     "execution_count": 14,
     "metadata": {},
     "output_type": "execute_result"
    }
   ],
   "source": [
    "type(weight)"
   ]
  },
  {
   "cell_type": "code",
   "execution_count": 15,
   "id": "036058db-920b-4c3f-bc3c-e52c97222635",
   "metadata": {},
   "outputs": [
    {
     "data": {
      "text/plain": [
       "float"
      ]
     },
     "execution_count": 15,
     "metadata": {},
     "output_type": "execute_result"
    }
   ],
   "source": [
    "type(height)"
   ]
  },
  {
   "cell_type": "code",
   "execution_count": null,
   "id": "c7a2a92c-7dd9-456c-9a32-c2a9e319b5bd",
   "metadata": {},
   "outputs": [],
   "source": []
  }
 ],
 "metadata": {
  "kernelspec": {
   "display_name": "Python 3 (ipykernel)",
   "language": "python",
   "name": "python3"
  },
  "language_info": {
   "codemirror_mode": {
    "name": "ipython",
    "version": 3
   },
   "file_extension": ".py",
   "mimetype": "text/x-python",
   "name": "python",
   "nbconvert_exporter": "python",
   "pygments_lexer": "ipython3",
   "version": "3.11.7"
  }
 },
 "nbformat": 4,
 "nbformat_minor": 5
}
