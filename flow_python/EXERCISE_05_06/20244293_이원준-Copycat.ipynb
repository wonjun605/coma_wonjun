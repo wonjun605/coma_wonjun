{
 "cells": [
  {
   "cell_type": "markdown",
   "id": "b1d9caed-e57c-4581-a309-c612ba94ddbc",
   "metadata": {},
   "source": [
    "# (3)차 숙제\n",
    "## 이름: 이원준\n",
    "### 학번 : 20244293\n",
    "#### 제출일시 : 월 일 요일   :"
   ]
  },
  {
   "cell_type": "markdown",
   "id": "c83e7184-3a73-408f-98c6-c20e62c51b7f",
   "metadata": {},
   "source": [
    "##### 5,6 단원에서 가장 중요한 점과 이유를 써보자.\n",
    "1. 문장들을 반복해서 실행하려면 for나 while을 사용한다. 반복문에서 반복 실행되는 문장들은 들여쓰기를 하여야한다.\n",
    "2. for 문은 반복 횟수가 정해져 있을 때 적합하다. while 문은 반복 조건이 전해져 있을 때 유용하다.\n",
    "3. while 반복문은 문장의 초입에서 조건식이 검사된다. continue와 break는 루프 제어를 위한 기능으로 프로그램 제어를 효율적으로 하는데 편리하다.\n",
    "4. 지역 변수는 함수 내부에서 선언되어 함수 내부에서만 사용할 수 있으며, 함수 종료 시 사라진다. 전역 변수는 프로그램 전체에서 접근할 수 있으며, 함수 외부에서도 사용 가능하고 프로그램 실행 동안 유지된다.\n",
    "5. 모듈을 사용하여 여러 가지 함수를 구현해 두고 다른 코드에서 불러와서 사용할 수 있다."
   ]
  },
  {
   "cell_type": "markdown",
   "id": "cb1557ec-e2ed-446f-bf94-9c9719f0a57f",
   "metadata": {},
   "source": [
    "##### 수업에서 어려운 점을 써보자\n",
    "1. 전역변수를 많이 사용할 경우 프로그램에서 어느 부분에서 오류가 발생하였는가를 추적하는 것이 매우 어렵다. 따라서 전역 변수의 사용은 최소로 해야한다.\n",
    "2. 첫 인자에 키워드 인자를 넣고 두 번째로 위치 인자로 넣게 되면 오류가 발생한다. 인자의 순서는 언제나 위치 인자가 먼저 나오고 키워드 인자가 나타나야 한다."
   ]
  },
  {
   "cell_type": "markdown",
   "id": "02170f40-3abc-4993-8496-748a0ccbb7d7",
   "metadata": {},
   "source": [
    "## 5.1 for 반복문을 이해하기 위해 다음과 같이 여러 수에서 특정한 수를 뽑아 내어 보자.\n",
    "1) for 반복문과 range()를 이용하여 1에서 100까지의 수 중에서 홀수를 아래와 같이 출력하는 프로그램을 작성하여라."
   ]
  },
  {
   "cell_type": "code",
   "execution_count": 22,
   "id": "6d203b54-ddbc-4674-88a0-6f0431efd3af",
   "metadata": {},
   "outputs": [
    {
     "name": "stdout",
     "output_type": "stream",
     "text": [
      "1 3 5 7 9 11 13 15 17 19 21 23 25 27 29 31 33 35 37 39 41 43 45 47 49 51 53 55 57 59 61 63 65 67 69 71 73 75 77 79 81 83 85 87 89 91 93 95 97 99 "
     ]
    }
   ],
   "source": [
    "for i in range(1, 101):\n",
    "    if i % 2 ==1:\n",
    "        print (i, end = ' ')"
   ]
  },
  {
   "cell_type": "markdown",
   "id": "0d2753e5-f34e-490c-b596-1af854e5eff5",
   "metadata": {},
   "source": [
    "2) while 반복문을 사용하여 1에서 100까지의 수 중에서 홀수를 출력하는 프로그램을 작성하여라."
   ]
  },
  {
   "cell_type": "code",
   "execution_count": 21,
   "id": "5396f463-8725-488c-83a4-16aa86a7513c",
   "metadata": {},
   "outputs": [
    {
     "name": "stdout",
     "output_type": "stream",
     "text": [
      "1 3 5 7 9 11 13 15 17 19 21 23 25 27 29 31 33 35 37 39 41 43 45 47 49 51 53 55 57 59 61 63 65 67 69 71 73 75 77 79 81 83 85 87 89 91 93 95 97 99 101 "
     ]
    }
   ],
   "source": [
    "num = 1\n",
    "while num <= 101:\n",
    "    if num % 2 != 0:\n",
    "        print (num, end = ' ')\n",
    "    num += 1\n",
    "    "
   ]
  },
  {
   "cell_type": "markdown",
   "id": "6cceaf6c-0cf3-46c8-9219-e7b01f876fb4",
   "metadata": {},
   "source": [
    "3) 앞에서 만들어 본 1), 2)의 코드를 변형하여 for 반복문과 while 반복문을 사용하여 1에서 100사이의 수 중에서 짝수를 출력하는 프로그램을 각각 작성하여라."
   ]
  },
  {
   "cell_type": "code",
   "execution_count": 2,
   "id": "74e348c3-bc86-41ff-b791-95d6eb05a652",
   "metadata": {},
   "outputs": [
    {
     "name": "stdout",
     "output_type": "stream",
     "text": [
      "2 4 6 8 10 12 14 16 18 20 22 24 26 28 30 32 34 36 38 40 42 44 46 48 50 52 54 56 58 60 62 64 66 68 70 72 74 76 78 80 82 84 86 88 90 92 94 96 98 100 "
     ]
    }
   ],
   "source": [
    "for num in range(1, 101):\n",
    "    while num <= 100:\n",
    "        if num % 2 == 0:\n",
    "            print(num, end= ' ')\n",
    "        break\n",
    "        "
   ]
  },
  {
   "cell_type": "markdown",
   "id": "840dbf74-3f70-4bd7-9786-e71ac218b027",
   "metadata": {},
   "source": [
    "## 5.2 반복문을 활용하여 특정 구간의 수의 합을 구할 수 있다."
   ]
  },
  {
   "cell_type": "markdown",
   "id": "55137cd7-1853-451f-a77f-46334634b522",
   "metadata": {},
   "source": [
    "1) for 반복문과 while 반복문을 사용하여 1에서 100까지의 정수 중에서 홀수의 합을 출력하는 프로그램을 작성하여라."
   ]
  },
  {
   "cell_type": "code",
   "execution_count": 6,
   "id": "f004095a-7811-4643-8561-99456e024ab9",
   "metadata": {},
   "outputs": [
    {
     "name": "stdout",
     "output_type": "stream",
     "text": [
      "2500\n"
     ]
    }
   ],
   "source": [
    "sum = 0\n",
    "for num in range(1, 101):\n",
    "    while num <= 100:\n",
    "        if num % 2 == 1:\n",
    "            sum = sum + num\n",
    "        break\n",
    "        \n",
    "print (sum)\n",
    "        "
   ]
  },
  {
   "cell_type": "markdown",
   "id": "6085129f-3cf2-4aec-978a-e4d8ae4e6219",
   "metadata": {},
   "source": [
    "2) for 반복문과 while 반복문을 사용하여 1에서 100까지의 정수 중에서 짝수의 합을 출력하는 프로그램을 작성하여라."
   ]
  },
  {
   "cell_type": "code",
   "execution_count": 7,
   "id": "fdd9ae3e-7e1f-4a55-943f-17f122c24277",
   "metadata": {},
   "outputs": [
    {
     "name": "stdout",
     "output_type": "stream",
     "text": [
      "2550\n"
     ]
    }
   ],
   "source": [
    "sum = 0\n",
    "for num in range(1, 101):\n",
    "    while num <= 100:\n",
    "        if num % 2 == 0:\n",
    "            sum = sum + num\n",
    "        break\n",
    "        \n",
    "print (sum)\n",
    "        "
   ]
  },
  {
   "cell_type": "markdown",
   "id": "8fb9bc49-db32-40bc-9081-9940e4a0f2d1",
   "metadata": {},
   "source": [
    "3) 사용자로부터 시작 정수와 끝 정수를 입력으로 받은 다음 시작 정수 값에서 끝 값까지의 합을 구하여 다음과 같이 출력하는 프로그램을 작성하여라."
   ]
  },
  {
   "cell_type": "code",
   "execution_count": 9,
   "id": "6706c3a2-3177-483e-bfdd-7f794ebd08e0",
   "metadata": {},
   "outputs": [
    {
     "name": "stdin",
     "output_type": "stream",
     "text": [
      "시작 정수를 입력하세요:  2\n",
      "끝 정수를 입력하세요:  6\n"
     ]
    },
    {
     "name": "stdout",
     "output_type": "stream",
     "text": [
      "2 에서 6 까지 정수의 합: 20\n"
     ]
    }
   ],
   "source": [
    "x = int(input(\"시작 정수를 입력하세요: \"))\n",
    "y = int(input(\"끝 정수를 입력하세요: \"))\n",
    "sum = 0\n",
    "for i in range(x, y+1):\n",
    "    sum = sum + i\n",
    "print(x, \"에서\", y, \"까지 정수의 합:\", sum)"
   ]
  },
  {
   "cell_type": "markdown",
   "id": "946a47bc-7aa9-4b44-b395-009ab57e3c1f",
   "metadata": {},
   "source": [
    "## 5.3\n",
    "맛나 식당의 메뉴 주문 프로그램을 개발하고자 한다. 이를 위하여 사용자에게 다음과 같은 1), 2), 3)의 메뉴를 보여주고 이 중에서 하나를 선택하도록 하자. 이때 아래 보기와 같이 메뉴에 없는 5, 6, 0과 같은 숫자가 입력되면 '메뉴를 다시 입력하세요:'가 출력되도록 한 . 후다시 입력을 받도록 하자."
   ]
  },
  {
   "cell_type": "code",
   "execution_count": 30,
   "id": "3d5028ac-dbb1-4eb8-a12a-c175e7cf9b33",
   "metadata": {},
   "outputs": [
    {
     "name": "stdout",
     "output_type": "stream",
     "text": [
      "맛나 식당에 오신 것을 환영합니다. 메뉴는 다음과 같습니다.\n",
      "1) 햄버거\n",
      "2) 치킨\n",
      "3) 피자\n"
     ]
    },
    {
     "name": "stdin",
     "output_type": "stream",
     "text": [
      "1에서 3까지의 메뉴를 선택하세요 : 5\n",
      "메뉴를 다시 입력하세요: 5\n",
      "메뉴를 다시 입력하세요: 5\n",
      "메뉴를 다시 입력하세요: 5\n",
      "메뉴를 다시 입력하세요: 5\n",
      "메뉴를 다시 입력하세요: 2\n"
     ]
    },
    {
     "name": "stdout",
     "output_type": "stream",
     "text": [
      "치킨을 선택했습니다.\n"
     ]
    }
   ],
   "source": [
    "print (\"맛나 식당에 오신 것을 환영합니다. 메뉴는 다음과 같습니다.\")\n",
    "print (\"1) 햄버거\\n2) 치킨\\n3) 피자\")\n",
    "t = int(input(\"1에서 3까지의 메뉴를 선택하세요 :\"))\n",
    "\n",
    "while True:\n",
    "    t = int(input(\"메뉴를 다시 입력하세요:\"))\n",
    "    if 1 <= t <= 3:\n",
    "        break\n",
    "        \n",
    "    \n",
    "if t == 1:\n",
    "    print(\"햄버거를 선택했습니다.\")\n",
    "elif t == 2:\n",
    "    print(\"치킨을 선택했습니다.\")\n",
    "elif t == 3:\n",
    "    print(\"피자를 선택했습니다.\")"
   ]
  },
  {
   "cell_type": "markdown",
   "id": "c853d98e-c075-4e44-a984-06915ea766b1",
   "metadata": {},
   "source": [
    "## 5.4 \n",
    "사용자로 부터 정수를 입력받아 다음과 같은 삼각형을 출력하는 프로그램을 작성하여라. 이때 숫자 5가 입력되면 높이가 5이고 제일 마지막 줄의 별이 5개가 삼각형 형태로 나타나도록 하여라."
   ]
  },
  {
   "cell_type": "code",
   "execution_count": 36,
   "id": "7af73fa1-8170-4b12-b43c-c3a2cd1b3624",
   "metadata": {},
   "outputs": [
    {
     "name": "stdin",
     "output_type": "stream",
     "text": [
      "숫자를 입력하시오: 5\n"
     ]
    },
    {
     "name": "stdout",
     "output_type": "stream",
     "text": [
      "\n",
      "*\n",
      "**\n",
      "***\n",
      "****\n",
      "*****\n"
     ]
    }
   ],
   "source": [
    "x = int(input(\"숫자를 입력하시오:\"))\n",
    "\n",
    "for i in range(1, x+1):\n",
    "    print(' ' * (x-i), end='')"
   ]
  },
  {
   "cell_type": "code",
   "execution_count": 42,
   "id": "65fd333b-7303-4717-b0af-a0fc997a4b91",
   "metadata": {},
   "outputs": [
    {
     "name": "stdin",
     "output_type": "stream",
     "text": [
      "숫자를 입력하세요:  5\n"
     ]
    },
    {
     "name": "stdout",
     "output_type": "stream",
     "text": [
      "    *\n",
      "   **\n",
      "  ***\n",
      " ****\n",
      "*****\n"
     ]
    }
   ],
   "source": [
    "n = int(input(\"숫자를 입력하세요: \"))\n",
    "\n",
    "for i in range(1, n + 1):\n",
    "    print(' ' * (n - i), end='')\n",
    "    print('*' * i)\n"
   ]
  },
  {
   "cell_type": "markdown",
   "id": "1bb71030-013c-4370-aca4-63a87b89212b",
   "metadata": {},
   "source": [
    "## 5.5\n",
    "깊이가 30 미터인 우물이 있다. 이 우물에 사는 달팽이는 하루 종일 기어서 올라가면 7미터를 올라갈 . 수있다. 그러나 밤이 되어 휴식을 취하는 동안 5미터를 미끄러져 내려간다. 이 우물을 벗어나는데 며칠의 시간이 걸릴까? while 문을 이용하여 매일 저녁 달팽이의 위치를 다음과 같이 구하라(주의: 하루에 7 - 5 = 2 미터를 올라갈 것이라고 단순 계산하면 안된다. 이 경우 15일 되는 날 탈출하는 것으로 계산되지만 실제로는 13일이면 된다.) 출력시 format() 메소드를 사용하여 숫자들이 오른쪽 정렬이 되도록 하자."
   ]
  },
  {
   "cell_type": "code",
   "execution_count": 53,
   "id": "0a0b4615-6768-49e3-8f41-99ebce3f799e",
   "metadata": {},
   "outputs": [
    {
     "name": "stdout",
     "output_type": "stream",
     "text": [
      "day :   1 달팽이의 위치 :   7 미터\n",
      "day :   2 달팽이의 위치 :   9 미터\n",
      "day :   3 달팽이의 위치 :  11 미터\n",
      "day :   4 달팽이의 위치 :  13 미터\n",
      "day :   5 달팽이의 위치 :  15 미터\n",
      "day :   6 달팽이의 위치 :  17 미터\n",
      "day :   7 달팽이의 위치 :  19 미터\n",
      "day :   8 달팽이의 위치 :  21 미터\n",
      "day :   9 달팽이의 위치 :  23 미터\n",
      "day :  10 달팽이의 위치 :  25 미터\n",
      "day :  11 달팽이의 위치 :  27 미터\n",
      "day :  12 달팽이의 위치 :  29 미터\n",
      "day :  13 달팽이의 위치 :  31 미터\n",
      "축하합니다. 우물을 탈출하였습니다.\n",
      "우물을 탈출하는 데 걸린 날은  13 일 입니다.\n"
     ]
    }
   ],
   "source": [
    "day = 0\n",
    "Posit = 0\n",
    " \n",
    "while Posit <= 30 :      #위치가 30m 이하이면 아래가 반복된다. \n",
    "    day = day + 1        #하루가 시작되고 \n",
    "    Posit = Posit + 7    #현재 위치에서 7m를 올라간다.\n",
    "    print('day :', '{0:3d}'.format(day), '달팽이의 위치 :', '{0:3d}'.format(Posit), '미터')\n",
    " \n",
    "    if Posit <= 30 :       #7m를 올라가도 30m 이하라면 \n",
    "        Posit = Posit - 5  #저녁동안 5m 내려간다. \n",
    " \n",
    "    elif Posit >= 30 :\n",
    "        print(\"축하합니다. 우물을 탈출하였습니다.\")\n",
    "        print(\"우물을 탈출하는 데 걸린 날은 \", day, \"일 입니다.\")\n",
    " \n"
   ]
  },
  {
   "cell_type": "markdown",
   "id": "6295792c-d406-4f84-82f5-c619fdc8be30",
   "metadata": {},
   "source": [
    "## 5.6\n",
    "다음과 같이 자동차의 연료 탱크 프로그램을 시뮬레이션하여 보자. 초기 연료의 양은 500으로 두자. 사용자가 주행을 하면 연료가 줄어들고 충전을 하면 연료가 증가한다. 이 때 연료의 사용과 충전은 -/+ 기호와 함께 입력하도록 한다. 반복문을 사용하여 사용자로부터 충전 또는 사용한 연료를 입력받아서 현재 남아있는 양을 계속 출력하고, 연료 탱크에 남아 있는 연료가 10% 미만이면 경고를 출력하고 프로그램 수행을 마친다."
   ]
  },
  {
   "cell_type": "code",
   "execution_count": 55,
   "id": "04396fae-684e-4675-be38-b9955cb0faa2",
   "metadata": {},
   "outputs": [
    {
     "name": "stdin",
     "output_type": "stream",
     "text": [
      "연료 충전/사용 (-/+ 기호와 함께 입력):  +60\n"
     ]
    },
    {
     "name": "stdout",
     "output_type": "stream",
     "text": [
      "현재 남아있는 연료: 560 리터\n"
     ]
    },
    {
     "name": "stdin",
     "output_type": "stream",
     "text": [
      "연료 충전/사용 (-/+ 기호와 함께 입력):  -300\n"
     ]
    },
    {
     "name": "stdout",
     "output_type": "stream",
     "text": [
      "현재 남아있는 연료: 260 리터\n"
     ]
    },
    {
     "name": "stdin",
     "output_type": "stream",
     "text": [
      "연료 충전/사용 (-/+ 기호와 함께 입력):  -220\n"
     ]
    },
    {
     "name": "stdout",
     "output_type": "stream",
     "text": [
      "현재 남아있는 연료: 40 리터\n",
      "경고: 연료가 10% 미만입니다. 충전이 필요합니다!\n"
     ]
    }
   ],
   "source": [
    "# 초기 연료의 양\n",
    "fuel = 500\n",
    "\n",
    "# 반복문을 사용하여 사용자로부터 연료 사용 및 충전 입력을 받습니다.\n",
    "while True:\n",
    "    # 사용자로부터 충전/사용한 연료 입력 받기\n",
    "    change = input(\"연료 충전/사용 (-/+ 기호와 함께 입력): \")\n",
    "\n",
    "    # 입력을 정수로 변환\n",
    "    try:\n",
    "        change = int(change)\n",
    "    except ValueError:\n",
    "        print(\"잘못된 입력입니다. 다시 입력하세요.\")\n",
    "        continue\n",
    "\n",
    "    # 연료의 양을 조정\n",
    "    fuel += change\n",
    "\n",
    "    # 현재 남아있는 연료 양 출력\n",
    "    print(f\"현재 남아있는 연료: {fuel} 리터\")\n",
    "\n",
    "    # 연료 탱크에 남아 있는 연료가 10% 미만이면 경고를 출력하고 프로그램 종료\n",
    "    if fuel < 0:\n",
    "        print(\"경고: 연료가 부족합니다!\")\n",
    "        break\n",
    "\n",
    "    # 10% 미만이 되면 경고를 출력하고 프로그램 종료\n",
    "    if fuel < 50:  # 초기 연료의 10%는 50\n",
    "        print(\"경고: 연료가 10% 미만입니다. 충전이 필요합니다!\")\n",
    "        break\n"
   ]
  },
  {
   "cell_type": "markdown",
   "id": "e3805ebd-5c3e-4fae-a1c0-b4c5b958aa16",
   "metadata": {},
   "source": [
    "## 5.7\n",
    "암스트롱 수란 xyz로 표시되는 세 자리의 정수 중에서 각 자리의 수를 세제곱한 수의 합과 자신이 같은 수를 말하며 다음과 같은 조건을 만족한다.\n",
    "x*100+y*10+z=x^3+y^3+z^3\n",
    "구체적인 예를 들면 153은 1 + 125 + 27의 합으로 구성될 수 있는데 이러한 수가 암스트롱 수 이다. 세 자리 정수들 중에서 모든 암스트롱 수를 구하여 다음과 같이 출력하여라.\n",
    "세 자리의 암스트롱 수: 153 370 371 407"
   ]
  },
  {
   "cell_type": "code",
   "execution_count": 54,
   "id": "056b0294-b221-4e4c-8963-a54367bf26f0",
   "metadata": {},
   "outputs": [
    {
     "name": "stdout",
     "output_type": "stream",
     "text": [
      "세 자리의 암스트롱 수: 153 370 371 407\n"
     ]
    }
   ],
   "source": [
    "# 암스트롱 수를 찾고 출력하는 코드\n",
    "\n",
    "# 세 자리 정수 범위(100~999)에서 암스트롱 수를 찾습니다.\n",
    "armstrong_numbers = []\n",
    "\n",
    "# 100부터 999까지의 숫자에 대해 반복\n",
    "for num in range(100, 1000):\n",
    "    # 숫자를 문자열로 변환하여 각 자릿수를 구합니다.\n",
    "    str_num = str(num)\n",
    "    x = int(str_num[0])  # 백의 자리 수\n",
    "    y = int(str_num[1])  # 십의 자리 수\n",
    "    z = int(str_num[2])  # 일의 자리 수\n",
    "    \n",
    "    # 각 자릿수를 세제곱하고 합산합니다.\n",
    "    armstrong_sum = x**3 + y**3 + z**3\n",
    "    \n",
    "    # 암스트롱 수인지를 확인합니다.\n",
    "    if armstrong_sum == num:\n",
    "        # 암스트롱 수인 경우 목록에 추가합니다.\n",
    "        armstrong_numbers.append(num)\n",
    "\n",
    "# 결과를 출력합니다.\n",
    "print(\"세 자리의 암스트롱 수: \" + ' '.join(map(str, armstrong_numbers)))\n"
   ]
  },
  {
   "cell_type": "markdown",
   "id": "30c43fd5-1aa5-479a-827b-33810722801e",
   "metadata": {},
   "source": [
    "## 5.8 \n",
    "거꾸로 정수는 121이나 3443와 같이 거꾸로 나열해도 그 값이 원래의 값과 같은 정수를 말한다. 사용자로부터 임의의 양의 정수를 이력받아 이 수가 거꾸로 정수인지 아닌지를 판단하는 다음과 같은 프로그램을 작성하여라. 입력받을 때 -99가 들어올 경우 더 이상 입력을 받지 않는다."
   ]
  },
  {
   "cell_type": "code",
   "execution_count": 56,
   "id": "027ae3fd-0a38-4ba2-a8ff-16ea73893fd6",
   "metadata": {},
   "outputs": [
    {
     "name": "stdin",
     "output_type": "stream",
     "text": [
      "정수를 입력하시오 :  3443\n"
     ]
    },
    {
     "name": "stdout",
     "output_type": "stream",
     "text": [
      "3443 은(는) 거꾸로 정수입니다.\n"
     ]
    },
    {
     "name": "stdin",
     "output_type": "stream",
     "text": [
      "정수를 입력하시오 :  324\n"
     ]
    },
    {
     "name": "stdout",
     "output_type": "stream",
     "text": [
      "324 은(는) 거꾸로 정수가 아닙니다.\n"
     ]
    },
    {
     "name": "stdin",
     "output_type": "stream",
     "text": [
      "정수를 입력하시오 :  -99\n"
     ]
    },
    {
     "name": "stdout",
     "output_type": "stream",
     "text": [
      "프로그램을 종료합니다.\n"
     ]
    }
   ],
   "source": [
    "n1 = 0     #루프 돌입 전 입력 받을 정수를 초기화시킨다. \n",
    " \n",
    "while n1 != -99 :   #-99가 입력될 때까지 반복한다. \n",
    "    n1 = int(input(\"정수를 입력하시오 : \"))\n",
    "    n = n1\n",
    "    N = 0           #입력받은 정수를 뒤집은 것이 들어갈 변수 초기화 \n",
    "    \n",
    "    while n > 0 :\n",
    "        N = N * 10 + n % 10  \n",
    "        n = n // 10\n",
    " \n",
    "#위 블록을 343으로 예를 들어보자.\n",
    "#루프 돌입 전 : n = 343, N = 0\n",
    "#루프 1회 : n = 343 // 10 = 34, N = 0 + 3 = 3\n",
    "#루프 2회 : n = 34 // 10 = 3, N = 3 * 10 + 34 % 10 = 34\n",
    "#루프 3회 : n = 3 // 10 = 0, N = 34 * 10 + 3 % 10 = 343\n",
    "#n < 0이므로 루프를 종료. N은 n1을 뒤집은 수가 된다. \n",
    "    \n",
    "    if n1 == N :\n",
    "        print(n1, \"은(는) 거꾸로 정수입니다.\")\n",
    " \n",
    "    elif n1 == -99 :\n",
    "        break\n",
    " \n",
    "    elif n1 != N :\n",
    "        print(n1, \"은(는) 거꾸로 정수가 아닙니다.\")\n",
    " \n",
    " \n",
    "print(\"프로그램을 종료합니다.\")"
   ]
  },
  {
   "cell_type": "markdown",
   "id": "6d0e12d3-8899-403b-aac0-eecac7fc03a0",
   "metadata": {},
   "source": [
    "## 5.9\n",
    "사용자로부터 임의의 양의 정수를 입력받아 다음과 같이 입력된 정수의 개수와, 가장 큰 값, 가장 작은 값을 출력하도록 하자. 입력을 받을 때 -99가 들어올 경우 더 이상 입력을 받지 않는다."
   ]
  },
  {
   "cell_type": "code",
   "execution_count": 6,
   "id": "7d1c1871-d6a8-4716-ab94-1be38e830210",
   "metadata": {},
   "outputs": [
    {
     "name": "stdout",
     "output_type": "stream",
     "text": [
      "정수를 입력하세요. 입력을 중단하려면 -99를 입력하세요.\n"
     ]
    },
    {
     "name": "stdin",
     "output_type": "stream",
     "text": [
      " 34\n",
      " 920\n",
      " 320\n",
      " 30\n",
      " -99\n"
     ]
    },
    {
     "name": "stdout",
     "output_type": "stream",
     "text": [
      "입력된 정수의 개수: 4\n",
      "가장 큰 값: 920\n",
      "가장 작은 값: 30\n"
     ]
    }
   ],
   "source": [
    "# 입력받은 정수의 개수, 가장 큰 값, 가장 작은 값을 추적할 변수 초기화\n",
    "count = 0\n",
    "max_value = None\n",
    "min_value = None\n",
    "\n",
    "print(\"정수를 입력하세요. 입력을 중단하려면 -99를 입력하세요.\")\n",
    "\n",
    "# 반복문을 사용하여 사용자의 입력을 받습니다.\n",
    "while True:\n",
    "    # 사용자의 입력을 정수로 변환합니다.\n",
    "    number = int(input())\n",
    "\n",
    "    # 입력값이 -99라면 입력을 중단하고 루프를 종료합니다.\n",
    "    if number == -99:\n",
    "        break\n",
    "\n",
    "    # 입력된 정수의 개수를 증가시킵니다.\n",
    "    count += 1\n",
    "\n",
    "    # 가장 큰 값과 가장 작은 값을 추적합니다.\n",
    "    if max_value is None or number > max_value:\n",
    "        max_value = number\n",
    "    if min_value is None or number < min_value:\n",
    "        min_value = number\n",
    "\n",
    "# 입력된 정수의 개수, 가장 큰 값, 가장 작은 값을 출력합니다.\n",
    "print(f\"입력된 정수의 개수: {count}\")\n",
    "print(f\"가장 큰 값: {max_value}\")\n",
    "print(f\"가장 작은 값: {min_value}\")\n"
   ]
  },
  {
   "cell_type": "markdown",
   "id": "b385da15-3a27-49b8-be4e-b257f858b4e1",
   "metadata": {},
   "source": [
    "## 6.1 \n",
    "n이라는 이름의 매개변수를 입력으로 받아서 이 값의 제곱 값을 반환하는 square(n) 함수를 정의하고 이함수를 호출하여 3과 4의 제곱을 출력하고자 한다. 밑줄 친 부분에 들어갈 알맞은 코드를 채우고 전체 코드를 실행하여라.\n"
   ]
  },
  {
   "cell_type": "code",
   "execution_count": 7,
   "id": "97b02013-843d-42a1-9f7b-b17b8ed060d0",
   "metadata": {},
   "outputs": [
    {
     "name": "stdout",
     "output_type": "stream",
     "text": [
      "3의 제곱은 :  9\n",
      "4의 제곱은 :  16\n"
     ]
    }
   ],
   "source": [
    "def square(n):\n",
    "    return n*n\n",
    "print('3의 제곱은 : ', square(3))\n",
    "print('4의 제곱은 : ', square(4))"
   ]
  },
  {
   "cell_type": "markdown",
   "id": "b0701ccc-d6d8-4177-96ba-671d9219bdf0",
   "metadata": {},
   "source": [
    "## 6.2\n",
    "m과 n이라는 이름의 매개변수를 두 개 입력받아서 이 두 값 중에서 큰 값을 반환하는 max2(m, n) 함수와 작은 값을 반환하는 min2(m, n) 함수를 구현하여라. 100과 200을 인자로 넣어서 호출하여 그 결과를 확인 하라. 이를 위하여 밑줄 친 부분에 들어갈 알맞은 코드를 채우고 전체 코드를 실행하여라."
   ]
  },
  {
   "cell_type": "code",
   "execution_count": 10,
   "id": "681a4e6a-18d8-49a5-bf67-c048070f044e",
   "metadata": {},
   "outputs": [
    {
     "name": "stdout",
     "output_type": "stream",
     "text": [
      "100과 200중 큰 수는: 200\n",
      "100과 200중 작은 수는: 100\n"
     ]
    }
   ],
   "source": [
    "def max2(m, n):\n",
    "    if m>n:\n",
    "        return m\n",
    "    else:\n",
    "        return n\n",
    "def min2(m, n):\n",
    "    if m>n:\n",
    "        return n\n",
    "    else:\n",
    "        return m\n",
    "print('100과 200중 큰 수는:', max2(100, 200))\n",
    "print('100과 200중 작은 수는:', min2(100, 200))"
   ]
  },
  {
   "cell_type": "markdown",
   "id": "4ebe1e5a-d28a-4e22-9592-c271b0656ac9",
   "metadata": {},
   "source": [
    "## 6.3\n",
    "n1, n2, n3라는 이름의 매개변수를 3개 입력받아서 이 값 중에서 가장 큰 값을 반환하는 max3(n1, n2, n3) 함수와 가장 작은 값을 반환하는 min3(n1, n2, n3) 함수를 구현하여라. 사용자로부터 임의의 정수 3개를 입력으로 받아서 이 함수를 호출하여 다음과 같은 출력을 내 보이도록 하여라."
   ]
  },
  {
   "cell_type": "code",
   "execution_count": 12,
   "id": "c0f66811-51e8-43b4-abf9-5c2e1fae9f25",
   "metadata": {},
   "outputs": [
    {
     "name": "stdin",
     "output_type": "stream",
     "text": [
      "세 정수를 입력하시오: 34 66 20\n"
     ]
    },
    {
     "name": "stdout",
     "output_type": "stream",
     "text": [
      "가장 큰 수: 34\n",
      "가장 작은 수: 20\n"
     ]
    }
   ],
   "source": [
    "def max3(n1, n2, n3):\n",
    "    if n3 > n2 > n1:\n",
    "        return n3\n",
    "    else:\n",
    "        return n1\n",
    "def min3(n1, n2, n3):\n",
    "    if n1 < n2 < n3:\n",
    "        return n1\n",
    "    else:\n",
    "        return n3\n",
    "        \n",
    "n1, n2, n3 = map(int, input('세 정수를 입력하시오:').split())\n",
    "print('가장 큰 수:', max3(34, 66, 20))\n",
    "print('가장 작은 수:', min3(34, 66, 20))"
   ]
  },
  {
   "cell_type": "markdown",
   "id": "24a6d5e0-ffdd-4321-b5dd-58b2f7181abc",
   "metadata": {},
   "source": [
    "## 6.4\n",
    "n1, n2, n3라는 이름의 매개변수를 3개 입력받아서 이 값들 중에서 가장 큰 값과 작은 값, 두개를 반환하는 max_and_min(n1, n2, n3) 함수를 return 문을 사용하여 구현하여라. 사용자로부터 임의의 정수 3개를 입력으로 받아서 이 함수를 호출하여 다음과 같은 출력을 내 보이도록 하여라."
   ]
  },
  {
   "cell_type": "code",
   "execution_count": 1,
   "id": "e45c70d2-48e0-46a7-845f-632995f60042",
   "metadata": {},
   "outputs": [
    {
     "name": "stdin",
     "output_type": "stream",
     "text": [
      "3 수를 입력하시오 :  34 66 20\n"
     ]
    },
    {
     "name": "stdout",
     "output_type": "stream",
     "text": [
      "가장 큰 수 :  66\n",
      "가장 작은 수 :  20\n"
     ]
    }
   ],
   "source": [
    "n1, n2, n3 = map(int, input(\"3 수를 입력하시오 : \").split())  #세 수를 받고 한 번에 공백 단위로 분리한다.\n",
    " \n",
    "def max_and_min(n1, n2, n3) :\n",
    "    if n1 > n2 and n1 > n3 :   #n1이 가장 클 때\n",
    "        if n2 > n3 :           #n2와 n3을 비교하여 최솟값을 찾는다. \n",
    "            return n1, n3\n",
    "        else :\n",
    "            return n1, n2\n",
    " \n",
    "    elif n2 > n1 and n2 > n3 : #n2이 가장 클 때도 마찬가지\n",
    "        if n1 > n3 :\n",
    "            return n2, n3\n",
    "        else :\n",
    "            return n2, n1\n",
    " \n",
    "    else :                     #n3이 가장 클 때도 마찬가지\n",
    "        if n1 > n2 :\n",
    "            return n3, n2\n",
    "        else :\n",
    "            return n3, n1\n",
    " \n",
    "Max, Min = max_and_min(n1, n2, n3)  #최대/최솟값을 각각 변수에 담는다.\n",
    "print(\"가장 큰 수 : \", Max)\n",
    "print(\"가장 작은 수 : \", Min)"
   ]
  },
  {
   "cell_type": "markdown",
   "id": "3eb1c02d-c07e-4e04-bf3f-bba2beb5805f",
   "metadata": {},
   "source": [
    "## 6.5\n",
    "섭씨온도(celsius)를 화씨온도(fahernheit)로 변환하는 식은 다음과 같다. 이 식을 바탕으로 섭씨온도를 0도에서 50까지 10도 단위로 증가시키면서 이에 해당하는 화씨온도를 출력하는 프로그램을 작성하여라. 이를 위하여 섬씨온도를 인자로 받아서 화씨온도를 반환하는 cel2fah() 함수를 만들도록 하여라."
   ]
  },
  {
   "cell_type": "code",
   "execution_count": 14,
   "id": "b3c1a643-b95d-4e53-b2dc-d79e619e5fee",
   "metadata": {},
   "outputs": [
    {
     "name": "stdout",
     "output_type": "stream",
     "text": [
      "섭씨온도(C) -> 화씨온도(F)\n",
      "0C -> 32.00F\n",
      "10C -> 50.00F\n",
      "20C -> 68.00F\n",
      "30C -> 86.00F\n",
      "40C -> 104.00F\n",
      "50C -> 122.00F\n"
     ]
    }
   ],
   "source": [
    "def cel2fah(celsius):\n",
    "    \"\"\"\n",
    "    섭씨온도를 화씨온도로 변환하여 반환하는 함수.\n",
    "\n",
    "    인자:\n",
    "    celsius (float): 섭씨온도\n",
    "\n",
    "    반환:\n",
    "    float: 화씨온도\n",
    "    \"\"\"\n",
    "    return celsius * 9/5 + 32\n",
    "\n",
    "# 0도에서 50도까지 10도 단위로 증가시키면서\n",
    "# 섭씨온도를 화씨온도로 변환하여 출력하는 코드\n",
    "print(\"섭씨온도(C) -> 화씨온도(F)\")\n",
    "for celsius in range(0, 51, 10):\n",
    "    fahrenheit = cel2fah(celsius)\n",
    "    print(f\"{celsius}C -> {fahrenheit:.2f}F\")\n"
   ]
  },
  {
   "cell_type": "markdown",
   "id": "406ff928-cb7b-4eaa-8eca-3db97e9c654b",
   "metadata": {},
   "source": [
    "## 6.6\n",
    "임의의 수를 입력으로 받은 다음 이 수가 소수인지 아닌지를 판단하는 함수 is_prime(n)을 작성하여라. 만일 n이 소수이면 True, 그렇지 않으면 False를 반환하도록 하여라."
   ]
  },
  {
   "cell_type": "code",
   "execution_count": 2,
   "id": "19bf30b4-3981-4a8d-9bea-1dbc415f772e",
   "metadata": {},
   "outputs": [
    {
     "name": "stdin",
     "output_type": "stream",
     "text": [
      "소수 검사를 할 정수를 입력하시오 :  9677\n"
     ]
    },
    {
     "name": "stdout",
     "output_type": "stream",
     "text": [
      "소수인가요? : True\n"
     ]
    }
   ],
   "source": [
    "def is_prime(x) :\n",
    "    for i in range(2, x) :      #2부터 x-1까지 아래를 반복한다. \n",
    "        if num % i == 0 :       #2부터 x-1까지 나누었을 때 나머지가 0이면 False를 반환\n",
    "            return False\n",
    " \n",
    "        else :                  #아니면 반복을 계속한다.\n",
    "            continue\n",
    " \n",
    "    return True                 #나머지가 0이 되는 수가 없으면 True를 반환한다.\n",
    " \n",
    "num = int(input('소수 검사를 할 정수를 입력하시오 : '))\n",
    "print('소수인가요? :', is_prime(num))"
   ]
  },
  {
   "cell_type": "markdown",
   "id": "a80c7692-736e-4032-ad98-610fa29101df",
   "metadata": {},
   "source": [
    "## 6.7\n",
    "n은 n*(n-1)*(n-2)...2*1의 식으로 표현되는 값이다. 양의 정수 n을 매개변수로 받아서 팩토리얼 값을 반환하는 factorial(n) 함수를 구현하여라. 이 함수를 재귀 함수를 사용하지 말고 for 문을 사용하여 작성하여라. 이함수를 이용하여 factorial(5), factorial(7), factorial(10)의 값을 출력하는 출력문을 구현하여라."
   ]
  },
  {
   "cell_type": "code",
   "execution_count": 15,
   "id": "0eaf903d-d114-4e89-8628-e555e09e1ff6",
   "metadata": {},
   "outputs": [
    {
     "name": "stdout",
     "output_type": "stream",
     "text": [
      "5\n",
      "13\n",
      "55\n"
     ]
    }
   ],
   "source": [
    "def fib(n):\n",
    "    _curr, _next = 0, 1\n",
    "    for _ in range(n):\n",
    "        _curr, _next = _next, _curr + _next\n",
    "    return _curr\n",
    "print(fib(5))\n",
    "print(fib(7))\n",
    "print(fib(10))"
   ]
  },
  {
   "cell_type": "markdown",
   "id": "652859ce-8dbc-4f13-b70e-6d34fab3d936",
   "metadata": {},
   "source": [
    "## 6.8\n",
    "사용자로부터 x1,y1,x2,y2,x2의 값을 받아들인 다음(x1,y1) 좌표에서 (x2,y2) 좌표를 잇는 직선의 거리를 출력하고자 한다. distance(x1,y1,x2,y2)를 구현하고 이 함수를 호출하여 다음과 같이 화면에 직선과 거리를 출력하도록 하여라."
   ]
  },
  {
   "cell_type": "code",
   "execution_count": 3,
   "id": "118fc90a-16da-4785-af1c-9935ef262d0c",
   "metadata": {},
   "outputs": [
    {
     "name": "stdin",
     "output_type": "stream",
     "text": [
      "x1 :  4\n",
      "y1 :  2\n",
      "x2 :  2\n",
      "y2 :  1\n"
     ]
    },
    {
     "name": "stdout",
     "output_type": "stream",
     "text": [
      "(4.0, 2.0) 과 (2.0, 1.0) 사이의 거리는 2.23606797749979\n"
     ]
    }
   ],
   "source": [
    "def distance(x1, y1, x2, y2) :\n",
    "    distance = ((x1 - x2) ** 2 + (y1 - y2) ** 2) ** (1/2)\n",
    "    return distance\n",
    " \n",
    "x1 = float(input('x1 : '))\n",
    "y1 = float(input('y1 : '))\n",
    "x2 = float(input('x2 : '))\n",
    "y2 = float(input('y2 : '))\n",
    " \n",
    "A = (x1, y1)\n",
    "B = (x2, y2)\n",
    "print(A, '과', B, '사이의 거리는', distance(x1, y1, x2, y2))"
   ]
  },
  {
   "cell_type": "markdown",
   "id": "f7adb6d5-4ed1-45a3-b21d-38e21528ba33",
   "metadata": {},
   "source": [
    "## 6.9\n",
    "반지름 r이 주어지면 주어진 반지름을 가진 원의 넓이와 둘레를 한 번에 계산해서 반환하는 함수 area_and_circumference(r)을 작성하여라. 이 함수를 이용하여 다음과 같이 사용자가 입력한 반지름을 가진 원의 넓이와 둘레의 길이를 출력하는 프로그램을 작성하여라. 이때 양의 값이 읿력되면 넓이와 둘레를 구하고 나서 . 새반지름 값을 입력받도록 하며, 음수가 입력되면 \"프로그램을 종료합니다.\"를 출력한 후 프로그램을 중지하여라. 이때 반드시 while문과 break 문을 사용하여라."
   ]
  },
  {
   "cell_type": "code",
   "execution_count": 16,
   "id": "c97fc532-f0c1-4f24-9213-8fc36d567f0b",
   "metadata": {},
   "outputs": [
    {
     "name": "stdin",
     "output_type": "stream",
     "text": [
      "반지름을 입력하세요 (음수 입력 시 프로그램을 종료합니다):  6\n"
     ]
    },
    {
     "name": "stdout",
     "output_type": "stream",
     "text": [
      "원의 넓이: 113.10\n",
      "원의 둘레: 37.70\n"
     ]
    },
    {
     "name": "stdin",
     "output_type": "stream",
     "text": [
      "반지름을 입력하세요 (음수 입력 시 프로그램을 종료합니다):  4\n"
     ]
    },
    {
     "name": "stdout",
     "output_type": "stream",
     "text": [
      "원의 넓이: 50.27\n",
      "원의 둘레: 25.13\n"
     ]
    },
    {
     "name": "stdin",
     "output_type": "stream",
     "text": [
      "반지름을 입력하세요 (음수 입력 시 프로그램을 종료합니다):  -1\n"
     ]
    },
    {
     "name": "stdout",
     "output_type": "stream",
     "text": [
      "프로그램을 종료합니다.\n"
     ]
    }
   ],
   "source": [
    "import math\n",
    "\n",
    "def area_and_circumference(r):\n",
    "    \"\"\"\n",
    "    주어진 반지름 r을 가진 원의 넓이와 둘레를 계산하여 반환하는 함수.\n",
    "\n",
    "    인자:\n",
    "    r (float): 반지름\n",
    "\n",
    "    반환:\n",
    "    tuple: 원의 넓이와 둘레 (area, circumference)\n",
    "    \"\"\"\n",
    "    # 원의 넓이 계산\n",
    "    area = math.pi * r**2\n",
    "    # 원의 둘레 계산\n",
    "    circumference = 2 * math.pi * r\n",
    "    # 넓이와 둘레를 튜플로 반환\n",
    "    return area, circumference\n",
    "\n",
    "# 사용자로부터 입력을 받는 반복문\n",
    "while True:\n",
    "    # 반지름 입력 받기\n",
    "    radius = float(input(\"반지름을 입력하세요 (음수 입력 시 프로그램을 종료합니다): \"))\n",
    "\n",
    "    # 입력된 반지름이 음수라면 프로그램 종료\n",
    "    if radius < 0:\n",
    "        print(\"프로그램을 종료합니다.\")\n",
    "        break\n",
    "\n",
    "    # 반지름이 양수라면 원의 넓이와 둘레를 계산\n",
    "    area, circumference = area_and_circumference(radius)\n",
    "\n",
    "    # 계산된 원의 넓이와 둘레 출력\n",
    "    print(f\"원의 넓이: {area:.2f}\")\n",
    "    print(f\"원의 둘레: {circumference:.2f}\")\n"
   ]
  },
  {
   "cell_type": "code",
   "execution_count": null,
   "id": "4fdf0965-b0aa-4e28-97d5-b432f436f516",
   "metadata": {},
   "outputs": [],
   "source": []
  }
 ],
 "metadata": {
  "kernelspec": {
   "display_name": "Python 3 (ipykernel)",
   "language": "python",
   "name": "python3"
  },
  "language_info": {
   "codemirror_mode": {
    "name": "ipython",
    "version": 3
   },
   "file_extension": ".py",
   "mimetype": "text/x-python",
   "name": "python",
   "nbconvert_exporter": "python",
   "pygments_lexer": "ipython3",
   "version": "3.11.7"
  }
 },
 "nbformat": 4,
 "nbformat_minor": 5
}
