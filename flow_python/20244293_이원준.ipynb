{
 "cells": [
  {
   "cell_type": "markdown",
   "id": "d3356e7e-ded9-4c7d-b3cf-115e648b3b15",
   "metadata": {},
   "source": [
    "# (4)차 숙제\n",
    "## 이름: 이원준\n",
    "## 학번: 20244293\n",
    "\n"
   ]
  },
  {
   "cell_type": "markdown",
   "id": "1c1c13fe-00ab-4e73-877e-c3d02ea927d5",
   "metadata": {},
   "source": [
    "1. 수업에서 중요한 점을 써보자\n",
    "\n",
    "    1) 리스트는 열 항목들을 모은 자료형이다.\n",
    "    2) 리스트의 항목은 다양한 자료형의 값이 될 수 있으며 생성과 동시에 [] 내에 항목을 넣으면 된다.\n",
    "    3) 초기 데이터가 없을 경우 공백 리스트를 만들고 append()를 호출하여 항목을 추가할 수 있다.\n",
    "    4) 딕셔너리는 키와 값으로 이루어진다.\n",
    "    5) 딕셔너리에 키를 제시하면 값을 반환한다.\n",
    "    6) 딕셔너리는 인덱스를 이용하여 접근하지 않고 키를 이용하여 항목에 접근한다."
   ]
  },
  {
   "cell_type": "markdown",
   "id": "55d303f6-fb0d-4dc3-a803-2dc9015682cb",
   "metadata": {},
   "source": [
    "# 심화문제 "
   ]
  },
  {
   "cell_type": "markdown",
   "id": "ee0010dc-0c95-4dfb-8941-9b21cc813a15",
   "metadata": {},
   "source": [
    "## 7.1"
   ]
  },
  {
   "cell_type": "markdown",
   "id": "a2064e4d-10bb-47b2-a341-b9b1c9cec8e4",
   "metadata": {},
   "source": [
    "다음과 같이 파이썬 프로그램을 실행할 적에, 다음 밑줄 안에 들어갈 알맞은 결과는 무엇인가? 미리 예측해본 후 실행시켜보고 그 결과를 적어라."
   ]
  },
  {
   "cell_type": "code",
   "execution_count": 2,
   "id": "09f20fc1-fb8c-4a86-9fa2-3e21d89300bd",
   "metadata": {},
   "outputs": [],
   "source": [
    "num_list = [100, 200, 300, 400, 500, 600, 700, 800]"
   ]
  },
  {
   "cell_type": "code",
   "execution_count": 3,
   "id": "60f8cef9-0733-4cc0-9e9f-d3ad972fd02a",
   "metadata": {},
   "outputs": [],
   "source": [
    "high = 6"
   ]
  },
  {
   "cell_type": "code",
   "execution_count": 4,
   "id": "920fa660-432f-4b2c-b5df-22f99ecb6f31",
   "metadata": {},
   "outputs": [],
   "source": [
    "low = 3"
   ]
  },
  {
   "cell_type": "code",
   "execution_count": 5,
   "id": "3b087306-98d4-4428-9de2-1382ba02b0e8",
   "metadata": {},
   "outputs": [
    {
     "data": {
      "text/plain": [
       "700"
      ]
     },
     "execution_count": 5,
     "metadata": {},
     "output_type": "execute_result"
    }
   ],
   "source": [
    "num_list[high]"
   ]
  },
  {
   "cell_type": "code",
   "execution_count": 6,
   "id": "7527bb33-e0fd-40ab-a8e2-18b42ce3df05",
   "metadata": {},
   "outputs": [
    {
     "data": {
      "text/plain": [
       "500"
      ]
     },
     "execution_count": 6,
     "metadata": {},
     "output_type": "execute_result"
    }
   ],
   "source": [
    "num_list[high - 2]"
   ]
  },
  {
   "cell_type": "code",
   "execution_count": 7,
   "id": "0aa5388a-f197-4669-b189-598410914db2",
   "metadata": {},
   "outputs": [
    {
     "data": {
      "text/plain": [
       "400"
      ]
     },
     "execution_count": 7,
     "metadata": {},
     "output_type": "execute_result"
    }
   ],
   "source": [
    "num_list[high - low]"
   ]
  },
  {
   "cell_type": "code",
   "execution_count": 8,
   "id": "63c45a0c-47bc-4624-b69b-50f25792ca50",
   "metadata": {},
   "outputs": [
    {
     "data": {
      "text/plain": [
       "100"
      ]
     },
     "execution_count": 8,
     "metadata": {},
     "output_type": "execute_result"
    }
   ],
   "source": [
    "num_list[high - high]"
   ]
  },
  {
   "cell_type": "code",
   "execution_count": 9,
   "id": "3365b599-7f87-4a87-81a6-3079515580d7",
   "metadata": {},
   "outputs": [
    {
     "data": {
      "text/plain": [
       "800"
      ]
     },
     "execution_count": 9,
     "metadata": {},
     "output_type": "execute_result"
    }
   ],
   "source": [
    "num_list[-1]"
   ]
  },
  {
   "cell_type": "code",
   "execution_count": 10,
   "id": "fc012924-9605-44dc-9c8d-46621475e25b",
   "metadata": {},
   "outputs": [
    {
     "data": {
      "text/plain": [
       "600"
      ]
     },
     "execution_count": 10,
     "metadata": {},
     "output_type": "execute_result"
    }
   ],
   "source": [
    "num_list[-low]"
   ]
  },
  {
   "cell_type": "code",
   "execution_count": 11,
   "id": "4cd8a124-61ec-40c4-8a62-227a6b5e0b0f",
   "metadata": {},
   "outputs": [
    {
     "data": {
      "text/plain": [
       "700"
      ]
     },
     "execution_count": 11,
     "metadata": {},
     "output_type": "execute_result"
    }
   ],
   "source": [
    "num_list[2 * 3]"
   ]
  },
  {
   "cell_type": "code",
   "execution_count": 12,
   "id": "b696e0fd-5850-4300-850f-2f8cee0f56ba",
   "metadata": {},
   "outputs": [
    {
     "data": {
      "text/plain": [
       "900"
      ]
     },
     "execution_count": 12,
     "metadata": {},
     "output_type": "execute_result"
    }
   ],
   "source": [
    "num_list[2] * 3"
   ]
  },
  {
   "cell_type": "markdown",
   "id": "e969bdab-5666-492e-a923-afee3958ab2c",
   "metadata": {},
   "source": [
    "num_list[5 % 4]"
   ]
  },
  {
   "cell_type": "code",
   "execution_count": 14,
   "id": "93113171-560b-45c2-9b38-e6ed340a8db8",
   "metadata": {},
   "outputs": [
    {
     "data": {
      "text/plain": [
       "8"
      ]
     },
     "execution_count": 14,
     "metadata": {},
     "output_type": "execute_result"
    }
   ],
   "source": [
    "len(num_list)"
   ]
  },
  {
   "cell_type": "code",
   "execution_count": 15,
   "id": "09ad19b4-6aab-4e21-8712-a2749d67ff20",
   "metadata": {},
   "outputs": [
    {
     "data": {
      "text/plain": [
       "100"
      ]
     },
     "execution_count": 15,
     "metadata": {},
     "output_type": "execute_result"
    }
   ],
   "source": [
    "min(num_list)"
   ]
  },
  {
   "cell_type": "code",
   "execution_count": 16,
   "id": "1ecc2929-e401-44ad-bf24-4491c0359418",
   "metadata": {},
   "outputs": [
    {
     "data": {
      "text/plain": [
       "800"
      ]
     },
     "execution_count": 16,
     "metadata": {},
     "output_type": "execute_result"
    }
   ],
   "source": [
    "max(num_list)"
   ]
  },
  {
   "cell_type": "code",
   "execution_count": 17,
   "id": "961bb3f6-ebf9-4458-afec-fc8f18c91f07",
   "metadata": {},
   "outputs": [
    {
     "data": {
      "text/plain": [
       "[100, 200]"
      ]
     },
     "execution_count": 17,
     "metadata": {},
     "output_type": "execute_result"
    }
   ],
   "source": [
    "num_list[:2]"
   ]
  },
  {
   "cell_type": "code",
   "execution_count": 19,
   "id": "7398e8aa-921f-473e-94bd-b3c332d86f3c",
   "metadata": {},
   "outputs": [
    {
     "data": {
      "text/plain": [
       "[200, 300, 400, 500]"
      ]
     },
     "execution_count": 19,
     "metadata": {},
     "output_type": "execute_result"
    }
   ],
   "source": [
    "num_list[1:5]"
   ]
  },
  {
   "cell_type": "code",
   "execution_count": 20,
   "id": "43d9e96d-f76e-4c91-b9b7-b61f745e854a",
   "metadata": {},
   "outputs": [
    {
     "data": {
      "text/plain": [
       "[800, 700, 600, 500]"
      ]
     },
     "execution_count": 20,
     "metadata": {},
     "output_type": "execute_result"
    }
   ],
   "source": [
    "num_list[-1:-5:-1]"
   ]
  },
  {
   "cell_type": "code",
   "execution_count": 21,
   "id": "9acfa89a-faf8-41c5-b597-be2f78cad6ce",
   "metadata": {},
   "outputs": [
    {
     "data": {
      "text/plain": [
       "[400, 500, 600, 700]"
      ]
     },
     "execution_count": 21,
     "metadata": {},
     "output_type": "execute_result"
    }
   ],
   "source": [
    "num_list[-5:-1:1]"
   ]
  },
  {
   "cell_type": "markdown",
   "id": "d7efdfcf-1cfa-4793-bdc2-9f505d539e30",
   "metadata": {},
   "source": [
    "## 7.2"
   ]
  },
  {
   "cell_type": "markdown",
   "id": "c0336c72-cf71-49a7-ac37-e16241c7f6a0",
   "metadata": {},
   "source": [
    "다음과 같은 list1, list2가 있을 경우 이중 for 루프를 사용하여 list1과 list2의 각 원소를 곱한 후 원소의 곱셈을 아래와 같이 출력하여라."
   ]
  },
  {
   "cell_type": "code",
   "execution_count": 31,
   "id": "aef2248f-9a95-4954-a75c-d2da5a0d6ef7",
   "metadata": {},
   "outputs": [],
   "source": [
    "list1 = [3, 5, 7]\n",
    "list2 = [2, 3, 4, 5, 6]"
   ]
  },
  {
   "cell_type": "code",
   "execution_count": 64,
   "id": "d157354e-79af-4f77-a946-704385c9fa99",
   "metadata": {},
   "outputs": [
    {
     "name": "stdout",
     "output_type": "stream",
     "text": [
      "3 * 2 = 6\n",
      "3 * 3 = 9\n",
      "3 * 4 = 12\n",
      "3 * 5 = 15\n",
      "3 * 6 = 18\n",
      "5 * 2 = 10\n",
      "5 * 3 = 15\n",
      "5 * 4 = 20\n",
      "5 * 5 = 25\n",
      "5 * 6 = 30\n",
      "7 * 2 = 14\n",
      "7 * 3 = 21\n",
      "7 * 4 = 28\n",
      "7 * 5 = 35\n",
      "7 * 6 = 42\n"
     ]
    }
   ],
   "source": [
    "for x in list1:\n",
    "    for y in list2:\n",
    "        print(x, \"*\", y, \"=\", x*y)\n"
   ]
  },
  {
   "cell_type": "markdown",
   "id": "52dfe3c3-c3f0-4f26-8e8d-6cac2fc4eb25",
   "metadata": {},
   "source": [
    "## 7.4"
   ]
  },
  {
   "cell_type": "markdown",
   "id": "3de272ea-55fd-421d-9183-9628945faf77",
   "metadata": {},
   "source": [
    "다음의 코드에서 잘못된 부분은 무엇인가? 어떤 이유에서 오류가 발생하는지 설명하라."
   ]
  },
  {
   "cell_type": "markdown",
   "id": "2626c3b7-fc69-4ea1-b01b-586beedd78c7",
   "metadata": {},
   "source": [
    "1)"
   ]
  },
  {
   "cell_type": "code",
   "execution_count": 38,
   "id": "169b7b4f-fcb6-4725-8e39-69d6f46a7c2f",
   "metadata": {},
   "outputs": [
    {
     "ename": "AttributeError",
     "evalue": "'tuple' object has no attribute 'append'",
     "output_type": "error",
     "traceback": [
      "\u001b[0;31m---------------------------------------------------------------------------\u001b[0m",
      "\u001b[0;31mAttributeError\u001b[0m                            Traceback (most recent call last)",
      "Cell \u001b[0;32mIn[38], line 2\u001b[0m\n\u001b[1;32m      1\u001b[0m t \u001b[38;5;241m=\u001b[39m (\u001b[38;5;241m10\u001b[39m, \u001b[38;5;241m20\u001b[39m ,\u001b[38;5;241m30\u001b[39m, \u001b[38;5;241m40\u001b[39m)\n\u001b[0;32m----> 2\u001b[0m t\u001b[38;5;241m.\u001b[39mappend(\u001b[38;5;241m50\u001b[39m)\n",
      "\u001b[0;31mAttributeError\u001b[0m: 'tuple' object has no attribute 'append'"
     ]
    }
   ],
   "source": [
    "t = (10, 20 ,30, 40)\n",
    "t.append(50)"
   ]
  },
  {
   "cell_type": "markdown",
   "id": "60a043cf-e053-4fc1-b2d1-853aa40457ca",
   "metadata": {},
   "source": [
    "tuple은 immutable(변경 불가능)한 자료형이다. 따라서 한 번 생성된 tuple은 그 내용을 변경할 수 없다. 또한 tuple에는 append() 메서드가 없어 오류가 발생한다.\n",
    "위 코드를 실행하기 위해서는 tuple을 list로 변환한 후 작업을 수행하고 다시 tuple로 변환해야 한다. 코드를 수정하면 아래와 같다."
   ]
  },
  {
   "cell_type": "code",
   "execution_count": 39,
   "id": "cb80cf1a-6ea2-40e7-a754-5c4c138aa5ec",
   "metadata": {},
   "outputs": [
    {
     "name": "stdout",
     "output_type": "stream",
     "text": [
      "(10, 20, 30, 40, 50)\n"
     ]
    }
   ],
   "source": [
    "t = (10, 20 ,30, 40)\n",
    "t = list(t) # tuple을 list로 변환\n",
    "t.append(50)\n",
    "t = tuple(t) # 다시 tuple로 변환\n",
    "print(t)\n"
   ]
  },
  {
   "cell_type": "markdown",
   "id": "2001e6ea-b5b8-443f-8ada-8ff3047e7627",
   "metadata": {},
   "source": [
    "2."
   ]
  },
  {
   "cell_type": "code",
   "execution_count": 42,
   "id": "86fe161f-7d87-44a2-984a-5dd2563b62bd",
   "metadata": {},
   "outputs": [
    {
     "ename": "AttributeError",
     "evalue": "'tuple' object has no attribute 'remove'",
     "output_type": "error",
     "traceback": [
      "\u001b[0;31m---------------------------------------------------------------------------\u001b[0m",
      "\u001b[0;31mAttributeError\u001b[0m                            Traceback (most recent call last)",
      "Cell \u001b[0;32mIn[42], line 2\u001b[0m\n\u001b[1;32m      1\u001b[0m t \u001b[38;5;241m=\u001b[39m (\u001b[38;5;241m10\u001b[39m, \u001b[38;5;241m20\u001b[39m, \u001b[38;5;241m30\u001b[39m, \u001b[38;5;241m40\u001b[39m)\n\u001b[0;32m----> 2\u001b[0m t\u001b[38;5;241m.\u001b[39mremove(\u001b[38;5;241m40\u001b[39m)\n",
      "\u001b[0;31mAttributeError\u001b[0m: 'tuple' object has no attribute 'remove'"
     ]
    }
   ],
   "source": [
    "t = (10, 20, 30, 40)\n",
    "t.remove(40)"
   ]
  },
  {
   "cell_type": "markdown",
   "id": "7bd44989-e02b-41bb-b471-ac46e7589396",
   "metadata": {},
   "source": [
    "튜플은 변경 불가능한 자료형이기 때문에 remove() 메서드를 사용할 수 없습니다. remove() 메서드는 리스트에서만 사용 가능하다."
   ]
  },
  {
   "cell_type": "markdown",
   "id": "82691a9d-3c25-46a9-b0e5-9cfe9d68df3c",
   "metadata": {},
   "source": [
    "3."
   ]
  },
  {
   "cell_type": "code",
   "execution_count": 44,
   "id": "7f9cdcd9-4b0c-484d-922d-338611d0edd2",
   "metadata": {},
   "outputs": [
    {
     "ename": "TypeError",
     "evalue": "'tuple' object does not support item assignment",
     "output_type": "error",
     "traceback": [
      "\u001b[0;31m---------------------------------------------------------------------------\u001b[0m",
      "\u001b[0;31mTypeError\u001b[0m                                 Traceback (most recent call last)",
      "Cell \u001b[0;32mIn[44], line 2\u001b[0m\n\u001b[1;32m      1\u001b[0m t \u001b[38;5;241m=\u001b[39m (\u001b[38;5;241m10\u001b[39m, \u001b[38;5;241m20\u001b[39m, \u001b[38;5;241m30\u001b[39m, \u001b[38;5;241m40\u001b[39m)\n\u001b[0;32m----> 2\u001b[0m t[\u001b[38;5;241m0\u001b[39m] \u001b[38;5;241m=\u001b[39m \u001b[38;5;241m0\u001b[39m\n",
      "\u001b[0;31mTypeError\u001b[0m: 'tuple' object does not support item assignment"
     ]
    }
   ],
   "source": [
    "t = (10, 20, 30, 40)\n",
    "t[0] = 0"
   ]
  },
  {
   "cell_type": "markdown",
   "id": "98cb2638-d0bb-407a-a77b-12ab64a0ac43",
   "metadata": {},
   "source": [
    "튜플은 변경 불가능한 자료형이다. 한 번 생성된 튜플의 요소를 변경할 수 없음을 의미한다. 따라서 t[0] = 0과 같은 할당 연산은 허용되지 않는다."
   ]
  },
  {
   "cell_type": "markdown",
   "id": "9fd43f2c-3b6b-4872-8097-25aa3ffd749d",
   "metadata": {},
   "source": [
    "## 7.7"
   ]
  },
  {
   "cell_type": "markdown",
   "id": "f8a0186f-067b-44fe-a22d-a440936f8acb",
   "metadata": {},
   "source": [
    "fruit_list = ['banana', 'orange', 'kiwi', 'apple', 'melon'] 라는 리스트가 존재한다. 이 리스트에 대하여 다음과 같은 작업을 수행하여라."
   ]
  },
  {
   "cell_type": "markdown",
   "id": "dd0d7c22-75ae-40e0-b084-3268c9f09d87",
   "metadata": {},
   "source": [
    "1. 이 fruit_list에서 가장 길이가 긴 문자열을 찾아서 출력하고 이 리스트에서 삭제하라. 이 때 동일한 길이의 문자열이 있을 경우 이들을 모두 삭제하라."
   ]
  },
  {
   "cell_type": "markdown",
   "id": "ca98c8b9-2195-4ac4-99cd-3e3ae66dca63",
   "metadata": {},
   "source": [
    "    가장 길이가 긴 문자열 : banana, orange    \n",
    "    fruit_list = ['kiwi', 'apple', 'melon']"
   ]
  },
  {
   "cell_type": "code",
   "execution_count": 63,
   "id": "44feba67-f312-47bd-8ce8-572d69c1e05e",
   "metadata": {},
   "outputs": [
    {
     "name": "stdout",
     "output_type": "stream",
     "text": [
      "가장 긴 문자열: ['banana', 'orange']\n",
      "삭제된 리스트:\n",
      "['kiwi', 'apple', 'melon']\n"
     ]
    }
   ],
   "source": [
    "fruit_list = ['banana', 'orange', 'kiwi', 'apple', 'melon']\n",
    "\n",
    "# 가장 긴 문자열의 길이 계산\n",
    "max_length = max(len(fruit) for fruit in fruit_list)\n",
    "\n",
    "# 가장 긴 문자열을 찾아서 출력하고 삭제\n",
    "longest_fruits = [fruit for fruit in fruit_list if len(fruit) == max_length]\n",
    "print(\"가장 긴 문자열:\", longest_fruits)\n",
    "\n",
    "fruit_list = [fruit for fruit in fruit_list if len(fruit) != max_length]\n",
    "\n",
    "print(\"삭제된 리스트:\")\n",
    "print(fruit_list)\n"
   ]
  },
  {
   "cell_type": "code",
   "execution_count": 54,
   "id": "919230a9-8b58-406d-940e-3f84f558efa3",
   "metadata": {},
   "outputs": [
    {
     "data": {
      "text/plain": [
       "['banana', 'orange']"
      ]
     },
     "execution_count": 54,
     "metadata": {},
     "output_type": "execute_result"
    }
   ],
   "source": [
    "longest_fruits"
   ]
  },
  {
   "cell_type": "markdown",
   "id": "c324d364-ee15-4d02-8053-81d4fb6ba4e8",
   "metadata": {},
   "source": [
    "2. 이 fruit_list와 for 제어문을 이용하여 다음과 같은 문장을 출력하여라."
   ]
  },
  {
   "cell_type": "code",
   "execution_count": 65,
   "id": "c5883341-498c-4275-9cfb-e0d72d266cc5",
   "metadata": {},
   "outputs": [
    {
     "name": "stdout",
     "output_type": "stream",
     "text": [
      "banana : 문자열의 길이 6\n",
      "orange : 문자열의 길이 6\n",
      "kiwi : 문자열의 길이 4\n",
      "apple : 문자열의 길이 5\n",
      "melon : 문자열의 길이 5\n"
     ]
    }
   ],
   "source": [
    "fruit_list = ['banana', 'orange', 'kiwi', 'apple', 'melon']\n",
    "\n",
    "for fruit in fruit_list:\n",
    "    print(fruit, \":\", \"문자열의 길이\", len(fruit))\n"
   ]
  },
  {
   "cell_type": "markdown",
   "id": "ba83f557-60b3-43e8-a55c-2ccad73f10c8",
   "metadata": {},
   "source": [
    "## 8.1"
   ]
  },
  {
   "cell_type": "markdown",
   "id": "bdb27a64-6221-4787-be1a-9b8f2dbd1a4c",
   "metadata": {},
   "source": [
    "철수네 과일가게는 \"사과\", \"배\", \"수박\", \"귤\", \"포도\"를 판매하는 중이다. 매일 매일 입고되는 가격에 따라서 가격이 결정되므로 아침나다 각 과일의 가격을 입력하는 기능을   \n",
    "만들어서 입력하면 이를 출력하여 다음과 같이 표현하고자 한다. 이와 같은 기능을 수행하는 파이썬 프로그램을 작성하여라. 이때 {'사과' : 3000}과 같이 입력된 값을 키-값의 쌍   \n",
    "으로 된 fruits_price 딕셔너리에 축가한 후 for 문과 keys() 메소드를 사용하여 출력하도록 하여라."
   ]
  },
  {
   "cell_type": "code",
   "execution_count": 2,
   "id": "6f469672-3c10-41b9-90d3-1b955ce729c2",
   "metadata": {},
   "outputs": [
    {
     "name": "stdin",
     "output_type": "stream",
     "text": [
      "과일의 이름을 입력하세요 (입력을 종료하려면 '그만'을 입력하세요):  사과\n",
      "사과의 가격을 입력하세요:  3000\n",
      "과일의 이름을 입력하세요 (입력을 종료하려면 '그만'을 입력하세요):  배\n",
      "배의 가격을 입력하세요:  4500\n",
      "과일의 이름을 입력하세요 (입력을 종료하려면 '그만'을 입력하세요):  수박\n",
      "수박의 가격을 입력하세요:  6000\n",
      "과일의 이름을 입력하세요 (입력을 종료하려면 '그만'을 입력하세요):  귤\n",
      "귤의 가격을 입력하세요:  2400\n",
      "과일의 이름을 입력하세요 (입력을 종료하려면 '그만'을 입력하세요):  포도\n",
      "포도의 가격을 입력하세요:  3400\n",
      "과일의 이름을 입력하세요 (입력을 종료하려면 '그만'을 입력하세요):  그만\n"
     ]
    },
    {
     "name": "stdout",
     "output_type": "stream",
     "text": [
      "---------- 오늘의 과일 가격 ----------\n",
      "사과: 3000원\n",
      "배: 4500원\n",
      "수박: 6000원\n",
      "귤: 2400원\n",
      "포도: 3400원\n"
     ]
    }
   ],
   "source": [
    "def input_fruit_price():\n",
    "    fruits_price = {}\n",
    "\n",
    "    while True:\n",
    "        fruit = input(\"과일의 이름을 입력하세요 (입력을 종료하려면 '그만'을 입력하세요): \")\n",
    "        if fruit == '그만':\n",
    "            break\n",
    "        price = int(input(f\"{fruit}의 가격을 입력하세요: \"))\n",
    "        fruits_price[fruit] = price\n",
    "\n",
    "    return fruits_price\n",
    "\n",
    "def print_fruit_price(fruits_price):\n",
    "    print(\"---------- 오늘의 과일 가격 ----------\")\n",
    "    for fruit in fruits_price.keys():  # keys() 메소드를 사용하여 딕셔너리의 키들을 순회\n",
    "        print(f\"{fruit}: {fruits_price[fruit]}원\")\n",
    "\n",
    "# 과일 가격 입력\n",
    "fruits_price = input_fruit_price()\n",
    "\n",
    "# 입력된 과일 가격 출력\n",
    "print_fruit_price(fruits_price)\n"
   ]
  },
  {
   "cell_type": "markdown",
   "id": "cdbc3990-214e-43b6-ac42-6a597451191d",
   "metadata": {},
   "source": [
    "## 8.3"
   ]
  },
  {
   "cell_type": "markdown",
   "id": "558ca1fe-87d3-4a67-abc9-ef630cd23def",
   "metadata": {},
   "source": [
    "학번, 이름, 전화번호의 3 쌍의 요소를 가지는 student_tup 라는 튜플이 다음과 같이 존재한다."
   ]
  },
  {
   "cell_type": "code",
   "execution_count": 81,
   "id": "c6feaa27-33ed-41a5-8825-bd9880c8edfa",
   "metadata": {},
   "outputs": [],
   "source": [
    "student_tup = (('241101', '박동윤', '010-1234-4500'), \n",
    "               ('241102', '김은지', '010-2230-6540'), \n",
    "               ('241103', '이지은', '010-3232-7788'))"
   ]
  },
  {
   "cell_type": "markdown",
   "id": "612fadcb-efc7-4830-ae79-1a1536611aef",
   "metadata": {},
   "source": [
    "1. 이 튜플을 수정하여 {학번 : [이름, 전화번호]}의 쌍으로 이루어진 딕셔너리를 만들어서 출력하여라."
   ]
  },
  {
   "cell_type": "code",
   "execution_count": 82,
   "id": "f78fc2e9-d84e-479d-89c8-e1056ad0d25d",
   "metadata": {},
   "outputs": [
    {
     "name": "stdout",
     "output_type": "stream",
     "text": [
      "학생의 정보 목록\n",
      "241101 : 박동윤 , 010-1234-4500\n",
      "241102 : 김은지 , 010-2230-6540\n",
      "241103 : 이지은 , 010-3232-7788\n"
     ]
    }
   ],
   "source": [
    "student_dict = {}\n",
    "\n",
    "for student in student_tup:\n",
    "    student_dict[student[0]] = [student[1], student[2]]\n",
    "\n",
    "print(\"학생의 정보 목록\")\n",
    "\n",
    "for key, value in student_dict.items():\n",
    "    print(key, \":\", value[0], \",\", value[1])"
   ]
  },
  {
   "cell_type": "markdown",
   "id": "b2bd093c-dab4-4b6b-b304-081b719ff34f",
   "metadata": {},
   "source": [
    "2. 이 정보를 이용하여 학생의 학번을 입력으로 받아서 이름과 전화번호를 출력하는 학사 정보 프로그램을 작성하여라."
   ]
  },
  {
   "cell_type": "code",
   "execution_count": 84,
   "id": "f3148a13-c0d5-42d2-a67d-40238b25148e",
   "metadata": {},
   "outputs": [
    {
     "name": "stdin",
     "output_type": "stream",
     "text": [
      "학번을 입력하세요:  241103\n"
     ]
    },
    {
     "name": "stdout",
     "output_type": "stream",
     "text": [
      "학번: 241103\n",
      "이름: 이지은\n",
      "전화번호: 010-3232-7788\n"
     ]
    }
   ],
   "source": [
    "def create_student_dict(student_tup):\n",
    "    student_dict = {}\n",
    "    for student in student_tup:\n",
    "        student_dict[student[0]] = [student[1], student[2]]\n",
    "    return student_dict\n",
    "\n",
    "def print_student_info(student_dict, student_id):\n",
    "    if student_id in student_dict:\n",
    "        print(f\"학번: {student_id}\")\n",
    "        print(f\"이름: {student_dict[student_id][0]}\")\n",
    "        print(f\"전화번호: {student_dict[student_id][1]}\")\n",
    "    else:\n",
    "        print(\"해당 학번의 학생이 데이터에 없습니다.\")\n",
    "\n",
    "student_dict = create_student_dict(student_tup)\n",
    "\n",
    "student_id = input(\"학번을 입력하세요: \")\n",
    "print_student_info(student_dict, student_id)\n"
   ]
  },
  {
   "cell_type": "markdown",
   "id": "e92157eb-f39f-4b46-ab45-fbe839c44627",
   "metadata": {},
   "source": [
    "3. student_tup의 마지막 항목을 직전학기의 학점을 추가하여라. 3 학생의 학점은 각각 4.3, 3.9, 4.25이다.   \n",
    "   이 정보를 바탕으로 다음과 같은 딕셔너리를 만들어서 학생 정보를 출력하여라."
   ]
  },
  {
   "cell_type": "code",
   "execution_count": 87,
   "id": "129b1133-618c-417b-8d33-8b25e6fd1a2d",
   "metadata": {},
   "outputs": [],
   "source": [
    "student_tup = (('241101', '박동윤', '010-1234-4500', 4.3), \n",
    "               ('241102', '김은지', '010-2230-6540', 3.9), \n",
    "               ('241103', '이지은', '010-3232-7788', 4.25))"
   ]
  },
  {
   "cell_type": "code",
   "execution_count": 95,
   "id": "2ac3a0ea-6f92-4950-97f4-6914e7b619b9",
   "metadata": {},
   "outputs": [
    {
     "name": "stdout",
     "output_type": "stream",
     "text": [
      "학생의 정보 목록\n",
      "241101 : 박동윤 , 010-1234-4500 , 4.3\n",
      "241102 : 김은지 , 010-2230-6540 , 3.9\n",
      "241103 : 이지은 , 010-3232-7788 , 4.25\n"
     ]
    }
   ],
   "source": [
    "student_dict = {}\n",
    "\n",
    "for student in student_tup:\n",
    "    student_dict[student[0]] = [student[1], student[2], student[3]]\n",
    "\n",
    "print(\"학생의 정보 목록\")\n",
    "\n",
    "for key, value in student_dict.items():\n",
    "    print(key, \":\", value[0], \",\", value[1], \",\", value[2])"
   ]
  },
  {
   "cell_type": "markdown",
   "id": "c28281f1-c08e-4e98-ab9c-ffb73aad5bd6",
   "metadata": {},
   "source": [
    "3. for 반복문과 인덱싱을 통해서 3 학생의 학점의 편균값을 다음과 같이 출력하여라.   전체 학생의 학점 평균 : 4.15"
   ]
  },
  {
   "cell_type": "code",
   "execution_count": 97,
   "id": "0a5e8eae-cf07-4501-8165-bbb6232a6783",
   "metadata": {},
   "outputs": [
    {
     "name": "stdout",
     "output_type": "stream",
     "text": [
      "전체 학생의 학점 평균: 4.15\n"
     ]
    }
   ],
   "source": [
    "total_grade = 0\n",
    "for student in student_tup:\n",
    "    total_grade += student[3]\n",
    "\n",
    "average_grade = total_grade / len(student_tup)\n",
    "print(f\"전체 학생의 학점 평균: {average_grade:.2f}\")"
   ]
  },
  {
   "cell_type": "markdown",
   "id": "088faf85-6249-4161-b6fe-7af4cd92f379",
   "metadata": {},
   "source": [
    "## 8.4"
   ]
  },
  {
   "cell_type": "markdown",
   "id": "7da91253-c979-496a-8c07-b84359448aac",
   "metadata": {},
   "source": [
    "다음과 같이 리스트 데이터가 있다. 이 데이터에서 중복되는 원소는 10, 20, 30이며 각각 2회, 3회, 4회 나타난다."
   ]
  },
  {
   "cell_type": "code",
   "execution_count": 99,
   "id": "0c6f77b0-71bf-455a-b200-4e4a8ed0d7f1",
   "metadata": {},
   "outputs": [],
   "source": [
    "lst = [10, 30, 40, 50, 30, 30, 20, 20, 20, 10, 30]"
   ]
  },
  {
   "cell_type": "markdown",
   "id": "4eeca616-905b-4c4f-bf05-a030aa425cda",
   "metadata": {},
   "source": [
    "1. 이와 같은 자료에 대하여 다음과 같이 중복이 없는 원소를 출력하는 프로그램을 작성하여라."
   ]
  },
  {
   "cell_type": "code",
   "execution_count": 100,
   "id": "36767f76-90cd-44d2-a1b9-f7a8a636357f",
   "metadata": {},
   "outputs": [
    {
     "name": "stdout",
     "output_type": "stream",
     "text": [
      "중복되지 않는 원소: [40, 50]\n"
     ]
    }
   ],
   "source": [
    "unique_elements = []\n",
    "for element in lst:\n",
    "    if lst.count(element) == 1:\n",
    "        unique_elements.append(element)\n",
    "print(\"중복되지 않는 원소:\", unique_elements)"
   ]
  },
  {
   "cell_type": "markdown",
   "id": "d773bab8-9e40-4df9-b307-1ccdd06a8ef1",
   "metadata": {},
   "source": [
    "2. 중복되는 원소를 한 번씩만 출력하도록 프로그램을 작성하여라."
   ]
  },
  {
   "cell_type": "code",
   "execution_count": 103,
   "id": "60c431be-180f-4fca-8a6f-e62229101a2a",
   "metadata": {},
   "outputs": [
    {
     "name": "stdout",
     "output_type": "stream",
     "text": [
      "중복되는 원소를 한 번씩만 출력: [10, 20, 30, 40, 50]\n"
     ]
    }
   ],
   "source": [
    "unique_elements_once = sorted(set(lst))\n",
    "print(\"중복되는 원소를 한 번씩만 출력:\", unique_elements_once)"
   ]
  },
  {
   "cell_type": "markdown",
   "id": "e7db59d0-6a7c-46c0-982a-13390ed19f1a",
   "metadata": {},
   "source": [
    "3. 다음과 같이 중복출현 빈도를 출력하여라."
   ]
  },
  {
   "cell_type": "code",
   "execution_count": 104,
   "id": "1ffb7092-dcbf-485c-a800-7f253e977bcb",
   "metadata": {},
   "outputs": [
    {
     "name": "stdout",
     "output_type": "stream",
     "text": [
      "중복 출현 빈도:\n",
      "10: 2회\n",
      "20: 3회\n",
      "30: 4회\n",
      "40: 1회\n",
      "50: 1회\n"
     ]
    }
   ],
   "source": [
    "frequency_dict = {}\n",
    "for element in sorted(lst):\n",
    "    if element in frequency_dict:\n",
    "        frequency_dict[element] += 1\n",
    "    else:\n",
    "        frequency_dict[element] = 1\n",
    "\n",
    "print(\"중복 출현 빈도:\")\n",
    "for element, frequency in frequency_dict.items():\n",
    "    print(f\"{element}: {frequency}회\")\n"
   ]
  },
  {
   "cell_type": "code",
   "execution_count": null,
   "id": "e2684213-4eb8-422a-8f6b-9e08c2936542",
   "metadata": {},
   "outputs": [],
   "source": []
  }
 ],
 "metadata": {
  "kernelspec": {
   "display_name": "Python 3 (ipykernel)",
   "language": "python",
   "name": "python3"
  },
  "language_info": {
   "codemirror_mode": {
    "name": "ipython",
    "version": 3
   },
   "file_extension": ".py",
   "mimetype": "text/x-python",
   "name": "python",
   "nbconvert_exporter": "python",
   "pygments_lexer": "ipython3",
   "version": "3.11.7"
  }
 },
 "nbformat": 4,
 "nbformat_minor": 5
}
