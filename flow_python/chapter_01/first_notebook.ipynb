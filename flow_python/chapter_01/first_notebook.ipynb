{
 "cells": [
  {
   "cell_type": "code",
   "execution_count": 1,
   "id": "9b87bf13-0687-4d0f-8cf2-f99f47a36a77",
   "metadata": {},
   "outputs": [
    {
     "data": {
      "text/plain": [
       "8"
      ]
     },
     "execution_count": 1,
     "metadata": {},
     "output_type": "execute_result"
    }
   ],
   "source": [
    "3 + 5"
   ]
  },
  {
   "cell_type": "code",
   "execution_count": 2,
   "id": "cc95c95f-7344-4b09-8c7a-a0a688baecba",
   "metadata": {},
   "outputs": [
    {
     "data": {
      "text/plain": [
       "10"
      ]
     },
     "execution_count": 2,
     "metadata": {},
     "output_type": "execute_result"
    }
   ],
   "source": [
    "5 + 5"
   ]
  },
  {
   "cell_type": "code",
   "execution_count": 3,
   "id": "f2afa176-8d8b-4de4-85e4-1054a7c5e2a1",
   "metadata": {},
   "outputs": [
    {
     "data": {
      "text/plain": [
       "15"
      ]
     },
     "execution_count": 3,
     "metadata": {},
     "output_type": "execute_result"
    }
   ],
   "source": [
    "7+8"
   ]
  },
  {
   "cell_type": "code",
   "execution_count": 4,
   "id": "3c6b093c-7b71-4e83-a4fe-384dd241ab7f",
   "metadata": {},
   "outputs": [
    {
     "data": {
      "text/plain": [
       "0.6"
      ]
     },
     "execution_count": 4,
     "metadata": {},
     "output_type": "execute_result"
    }
   ],
   "source": [
    "3 / 5"
   ]
  },
  {
   "cell_type": "code",
   "execution_count": 5,
   "id": "a6c18455-5b8b-40ad-b178-4463804a9389",
   "metadata": {},
   "outputs": [
    {
     "name": "stdout",
     "output_type": "stream",
     "text": [
      "314.0\n"
     ]
    }
   ],
   "source": [
    "r = 10\n",
    "area = 3.14 * r * r\n",
    "print(area)"
   ]
  },
  {
   "cell_type": "code",
   "execution_count": 6,
   "id": "1a835f2f-b34b-47ee-818b-6d15a6fad349",
   "metadata": {},
   "outputs": [],
   "source": [
    "w = 10\n",
    "\n"
   ]
  },
  {
   "cell_type": "code",
   "execution_count": 7,
   "id": "ef0271f3-8e29-4634-a4b5-2e585dc11892",
   "metadata": {},
   "outputs": [],
   "source": [
    "h = 20 "
   ]
  },
  {
   "cell_type": "code",
   "execution_count": 8,
   "id": "269f2f6d-ee4a-485a-b308-eaa99756dbc5",
   "metadata": {},
   "outputs": [
    {
     "data": {
      "text/plain": [
       "200"
      ]
     },
     "execution_count": 8,
     "metadata": {},
     "output_type": "execute_result"
    }
   ],
   "source": [
    "w * h\n"
   ]
  },
  {
   "cell_type": "code",
   "execution_count": 9,
   "id": "7c4e69ca-1bdf-44b3-ad69-8de467341758",
   "metadata": {},
   "outputs": [
    {
     "name": "stdout",
     "output_type": "stream",
     "text": [
      "200\n"
     ]
    }
   ],
   "source": [
    "print (w*h)"
   ]
  },
  {
   "cell_type": "markdown",
   "id": "d106c5ec-b9e8-40f3-abf7-f80bd426291a",
   "metadata": {},
   "source": [
    "\b이것은 나의 첫번째 주피터 노트북이다.\n",
    "파이썬을 배우는 것은 재미있다.\n",
    "정말???"
   ]
  },
  {
   "cell_type": "markdown",
   "id": "c57fd21a-d08f-4360-8e56-4dd4a7b419e4",
   "metadata": {},
   "source": [
    "이것은 나의 첫번째 노트북이다.   \n",
    "열심히 해야지!!!   \n",
    "화이팅"
   ]
  },
  {
   "cell_type": "markdown",
   "id": "3fe711b4-bbe3-4018-aceb-a4d2d95711ec",
   "metadata": {},
   "source": [
    "# 첫수업\n",
    "코딩하기   \n",
    "-첫번째\n",
    "-두번째\n",
    "마크다운 배우기   \n",
    "1. 쓰기\n",
    "2. 실행하기   \n",
    "쉽게 스는 방법      "
   ]
  },
  {
   "cell_type": "code",
   "execution_count": null,
   "id": "817275ae-b48c-40af-b406-1a19ae9c0e8f",
   "metadata": {},
   "outputs": [],
   "source": []
  }
 ],
 "metadata": {
  "kernelspec": {
   "display_name": "Python 3 (ipykernel)",
   "language": "python",
   "name": "python3"
  },
  "language_info": {
   "codemirror_mode": {
    "name": "ipython",
    "version": 3
   },
   "file_extension": ".py",
   "mimetype": "text/x-python",
   "name": "python",
   "nbconvert_exporter": "python",
   "pygments_lexer": "ipython3",
   "version": "3.11.7"
  }
 },
 "nbformat": 4,
 "nbformat_minor": 5
}
