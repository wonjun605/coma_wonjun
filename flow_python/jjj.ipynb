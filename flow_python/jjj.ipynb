{
 "cells": [
  {
   "cell_type": "code",
   "execution_count": 1,
   "id": "adabe115-d07f-42a9-a5e6-feb826df1f86",
   "metadata": {},
   "outputs": [],
   "source": [
    "a = 8"
   ]
  },
  {
   "cell_type": "code",
   "execution_count": 2,
   "id": "029a4af0-4118-4122-943f-64ad84335a50",
   "metadata": {},
   "outputs": [],
   "source": [
    "a+=3"
   ]
  },
  {
   "cell_type": "code",
   "execution_count": 3,
   "id": "208a0443-8fca-47d5-9667-77dd57497043",
   "metadata": {},
   "outputs": [
    {
     "data": {
      "text/plain": [
       "11"
      ]
     },
     "execution_count": 3,
     "metadata": {},
     "output_type": "execute_result"
    }
   ],
   "source": [
    "a"
   ]
  },
  {
   "cell_type": "code",
   "execution_count": 4,
   "id": "01a48ca1-e6fa-429b-b6d3-67a84ccc19c7",
   "metadata": {},
   "outputs": [],
   "source": [
    "a-=5"
   ]
  },
  {
   "cell_type": "code",
   "execution_count": 5,
   "id": "ddc27af9-2706-4aa1-a2ec-d103f17f9f0c",
   "metadata": {},
   "outputs": [
    {
     "data": {
      "text/plain": [
       "6"
      ]
     },
     "execution_count": 5,
     "metadata": {},
     "output_type": "execute_result"
    }
   ],
   "source": [
    "a"
   ]
  },
  {
   "cell_type": "code",
   "execution_count": 6,
   "id": "86a16c34-50f8-4de9-8d40-85aa3b13541c",
   "metadata": {},
   "outputs": [],
   "source": [
    "a =10"
   ]
  },
  {
   "cell_type": "code",
   "execution_count": 7,
   "id": "5494da43-ba20-4d00-a486-6f3bbbd4af90",
   "metadata": {},
   "outputs": [],
   "source": [
    "a //=3"
   ]
  },
  {
   "cell_type": "code",
   "execution_count": 8,
   "id": "5cf417b3-14f9-4d07-9708-dc35a79b77d3",
   "metadata": {},
   "outputs": [
    {
     "data": {
      "text/plain": [
       "3"
      ]
     },
     "execution_count": 8,
     "metadata": {},
     "output_type": "execute_result"
    }
   ],
   "source": [
    "a"
   ]
  },
  {
   "cell_type": "code",
   "execution_count": 13,
   "id": "f7f6c46e-1877-437b-aeae-bce88a74be4c",
   "metadata": {},
   "outputs": [
    {
     "name": "stdout",
     "output_type": "stream",
     "text": [
      "D\n"
     ]
    }
   ],
   "source": [
    "score = 65\n",
    "\n",
    "if score >= 90:\n",
    "    print(\"A\")\n",
    "elif score >= 80:\n",
    "    print(\"B\")\n",
    "elif score >= 70:\n",
    "    print(\"C\")\n",
    "elif score >= 60:\n",
    "    print(\"D\")\n",
    "else:\n",
    "    print(\"F\")"
   ]
  },
  {
   "cell_type": "code",
   "execution_count": 15,
   "id": "2a90ab3b-d163-4cf6-bff7-ef2ee2978f11",
   "metadata": {},
   "outputs": [
    {
     "name": "stdin",
     "output_type": "stream",
     "text": [
      "물건을 입력하세요(고양이, 강아지, 마라탕) ㅇ\n"
     ]
    }
   ],
   "source": [
    "item = input(\"물건을 입력하세요(고양이, 강아지, 마라탕)\")\n"
   ]
  },
  {
   "cell_type": "code",
   "execution_count": 16,
   "id": "85e577ae-2008-441f-b49c-a13bb41ced12",
   "metadata": {},
   "outputs": [
    {
     "name": "stdout",
     "output_type": "stream",
     "text": [
      "딕셔너리에 추가할 데이터를 입력하세요. 입력을 멈추려면 'q'를 입력하세요.\n"
     ]
    },
    {
     "name": "stdin",
     "output_type": "stream",
     "text": [
      "키:  물건\n",
      "값:  마우스\n",
      "키:  동물\n",
      "값:  강아지\n",
      "키:  음식\n",
      "값:  탕후루\n",
      "키:  q\n"
     ]
    },
    {
     "name": "stdout",
     "output_type": "stream",
     "text": [
      "생성된 딕셔너리: {'물건': '마우스', '동물': '강아지', '음식': '탕후루'}\n"
     ]
    }
   ],
   "source": [
    "def create_dictionary():\n",
    "    print(\"딕셔너리에 추가할 데이터를 입력하세요. 입력을 멈추려면 'q'를 입력하세요.\")\n",
    "    data_dict = {}\n",
    "\n",
    "    while True:\n",
    "        key = input(\"키: \")\n",
    "        if key.lower() == 'q':\n",
    "            break\n",
    "        value = input(\"값: \")\n",
    "        if value.lower() == 'q':\n",
    "            break\n",
    "        data_dict[key] = value\n",
    "\n",
    "    return data_dict\n",
    "\n",
    "# 딕셔너리 생성 함수 호출\n",
    "result_dict = create_dictionary()\n",
    "print(\"생성된 딕셔너리:\", result_dict)\n"
   ]
  },
  {
   "cell_type": "code",
   "execution_count": 19,
   "id": "98bc354c-7836-409a-85e9-52f698bfb45d",
   "metadata": {},
   "outputs": [
    {
     "name": "stdout",
     "output_type": "stream",
     "text": [
      "[1, 2, 3, 4, 5]\n",
      "[1, 2, 3, 4, 5]\n",
      "[1, 2, 3, 4, 5]\n",
      "[1, 2, 3, 4, 5]\n",
      "[1, 2, 3, 4, 5]\n",
      "[1, 2, 3, 4, 5]\n",
      "[1, 2, 3, 4, 5]\n",
      "[1, 2, 3, 4, 5]\n",
      "[1, 2, 3, 4, 5]\n",
      "[1, 2, 3, 4, 5]\n",
      "[1, 2, 3, 4, 5]\n"
     ]
    }
   ],
   "source": [
    "\n",
    "for i in range(1,12):\n",
    "    print(a)"
   ]
  },
  {
   "cell_type": "code",
   "execution_count": null,
   "id": "f5518123-380e-4349-bcca-1bc3188808a5",
   "metadata": {},
   "outputs": [],
   "source": []
  }
 ],
 "metadata": {
  "kernelspec": {
   "display_name": "Python 3 (ipykernel)",
   "language": "python",
   "name": "python3"
  },
  "language_info": {
   "codemirror_mode": {
    "name": "ipython",
    "version": 3
   },
   "file_extension": ".py",
   "mimetype": "text/x-python",
   "name": "python",
   "nbconvert_exporter": "python",
   "pygments_lexer": "ipython3",
   "version": "3.11.7"
  }
 },
 "nbformat": 4,
 "nbformat_minor": 5
}
