{
 "cells": [
  {
   "cell_type": "code",
   "execution_count": 8,
   "id": "2cf8d862-e112-497c-92a4-fcd92b72078d",
   "metadata": {},
   "outputs": [],
   "source": [
    "bts = ['V', 'Jungkook', 'Jimin']"
   ]
  },
  {
   "cell_type": "code",
   "execution_count": 7,
   "id": "13d29371-f0c1-4971-96fc-3f68918aba29",
   "metadata": {},
   "outputs": [
    {
     "data": {
      "text/plain": [
       "[]"
      ]
     },
     "execution_count": 7,
     "metadata": {},
     "output_type": "execute_result"
    }
   ],
   "source": [
    "bts"
   ]
  },
  {
   "cell_type": "code",
   "execution_count": 10,
   "id": "22501090-e401-4bb8-94c7-4b15858dbdff",
   "metadata": {},
   "outputs": [],
   "source": [
    "bts = list()"
   ]
  },
  {
   "cell_type": "code",
   "execution_count": 11,
   "id": "f51b5835-e1c6-48d3-98f1-28fed9417404",
   "metadata": {},
   "outputs": [
    {
     "data": {
      "text/plain": [
       "[]"
      ]
     },
     "execution_count": 11,
     "metadata": {},
     "output_type": "execute_result"
    }
   ],
   "source": [
    "bts"
   ]
  },
  {
   "cell_type": "code",
   "execution_count": 13,
   "id": "96d5ea19-c803-4484-87bf-f1a039767df0",
   "metadata": {},
   "outputs": [
    {
     "data": {
      "text/plain": [
       "['V']"
      ]
     },
     "execution_count": 13,
     "metadata": {},
     "output_type": "execute_result"
    }
   ],
   "source": [
    "bts = []\n",
    "bts.append('V')\n",
    "bts"
   ]
  },
  {
   "cell_type": "code",
   "execution_count": 15,
   "id": "43f51780-b884-4a80-bdb3-a62b44a178c9",
   "metadata": {},
   "outputs": [
    {
     "data": {
      "text/plain": [
       "['V', 'Jin', 'Suga', 'Jungkook', 'Rm']"
      ]
     },
     "execution_count": 15,
     "metadata": {},
     "output_type": "execute_result"
    }
   ],
   "source": [
    "bts = ['V', 'Jin', 'Suga', 'Jungkook']\n",
    "bts = bts + ['Rm']\n",
    "bts"
   ]
  },
  {
   "cell_type": "code",
   "execution_count": 16,
   "id": "47fbc304-a875-4e2d-b2dd-f092b2e435ac",
   "metadata": {},
   "outputs": [
    {
     "data": {
      "text/plain": [
       "[0, 2, 4]"
      ]
     },
     "execution_count": 16,
     "metadata": {},
     "output_type": "execute_result"
    }
   ],
   "source": [
    "list(range(0,5,2))"
   ]
  },
  {
   "cell_type": "code",
   "execution_count": 18,
   "id": "313b001a-3a59-4709-92b7-936e421da0a6",
   "metadata": {},
   "outputs": [],
   "source": [
    "black_pink = ['Jennie', 'Rose', 'Lisa', 'Jisoo']"
   ]
  },
  {
   "cell_type": "code",
   "execution_count": 19,
   "id": "191f5465-3c4c-4e19-8ce9-a274e4c5f303",
   "metadata": {},
   "outputs": [
    {
     "data": {
      "text/plain": [
       "True"
      ]
     },
     "execution_count": 19,
     "metadata": {},
     "output_type": "execute_result"
    }
   ],
   "source": [
    "'Jennie' in black_pink "
   ]
  },
  {
   "cell_type": "code",
   "execution_count": 20,
   "id": "3d91cb1c-faf3-4407-8a09-0674c89e9dc6",
   "metadata": {},
   "outputs": [
    {
     "data": {
      "text/plain": [
       "True"
      ]
     },
     "execution_count": 20,
     "metadata": {},
     "output_type": "execute_result"
    }
   ],
   "source": [
    "'Psy' not in black_pink"
   ]
  },
  {
   "cell_type": "code",
   "execution_count": 24,
   "id": "0716f468-6e64-4dc5-976a-f04623a358b0",
   "metadata": {},
   "outputs": [],
   "source": [
    "student_list =[['Kim', 178.9], ['Park', 173.5], ['Lee', 176.1]]"
   ]
  },
  {
   "cell_type": "code",
   "execution_count": 25,
   "id": "2fbfae7d-3090-4fbb-b2f9-cc1375a88451",
   "metadata": {},
   "outputs": [
    {
     "data": {
      "text/plain": [
       "[['Kim', 178.9], ['Park', 173.5], ['Lee', 176.1]]"
      ]
     },
     "execution_count": 25,
     "metadata": {},
     "output_type": "execute_result"
    }
   ],
   "source": [
    "student_list"
   ]
  },
  {
   "cell_type": "code",
   "execution_count": 26,
   "id": "11f88e34-28c3-4d46-915a-d99fc7d9bd24",
   "metadata": {},
   "outputs": [],
   "source": [
    "n_list = [200, 700, 500, 300, 400]"
   ]
  },
  {
   "cell_type": "code",
   "execution_count": 27,
   "id": "216b20e4-47aa-4b87-90fd-a4cb11ac5588",
   "metadata": {},
   "outputs": [
    {
     "data": {
      "text/plain": [
       "5"
      ]
     },
     "execution_count": 27,
     "metadata": {},
     "output_type": "execute_result"
    }
   ],
   "source": [
    "len(n_list)"
   ]
  },
  {
   "cell_type": "code",
   "execution_count": 28,
   "id": "c7afe753-0e2b-4b2a-a779-4f6e82d81b6f",
   "metadata": {},
   "outputs": [
    {
     "data": {
      "text/plain": [
       "700"
      ]
     },
     "execution_count": 28,
     "metadata": {},
     "output_type": "execute_result"
    }
   ],
   "source": [
    "max(n_list)"
   ]
  },
  {
   "cell_type": "code",
   "execution_count": 29,
   "id": "994ee8a4-b2e7-4259-8c3a-0e1544d87710",
   "metadata": {},
   "outputs": [
    {
     "data": {
      "text/plain": [
       "200"
      ]
     },
     "execution_count": 29,
     "metadata": {},
     "output_type": "execute_result"
    }
   ],
   "source": [
    "min(n_list)"
   ]
  },
  {
   "cell_type": "code",
   "execution_count": 30,
   "id": "6b51e0c8-0b21-4e4a-91f9-45978baaa164",
   "metadata": {},
   "outputs": [
    {
     "data": {
      "text/plain": [
       "2100"
      ]
     },
     "execution_count": 30,
     "metadata": {},
     "output_type": "execute_result"
    }
   ],
   "source": [
    "sum(n_list)"
   ]
  },
  {
   "cell_type": "code",
   "execution_count": 32,
   "id": "e7cae7a2-d6c6-487d-ba6d-1e12467b14d9",
   "metadata": {},
   "outputs": [
    {
     "data": {
      "text/plain": [
       "420.0"
      ]
     },
     "execution_count": 32,
     "metadata": {},
     "output_type": "execute_result"
    }
   ],
   "source": [
    "sum(n_list) / len(n_list)"
   ]
  },
  {
   "cell_type": "markdown",
   "id": "3db41da1-754a-4dd4-b08f-78044d4effb0",
   "metadata": {},
   "source": [
    "## ---------------"
   ]
  },
  {
   "cell_type": "code",
   "execution_count": 38,
   "id": "7596cb3a-3df2-4e02-87d2-938e93298c32",
   "metadata": {},
   "outputs": [
    {
     "name": "stdin",
     "output_type": "stream",
     "text": [
      "좋아하는 과일의 이름을 입력하시오. 사과\n",
      "좋아하는 과일의 이름을 입력하시오. 배\n",
      "좋아하는 과일의 이름을 입력하시오. 참외\n",
      "과일의 이름을 입력하시오. 수박\n"
     ]
    },
    {
     "name": "stdout",
     "output_type": "stream",
     "text": [
      "이 과일은 당신이 종아하는 과일이 아닙니다.\n"
     ]
    }
   ],
   "source": [
    "fruits = []\n",
    "\n",
    "for n in range(3):\n",
    "    name = input(\"좋아하는 과일의 이름을 입력하시오.\")\n",
    "    fruits.append(name)\n",
    "\n",
    "name = input(\"과일의 이름을 입력하시오.\")\n",
    "if name in fruits:\n",
    "    print('이 과일은 당신이 좋아하는 과일입니다.')\n",
    "else:\n",
    "    print('이 과일은 당신이 종아하는 과일이 아닙니다.')\n"
   ]
  },
  {
   "cell_type": "code",
   "execution_count": 41,
   "id": "da64e871-e0a4-4e36-9a2e-6bc1570286ef",
   "metadata": {},
   "outputs": [
    {
     "name": "stdout",
     "output_type": "stream",
     "text": [
      "2에서 100사이의 소수들:\n",
      "[2, 3, 5, 7, 11, 13, 17, 19, 23, 29, 31, 37, 41, 43, 47, 53, 59, 61, 67, 71, 73, 79, 83, 89, 97]\n"
     ]
    }
   ],
   "source": [
    "primes = []\n",
    "\n",
    "for n in range(2, 101):\n",
    "    is_prime = True  # 변수 이름을 is_prime으로 통일\n",
    "    for num in range(2, n):\n",
    "        if n % num == 0:\n",
    "            is_prime = False  # 소수가 아니면 False로 설정\n",
    "            break  # 더 이상 검사할 필요가 없으므로 루프를 탈출\n",
    "    if is_prime:  # 소수일 때만 리스트에 추가\n",
    "        primes.append(n)\n",
    "\n",
    "print('2에서 100사이의 소수들:')\n",
    "print(primes)\n"
   ]
  },
  {
   "cell_type": "markdown",
   "id": "8ab67ad1-78c1-431d-871f-7bf4b41bcf1c",
   "metadata": {},
   "source": [
    "## ---------------"
   ]
  },
  {
   "cell_type": "code",
   "execution_count": 43,
   "id": "ffa1b235-6b91-4332-a74c-3eee7e0959ea",
   "metadata": {},
   "outputs": [],
   "source": [
    "letters = ['A', 'B', 'C', 'D', 'E', 'F']"
   ]
  },
  {
   "cell_type": "code",
   "execution_count": 44,
   "id": "577b23ff-fe71-4dce-9500-66c08f05da55",
   "metadata": {},
   "outputs": [
    {
     "data": {
      "text/plain": [
       "'A'"
      ]
     },
     "execution_count": 44,
     "metadata": {},
     "output_type": "execute_result"
    }
   ],
   "source": [
    "letters[0]"
   ]
  },
  {
   "cell_type": "code",
   "execution_count": 45,
   "id": "fe520e96-3b5b-44c8-8919-d9e9de151081",
   "metadata": {},
   "outputs": [
    {
     "data": {
      "text/plain": [
       "'F'"
      ]
     },
     "execution_count": 45,
     "metadata": {},
     "output_type": "execute_result"
    }
   ],
   "source": [
    "letters[-1]"
   ]
  },
  {
   "cell_type": "code",
   "execution_count": 46,
   "id": "1ded60ab-ccc2-4ded-813a-d98ed85318f5",
   "metadata": {},
   "outputs": [
    {
     "data": {
      "text/plain": [
       "['V', 'Jin', 'Suga', 'Jungkook', 'Rm']"
      ]
     },
     "execution_count": 46,
     "metadata": {},
     "output_type": "execute_result"
    }
   ],
   "source": [
    "bts"
   ]
  },
  {
   "cell_type": "code",
   "execution_count": 47,
   "id": "436eed70-2620-4075-a537-eadbf7abccaf",
   "metadata": {},
   "outputs": [],
   "source": [
    "bts.append('Jimmin')"
   ]
  },
  {
   "cell_type": "code",
   "execution_count": 48,
   "id": "9a64ff03-c7c9-494a-baac-2b00db6bfdce",
   "metadata": {},
   "outputs": [
    {
     "data": {
      "text/plain": [
       "['V', 'Jin', 'Suga', 'Jungkook', 'Rm', 'Jimmin']"
      ]
     },
     "execution_count": 48,
     "metadata": {},
     "output_type": "execute_result"
    }
   ],
   "source": [
    "bts"
   ]
  },
  {
   "cell_type": "code",
   "execution_count": 49,
   "id": "851df123-7782-469d-90fc-80bd947a40fb",
   "metadata": {},
   "outputs": [],
   "source": [
    "bts.append('J-Hop')"
   ]
  },
  {
   "cell_type": "code",
   "execution_count": 50,
   "id": "16eaaccd-8b3e-48bc-8a7f-7ef3b2d7431c",
   "metadata": {},
   "outputs": [
    {
     "data": {
      "text/plain": [
       "['V', 'Jin', 'Suga', 'Jungkook', 'Rm', 'Jimmin', 'J-Hop']"
      ]
     },
     "execution_count": 50,
     "metadata": {},
     "output_type": "execute_result"
    }
   ],
   "source": [
    "bts"
   ]
  },
  {
   "cell_type": "code",
   "execution_count": 51,
   "id": "0a8003e2-ec8e-485e-b763-d8735932592f",
   "metadata": {},
   "outputs": [
    {
     "data": {
      "text/plain": [
       "7"
      ]
     },
     "execution_count": 51,
     "metadata": {},
     "output_type": "execute_result"
    }
   ],
   "source": [
    "len(bts)"
   ]
  },
  {
   "cell_type": "code",
   "execution_count": 52,
   "id": "73c194b5-5a8d-4d23-8bf2-53def4d21c1c",
   "metadata": {},
   "outputs": [
    {
     "data": {
      "text/plain": [
       "'J-Hop'"
      ]
     },
     "execution_count": 52,
     "metadata": {},
     "output_type": "execute_result"
    }
   ],
   "source": [
    "bts[len(bts)-1]"
   ]
  },
  {
   "cell_type": "code",
   "execution_count": 53,
   "id": "e42716d9-c1ef-44b6-a319-3fb9033dc897",
   "metadata": {},
   "outputs": [
    {
     "data": {
      "text/plain": [
       "['V', 'Jin', 'Suga', 'Jungkook', 'Rm', 'Jimmin', 'J-Hop']"
      ]
     },
     "execution_count": 53,
     "metadata": {},
     "output_type": "execute_result"
    }
   ],
   "source": [
    "bts"
   ]
  },
  {
   "cell_type": "code",
   "execution_count": 54,
   "id": "7409c256-ba5c-44de-aa46-5794113e4e97",
   "metadata": {},
   "outputs": [
    {
     "data": {
      "text/plain": [
       "['A', 'B', 'C', 'D', 'E', 'F']"
      ]
     },
     "execution_count": 54,
     "metadata": {},
     "output_type": "execute_result"
    }
   ],
   "source": [
    "letters"
   ]
  },
  {
   "cell_type": "code",
   "execution_count": 56,
   "id": "d74e5d4e-d6bb-45b8-918b-7ec671661e9c",
   "metadata": {},
   "outputs": [
    {
     "data": {
      "text/plain": [
       "['C', 'D', 'E']"
      ]
     },
     "execution_count": 56,
     "metadata": {},
     "output_type": "execute_result"
    }
   ],
   "source": [
    "letters[2:5]"
   ]
  },
  {
   "cell_type": "code",
   "execution_count": 57,
   "id": "663789ff-338d-4929-98c7-955fbe116c50",
   "metadata": {},
   "outputs": [
    {
     "data": {
      "text/plain": [
       "['A', 'B', 'C']"
      ]
     },
     "execution_count": 57,
     "metadata": {},
     "output_type": "execute_result"
    }
   ],
   "source": [
    "letters[:3]"
   ]
  },
  {
   "cell_type": "code",
   "execution_count": 58,
   "id": "fd1b0093-e3c6-4734-90cb-f958f1ec0b3d",
   "metadata": {},
   "outputs": [
    {
     "data": {
      "text/plain": [
       "['A', 'C', 'E']"
      ]
     },
     "execution_count": 58,
     "metadata": {},
     "output_type": "execute_result"
    }
   ],
   "source": [
    "letters[::2]"
   ]
  },
  {
   "cell_type": "code",
   "execution_count": 59,
   "id": "76852bbc-031f-427e-b907-bebb160e9c52",
   "metadata": {},
   "outputs": [
    {
     "data": {
      "text/plain": [
       "['A', 'D']"
      ]
     },
     "execution_count": 59,
     "metadata": {},
     "output_type": "execute_result"
    }
   ],
   "source": [
    "letters[::3]"
   ]
  },
  {
   "cell_type": "code",
   "execution_count": 61,
   "id": "48d08bf0-6082-4399-bc35-7683bc011d63",
   "metadata": {},
   "outputs": [
    {
     "data": {
      "text/plain": [
       "['F', 'E', 'D', 'C', 'B', 'A']"
      ]
     },
     "execution_count": 61,
     "metadata": {},
     "output_type": "execute_result"
    }
   ],
   "source": [
    "letters[::-1]"
   ]
  },
  {
   "cell_type": "code",
   "execution_count": 62,
   "id": "b87be5a9-241c-4f77-b7ec-cb8ab3631e06",
   "metadata": {},
   "outputs": [],
   "source": [
    "numbers = [4,5,6,7,8,9]"
   ]
  },
  {
   "cell_type": "code",
   "execution_count": 64,
   "id": "539ab5de-71ee-41cc-8bb3-357b6b642a4f",
   "metadata": {},
   "outputs": [
    {
     "data": {
      "text/plain": [
       "6"
      ]
     },
     "execution_count": 64,
     "metadata": {},
     "output_type": "execute_result"
    }
   ],
   "source": [
    "numbers[2]"
   ]
  },
  {
   "cell_type": "code",
   "execution_count": 65,
   "id": "de7c8c19-4243-4554-b929-f7f6f3496731",
   "metadata": {},
   "outputs": [
    {
     "data": {
      "text/plain": [
       "[5, 6]"
      ]
     },
     "execution_count": 65,
     "metadata": {},
     "output_type": "execute_result"
    }
   ],
   "source": [
    "numbers[1:3]"
   ]
  },
  {
   "cell_type": "code",
   "execution_count": 70,
   "id": "c84d2744-faff-49d1-a213-e756d765f319",
   "metadata": {},
   "outputs": [
    {
     "data": {
      "text/plain": [
       "[4, 5, 6]"
      ]
     },
     "execution_count": 70,
     "metadata": {},
     "output_type": "execute_result"
    }
   ],
   "source": [
    "numbers[:3]"
   ]
  },
  {
   "cell_type": "code",
   "execution_count": 72,
   "id": "2ca39796-4717-47a7-9e51-69d2ee1bf7d9",
   "metadata": {},
   "outputs": [
    {
     "data": {
      "text/plain": [
       "[4, 6, 8]"
      ]
     },
     "execution_count": 72,
     "metadata": {},
     "output_type": "execute_result"
    }
   ],
   "source": [
    "numbers[0::2]"
   ]
  },
  {
   "cell_type": "code",
   "execution_count": 73,
   "id": "7db2affb-0dec-46b8-8456-2ced08d19d83",
   "metadata": {},
   "outputs": [
    {
     "data": {
      "text/plain": [
       "[5, 7, 9]"
      ]
     },
     "execution_count": 73,
     "metadata": {},
     "output_type": "execute_result"
    }
   ],
   "source": [
    "numbers[1::2]"
   ]
  },
  {
   "cell_type": "code",
   "execution_count": 74,
   "id": "7eb4a27b-cae7-4b06-b729-be7b4f24ee53",
   "metadata": {},
   "outputs": [],
   "source": [
    "slist = ['Kim', 178.9, 'Park', 173.5, 'Lee', 176.1]"
   ]
  },
  {
   "cell_type": "code",
   "execution_count": 75,
   "id": "c2534baf-b89a-417b-b8fd-c085b49e3eca",
   "metadata": {},
   "outputs": [],
   "source": [
    "slist[3] = 175.0"
   ]
  },
  {
   "cell_type": "code",
   "execution_count": 76,
   "id": "08823861-d9d7-4428-ab5e-bea06678f740",
   "metadata": {},
   "outputs": [
    {
     "data": {
      "text/plain": [
       "['Kim', 178.9, 'Park', 175.0, 'Lee', 176.1]"
      ]
     },
     "execution_count": 76,
     "metadata": {},
     "output_type": "execute_result"
    }
   ],
   "source": [
    "slist"
   ]
  },
  {
   "cell_type": "code",
   "execution_count": 77,
   "id": "a46ca170-eb0c-4ce7-88b6-53158cf26c02",
   "metadata": {},
   "outputs": [],
   "source": [
    "slist.insert(4, 'Hong')"
   ]
  },
  {
   "cell_type": "code",
   "execution_count": 78,
   "id": "d98afcb1-1222-4974-9914-df3055a32aeb",
   "metadata": {},
   "outputs": [
    {
     "data": {
      "text/plain": [
       "['Kim', 178.9, 'Park', 175.0, 'Hong', 'Lee', 176.1]"
      ]
     },
     "execution_count": 78,
     "metadata": {},
     "output_type": "execute_result"
    }
   ],
   "source": [
    "slist"
   ]
  },
  {
   "cell_type": "code",
   "execution_count": 79,
   "id": "28df6aa8-a392-4054-acc3-f80094c5cbd3",
   "metadata": {},
   "outputs": [],
   "source": [
    "slist.insert(5, 168.1)"
   ]
  },
  {
   "cell_type": "code",
   "execution_count": 80,
   "id": "f0d876d0-652e-4a30-b51f-157eff63e4fd",
   "metadata": {},
   "outputs": [
    {
     "data": {
      "text/plain": [
       "['Kim', 178.9, 'Park', 175.0, 'Hong', 168.1, 'Lee', 176.1]"
      ]
     },
     "execution_count": 80,
     "metadata": {},
     "output_type": "execute_result"
    }
   ],
   "source": [
    "slist"
   ]
  },
  {
   "cell_type": "code",
   "execution_count": 82,
   "id": "8373cfc9-ac0f-4394-b286-a6fa2791c110",
   "metadata": {},
   "outputs": [
    {
     "data": {
      "text/plain": [
       "0"
      ]
     },
     "execution_count": 82,
     "metadata": {},
     "output_type": "execute_result"
    }
   ],
   "source": [
    "slist.index('Kim')"
   ]
  },
  {
   "cell_type": "code",
   "execution_count": 84,
   "id": "c46bd265-e3bb-4cc9-960e-d78efef4d236",
   "metadata": {},
   "outputs": [
    {
     "data": {
      "text/plain": [
       "'Kim'"
      ]
     },
     "execution_count": 84,
     "metadata": {},
     "output_type": "execute_result"
    }
   ],
   "source": [
    "slist.pop(0)"
   ]
  },
  {
   "cell_type": "code",
   "execution_count": 85,
   "id": "adac637c-4d39-428f-832f-3441d88efc19",
   "metadata": {},
   "outputs": [
    {
     "data": {
      "text/plain": [
       "[178.9, 'Park', 175.0, 'Hong', 168.1, 'Lee', 176.1]"
      ]
     },
     "execution_count": 85,
     "metadata": {},
     "output_type": "execute_result"
    }
   ],
   "source": [
    "slist"
   ]
  },
  {
   "cell_type": "code",
   "execution_count": 86,
   "id": "7049d947-5762-48b8-bb10-2bbd6c8a3ccf",
   "metadata": {},
   "outputs": [
    {
     "name": "stdout",
     "output_type": "stream",
     "text": [
      "[9, 6, 5, 5, 2, 1]\n"
     ]
    }
   ],
   "source": [
    "my_list = [5, 2, 9, 1, 5, 6]\n",
    "\n",
    "# 리스트를 내림차순으로 정렬\n",
    "my_list.sort(reverse=True)\n",
    "\n",
    "print(my_list)  # 출력: [9, 6, 5, 5, 2, 1]\n"
   ]
  },
  {
   "cell_type": "code",
   "execution_count": 89,
   "id": "bb1bf23d-1be9-464d-b2a7-038b2b52f54f",
   "metadata": {},
   "outputs": [
    {
     "data": {
      "text/plain": [
       "[1, 2, 5, 5, 6, 9]"
      ]
     },
     "execution_count": 89,
     "metadata": {},
     "output_type": "execute_result"
    }
   ],
   "source": [
    "my_list = [5, 2, 9, 1, 5, 6]\n",
    "my_list.sort()\n",
    "my_list"
   ]
  },
  {
   "cell_type": "code",
   "execution_count": 92,
   "id": "0e3a19ee-48e8-49dc-a444-ea989ac74d2b",
   "metadata": {},
   "outputs": [
    {
     "data": {
      "text/plain": [
       "[6, 5, 1, 9, 2, 5]"
      ]
     },
     "execution_count": 92,
     "metadata": {},
     "output_type": "execute_result"
    }
   ],
   "source": [
    "my_list = [5, 2, 9, 1, 5, 6]\n",
    "my_list.reverse()\n",
    "my_list"
   ]
  },
  {
   "cell_type": "code",
   "execution_count": 98,
   "id": "62460c82-0111-4fb5-b8a4-f9f5b483291f",
   "metadata": {},
   "outputs": [
    {
     "name": "stdout",
     "output_type": "stream",
     "text": [
      "P\n"
     ]
    }
   ],
   "source": [
    "s = 'Python is fun'\n",
    "print(s[:1])"
   ]
  },
  {
   "cell_type": "code",
   "execution_count": 99,
   "id": "f0729128-effa-4dd9-9331-de392c997ec9",
   "metadata": {},
   "outputs": [
    {
     "name": "stdout",
     "output_type": "stream",
     "text": [
      "P\n"
     ]
    }
   ],
   "source": [
    "s = 'Python is fun'\n",
    "first_char = s[0]\n",
    "print(first_char)"
   ]
  },
  {
   "cell_type": "code",
   "execution_count": 111,
   "id": "1c3488aa-d981-41b2-99dd-f13af156db09",
   "metadata": {},
   "outputs": [
    {
     "name": "stdout",
     "output_type": "stream",
     "text": [
      " fun\n"
     ]
    }
   ],
   "source": [
    "s = 'Python is fun'\n",
    "char = s[-4:]\n",
    "print(char)"
   ]
  },
  {
   "cell_type": "code",
   "execution_count": 113,
   "id": "4e61cf0a-d87e-4536-9896-7c2e289fc63b",
   "metadata": {},
   "outputs": [
    {
     "name": "stdout",
     "output_type": "stream",
     "text": [
      "Python\n"
     ]
    }
   ],
   "source": [
    "s = 'Python is fun'\n",
    "chchar = s[:6]\n",
    "print(chchar)"
   ]
  },
  {
   "cell_type": "code",
   "execution_count": 115,
   "id": "dde9a126-a321-4c20-aad4-989bf14eee81",
   "metadata": {},
   "outputs": [
    {
     "name": "stdout",
     "output_type": "stream",
     "text": [
      "5\n"
     ]
    }
   ],
   "source": [
    "s = 'Python is fun'\n",
    "index_of_n = s.index('n')\n",
    "print(index_of_n)"
   ]
  },
  {
   "cell_type": "code",
   "execution_count": 120,
   "id": "d87ff833-b81c-43b1-8489-58935bbe647b",
   "metadata": {},
   "outputs": [],
   "source": [
    "#문자열에서 특정 문자나 부분 문자열의 위치를 찾을 때는 find()나 index() 메서드를 사용할 수 있습니다.  \n",
    "#find() 메서드는 해당 문자열이 처음으로 나타나는 위치의 인덱스를 반환하고, 만약 문자열이 없을 경우 -1을 반환합니다.  \n",
    "#index() 메서드는 같은 역할을 수행하지만, 문자열이 없을 경우 오류를 발생시킵니다. 아래는 이를 이용하여 'Python'에서 'n' 문자의 위치를 찾는 예제입니다."
   ]
  },
  {
   "cell_type": "code",
   "execution_count": 125,
   "id": "afee7c32-6234-4fab-b62b-8d8e0547d122",
   "metadata": {},
   "outputs": [
    {
     "name": "stdout",
     "output_type": "stream",
     "text": [
      "is\n"
     ]
    }
   ],
   "source": [
    "s = 'Python is fun'\n",
    "s.find(' ')\n",
    "slice = s[7:9]\n",
    "print(slice)"
   ]
  },
  {
   "cell_type": "code",
   "execution_count": 129,
   "id": "f8283b44-1d9a-47a5-9824-51a310c5ba76",
   "metadata": {},
   "outputs": [
    {
     "name": "stdout",
     "output_type": "stream",
     "text": [
      "12\n"
     ]
    }
   ],
   "source": [
    "s = 'Python is fun'\n",
    "x = s.find('n')\n",
    "y = s.find('n', x+1)\n",
    "print(y)"
   ]
  },
  {
   "cell_type": "code",
   "execution_count": 130,
   "id": "54d3e6bf-1421-45bd-9ee2-11bb815d9421",
   "metadata": {},
   "outputs": [
    {
     "name": "stdout",
     "output_type": "stream",
     "text": [
      "12\n"
     ]
    }
   ],
   "source": [
    "s = 'Python is fun'\n",
    "first_index_of_n = s.find('n')  # 첫 번째 'n'의 위치를 찾음\n",
    "second_index_of_n = s.find('n', first_index_of_n + 1)  # 두 번째 'n'을 찾기 위해 첫 번째 'n' 이후의 부분 문자열에서 검색\n",
    "print(second_index_of_n)\n"
   ]
  },
  {
   "cell_type": "code",
   "execution_count": 132,
   "id": "67c03db6-6d7b-4519-8e27-143fa942c357",
   "metadata": {},
   "outputs": [
    {
     "data": {
      "text/plain": [
       "['V', ' J-Hop', 'Suga']"
      ]
     },
     "execution_count": 132,
     "metadata": {},
     "output_type": "execute_result"
    }
   ],
   "source": [
    "bts = ['V', ' J-Hop', 'Suga', 'Jungkook']\n",
    "bts.remove('Jungkook')\n",
    "bts"
   ]
  },
  {
   "cell_type": "code",
   "execution_count": 133,
   "id": "c8ca3e4c-00cd-4c55-9a60-48fffd9fd281",
   "metadata": {},
   "outputs": [],
   "source": [
    "if 'Suga' in bts:\n",
    "    bts.remove('Suga')"
   ]
  },
  {
   "cell_type": "code",
   "execution_count": 134,
   "id": "b1a39ebc-8d8c-433c-bce9-f8e1b97714c0",
   "metadata": {},
   "outputs": [
    {
     "data": {
      "text/plain": [
       "['V', ' J-Hop']"
      ]
     },
     "execution_count": 134,
     "metadata": {},
     "output_type": "execute_result"
    }
   ],
   "source": [
    "bts"
   ]
  },
  {
   "cell_type": "code",
   "execution_count": 136,
   "id": "88f4ce79-0ade-4172-a623-b9cb7de4114f",
   "metadata": {},
   "outputs": [
    {
     "data": {
      "text/plain": [
       "2"
      ]
     },
     "execution_count": 136,
     "metadata": {},
     "output_type": "execute_result"
    }
   ],
   "source": [
    "bts = ['V', 'J-Hope', 'Suga', 'Jungkook']\n",
    "bts.index('Suga')"
   ]
  },
  {
   "cell_type": "code",
   "execution_count": 137,
   "id": "1078f89e-8c55-432f-9c29-584ceb23657c",
   "metadata": {},
   "outputs": [
    {
     "name": "stdout",
     "output_type": "stream",
     "text": [
      "[1, 2, 3, 4, 5, 6, 7, 8, 9]\n"
     ]
    }
   ],
   "source": [
    "numbers = [9, 6, 7, 1, 8, 4, 5, 3, 2]\n",
    "numbers.sort()\n",
    "print(numbers)"
   ]
  },
  {
   "cell_type": "code",
   "execution_count": 138,
   "id": "ecece4ff-cc2d-4193-8efd-5b8f02201294",
   "metadata": {},
   "outputs": [
    {
     "name": "stdout",
     "output_type": "stream",
     "text": [
      "[9, 8, 7, 6, 5, 4, 3, 2, 1]\n"
     ]
    }
   ],
   "source": [
    "numbers = [9, 6, 7, 1, 8, 4, 5, 3, 2]\n",
    "numbers.sort(reverse = True)\n",
    "print(numbers)"
   ]
  },
  {
   "cell_type": "code",
   "execution_count": 139,
   "id": "66985ec8-8712-4fa0-b9cf-76773a856ce7",
   "metadata": {},
   "outputs": [
    {
     "data": {
      "text/plain": [
       "['A', 'A', 'D', 'E', 'F', 'W', 'Y']"
      ]
     },
     "execution_count": 139,
     "metadata": {},
     "output_type": "execute_result"
    }
   ],
   "source": [
    "sorted('FADEWAY')"
   ]
  },
  {
   "cell_type": "code",
   "execution_count": 140,
   "id": "e711d1dc-9549-4be7-ad7f-4dd699fcaa7e",
   "metadata": {},
   "outputs": [
    {
     "name": "stdout",
     "output_type": "stream",
     "text": [
      "no\n"
     ]
    }
   ],
   "source": [
    "s = 'python'\n",
    "print(s[-1:-3:-1])"
   ]
  },
  {
   "cell_type": "code",
   "execution_count": 141,
   "id": "246a40fd-a351-4667-aca9-e56fbdc7a3f1",
   "metadata": {},
   "outputs": [],
   "source": [
    "city_info = [('서울', 9765), ('부산', 3441), ('인천', 2954),\n",
    "             ('광주', 1501), ('대전', 1531)]\n",
    "\n",
    "max_pop"
   ]
  },
  {
   "cell_type": "code",
   "execution_count": 144,
   "id": "4cefd4b4-2a6a-42c2-92d2-36697af609ed",
   "metadata": {},
   "outputs": [
    {
     "data": {
      "text/plain": [
       "4424726720"
      ]
     },
     "execution_count": 144,
     "metadata": {},
     "output_type": "execute_result"
    }
   ],
   "source": [
    "alist = ['Kim', 'Park', 'Lee', 'Hong']\n",
    "blist = list(alist)\n",
    "id(alist)"
   ]
  },
  {
   "cell_type": "code",
   "execution_count": 145,
   "id": "53919724-f0ee-41d2-8d16-cc5d0cd74490",
   "metadata": {},
   "outputs": [
    {
     "data": {
      "text/plain": [
       "4427144704"
      ]
     },
     "execution_count": 145,
     "metadata": {},
     "output_type": "execute_result"
    }
   ],
   "source": [
    "id(blist)"
   ]
  },
  {
   "cell_type": "code",
   "execution_count": 146,
   "id": "73567ed7-8a95-482d-b871-c924ffcb2ed9",
   "metadata": {},
   "outputs": [],
   "source": [
    "blist = alist[:]"
   ]
  },
  {
   "cell_type": "code",
   "execution_count": 148,
   "id": "8d5c488c-a683-40d1-a86e-20ecbc123701",
   "metadata": {},
   "outputs": [
    {
     "data": {
      "text/plain": [
       "[1, 4, 9, 9, 16, 25]"
      ]
     },
     "execution_count": 148,
     "metadata": {},
     "output_type": "execute_result"
    }
   ],
   "source": [
    "[x ** 2 for x in (1, 2, 3, 3, 4, 5)]"
   ]
  },
  {
   "cell_type": "code",
   "execution_count": 149,
   "id": "7e38cfe0-6868-477e-81d8-499fffbf3722",
   "metadata": {},
   "outputs": [],
   "source": [
    "s = []\n",
    "for x in [1, 2, 3, 4, 5]:\n",
    "    s.append(x ** 2)"
   ]
  },
  {
   "cell_type": "code",
   "execution_count": 150,
   "id": "3843759c-cd1b-4712-a89f-f10b2e78153c",
   "metadata": {},
   "outputs": [
    {
     "data": {
      "text/plain": [
       "[1, 4, 9, 16, 25]"
      ]
     },
     "execution_count": 150,
     "metadata": {},
     "output_type": "execute_result"
    }
   ],
   "source": [
    "s"
   ]
  },
  {
   "cell_type": "code",
   "execution_count": 151,
   "id": "488d6b09-e37e-4ec2-8b9f-011565f37aae",
   "metadata": {},
   "outputs": [
    {
     "data": {
      "text/plain": [
       "[0, 1, 2, 3, 4, 5, 6, 7, 8, 9]"
      ]
     },
     "execution_count": 151,
     "metadata": {},
     "output_type": "execute_result"
    }
   ],
   "source": [
    "[x for x in range(10)]"
   ]
  },
  {
   "cell_type": "code",
   "execution_count": 152,
   "id": "41b6dec4-23cf-4a41-afcf-e776a8979eed",
   "metadata": {},
   "outputs": [
    {
     "data": {
      "text/plain": [
       "[0, 1, 4, 9, 16, 25, 36, 49, 64, 81]"
      ]
     },
     "execution_count": 152,
     "metadata": {},
     "output_type": "execute_result"
    }
   ],
   "source": [
    "[x * x for x in range(10) ]"
   ]
  },
  {
   "cell_type": "code",
   "execution_count": 154,
   "id": "e4d6c7cf-8a30-4c95-857c-267ca94ad0b3",
   "metadata": {},
   "outputs": [
    {
     "name": "stdout",
     "output_type": "stream",
     "text": [
      "['W', 'T', 'T', 'P', 'W']\n"
     ]
    }
   ],
   "source": [
    "a = ['welcome', 'to', 'the', 'python', 'world']\n",
    "first_a =  [s[0].upper() for s in a]\n",
    "print(first_a)"
   ]
  },
  {
   "cell_type": "code",
   "execution_count": 155,
   "id": "130fe9aa-33c1-4499-bf47-68c3fccbec7f",
   "metadata": {},
   "outputs": [
    {
     "data": {
      "text/plain": [
       "[0, 2, 4, 6, 8]"
      ]
     },
     "execution_count": 155,
     "metadata": {},
     "output_type": "execute_result"
    }
   ],
   "source": [
    "[x for x in range(10) if x % 2 == 0]"
   ]
  },
  {
   "cell_type": "code",
   "execution_count": 156,
   "id": "0f6386ee-d912-439f-bfb1-d904155ba840",
   "metadata": {},
   "outputs": [
    {
     "name": "stdout",
     "output_type": "stream",
     "text": [
      "['12345', '67890']\n"
     ]
    }
   ],
   "source": [
    "s = ['Hello', '12345', 'World', '67890']\n",
    "numbers =[x for x in s if x.isdigit()]\n",
    "print(numbers)"
   ]
  },
  {
   "cell_type": "code",
   "execution_count": 157,
   "id": "5de0c4a0-10d9-497d-b06d-bf2f1ca2d01a",
   "metadata": {},
   "outputs": [
    {
     "name": "stdin",
     "output_type": "stream",
     "text": [
      "정수를 여러 개 입력하세요 :  200 300 400\n"
     ]
    }
   ],
   "source": [
    "a = [int(x) for x in input('정수를 여러 개 입력하세요 : ').split()]"
   ]
  },
  {
   "cell_type": "code",
   "execution_count": 158,
   "id": "a136e29d-d72a-4d99-a2c9-ec78d9d94b77",
   "metadata": {},
   "outputs": [
    {
     "data": {
      "text/plain": [
       "[200, 300, 400]"
      ]
     },
     "execution_count": 158,
     "metadata": {},
     "output_type": "execute_result"
    }
   ],
   "source": [
    "a"
   ]
  },
  {
   "cell_type": "code",
   "execution_count": 160,
   "id": "afa62310-5ec9-48fc-89ff-8c0cef9651bd",
   "metadata": {},
   "outputs": [
    {
     "name": "stdin",
     "output_type": "stream",
     "text": [
      "정수를 여러 개 입력하세요 :  이백 삼백 400\n"
     ]
    }
   ],
   "source": [
    "a = [int(x) for x in input('정수를 여러 개 입력하세요 : ').split() if x.isdigit()]"
   ]
  },
  {
   "cell_type": "code",
   "execution_count": 161,
   "id": "f646011a-5ca5-4489-8079-b72dc0d44c11",
   "metadata": {},
   "outputs": [
    {
     "data": {
      "text/plain": [
       "[400]"
      ]
     },
     "execution_count": 161,
     "metadata": {},
     "output_type": "execute_result"
    }
   ],
   "source": [
    "a"
   ]
  },
  {
   "cell_type": "code",
   "execution_count": 162,
   "id": "2ea54e9f-1ba2-48c5-ae8d-d9e8595e316f",
   "metadata": {},
   "outputs": [],
   "source": [
    "colors = ('red', 'green', 'blue')"
   ]
  },
  {
   "cell_type": "code",
   "execution_count": 163,
   "id": "27157b53-f545-45db-b955-09572175d84b",
   "metadata": {},
   "outputs": [
    {
     "data": {
      "text/plain": [
       "('red', 'green', 'blue')"
      ]
     },
     "execution_count": 163,
     "metadata": {},
     "output_type": "execute_result"
    }
   ],
   "source": [
    "colors"
   ]
  },
  {
   "cell_type": "code",
   "execution_count": 164,
   "id": "fac0ba55-11c1-4bc3-bcb3-554efcc61c6f",
   "metadata": {},
   "outputs": [],
   "source": [
    "numbers = (1, 2, 3, 4, 5)"
   ]
  },
  {
   "cell_type": "code",
   "execution_count": 165,
   "id": "37e4a8a7-a166-4a98-9890-b11a840e1177",
   "metadata": {},
   "outputs": [
    {
     "data": {
      "text/plain": [
       "(1, 2, 3, 4, 5)"
      ]
     },
     "execution_count": 165,
     "metadata": {},
     "output_type": "execute_result"
    }
   ],
   "source": [
    "numbers"
   ]
  },
  {
   "cell_type": "code",
   "execution_count": 167,
   "id": "01c05ac5-ba19-482a-bb20-aaf59daff16e",
   "metadata": {},
   "outputs": [
    {
     "data": {
      "text/plain": [
       "1"
      ]
     },
     "execution_count": 167,
     "metadata": {},
     "output_type": "execute_result"
    }
   ],
   "source": [
    "t1 = (1, 2, 3, 4, 5)\n",
    "t1[0]"
   ]
  },
  {
   "cell_type": "code",
   "execution_count": 168,
   "id": "8353c5b1-e4b7-4a03-84e4-3a81ab1c4d6f",
   "metadata": {},
   "outputs": [
    {
     "data": {
      "text/plain": [
       "(2, 3, 4)"
      ]
     },
     "execution_count": 168,
     "metadata": {},
     "output_type": "execute_result"
    }
   ],
   "source": [
    "t1[1:4]"
   ]
  },
  {
   "cell_type": "code",
   "execution_count": 169,
   "id": "7987dd86-b508-4221-8d80-86403b4067b7",
   "metadata": {},
   "outputs": [],
   "source": [
    "t2 = t1 + t1"
   ]
  },
  {
   "cell_type": "code",
   "execution_count": 170,
   "id": "04dd5c8f-75be-4c3b-9d8f-9b400f8236ee",
   "metadata": {},
   "outputs": [
    {
     "data": {
      "text/plain": [
       "(1, 2, 3, 4, 5, 1, 2, 3, 4, 5)"
      ]
     },
     "execution_count": 170,
     "metadata": {},
     "output_type": "execute_result"
    }
   ],
   "source": [
    "t2"
   ]
  },
  {
   "cell_type": "code",
   "execution_count": 176,
   "id": "c171d73c-93e4-4628-9cbe-1de8a924c3f1",
   "metadata": {},
   "outputs": [
    {
     "name": "stdin",
     "output_type": "stream",
     "text": [
      "원의 반지름을 입력하시오:  3\n"
     ]
    },
    {
     "name": "stdout",
     "output_type": "stream",
     "text": [
      "원의 넓이는   28.26이고 원의 둘레는  18.84이다.\n"
     ]
    }
   ],
   "source": [
    "def calc_circle(r):\n",
    "    area = 3.14 * r * r\n",
    "    circum = 2 * 3.14 * r\n",
    "    return area, circum\n",
    "\n",
    "radius = float(input('원의 반지름을 입력하시오: '))\n",
    "(a,c) = calc_circle(radius)\n",
    "print('원의 넓이는 {0:7.2f}이고 원의 둘레는 {1:6.2f}이다.'.format(a,c))"
   ]
  },
  {
   "cell_type": "code",
   "execution_count": 183,
   "id": "95710b18-a455-4edf-942d-dc04974b72fe",
   "metadata": {},
   "outputs": [],
   "source": [
    "a, b = 100, 200"
   ]
  },
  {
   "cell_type": "code",
   "execution_count": 184,
   "id": "623661d6-f28d-4ce4-98c2-82cb5b873272",
   "metadata": {},
   "outputs": [
    {
     "data": {
      "text/plain": [
       "(100, 200)"
      ]
     },
     "execution_count": 184,
     "metadata": {},
     "output_type": "execute_result"
    }
   ],
   "source": [
    "a,b"
   ]
  },
  {
   "cell_type": "code",
   "execution_count": 179,
   "id": "cad1a847-8ce7-4cc1-9974-78bd2b60afb2",
   "metadata": {},
   "outputs": [],
   "source": [
    "a = b"
   ]
  },
  {
   "cell_type": "code",
   "execution_count": 180,
   "id": "1b4baaab-0b2b-4214-ab12-ee6ab22a23b1",
   "metadata": {},
   "outputs": [],
   "source": [
    "b = a"
   ]
  },
  {
   "cell_type": "code",
   "execution_count": 181,
   "id": "25455841-466a-4301-9973-620d3f8d41cc",
   "metadata": {},
   "outputs": [
    {
     "data": {
      "text/plain": [
       "(200, 200)"
      ]
     },
     "execution_count": 181,
     "metadata": {},
     "output_type": "execute_result"
    }
   ],
   "source": [
    "a, b"
   ]
  },
  {
   "cell_type": "code",
   "execution_count": 185,
   "id": "410e3b1f-df6d-4d3f-a733-405e19535ea6",
   "metadata": {},
   "outputs": [
    {
     "data": {
      "text/plain": [
       "100"
      ]
     },
     "execution_count": 185,
     "metadata": {},
     "output_type": "execute_result"
    }
   ],
   "source": [
    "a"
   ]
  },
  {
   "cell_type": "code",
   "execution_count": 186,
   "id": "a77e1d5e-437a-4e9e-8834-59ffaf84d163",
   "metadata": {},
   "outputs": [
    {
     "name": "stdout",
     "output_type": "stream",
     "text": [
      "city_info = [('서울', 9765), ('부산', 3441), ('광주', 1501)]\n"
     ]
    }
   ],
   "source": [
    "name = ['서울', '부산', '광주']\n",
    "population = (9765, 3441, 1501)\n",
    "\n",
    "city_info = list(zip(name, population))\n",
    "print('city_info =', city_info)"
   ]
  },
  {
   "cell_type": "code",
   "execution_count": 188,
   "id": "fdcfb8cd-0391-4e20-b534-14a4656d9d34",
   "metadata": {},
   "outputs": [
    {
     "name": "stdout",
     "output_type": "stream",
     "text": [
      "info = [('한국', 100.2), ('미국', 9834), ('중국', 9597), ('필리핀', 300)]\n"
     ]
    }
   ],
   "source": [
    "country = ['한국', '미국', '중국', '필리핀']\n",
    "area = [100.2, 9834, 9597, 300]\n",
    "\n",
    "info = list(zip(country, area))\n",
    "print(\"info =\", info)"
   ]
  },
  {
   "cell_type": "code",
   "execution_count": 190,
   "id": "0fe524f6-0db7-44ac-8333-9f647a3af621",
   "metadata": {},
   "outputs": [],
   "source": [
    "country = ['한국', '미국', '중국', '필리핀']\n",
    "area = [100.2, 9834, 9597, 300]\n",
    "a = zip(country, area)"
   ]
  },
  {
   "cell_type": "code",
   "execution_count": 191,
   "id": "72b09ab2-f500-4955-b97c-b225288800f0",
   "metadata": {},
   "outputs": [
    {
     "data": {
      "text/plain": [
       "<zip at 0x107818f40>"
      ]
     },
     "execution_count": 191,
     "metadata": {},
     "output_type": "execute_result"
    }
   ],
   "source": [
    "a"
   ]
  },
  {
   "cell_type": "code",
   "execution_count": 196,
   "id": "d9965bec-6b26-4c20-b5cc-131bd0646850",
   "metadata": {},
   "outputs": [],
   "source": [
    "city_info = [('서울', 9765), ('부산', 3441), ('인천', 2954), ('광주', 1501), ('대전', 1531)]"
   ]
  },
  {
   "cell_type": "code",
   "execution_count": 197,
   "id": "61e9822f-91b2-4b61-ad1b-0bd7766db46c",
   "metadata": {},
   "outputs": [
    {
     "name": "stdout",
     "output_type": "stream",
     "text": [
      "city_name = ('서울', '부산', '인천', '광주', '대전')\n",
      "city_pop = (9765, 3441, 2954, 1501, 1531)\n"
     ]
    }
   ],
   "source": [
    "city_name, city_pop = zip(*city_info)\n",
    "print('city_name =', city_name)\n",
    "print('city_pop =', city_pop)"
   ]
  },
  {
   "cell_type": "code",
   "execution_count": 198,
   "id": "d30f6c22-280b-45e8-a69a-05e3dbdf03ad",
   "metadata": {},
   "outputs": [
    {
     "name": "stdout",
     "output_type": "stream",
     "text": [
      "max_pop = 9765\n"
     ]
    }
   ],
   "source": [
    "max_pop = max(city_pop)\n",
    "print(\"max_pop =\", max_pop)"
   ]
  },
  {
   "cell_type": "code",
   "execution_count": 199,
   "id": "f4ba0c3d-dca3-41a5-a20d-35f5dd2bb7e1",
   "metadata": {},
   "outputs": [
    {
     "name": "stdout",
     "output_type": "stream",
     "text": [
      "최대 인구 도시: 서울, 인구: 9765 천명\n"
     ]
    }
   ],
   "source": [
    "n = city_pop.index(max_pop)\n",
    "print('최대 인구 도시: {0}, 인구: {1} 천명'.format(city_name[n], max_pop))"
   ]
  },
  {
   "cell_type": "code",
   "execution_count": null,
   "id": "7446b7a6-88af-46cf-a489-a96b954d1b6f",
   "metadata": {},
   "outputs": [],
   "source": [
    "city_info = [('서울', 9765), ('부산', 3441), ('인천', 2954), ('광주', 1501), ('대전', 1531)]\n",
    "\n",
    "city_name, city_pop = zip(*city_info)\n",
    "print('city_name =', city_name)\n",
    "print('city_pop =', city_pop)\n",
    "\n",
    "max_pop = max(city_pop)\n",
    "print(\"max_pop =\", max_pop)\n",
    "\n",
    "n = city_pop.index(max_pop)\n",
    "print('최대 인구 도시: {0}, 인구: {1} 천명'.format(city_name[n], max_pop))"
   ]
  },
  {
   "cell_type": "code",
   "execution_count": 200,
   "id": "4901b907-badb-4afd-b8b8-1f249c342996",
   "metadata": {},
   "outputs": [],
   "source": [
    "n = city_pop.index(max_pop)"
   ]
  },
  {
   "cell_type": "code",
   "execution_count": 202,
   "id": "0df4d03d-8ceb-4c4b-bf7e-ad354b5752c6",
   "metadata": {},
   "outputs": [
    {
     "data": {
      "text/plain": [
       "0"
      ]
     },
     "execution_count": 202,
     "metadata": {},
     "output_type": "execute_result"
    }
   ],
   "source": [
    "n"
   ]
  },
  {
   "cell_type": "markdown",
   "id": "cb997b09-7c35-42b2-963a-8306f87fa884",
   "metadata": {},
   "source": [
    "## 심화문제 7단원"
   ]
  },
  {
   "cell_type": "code",
   "execution_count": 2,
   "id": "e7e4a8f8-9834-4581-aafe-e7c63f0991f3",
   "metadata": {},
   "outputs": [],
   "source": [
    "num_list = [100, 200, 300, 400, 500, 600, 700, 800]\n",
    "high = 6\n",
    "low = 3"
   ]
  },
  {
   "cell_type": "code",
   "execution_count": 3,
   "id": "886efc49-2d5f-4aaa-9bcd-e3a7af601997",
   "metadata": {},
   "outputs": [
    {
     "data": {
      "text/plain": [
       "700"
      ]
     },
     "execution_count": 3,
     "metadata": {},
     "output_type": "execute_result"
    }
   ],
   "source": [
    "num_list[high]"
   ]
  },
  {
   "cell_type": "code",
   "execution_count": 4,
   "id": "97645b48-f850-4cac-be71-5b78e799c95f",
   "metadata": {},
   "outputs": [
    {
     "data": {
      "text/plain": [
       "500"
      ]
     },
     "execution_count": 4,
     "metadata": {},
     "output_type": "execute_result"
    }
   ],
   "source": [
    "num_list[high - 2]"
   ]
  },
  {
   "cell_type": "code",
   "execution_count": 5,
   "id": "4cf78833-ccc5-4aea-8666-18bfd401847d",
   "metadata": {},
   "outputs": [
    {
     "data": {
      "text/plain": [
       "400"
      ]
     },
     "execution_count": 5,
     "metadata": {},
     "output_type": "execute_result"
    }
   ],
   "source": [
    "num_list[high - low]"
   ]
  },
  {
   "cell_type": "code",
   "execution_count": 6,
   "id": "efec21e1-12da-43b1-a58e-9af3a6c597d5",
   "metadata": {},
   "outputs": [
    {
     "data": {
      "text/plain": [
       "600"
      ]
     },
     "execution_count": 6,
     "metadata": {},
     "output_type": "execute_result"
    }
   ],
   "source": [
    "num_list[low - high]"
   ]
  },
  {
   "cell_type": "code",
   "execution_count": 7,
   "id": "ee7636ff-f832-4293-b55d-f53aa8a0416f",
   "metadata": {},
   "outputs": [
    {
     "data": {
      "text/plain": [
       "800"
      ]
     },
     "execution_count": 7,
     "metadata": {},
     "output_type": "execute_result"
    }
   ],
   "source": [
    "num_list[-1]"
   ]
  },
  {
   "cell_type": "code",
   "execution_count": 8,
   "id": "9fbee611-ca91-45a0-943d-c38160047a92",
   "metadata": {},
   "outputs": [
    {
     "data": {
      "text/plain": [
       "600"
      ]
     },
     "execution_count": 8,
     "metadata": {},
     "output_type": "execute_result"
    }
   ],
   "source": [
    "num_list[-low]"
   ]
  },
  {
   "cell_type": "code",
   "execution_count": 9,
   "id": "2891b53d-a983-4776-9ce4-14961633950c",
   "metadata": {},
   "outputs": [
    {
     "data": {
      "text/plain": [
       "700"
      ]
     },
     "execution_count": 9,
     "metadata": {},
     "output_type": "execute_result"
    }
   ],
   "source": [
    "num_list[2 * 3]"
   ]
  },
  {
   "cell_type": "code",
   "execution_count": 10,
   "id": "af77f437-d176-451a-9774-9a08840e8afc",
   "metadata": {},
   "outputs": [
    {
     "data": {
      "text/plain": [
       "900"
      ]
     },
     "execution_count": 10,
     "metadata": {},
     "output_type": "execute_result"
    }
   ],
   "source": [
    "num_list[2] * 3"
   ]
  },
  {
   "cell_type": "code",
   "execution_count": 11,
   "id": "371c92e5-3863-45f3-a2a6-9953a59b42f8",
   "metadata": {},
   "outputs": [
    {
     "data": {
      "text/plain": [
       "200"
      ]
     },
     "execution_count": 11,
     "metadata": {},
     "output_type": "execute_result"
    }
   ],
   "source": [
    "num_list[5 % 4]"
   ]
  },
  {
   "cell_type": "code",
   "execution_count": 12,
   "id": "6dbe62ce-51f2-481e-8e94-449057a4a078",
   "metadata": {},
   "outputs": [
    {
     "data": {
      "text/plain": [
       "8"
      ]
     },
     "execution_count": 12,
     "metadata": {},
     "output_type": "execute_result"
    }
   ],
   "source": [
    "len(num_list)"
   ]
  },
  {
   "cell_type": "code",
   "execution_count": 13,
   "id": "5ce14836-eaca-4c57-8259-c968748929f9",
   "metadata": {},
   "outputs": [
    {
     "data": {
      "text/plain": [
       "100"
      ]
     },
     "execution_count": 13,
     "metadata": {},
     "output_type": "execute_result"
    }
   ],
   "source": [
    "min(num_list)"
   ]
  },
  {
   "cell_type": "code",
   "execution_count": 14,
   "id": "67cb54a7-20d4-4a1f-8618-b3fc60f4ff32",
   "metadata": {},
   "outputs": [
    {
     "data": {
      "text/plain": [
       "800"
      ]
     },
     "execution_count": 14,
     "metadata": {},
     "output_type": "execute_result"
    }
   ],
   "source": [
    "max(num_list)"
   ]
  },
  {
   "cell_type": "code",
   "execution_count": 15,
   "id": "e65b6b0c-2eef-4053-b81a-90b7a5a003c5",
   "metadata": {},
   "outputs": [
    {
     "data": {
      "text/plain": [
       "[100, 200, 300]"
      ]
     },
     "execution_count": 15,
     "metadata": {},
     "output_type": "execute_result"
    }
   ],
   "source": [
    "num_list[:3]"
   ]
  },
  {
   "cell_type": "code",
   "execution_count": 16,
   "id": "6be84776-ceac-4c0e-897b-ba0a8c3b9ab0",
   "metadata": {},
   "outputs": [
    {
     "data": {
      "text/plain": [
       "[200, 300, 400, 500]"
      ]
     },
     "execution_count": 16,
     "metadata": {},
     "output_type": "execute_result"
    }
   ],
   "source": [
    "num_list[1:5]"
   ]
  },
  {
   "cell_type": "code",
   "execution_count": 17,
   "id": "35bf38b6-0275-4405-b0b5-4c4334b44d98",
   "metadata": {},
   "outputs": [
    {
     "data": {
      "text/plain": [
       "[800, 700, 600, 500]"
      ]
     },
     "execution_count": 17,
     "metadata": {},
     "output_type": "execute_result"
    }
   ],
   "source": [
    "num_list[-1:-5:-1]"
   ]
  },
  {
   "cell_type": "code",
   "execution_count": 18,
   "id": "16482ddb-25f9-42ac-a6cf-235201e616dc",
   "metadata": {},
   "outputs": [
    {
     "data": {
      "text/plain": [
       "[400, 500, 600, 700]"
      ]
     },
     "execution_count": 18,
     "metadata": {},
     "output_type": "execute_result"
    }
   ],
   "source": [
    "num_list[-5:-1:1]"
   ]
  },
  {
   "cell_type": "code",
   "execution_count": null,
   "id": "7aa8e88b-796a-4591-9862-48206b7e9aba",
   "metadata": {},
   "outputs": [],
   "source": []
  },
  {
   "cell_type": "code",
   "execution_count": 19,
   "id": "dd82efff-78a3-41bc-8c43-3cbf1274981b",
   "metadata": {},
   "outputs": [],
   "source": [
    "list1 = [3, 5, 7]\n",
    "list2 = [2, 3, 4, 5, 6]"
   ]
  },
  {
   "cell_type": "code",
   "execution_count": 21,
   "id": "db14c5f9-58fc-48da-995d-82a702525bfc",
   "metadata": {},
   "outputs": [
    {
     "name": "stdout",
     "output_type": "stream",
     "text": [
      "3 * 2 = 6\n",
      "3 * 3 = 9\n",
      "3 * 4 = 12\n",
      "3 * 5 = 15\n",
      "3 * 6 = 18\n",
      "5 * 2 = 10\n",
      "5 * 3 = 15\n",
      "5 * 4 = 20\n",
      "5 * 5 = 25\n",
      "5 * 6 = 30\n",
      "7 * 2 = 14\n",
      "7 * 3 = 21\n",
      "7 * 4 = 28\n",
      "7 * 5 = 35\n",
      "7 * 6 = 42\n"
     ]
    }
   ],
   "source": [
    "for x in list1:\n",
    "    for y in list2:\n",
    "        print (x,\"*\", y, \"=\", (x*y))"
   ]
  },
  {
   "cell_type": "code",
   "execution_count": null,
   "id": "9e79eb6c-9474-4fd5-b1d5-a0792532ff3a",
   "metadata": {},
   "outputs": [],
   "source": []
  },
  {
   "cell_type": "code",
   "execution_count": 22,
   "id": "dcfbb0d3-f5f2-4d2f-b72d-5f6d52e8ebeb",
   "metadata": {},
   "outputs": [
    {
     "ename": "AttributeError",
     "evalue": "'tuple' object has no attribute 'append'",
     "output_type": "error",
     "traceback": [
      "\u001b[0;31m---------------------------------------------------------------------------\u001b[0m",
      "\u001b[0;31mAttributeError\u001b[0m                            Traceback (most recent call last)",
      "Cell \u001b[0;32mIn[22], line 2\u001b[0m\n\u001b[1;32m      1\u001b[0m t \u001b[38;5;241m=\u001b[39m (\u001b[38;5;241m10\u001b[39m, \u001b[38;5;241m20\u001b[39m, \u001b[38;5;241m30\u001b[39m, \u001b[38;5;241m40\u001b[39m)\n\u001b[0;32m----> 2\u001b[0m t\u001b[38;5;241m.\u001b[39mappend(\u001b[38;5;241m50\u001b[39m)\n",
      "\u001b[0;31mAttributeError\u001b[0m: 'tuple' object has no attribute 'append'"
     ]
    }
   ],
   "source": [
    "t = (10, 20, 30, 40)\n",
    "t.append(50)"
   ]
  },
  {
   "cell_type": "code",
   "execution_count": 23,
   "id": "631bfa67-064f-4b64-b338-aecbc0c927e7",
   "metadata": {},
   "outputs": [
    {
     "ename": "AttributeError",
     "evalue": "'tuple' object has no attribute 'remove'",
     "output_type": "error",
     "traceback": [
      "\u001b[0;31m---------------------------------------------------------------------------\u001b[0m",
      "\u001b[0;31mAttributeError\u001b[0m                            Traceback (most recent call last)",
      "Cell \u001b[0;32mIn[23], line 2\u001b[0m\n\u001b[1;32m      1\u001b[0m t \u001b[38;5;241m=\u001b[39m (\u001b[38;5;241m10\u001b[39m, \u001b[38;5;241m20\u001b[39m, \u001b[38;5;241m30\u001b[39m, \u001b[38;5;241m40\u001b[39m)\n\u001b[0;32m----> 2\u001b[0m t\u001b[38;5;241m.\u001b[39mremove(\u001b[38;5;241m40\u001b[39m)\n",
      "\u001b[0;31mAttributeError\u001b[0m: 'tuple' object has no attribute 'remove'"
     ]
    }
   ],
   "source": [
    "t = (10, 20, 30, 40)\n",
    "t.remove(40)"
   ]
  },
  {
   "cell_type": "code",
   "execution_count": 24,
   "id": "38b58ccb-cbb8-47ed-8bfe-b6fd281241da",
   "metadata": {},
   "outputs": [
    {
     "ename": "TypeError",
     "evalue": "'tuple' object does not support item assignment",
     "output_type": "error",
     "traceback": [
      "\u001b[0;31m---------------------------------------------------------------------------\u001b[0m",
      "\u001b[0;31mTypeError\u001b[0m                                 Traceback (most recent call last)",
      "Cell \u001b[0;32mIn[24], line 2\u001b[0m\n\u001b[1;32m      1\u001b[0m t \u001b[38;5;241m=\u001b[39m (\u001b[38;5;241m10\u001b[39m, \u001b[38;5;241m20\u001b[39m, \u001b[38;5;241m30\u001b[39m, \u001b[38;5;241m40\u001b[39m)\n\u001b[0;32m----> 2\u001b[0m t[\u001b[38;5;241m0\u001b[39m] \u001b[38;5;241m=\u001b[39m \u001b[38;5;241m0\u001b[39m\n",
      "\u001b[0;31mTypeError\u001b[0m: 'tuple' object does not support item assignment"
     ]
    }
   ],
   "source": [
    "t = (10, 20, 30, 40)\n",
    "t[0] = 0"
   ]
  },
  {
   "cell_type": "code",
   "execution_count": null,
   "id": "2716639f-1302-4556-91cc-bec8ffa458c0",
   "metadata": {},
   "outputs": [],
   "source": []
  },
  {
   "cell_type": "code",
   "execution_count": 39,
   "id": "48398d58-60d3-4a66-8624-187fd399b360",
   "metadata": {},
   "outputs": [
    {
     "name": "stdout",
     "output_type": "stream",
     "text": [
      "6\n",
      "가장 긴 문자열 삭제 후 리스트: ['kiwi', 'apple', 'melon']\n"
     ]
    }
   ],
   "source": [
    "fruit_list = ['banana', 'orange', 'kiwi', 'apple', 'melon']\n",
    "\n",
    "# 가장 긴 문자열의 길이 찾기\n",
    "max_length = max(len(fruit) for fruit in fruit_list)\n",
    "\n",
    "print (max_length)\n",
    "# 가장 긴 문자열을 모두 삭제\n",
    "fruit_list = [fruit for fruit in fruit_list if len(fruit) != max_length]\n",
    "\n",
    "\n",
    "print('가장 긴 문자열 삭제 후 리스트:', fruit_list)\n"
   ]
  },
  {
   "cell_type": "code",
   "execution_count": null,
   "id": "f242baa4-b387-483d-ad93-5cae8580feae",
   "metadata": {},
   "outputs": [],
   "source": [
    "fruit_list = ['banana', 'orange', 'kiwi', 'apple', 'melon']\n",
    "\n",
    "# 각 문자열과 해당 문자열의 길이를 아래로 출력\n",
    "for fruit in fruit_list:\n",
    "    print(fruit, \":\", \"문자열의 길이\", len(fruit))\n"
   ]
  },
  {
   "cell_type": "code",
   "execution_count": null,
   "id": "ad16c7c3-084f-4701-acd1-d4e372b0049d",
   "metadata": {},
   "outputs": [],
   "source": []
  },
  {
   "cell_type": "code",
   "execution_count": 40,
   "id": "49bbf8d3-62d6-419d-b259-70093366b0be",
   "metadata": {},
   "outputs": [],
   "source": [
    "x = [1, 2, 3, 4, 5, 6]\n",
    "x.append([4,5])"
   ]
  },
  {
   "cell_type": "code",
   "execution_count": 41,
   "id": "93b51050-76c1-4e7d-8b5f-119fb1673ff5",
   "metadata": {},
   "outputs": [
    {
     "data": {
      "text/plain": [
       "[1, 2, 3, 4, 5, 6, [4, 5]]"
      ]
     },
     "execution_count": 41,
     "metadata": {},
     "output_type": "execute_result"
    }
   ],
   "source": [
    "x"
   ]
  },
  {
   "cell_type": "code",
   "execution_count": 43,
   "id": "6fefabad-f298-450f-852b-5a786e505780",
   "metadata": {},
   "outputs": [
    {
     "data": {
      "text/plain": [
       "[1, 2, 3, 4, 5, 6, [4, 5], 5, 4]"
      ]
     },
     "execution_count": 43,
     "metadata": {},
     "output_type": "execute_result"
    }
   ],
   "source": [
    "x.extend([5,4])\n",
    "x"
   ]
  },
  {
   "cell_type": "code",
   "execution_count": 44,
   "id": "175b1ca2-c35e-4559-a85a-6e6b6438c10d",
   "metadata": {},
   "outputs": [],
   "source": [
    "x = [1, 2, 3, 4, 5, 6]\n",
    "x.remove(2)"
   ]
  },
  {
   "cell_type": "code",
   "execution_count": 45,
   "id": "af9f09f7-87db-432b-80b4-dc8d66aa2fee",
   "metadata": {},
   "outputs": [
    {
     "data": {
      "text/plain": [
       "[1, 3, 4, 5, 6]"
      ]
     },
     "execution_count": 45,
     "metadata": {},
     "output_type": "execute_result"
    }
   ],
   "source": [
    "x"
   ]
  },
  {
   "cell_type": "code",
   "execution_count": 46,
   "id": "a00fef99-490e-4160-a95e-0dc828c6d3ae",
   "metadata": {},
   "outputs": [],
   "source": [
    "x = [1, 2, 3, 4, 5, 6]\n",
    "y = list(x)"
   ]
  },
  {
   "cell_type": "code",
   "execution_count": 47,
   "id": "4c69d54e-11c4-4ef9-a7b0-2da0a975adf1",
   "metadata": {},
   "outputs": [
    {
     "data": {
      "text/plain": [
       "4435032768"
      ]
     },
     "execution_count": 47,
     "metadata": {},
     "output_type": "execute_result"
    }
   ],
   "source": [
    "id(x)"
   ]
  },
  {
   "cell_type": "code",
   "execution_count": 48,
   "id": "e49a3db2-fe21-4beb-ac29-c84a141ecdf2",
   "metadata": {},
   "outputs": [
    {
     "data": {
      "text/plain": [
       "4453578304"
      ]
     },
     "execution_count": 48,
     "metadata": {},
     "output_type": "execute_result"
    }
   ],
   "source": [
    "id(y)"
   ]
  },
  {
   "cell_type": "code",
   "execution_count": null,
   "id": "cc2a91c0-0e03-47c0-a99b-37587d71267d",
   "metadata": {},
   "outputs": [],
   "source": []
  }
 ],
 "metadata": {
  "kernelspec": {
   "display_name": "Python 3 (ipykernel)",
   "language": "python",
   "name": "python3"
  },
  "language_info": {
   "codemirror_mode": {
    "name": "ipython",
    "version": 3
   },
   "file_extension": ".py",
   "mimetype": "text/x-python",
   "name": "python",
   "nbconvert_exporter": "python",
   "pygments_lexer": "ipython3",
   "version": "3.11.7"
  }
 },
 "nbformat": 4,
 "nbformat_minor": 5
}
