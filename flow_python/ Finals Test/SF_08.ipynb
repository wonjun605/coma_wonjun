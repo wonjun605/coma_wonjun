{
 "cells": [
  {
   "cell_type": "code",
   "execution_count": 1,
   "id": "b76f6890-6645-49cd-af7b-93b95ba50f9e",
   "metadata": {},
   "outputs": [],
   "source": [
    "phone_book = {}"
   ]
  },
  {
   "cell_type": "code",
   "execution_count": 2,
   "id": "81d8f157-0b70-44a0-8e93-4adf960b95cc",
   "metadata": {},
   "outputs": [],
   "source": [
    "phone_book[\"홍길동\"] = \"010-12324-5678\""
   ]
  },
  {
   "cell_type": "code",
   "execution_count": 3,
   "id": "68f49e1d-07a5-4b7d-9e68-3c3607a851c6",
   "metadata": {},
   "outputs": [
    {
     "name": "stdout",
     "output_type": "stream",
     "text": [
      "{'홍길동': '010-12324-5678'}\n"
     ]
    }
   ],
   "source": [
    "print(phone_book)"
   ]
  },
  {
   "cell_type": "code",
   "execution_count": 4,
   "id": "c2e3daf2-d0fa-48f9-a592-ee8855ac115b",
   "metadata": {},
   "outputs": [],
   "source": [
    "person_dic = {'Name': '홍길동', 'Age' : 27, 'Class' : '초급'}"
   ]
  },
  {
   "cell_type": "code",
   "execution_count": 6,
   "id": "ea70b689-1bf1-49eb-bb43-34616c6921ed",
   "metadata": {},
   "outputs": [
    {
     "name": "stdout",
     "output_type": "stream",
     "text": [
      "홍길동\n",
      "27\n"
     ]
    }
   ],
   "source": [
    "print(person_dic['Name'])\n",
    "print(person_dic['Age'])"
   ]
  },
  {
   "cell_type": "code",
   "execution_count": 7,
   "id": "8cfa7c80-bc07-444e-b71b-d668e491d0a0",
   "metadata": {},
   "outputs": [
    {
     "data": {
      "text/plain": [
       "dict_keys(['홍길동'])"
      ]
     },
     "execution_count": 7,
     "metadata": {},
     "output_type": "execute_result"
    }
   ],
   "source": [
    "phone_book.keys()"
   ]
  },
  {
   "cell_type": "code",
   "execution_count": 12,
   "id": "cd15578b-c887-4778-a98a-2565055ddf2d",
   "metadata": {},
   "outputs": [],
   "source": [
    "phone_book = {'강감찬' : '010-2222-3333', '이순신' : '010-4444-5555'}"
   ]
  },
  {
   "cell_type": "code",
   "execution_count": 13,
   "id": "09291b52-7d38-4cd3-886a-f62ee6eee3d4",
   "metadata": {},
   "outputs": [
    {
     "data": {
      "text/plain": [
       "{'강감찬': '010-2222-3333', '이순신': '010-4444-5555'}"
      ]
     },
     "execution_count": 13,
     "metadata": {},
     "output_type": "execute_result"
    }
   ],
   "source": [
    "phone_book"
   ]
  },
  {
   "cell_type": "code",
   "execution_count": 14,
   "id": "b0152eae-b770-4033-b9c3-0cb9cc1a3350",
   "metadata": {},
   "outputs": [],
   "source": [
    "phone_book['홍길동'] =  '010-1234-5678'"
   ]
  },
  {
   "cell_type": "code",
   "execution_count": 15,
   "id": "23424697-c296-4250-9ba0-6cf321f7b2b9",
   "metadata": {},
   "outputs": [
    {
     "data": {
      "text/plain": [
       "{'강감찬': '010-2222-3333', '이순신': '010-4444-5555', '홍길동': '010-1234-5678'}"
      ]
     },
     "execution_count": 15,
     "metadata": {},
     "output_type": "execute_result"
    }
   ],
   "source": [
    "phone_book"
   ]
  },
  {
   "cell_type": "code",
   "execution_count": 18,
   "id": "2fbcc33d-000a-47a5-80f0-a0744efc8aed",
   "metadata": {},
   "outputs": [
    {
     "data": {
      "text/plain": [
       "dict_values(['010-2222-3333', '010-4444-5555', '010-1234-5678'])"
      ]
     },
     "execution_count": 18,
     "metadata": {},
     "output_type": "execute_result"
    }
   ],
   "source": [
    "phone_book.values()"
   ]
  },
  {
   "cell_type": "code",
   "execution_count": 19,
   "id": "74f5b642-5b8f-4f9a-bb39-41edaec639b7",
   "metadata": {},
   "outputs": [
    {
     "data": {
      "text/plain": [
       "dict_items([('강감찬', '010-2222-3333'), ('이순신', '010-4444-5555'), ('홍길동', '010-1234-5678')])"
      ]
     },
     "execution_count": 19,
     "metadata": {},
     "output_type": "execute_result"
    }
   ],
   "source": [
    "phone_book.items()"
   ]
  },
  {
   "cell_type": "code",
   "execution_count": 20,
   "id": "92dbf805-8379-4845-904c-5bd20999c262",
   "metadata": {},
   "outputs": [
    {
     "name": "stdout",
     "output_type": "stream",
     "text": [
      "강감찬 : 010-2222-3333\n",
      "이순신 : 010-4444-5555\n",
      "홍길동 : 010-1234-5678\n"
     ]
    }
   ],
   "source": [
    "for name, phone_num in phone_book.items():\n",
    "    print(name,':',phone_num)"
   ]
  },
  {
   "cell_type": "markdown",
   "id": "e4cc1cf2-02ba-421d-91b8-a0c556374992",
   "metadata": {},
   "source": [
    "## 8.1 도전 문제"
   ]
  },
  {
   "cell_type": "code",
   "execution_count": 35,
   "id": "2302d16f-0d91-4f86-a512-c6a9585ae9a5",
   "metadata": {},
   "outputs": [],
   "source": [
    "contact = {'성' : '이', '이름' : '원준', '직장' : '학생'}"
   ]
  },
  {
   "cell_type": "code",
   "execution_count": 36,
   "id": "9a187a04-42e9-49ae-b2b1-fa73dad10004",
   "metadata": {},
   "outputs": [
    {
     "data": {
      "text/plain": [
       "dict_items([('성', '이'), ('이름', '원준'), ('직장', '학생')])"
      ]
     },
     "execution_count": 36,
     "metadata": {},
     "output_type": "execute_result"
    }
   ],
   "source": [
    "contact.items()"
   ]
  },
  {
   "cell_type": "code",
   "execution_count": 37,
   "id": "158d94d2-c536-4cfe-90fa-0cd6322f89a0",
   "metadata": {},
   "outputs": [
    {
     "name": "stdout",
     "output_type": "stream",
     "text": [
      "성 : 이\n",
      "이름 : 원준\n",
      "직장 : 학생\n"
     ]
    }
   ],
   "source": [
    "for key, value in contact.items():\n",
    "    print(key, ':', value)"
   ]
  },
  {
   "cell_type": "markdown",
   "id": "adacabe0-93cf-4f81-8ddf-bcc9bb43e691",
   "metadata": {},
   "source": [
    "## -----"
   ]
  },
  {
   "cell_type": "code",
   "execution_count": 43,
   "id": "461cdb40-4b7b-435a-9f11-64be62c34be8",
   "metadata": {},
   "outputs": [],
   "source": [
    "phone_book = {'홍길동' : '010-1234-5678', '강감찬' : '010-1234-8990', '이순신' : '010-1234-7788'}"
   ]
  },
  {
   "cell_type": "code",
   "execution_count": 49,
   "id": "c922139b-52b3-4d01-8572-93f464169444",
   "metadata": {},
   "outputs": [
    {
     "name": "stdout",
     "output_type": "stream",
     "text": [
      "홍길동 010-1234-5678\n",
      "강감찬 010-1234-8990\n",
      "이순신 010-1234-7788\n"
     ]
    }
   ],
   "source": [
    "for key, num in phone_book.items():\n",
    "    print ( key, num )"
   ]
  },
  {
   "cell_type": "code",
   "execution_count": 51,
   "id": "a408eddc-ef5d-43d9-bee3-83d3f6779a0f",
   "metadata": {},
   "outputs": [
    {
     "ename": "KeyError",
     "evalue": "'임꺽정'",
     "output_type": "error",
     "traceback": [
      "\u001b[0;31m---------------------------------------------------------------------------\u001b[0m",
      "\u001b[0;31mKeyError\u001b[0m                                  Traceback (most recent call last)",
      "Cell \u001b[0;32mIn[51], line 2\u001b[0m\n\u001b[1;32m      1\u001b[0m phone_book\u001b[38;5;241m.\u001b[39mget(\u001b[38;5;124m'\u001b[39m\u001b[38;5;124m임꺽정\u001b[39m\u001b[38;5;124m'\u001b[39m)\n\u001b[0;32m----> 2\u001b[0m phone_book[\u001b[38;5;124m'\u001b[39m\u001b[38;5;124m임꺽정\u001b[39m\u001b[38;5;124m'\u001b[39m]\n",
      "\u001b[0;31mKeyError\u001b[0m: '임꺽정'"
     ]
    }
   ],
   "source": [
    "phone_book.get('임꺽정')\n",
    "phone_book['임꺽정']"
   ]
  },
  {
   "cell_type": "code",
   "execution_count": 60,
   "id": "2b33b7a4-160f-4ee6-9425-e7095f39bbe5",
   "metadata": {},
   "outputs": [
    {
     "name": "stdout",
     "output_type": "stream",
     "text": [
      "phone_book = {'강감찬': '010-1234-8990', '이순신': '010-1234-7788'}\n",
      "phone_num = 010-1234-5678\n"
     ]
    }
   ],
   "source": [
    "phone_book = {'홍길동' : '010-1234-5678', '강감찬' : '010-1234-8990', '이순신' : '010-1234-7788'}\n",
    "phone_num = phone_book.pop('홍길동')\n",
    "print('phone_book =', phone_book)\n",
    "print('phone_num =', phone_num)"
   ]
  },
  {
   "cell_type": "code",
   "execution_count": 63,
   "id": "740cc9d0-c6fa-4691-831e-145b5fb2f75c",
   "metadata": {},
   "outputs": [
    {
     "name": "stdout",
     "output_type": "stream",
     "text": [
      "phone_book = {'홍길동': '010-1234-5678', '강감찬': '010-1234-8990'}\n",
      "phone_num = ('이순신', '010-1234-7788')\n"
     ]
    }
   ],
   "source": [
    "phone_book = {'홍길동' : '010-1234-5678', '강감찬' : '010-1234-8990', '이순신' : '010-1234-7788'}\n",
    "phone_num = phone_book.popitem()\n",
    "print('phone_book =', phone_book)\n",
    "print('phone_num =', phone_num)"
   ]
  },
  {
   "cell_type": "code",
   "execution_count": null,
   "id": "1a30f7be-cc7e-4bf8-a9c8-648b217262b2",
   "metadata": {},
   "outputs": [],
   "source": []
  },
  {
   "cell_type": "code",
   "execution_count": 2,
   "id": "5b8ed9e9-8d36-4a7e-b7d9-2bad5a29642b",
   "metadata": {},
   "outputs": [
    {
     "data": {
      "text/plain": [
       "{1, 2, 3}"
      ]
     },
     "execution_count": 2,
     "metadata": {},
     "output_type": "execute_result"
    }
   ],
   "source": [
    "numbers = {2, 1, 3}\n",
    "numbers"
   ]
  },
  {
   "cell_type": "code",
   "execution_count": 3,
   "id": "26d07a40-36a4-414d-8905-259d6749cd8a",
   "metadata": {},
   "outputs": [
    {
     "data": {
      "text/plain": [
       "{1, 2, 3, 4, 5, 6}"
      ]
     },
     "execution_count": 3,
     "metadata": {},
     "output_type": "execute_result"
    }
   ],
   "source": [
    "a = [1,1,1,1,2,2,2,3,3,4,5,5,6]\n",
    "set(a)"
   ]
  },
  {
   "cell_type": "code",
   "execution_count": 5,
   "id": "54a6252a-1af9-45fd-86fd-f9aafbe17f5f",
   "metadata": {},
   "outputs": [
    {
     "data": {
      "text/plain": [
       "{1, 2, 5, 6, 33}"
      ]
     },
     "execution_count": 5,
     "metadata": {},
     "output_type": "execute_result"
    }
   ],
   "source": [
    "set([1,1,1,2,2,33,5,5,5,6])"
   ]
  },
  {
   "cell_type": "code",
   "execution_count": 6,
   "id": "5ec5de75-91a7-403a-b4b5-3f6169e55cf0",
   "metadata": {},
   "outputs": [],
   "source": [
    "numbers = list()"
   ]
  },
  {
   "cell_type": "code",
   "execution_count": 7,
   "id": "6c5c39f4-5077-4c3d-b80d-9e7f052df177",
   "metadata": {},
   "outputs": [
    {
     "data": {
      "text/plain": [
       "[]"
      ]
     },
     "execution_count": 7,
     "metadata": {},
     "output_type": "execute_result"
    }
   ],
   "source": [
    "numbers"
   ]
  },
  {
   "cell_type": "code",
   "execution_count": 9,
   "id": "eb270cab-ce6e-4e9c-bfa3-fa3a7a2243a2",
   "metadata": {},
   "outputs": [
    {
     "data": {
      "text/plain": [
       "{1, 2, 3, 4}"
      ]
     },
     "execution_count": 9,
     "metadata": {},
     "output_type": "execute_result"
    }
   ],
   "source": [
    "numbers = {1, 2, 3}\n",
    "numbers.add(4)\n",
    "numbers"
   ]
  },
  {
   "cell_type": "code",
   "execution_count": 10,
   "id": "f31017e1-4af8-4936-bbe1-74016545e090",
   "metadata": {},
   "outputs": [
    {
     "data": {
      "text/plain": [
       "{1, 2, 3}"
      ]
     },
     "execution_count": 10,
     "metadata": {},
     "output_type": "execute_result"
    }
   ],
   "source": [
    "numbers.remove(4)\n",
    "numbers"
   ]
  },
  {
   "cell_type": "code",
   "execution_count": 11,
   "id": "91292998-aa1a-493c-a313-d0e3e90d6ca8",
   "metadata": {},
   "outputs": [
    {
     "data": {
      "text/plain": [
       "True"
      ]
     },
     "execution_count": 11,
     "metadata": {},
     "output_type": "execute_result"
    }
   ],
   "source": [
    "a = {1, 2, 3}\n",
    "b = {1, 2, 3}\n",
    "\n",
    "a == b"
   ]
  },
  {
   "cell_type": "code",
   "execution_count": 15,
   "id": "db58880d-f6ea-4f1f-a018-71cf4f829c9a",
   "metadata": {},
   "outputs": [
    {
     "data": {
      "text/plain": [
       "True"
      ]
     },
     "execution_count": 15,
     "metadata": {},
     "output_type": "execute_result"
    }
   ],
   "source": [
    "a = {1,2,3,4,5}\n",
    "b = {1,2,3}\n",
    "\n",
    "b < a"
   ]
  },
  {
   "cell_type": "code",
   "execution_count": 18,
   "id": "a967cd4f-36bb-4c73-930f-df940af26d72",
   "metadata": {},
   "outputs": [
    {
     "data": {
      "text/plain": [
       "[1, 3, 4, 5, 7]"
      ]
     },
     "execution_count": 18,
     "metadata": {},
     "output_type": "execute_result"
    }
   ],
   "source": [
    "a_set = {1, 5, 4, 3, 7, 4}\n",
    "sorted(a_set)"
   ]
  },
  {
   "cell_type": "code",
   "execution_count": 19,
   "id": "5b4bcdbe-cc1b-4d32-aabd-62be76107e38",
   "metadata": {},
   "outputs": [],
   "source": [
    "A = {1, 2, 3}\n",
    "B = {3, 4, 5}"
   ]
  },
  {
   "cell_type": "code",
   "execution_count": 20,
   "id": "2f0c0f5c-5367-4ed2-8de8-993fa5601161",
   "metadata": {},
   "outputs": [
    {
     "data": {
      "text/plain": [
       "{1, 2, 3, 4, 5}"
      ]
     },
     "execution_count": 20,
     "metadata": {},
     "output_type": "execute_result"
    }
   ],
   "source": [
    "A | B"
   ]
  },
  {
   "cell_type": "code",
   "execution_count": 21,
   "id": "372d5634-c270-438f-91c5-e95d821535da",
   "metadata": {},
   "outputs": [
    {
     "data": {
      "text/plain": [
       "{1, 2, 3, 4, 5}"
      ]
     },
     "execution_count": 21,
     "metadata": {},
     "output_type": "execute_result"
    }
   ],
   "source": [
    "A.union(B)"
   ]
  },
  {
   "cell_type": "code",
   "execution_count": 22,
   "id": "e1783159-6a6c-4770-99ec-2b02708991a9",
   "metadata": {},
   "outputs": [
    {
     "data": {
      "text/plain": [
       "{3}"
      ]
     },
     "execution_count": 22,
     "metadata": {},
     "output_type": "execute_result"
    }
   ],
   "source": [
    "A & B"
   ]
  },
  {
   "cell_type": "code",
   "execution_count": 23,
   "id": "d7949b9f-77da-4dc4-99d4-856f35eba130",
   "metadata": {},
   "outputs": [
    {
     "data": {
      "text/plain": [
       "{3}"
      ]
     },
     "execution_count": 23,
     "metadata": {},
     "output_type": "execute_result"
    }
   ],
   "source": [
    "A.intersection(B)"
   ]
  },
  {
   "cell_type": "code",
   "execution_count": 24,
   "id": "23247572-8c16-4acc-93e9-10e9e184cf65",
   "metadata": {},
   "outputs": [
    {
     "data": {
      "text/plain": [
       "{1, 2}"
      ]
     },
     "execution_count": 24,
     "metadata": {},
     "output_type": "execute_result"
    }
   ],
   "source": [
    "A - B"
   ]
  },
  {
   "cell_type": "code",
   "execution_count": 27,
   "id": "21f6b7ac-5e0a-42ae-9eea-21813e2ad10f",
   "metadata": {},
   "outputs": [
    {
     "data": {
      "text/plain": [
       "{1, 2}"
      ]
     },
     "execution_count": 27,
     "metadata": {},
     "output_type": "execute_result"
    }
   ],
   "source": [
    "A.difference(B)"
   ]
  },
  {
   "cell_type": "code",
   "execution_count": 28,
   "id": "649f0cc9-dce5-4b07-a2c2-4c156ac64874",
   "metadata": {},
   "outputs": [
    {
     "data": {
      "text/plain": [
       "{1, 2, 4, 5}"
      ]
     },
     "execution_count": 28,
     "metadata": {},
     "output_type": "execute_result"
    }
   ],
   "source": [
    "A ^ B"
   ]
  },
  {
   "cell_type": "code",
   "execution_count": 30,
   "id": "34b02f7a-6e0b-4e19-98bd-8cca5f585550",
   "metadata": {},
   "outputs": [
    {
     "data": {
      "text/plain": [
       "{1, 2, 4, 5}"
      ]
     },
     "execution_count": 30,
     "metadata": {},
     "output_type": "execute_result"
    }
   ],
   "source": [
    "A.symmetric_difference(B)"
   ]
  },
  {
   "cell_type": "code",
   "execution_count": null,
   "id": "186a10ce-d5e8-4787-977a-370582b9af44",
   "metadata": {},
   "outputs": [],
   "source": [
    "a = { 1, 2, 3}"
   ]
  },
  {
   "cell_type": "markdown",
   "id": "5578c77a-217d-4764-8e1a-f68500e54f7c",
   "metadata": {},
   "source": []
  },
  {
   "cell_type": "code",
   "execution_count": 6,
   "id": "fb296bcf-010a-4ed5-810f-7ae953a4c207",
   "metadata": {},
   "outputs": [
    {
     "name": "stdin",
     "output_type": "stream",
     "text": [
      "사과, 배, 수박, 귤, 포도, 가격을 공백으로 구분하여 입력:  3000 4500 6000 2400 3400\n"
     ]
    },
    {
     "name": "stdout",
     "output_type": "stream",
     "text": [
      "-------------- 오늘의 과일 가격 -----------------\n",
      "사과 3000 원\n",
      "배 4500 원\n",
      "수박 6000 원\n",
      "귤 2400 원\n",
      "포도 3400 원\n"
     ]
    }
   ],
   "source": [
    "fruits_dic = {\n",
    "    '사과' : 0,\n",
    "    '배': 0,\n",
    "    '수박' : 0,\n",
    "    '귤' : 0,\n",
    "    '포도' :0\n",
    "}\n",
    "\n",
    "prices= input(\"사과, 배, 수박, 귤, 포도, 가격을 공백으로 구분하여 입력: \").split()\n",
    "\n",
    "fruits_dic['사과'] = int(prices[0])\n",
    "fruits_dic['배'] = int(prices[1])\n",
    "fruits_dic['수박'] = int(prices[2])\n",
    "fruits_dic['귤'] = int(prices[3])\n",
    "fruits_dic['포도'] = int(prices[4])\n",
    "\n",
    "print(\"-------------- 오늘의 과일 가격 -----------------\")\n",
    "for fruits, price in fruits_dic.items():\n",
    "    print(f\"{fruits} {price} 원\")"
   ]
  },
  {
   "cell_type": "code",
   "execution_count": 7,
   "id": "c1f3335f-126c-4bdc-8e27-93c270ecd23a",
   "metadata": {},
   "outputs": [],
   "source": [
    "student_tup = (('241101', '박동윤', '010-1234-4500'), ('241102', '김은지', '010-2230-6540'),\n",
    "                ('241103', '이지은', '010-3232-7788'))"
   ]
  },
  {
   "cell_type": "code",
   "execution_count": 16,
   "id": "409b4d80-c242-4196-b090-f485981ea6b9",
   "metadata": {},
   "outputs": [
    {
     "name": "stdout",
     "output_type": "stream",
     "text": [
      "{'211101' : ['최성훈', '010-1234-4500']}\n",
      "{'211102' : ['김은지', '010-2230-6540']}\n",
      "{'211103' : ['이세은', '010-3232-7788']}\n"
     ]
    }
   ],
   "source": [
    "# 학생 정보를 저장할 딕셔너리 초기화\n",
    "student = {\n",
    "    '211101': ['최성훈', '010-1234-4500'],\n",
    "    '211102': ['김은지', '010-2230-6540'],\n",
    "    '211103': ['이세은', '010-3232-7788']\n",
    "}\n",
    "\n",
    "# 각 학생의 정보를 포맷에 맞게 출력\n",
    "for student_id, details in student.items():\n",
    "    name, phone = details\n",
    "    print(f\"{{'{student_id}' : ['{name}', '{phone}']}}\")\n"
   ]
  },
  {
   "cell_type": "code",
   "execution_count": 24,
   "id": "6e02f19b-f170-4249-b035-4dd8457c0b0e",
   "metadata": {},
   "outputs": [
    {
     "name": "stdout",
     "output_type": "stream",
     "text": [
      "학생의 정보 목록\n",
      "{'211101', '[최성훈, 010-1234-4500, 4.3]'}\n",
      "{'211102', '[김은지, 010-2230-6540, 3.9]'}\n",
      "{'211103', '[이세은, 010-3232-7788, 4.25]'}\n"
     ]
    }
   ],
   "source": [
    "student = {'211101' : ['최성훈', '010-1234-4500', 4.3], '211102' : ['김은지', '010-2230-6540', 3.9],\n",
    "           '211103' : ['이세은', '010-3232-7788', 4.25] }\n",
    " \n",
    "print('학생의 정보 목록')\n",
    " \n",
    "for student_id, details in student.items():\n",
    "    name, number, score = details\n",
    "    print(f\"{{'{student_id}', '[{name}, {number}, {score}]'}}\")"
   ]
  },
  {
   "cell_type": "code",
   "execution_count": 29,
   "id": "e93f6862-03f2-4e0d-9316-8a5eabd3b766",
   "metadata": {},
   "outputs": [
    {
     "name": "stdout",
     "output_type": "stream",
     "text": [
      "4.25\n"
     ]
    }
   ],
   "source": [
    "score_sum = 0\n",
    "for stuendt_id, datails in student.items():\n",
    "    name, number, score = details\n",
    "    score_sum += score\n",
    "\n",
    "print(score_sum / 3)"
   ]
  },
  {
   "cell_type": "code",
   "execution_count": 40,
   "id": "833101eb-65ef-4618-95fc-d33647eaab59",
   "metadata": {},
   "outputs": [
    {
     "name": "stdout",
     "output_type": "stream",
     "text": [
      "'전체 학생의 학점 평균 :' 4.15\n"
     ]
    }
   ],
   "source": [
    "# 주어진 학생 정보 딕셔너리\n",
    "student = {\n",
    "    '211101': ['최성훈', '010-1234-4500', 4.3],\n",
    "    '211102': ['김은지', '010-2230-6540', 3.9],\n",
    "    '211103': ['이세은', '010-3232-7788', 4.25]\n",
    "}\n",
    "\n",
    "# 학점 합계를 계산할 변수 초기화\n",
    "total_score = 0\n",
    "\n",
    "# 학생 수 계산\n",
    "num_students = len(student)\n",
    "\n",
    "# 각 학생의 학점을 합계에 더함\n",
    "for details in student.values():\n",
    "    total_score += details[2]\n",
    "\n",
    "# 학점 평균 계산\n",
    "average_score = total_score / num_students\n",
    "\n",
    "# 학점 평균 출력\n",
    "# 학점 평균 출력\n",
    "print(f\"'전체 학생의 학점 평균 :' {average_score:.2f}\")\n"
   ]
  }
 ],
 "metadata": {
  "kernelspec": {
   "display_name": "Python 3 (ipykernel)",
   "language": "python",
   "name": "python3"
  },
  "language_info": {
   "codemirror_mode": {
    "name": "ipython",
    "version": 3
   },
   "file_extension": ".py",
   "mimetype": "text/x-python",
   "name": "python",
   "nbconvert_exporter": "python",
   "pygments_lexer": "ipython3",
   "version": "3.11.7"
  }
 },
 "nbformat": 4,
 "nbformat_minor": 5
}
