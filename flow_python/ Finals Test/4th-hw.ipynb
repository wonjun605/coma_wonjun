{
 "cells": [
  {
   "cell_type": "markdown",
   "id": "b9d0093f-8f46-4132-91ff-532e65ee36b8",
   "metadata": {},
   "source": [
    "# 07 데이터를 리스트와 튜플로 묶어보자\n",
    "\n",
    "- 여러 개의 데이터를 하나로 묶어서 처리하는 리스트와 튜플을 배워 봅시다. \n",
    "- 리스트나 튜플의 항목들을 인덱스를 이용해서 접근해 봅시다. \n",
    "- 리스트는 가변속성을 갖고 튜플은 불변속성을 가집니다. 이를 상세하게 알아봅시다. \n",
    "- 리스트나 튜플 같이 데이터가 연속해서 나타나는 것을 시퀀스라고 합니다. \n",
    "- 시퀀스의 일부를 잘라내는 슬라이싱을 익혀 봅시다. \n",
    "- 슬라이싱을 이용하여 효율적으로 데이터를 다루도록 연습해 봅시다. \n",
    "- 복잡한 기능의 자료형을 설계하고 만드는 객체지향 개념을 살펴봅시다.\n"
   ]
  },
  {
   "cell_type": "markdown",
   "id": "a773c23d-a53f-41ee-9927-becf0f31918f",
   "metadata": {},
   "source": [
    "## 7.1 \n",
    "다음과 같이 파이썬 프로그램을 실행할 적에, 다음 밑줄 안에 들어갈 알맞은 결과는 무엇인가? 미리 예측해본 후 실행시켜보고 그 결과를 적어라.\n",
    "\n",
    "```\n",
    "num_list = [100, 200, 300, 400, 500, 600, 700, 800]\n",
    "high = 6\n",
    "low = 3\n",
    "```"
   ]
  },
  {
   "cell_type": "code",
   "execution_count": null,
   "id": "97121fb5-556e-40f6-a19e-15cbb6e24bda",
   "metadata": {},
   "outputs": [],
   "source": [
    "num_list = [100, 200, 300, 400, 500, 600, 700, 800]\r\n",
    "high = 6\r\n",
    "low = 3"
   ]
  },
  {
   "cell_type": "code",
   "execution_count": null,
   "id": "58354a05-8d12-407e-ada3-5e442385eeac",
   "metadata": {},
   "outputs": [],
   "source": [
    "num_list[high]  # (1)"
   ]
  },
  {
   "cell_type": "code",
   "execution_count": null,
   "id": "136cd2d4-e20d-43f6-aaf0-1fd3b241a327",
   "metadata": {},
   "outputs": [],
   "source": [
    "num_list[high - 2]  # (2)"
   ]
  },
  {
   "cell_type": "code",
   "execution_count": null,
   "id": "7c8a5240-96c2-4c05-adcd-d33003e5879a",
   "metadata": {},
   "outputs": [],
   "source": [
    "num_list[high - low]  # (3)"
   ]
  },
  {
   "cell_type": "code",
   "execution_count": null,
   "id": "c4aaec19-fda0-4235-9270-c9382691c8be",
   "metadata": {},
   "outputs": [],
   "source": [
    "num_list[low - high] # (4)"
   ]
  },
  {
   "cell_type": "code",
   "execution_count": null,
   "id": "d70cced1-151f-4fee-a136-31f2bf277ba9",
   "metadata": {},
   "outputs": [],
   "source": [
    "num_list[-1] # (5)"
   ]
  },
  {
   "cell_type": "code",
   "execution_count": null,
   "id": "c4b6a76e-ad8c-4fe9-a63e-e7bd886ce9f8",
   "metadata": {},
   "outputs": [],
   "source": [
    "num_list[-low] # (6)"
   ]
  },
  {
   "cell_type": "code",
   "execution_count": null,
   "id": "1cf8a1f6-2add-42cf-b8f0-a20bde219b2e",
   "metadata": {},
   "outputs": [],
   "source": [
    "num_list[2 * 3] # (7)"
   ]
  },
  {
   "cell_type": "code",
   "execution_count": null,
   "id": "f8d42f33-a971-45bd-8fe5-8d387d817a01",
   "metadata": {},
   "outputs": [],
   "source": [
    "num_list[2] * 3 # (8)"
   ]
  },
  {
   "cell_type": "code",
   "execution_count": null,
   "id": "2192ede3-824e-44c3-87d1-36e45c7d2df7",
   "metadata": {},
   "outputs": [],
   "source": [
    "num_list[5 % 4] # (9)"
   ]
  },
  {
   "cell_type": "code",
   "execution_count": null,
   "id": "bc5da7fc-c44d-40ea-be1c-621bb2e2f1fd",
   "metadata": {},
   "outputs": [],
   "source": [
    "len(num_list) # (10)"
   ]
  },
  {
   "cell_type": "code",
   "execution_count": null,
   "id": "75b9c6c9-bae0-4f8f-a2b3-0b81c6809758",
   "metadata": {},
   "outputs": [],
   "source": [
    "min(num_list) # (11)"
   ]
  },
  {
   "cell_type": "code",
   "execution_count": null,
   "id": "fc7a08e7-f12e-409c-96f4-cf864e1d02ba",
   "metadata": {},
   "outputs": [],
   "source": [
    "max(num_list) # (12)"
   ]
  },
  {
   "cell_type": "code",
   "execution_count": null,
   "id": "95aea4e9-355e-4b62-b684-e08dfcba86a4",
   "metadata": {},
   "outputs": [],
   "source": [
    "num_list[:3] # (13)"
   ]
  },
  {
   "cell_type": "code",
   "execution_count": null,
   "id": "3afcea32-4cd1-459b-8b67-f664d1d4aeb6",
   "metadata": {},
   "outputs": [],
   "source": [
    "num_list[1:5] # (14)"
   ]
  },
  {
   "cell_type": "code",
   "execution_count": null,
   "id": "417f678a-de25-4ed3-ad7c-78d1866bd709",
   "metadata": {},
   "outputs": [],
   "source": [
    "num_list[-1:-5:-1] # (15)"
   ]
  },
  {
   "cell_type": "code",
   "execution_count": null,
   "id": "dbf9d8b6-4681-49ad-a891-ffea410c15a3",
   "metadata": {},
   "outputs": [],
   "source": [
    "num_list[-5:-1:1] # (16)"
   ]
  },
  {
   "cell_type": "markdown",
   "id": "26242154-162e-4ba8-8835-a14dcc412f14",
   "metadata": {},
   "source": [
    "## 7.2 \n",
    "다음과 같은 list1, list2가 있을 경우 이중 for 루프를 사용하여 list1과 list2의 각 원소를 곱한 후 원소의 곱셈을 아래와 같이 출력하여라.\n",
    "```\n",
    "list1 = [3, 5, 7]\n",
    "list2 = [2, 3, 4, 5, 6]\n",
    "\n",
    "3 * 2 = 6\n",
    "3 * 3 = 9\n",
    "3 * 4 = 12\n",
    "3 * 5 = 15\n",
    "3 * 6 = 18\n",
    "...\n",
    "```"
   ]
  },
  {
   "cell_type": "code",
   "execution_count": null,
   "id": "67575c86-9c85-4e3b-852d-153d342fd23d",
   "metadata": {},
   "outputs": [],
   "source": []
  },
  {
   "cell_type": "markdown",
   "id": "d1083726-f78a-444d-b12f-270aadd0d4f0",
   "metadata": {},
   "source": [
    "# 7.4 \n",
    "다음의 코드에서 잘못된 부분은 무엇인가? 어떤 이유에서 오류가 발생하는지 설명하라.\n",
    "\n",
    "```\n",
    "t = (10, 20, 30, 40)\n",
    "t.append(50)\n",
    "```\n",
    "\n",
    "```\n",
    "t = (10, 20, 30, 40)\n",
    "t.remove(40)\n",
    "```\n",
    "\n",
    "```\n",
    "t =(10, 20, 30, 40)\n",
    "t[0] = 0\n",
    "```"
   ]
  },
  {
   "cell_type": "code",
   "execution_count": null,
   "id": "a9e4c0b6-90c9-491a-8552-7b584ef7ad23",
   "metadata": {},
   "outputs": [],
   "source": []
  },
  {
   "cell_type": "markdown",
   "id": "cf9cfe3e-e597-4f41-993a-22e5871d1376",
   "metadata": {},
   "source": [
    "## 7.7 \n",
    "`fruit_list = ['banana', 'orange', 'kiwi', 'apple', 'melon']` 라는 리스트가 존재한다. 이 리스트에 대하여 다음과 같은 작업을 수행하여라.\n",
    "\n",
    "1) 1) 이 fruit_list에서 가장 길이가 긴 문자열을 찾아서 출력하고 이 리스트에서 삭제하라. 이 때 동일한 길이의 문자열이 있을 경우 이들을 모두 삭제하라.\n",
    "```\n",
    "가장 길이가 긴 문자열 : banana, orange\n",
    "fruit_list = ['kiwi', 'apple', 'melon']\n",
    "```"
   ]
  },
  {
   "cell_type": "code",
   "execution_count": null,
   "id": "e2662333-d163-4b55-97af-8d4a32ea179b",
   "metadata": {},
   "outputs": [],
   "source": [
    "fruit_list = ['banana', 'orange', 'kiwi', 'apple', 'melon']"
   ]
  },
  {
   "cell_type": "code",
   "execution_count": null,
   "id": "9d2379b4-d417-447f-863c-5b3ced332cc1",
   "metadata": {},
   "outputs": [],
   "source": []
  },
  {
   "cell_type": "markdown",
   "id": "c605637b-34e7-4f2f-a51c-046adbf8e16f",
   "metadata": {},
   "source": [
    "2) 이 fruit_list와 for 제어문을 이용하여 다음과 같은 문장을 출력하여라.\n",
    "```\n",
    "banana : 문자열의 길이 6\n",
    "orange : 문자열의 길이 6\n",
    "kiwi : 문자열의 길이 4\n",
    "apple : 문자열의 길이 5\n",
    "melon : 문자열의 길이 5\n",
    "```"
   ]
  },
  {
   "cell_type": "code",
   "execution_count": null,
   "id": "23c88a42-cae3-4b53-8a6b-f84dbd633021",
   "metadata": {},
   "outputs": [],
   "source": []
  },
  {
   "cell_type": "markdown",
   "id": "c48d1405-9aa6-4c33-ab24-7c1451f796b0",
   "metadata": {},
   "source": [
    "# 08 연관된데이터를딕셔너리로짝을짓자\n",
    "\n",
    "- 키를 이용해서 값을 추출할 수 있는 딕셔너리에 대하여 알아봅시다. \n",
    "- 딕셔너리의 다양한기능과 메소드에 대하여 알아봅시다. \n",
    "- 딕셔너리를 사용하여 여러가지 문제를 해결해 봅시다. \n",
    "- 자료값의 중복을 허용하지 않는 순서가없는 자료형인 집합에 대하여 알아봅시다. \n",
    "- 합집합, 교집합등 집합에 적용할 수 있는 편리한 연산을 알아봅시다. \n",
    "- 집합을 이용하여 중복된 자료를 편리하게 제거하는 방법을 알아봅시다. \n",
    "- 파이썬의 강력한 자료 구조를 사용한 문제해결 기법을 익혀봅시다."
   ]
  },
  {
   "cell_type": "markdown",
   "id": "b3c6f869-ab7d-45b5-9e32-e1b6565f0dd1",
   "metadata": {},
   "source": [
    "## 8.1\n",
    "철수네 과일가게는 \"사과\", \"배\", \"수박\", \"귤\", \"포도\"를 판매하는 중이다. 매일 매일 입고되는 가격에 따라서 가격이 결정되므로 아침마다 각 과일의 가격을 입력하는 기능을  만들어서 입력하면 이를 출력하여 다음과 같이 표현하고자 한다. 이와 같은 기능을 수행하는 파이썬 프로그램을 작성하여라. 이때 {'사과' : 3000}과 같이 입력된 값을 키-값의 쌍으로 된 fruits_price 딕셔너리에 추가한 후 for 문과 keys() 메소드를 사용하여 출력하도록 하여라.\n",
    "\n",
    "```\n",
    "사과, 배, 수박, 귤, 포도 가격을 공백으로 구분하여 입력: 3000 4500 6000 2400 3400\n",
    "------------ 오늘의 과일 가격 ------------\n",
    "사과   : 3000원\n",
    "배    : 4500원\n",
    "수박  : 6000원\n",
    "귤    : 2400원\n",
    "포도  : 3400원\n",
    "```"
   ]
  },
  {
   "cell_type": "code",
   "execution_count": null,
   "id": "6c27dd5d-b9c5-4485-8b47-735911928f6b",
   "metadata": {},
   "outputs": [],
   "source": [
    "fruits = ['사과', '배', '수박', '귤', '포도']\n",
    "fruit_prices = input('사과, 배, 수박, 귤, 포도 가격을 공백으로 구분하여 입력: ').split()"
   ]
  },
  {
   "cell_type": "markdown",
   "id": "9255ae74-dea1-4cd8-a3d3-c8e353f35568",
   "metadata": {},
   "source": [
    "## \n",
    "8.3\n",
    "학번, 이름, 전화번호의 3 쌍의 요소를 가지는 `student_tup` 라는 튜플이 다음과 같이 존재한다.\n",
    "```\n",
    "student_tup = (('241101', '박동윤', '010-1234-4500'), \n",
    "               ('241102', '김은지', '010-2230-6540'), \n",
    "               ('241103', '이지은', '010-3232-7788'))\n",
    "```\n",
    "1) 이 튜플을 수정하여 {학번 : [이름, 전화번호]}의 쌍으로 이루어진 딕셔너리를 만들어서 출력하여라.\n",
    "\n",
    "```\n",
    "학생의 정보 목록\n",
    "{'241101': ['박동윤', '010-1234-4500']}\n",
    "{'241102': ['김은지', '010-2230-6540']}\n",
    "{'241103': ['이지은', '010-3232-7788']}\n",
    "```"
   ]
  },
  {
   "cell_type": "code",
   "execution_count": null,
   "id": "521a0014-a241-4117-b8eb-519d3ba16e42",
   "metadata": {},
   "outputs": [],
   "source": [
    "student_tup = (('241101', '박동윤', '010-1234-4500'), \n",
    "               ('241102', '김은지', '010-2230-6540'), \n",
    "               ('241103', '이지은', '010-3232-7788'))\n",
    "student_dict = {}\n",
    "for student in student_tup:\n",
    "    # print(student[0], list(student[1:]))\n",
    "    student_dict[student[0]] = list(student[1:])\n",
    "\n",
    "print('학생의 정보 목록')\n",
    "student_dict"
   ]
  },
  {
   "cell_type": "markdown",
   "id": "606e05ad-25fe-474d-a1bb-b0a2f86c5804",
   "metadata": {},
   "source": [
    "2) 이 정보를 이용하여 학생의 학번을 입력으로 받아서 이름과 전화번호를 출력하는 학사 정보 프로그램을 작성하여라.\n",
    "```\n",
    "학번을 입력하세요:  241103\n",
    "이름: 이지은\n",
    "전화번호: 010-3232-7788\n",
    "```"
   ]
  },
  {
   "cell_type": "code",
   "execution_count": null,
   "id": "4d0d64b8-96dc-40b6-a307-2abfba94f520",
   "metadata": {},
   "outputs": [],
   "source": []
  },
  {
   "cell_type": "markdown",
   "id": "25bddcf6-112f-4f90-a8c7-57ce65d6ac16",
   "metadata": {},
   "source": [
    "3) `student_tup`의 마지막 항목을 직전학기의 학점을 추가하여라.  학생의 학점은 각각 4.3, 3.9, 4.25이다.   \n",
    "   이 정보를 바탕으로 다음과 같은 딕셔너리를 만들어서 학생 정보를 출력하여라.\n",
    "```\n",
    "학생의 정보 목록\n",
    "{'211101': ['박동윤', '010-1234-4500', 4.3]}\n",
    "{'211102': ['김은지', '010-2230-6540', 3.9]}\n",
    "{'211103': ['이지은', '010-3232-7788', 4.25]}\n",
    "```"
   ]
  },
  {
   "cell_type": "code",
   "execution_count": null,
   "id": "f6c5e831-3dae-4213-8e6d-fb35ff05a79d",
   "metadata": {},
   "outputs": [],
   "source": []
  },
  {
   "cell_type": "markdown",
   "id": "b85c5ece-46c8-43d8-945c-a9453bef7928",
   "metadata": {},
   "source": [
    "4) 문제3)의 정보를 이용하여 for 반복문과 인덱싱을 통해서 3 학생의 학점의 평균값을 다음과 같이 출력하여라.\n",
    "```\n",
    "전체 학생의 학점 평균 : 4.15\n",
    "```"
   ]
  },
  {
   "cell_type": "code",
   "execution_count": null,
   "id": "926e838f-abb2-4bbf-a5ef-fc36f5443c28",
   "metadata": {},
   "outputs": [],
   "source": []
  }
 ],
 "metadata": {
  "kernelspec": {
   "display_name": "Python 3 (ipykernel)",
   "language": "python",
   "name": "python3"
  },
  "language_info": {
   "codemirror_mode": {
    "name": "ipython",
    "version": 3
   },
   "file_extension": ".py",
   "mimetype": "text/x-python",
   "name": "python",
   "nbconvert_exporter": "python",
   "pygments_lexer": "ipython3",
   "version": "3.11.7"
  }
 },
 "nbformat": 4,
 "nbformat_minor": 5
}
