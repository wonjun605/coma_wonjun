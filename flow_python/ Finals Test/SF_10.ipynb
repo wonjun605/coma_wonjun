{
 "cells": [
  {
   "cell_type": "code",
   "execution_count": 1,
   "id": "dd86cfaa-f84b-44ce-95d6-419f65e9d121",
   "metadata": {},
   "outputs": [
    {
     "data": {
      "text/plain": [
       "(array([ 11,  22,  33,  44,  55,  66,  77,  88,  99, 110]),\n",
       " array([ -9, -18, -27, -36, -45, -54, -63, -72, -81, -90]),\n",
       " array([  10,   40,   90,  160,  250,  360,  490,  640,  810, 1000]),\n",
       " array([0.1, 0.1, 0.1, 0.1, 0.1, 0.1, 0.1, 0.1, 0.1, 0.1]))"
      ]
     },
     "execution_count": 1,
     "metadata": {},
     "output_type": "execute_result"
    }
   ],
   "source": [
    "import numpy as np\n",
    "a = np.array(range(1, 11))\n",
    "b = np.array(range(10, 101, 10))\n",
    "a + b, a - b, a * b, a/ b"
   ]
  },
  {
   "cell_type": "code",
   "execution_count": 2,
   "id": "9f9a7510-ace3-400f-af7a-7853c1d8033c",
   "metadata": {},
   "outputs": [
    {
     "data": {
      "text/plain": [
       "(3,)"
      ]
     },
     "execution_count": 2,
     "metadata": {},
     "output_type": "execute_result"
    }
   ],
   "source": [
    "a = np.array([1, 2, 3])\n",
    "a.shape"
   ]
  },
  {
   "cell_type": "code",
   "execution_count": 3,
   "id": "db049547-15aa-4743-9a5c-e308d32de4e1",
   "metadata": {},
   "outputs": [
    {
     "data": {
      "text/plain": [
       "1"
      ]
     },
     "execution_count": 3,
     "metadata": {},
     "output_type": "execute_result"
    }
   ],
   "source": [
    "a.ndim"
   ]
  },
  {
   "cell_type": "code",
   "execution_count": 4,
   "id": "cb526aa9-53a1-410b-94d7-dc2f436ef1cb",
   "metadata": {},
   "outputs": [
    {
     "ename": "TypeError",
     "evalue": "'numpy.dtypes.Int64DType' object is not callable",
     "output_type": "error",
     "traceback": [
      "\u001b[0;31m---------------------------------------------------------------------------\u001b[0m",
      "\u001b[0;31mTypeError\u001b[0m                                 Traceback (most recent call last)",
      "Cell \u001b[0;32mIn[4], line 1\u001b[0m\n\u001b[0;32m----> 1\u001b[0m a\u001b[38;5;241m.\u001b[39mdtype()\n",
      "\u001b[0;31mTypeError\u001b[0m: 'numpy.dtypes.Int64DType' object is not callable"
     ]
    }
   ],
   "source": [
    "a.dtype()"
   ]
  },
  {
   "cell_type": "code",
   "execution_count": 5,
   "id": "435c6c67-4e85-4770-aa7a-dacfa452cf5b",
   "metadata": {},
   "outputs": [
    {
     "data": {
      "text/plain": [
       "8"
      ]
     },
     "execution_count": 5,
     "metadata": {},
     "output_type": "execute_result"
    }
   ],
   "source": [
    "a.itemsize"
   ]
  },
  {
   "cell_type": "code",
   "execution_count": 6,
   "id": "f8db8ddc-acab-4ca0-ba4f-db0f5518b686",
   "metadata": {},
   "outputs": [
    {
     "data": {
      "text/plain": [
       "3"
      ]
     },
     "execution_count": 6,
     "metadata": {},
     "output_type": "execute_result"
    }
   ],
   "source": [
    "a.size"
   ]
  },
  {
   "cell_type": "code",
   "execution_count": 8,
   "id": "180a0f21-cf88-43e6-878a-6fc8a76c9bae",
   "metadata": {},
   "outputs": [
    {
     "ename": "TypeError",
     "evalue": "Field elements must be 2- or 3-tuples, got '1'",
     "output_type": "error",
     "traceback": [
      "\u001b[0;31m---------------------------------------------------------------------------\u001b[0m",
      "\u001b[0;31mTypeError\u001b[0m                                 Traceback (most recent call last)",
      "Cell \u001b[0;32mIn[8], line 1\u001b[0m\n\u001b[0;32m----> 1\u001b[0m a \u001b[38;5;241m=\u001b[39m np\u001b[38;5;241m.\u001b[39marray([\u001b[38;5;241m1\u001b[39m, \u001b[38;5;241m2\u001b[39m, \u001b[38;5;241m3\u001b[39m],[\u001b[38;5;241m1\u001b[39m, \u001b[38;5;241m2\u001b[39m, \u001b[38;5;241m3\u001b[39m])\n\u001b[1;32m      2\u001b[0m a\u001b[38;5;241m.\u001b[39mshape\n",
      "\u001b[0;31mTypeError\u001b[0m: Field elements must be 2- or 3-tuples, got '1'"
     ]
    }
   ],
   "source": [
    "a = np.array([1, 2, 3],[1, 2, 3])\n",
    "a.shape"
   ]
  },
  {
   "cell_type": "code",
   "execution_count": 9,
   "id": "f3fee7ef-f43b-4061-b3e7-f99e8f253072",
   "metadata": {},
   "outputs": [],
   "source": [
    "a = np.array(range(1, 11)) + np.array(range(10, 101,10))"
   ]
  },
  {
   "cell_type": "code",
   "execution_count": 10,
   "id": "ae17d4ac-c2f8-4b2a-bd3a-770a7de31ade",
   "metadata": {},
   "outputs": [
    {
     "data": {
      "text/plain": [
       "(10,)"
      ]
     },
     "execution_count": 10,
     "metadata": {},
     "output_type": "execute_result"
    }
   ],
   "source": [
    "a.shape"
   ]
  },
  {
   "cell_type": "code",
   "execution_count": 11,
   "id": "bf0084f1-37b0-4d51-8d6e-04e8d7e0258e",
   "metadata": {},
   "outputs": [
    {
     "data": {
      "text/plain": [
       "10"
      ]
     },
     "execution_count": 11,
     "metadata": {},
     "output_type": "execute_result"
    }
   ],
   "source": [
    "a.size"
   ]
  },
  {
   "cell_type": "code",
   "execution_count": 12,
   "id": "8c322b40-3d46-4a9b-9bdc-7885da033ff5",
   "metadata": {},
   "outputs": [],
   "source": [
    "salary = np.array([220, 250, 230])"
   ]
  },
  {
   "cell_type": "code",
   "execution_count": 14,
   "id": "75541963-f3e1-4125-8407-83997755b3a2",
   "metadata": {},
   "outputs": [
    {
     "name": "stdout",
     "output_type": "stream",
     "text": [
      "[320 350 330]\n"
     ]
    }
   ],
   "source": [
    "salary = salary + 100\n",
    "print(salary)"
   ]
  },
  {
   "cell_type": "code",
   "execution_count": 21,
   "id": "2de82cfe-5097-4daa-a46f-90a4a1ef9b70",
   "metadata": {},
   "outputs": [
    {
     "data": {
      "text/plain": [
       "array([0, 1, 2, 3, 4, 5, 6, 7, 8, 9])"
      ]
     },
     "execution_count": 21,
     "metadata": {},
     "output_type": "execute_result"
    }
   ],
   "source": [
    "import numpy as np\n",
    "array_a = np.array([0, 1, 2, 3, 4, 5, 6, 7, 8, 9])\n",
    "array_a"
   ]
  },
  {
   "cell_type": "code",
   "execution_count": 22,
   "id": "d3569c2f-35af-429d-ba73-de7290647dda",
   "metadata": {},
   "outputs": [
    {
     "data": {
      "text/plain": [
       "array([0, 1, 2, 3, 4, 5, 6, 7, 8, 9])"
      ]
     },
     "execution_count": 22,
     "metadata": {},
     "output_type": "execute_result"
    }
   ],
   "source": [
    "array_b = np.array(range(10))\n",
    "array_b"
   ]
  },
  {
   "cell_type": "code",
   "execution_count": 29,
   "id": "694452c3-83fc-47e4-9528-d79db7ac1a8c",
   "metadata": {},
   "outputs": [
    {
     "data": {
      "text/plain": [
       "array([0, 2, 4, 6, 8])"
      ]
     },
     "execution_count": 29,
     "metadata": {},
     "output_type": "execute_result"
    }
   ],
   "source": [
    "array_c = np.array(range(0, 10 ,2))\n",
    "array_c"
   ]
  },
  {
   "cell_type": "code",
   "execution_count": 30,
   "id": "d04f911f-3b55-40af-aade-38d2c1f14f27",
   "metadata": {},
   "outputs": [
    {
     "data": {
      "text/plain": [
       "(5,)"
      ]
     },
     "execution_count": 30,
     "metadata": {},
     "output_type": "execute_result"
    }
   ],
   "source": [
    "array_c.shape"
   ]
  },
  {
   "cell_type": "code",
   "execution_count": 31,
   "id": "fddcbad4-11b6-4d4a-8d95-d2f151ac4f17",
   "metadata": {},
   "outputs": [
    {
     "data": {
      "text/plain": [
       "1"
      ]
     },
     "execution_count": 31,
     "metadata": {},
     "output_type": "execute_result"
    }
   ],
   "source": [
    "array_c.ndim"
   ]
  },
  {
   "cell_type": "code",
   "execution_count": 32,
   "id": "9979d3ea-b926-4c00-a328-5e336116b271",
   "metadata": {},
   "outputs": [
    {
     "data": {
      "text/plain": [
       "dtype('int64')"
      ]
     },
     "execution_count": 32,
     "metadata": {},
     "output_type": "execute_result"
    }
   ],
   "source": [
    "array_c.dtype"
   ]
  },
  {
   "cell_type": "code",
   "execution_count": 33,
   "id": "8abc06ca-53fb-471b-858a-ba538b72bb88",
   "metadata": {},
   "outputs": [
    {
     "data": {
      "text/plain": [
       "5"
      ]
     },
     "execution_count": 33,
     "metadata": {},
     "output_type": "execute_result"
    }
   ],
   "source": [
    "array_c.size"
   ]
  },
  {
   "cell_type": "code",
   "execution_count": 34,
   "id": "a88ae91d-dc19-42d9-856d-fb479caac74e",
   "metadata": {},
   "outputs": [
    {
     "data": {
      "text/plain": [
       "8"
      ]
     },
     "execution_count": 34,
     "metadata": {},
     "output_type": "execute_result"
    }
   ],
   "source": [
    "array_c.itemsize"
   ]
  },
  {
   "cell_type": "code",
   "execution_count": 37,
   "id": "b4c29e2b-8b17-4eb8-9d89-66435974f560",
   "metadata": {},
   "outputs": [
    {
     "name": "stdout",
     "output_type": "stream",
     "text": [
      "[25.68007405 23.88946281 20.65754    27.45982194 25.53544639 22.72043837]\n"
     ]
    }
   ],
   "source": [
    "import numpy as np\n",
    "\n",
    "heights = [1.83, 1.76, 1.69, 1.86, 1.77, 1.73]\n",
    "weights = [86, 74, 59, 95, 80, 68]\n",
    "\n",
    "np_heights = np.array(heights)\n",
    "np_weights = np.array(weights)\n",
    "\n",
    "bmi = np_weights/(np_heights ** 2)\n",
    "print(bmi)"
   ]
  },
  {
   "cell_type": "code",
   "execution_count": 38,
   "id": "865f62e2-fa12-4039-a206-fe89f3f00719",
   "metadata": {},
   "outputs": [
    {
     "data": {
      "text/plain": [
       "array([False, False,  True,  True,  True])"
      ]
     },
     "execution_count": 38,
     "metadata": {},
     "output_type": "execute_result"
    }
   ],
   "source": [
    "ages = np.array([18, 19, 25, 30, 28])\n",
    "y = ages > 20\n",
    "y"
   ]
  },
  {
   "cell_type": "code",
   "execution_count": 39,
   "id": "6881a0ff-2d9a-4cf5-ac4b-4448f352d062",
   "metadata": {},
   "outputs": [
    {
     "data": {
      "text/plain": [
       "array([25, 30, 28])"
      ]
     },
     "execution_count": 39,
     "metadata": {},
     "output_type": "execute_result"
    }
   ],
   "source": [
    "ages[ages > 20]"
   ]
  },
  {
   "cell_type": "code",
   "execution_count": 40,
   "id": "a6617844-b5fb-4a88-b463-d7d20ea5eb75",
   "metadata": {},
   "outputs": [
    {
     "name": "stdout",
     "output_type": "stream",
     "text": [
      "[25.68007405 27.45982194 25.53544639]\n"
     ]
    }
   ],
   "source": [
    "print(bmi[bmi > 25])"
   ]
  },
  {
   "cell_type": "code",
   "execution_count": 41,
   "id": "8fef5f12-8949-4c07-83b4-77ea3902b10b",
   "metadata": {},
   "outputs": [
    {
     "data": {
      "text/plain": [
       "array([69, 79, 90, 92, 69, 77])"
      ]
     },
     "execution_count": 41,
     "metadata": {},
     "output_type": "execute_result"
    }
   ],
   "source": [
    "score = [69, 34, 55, 79, 90, 57, 92, 59, 69, 77]\n",
    "score = np.array(score)\n",
    "score[score > 60]"
   ]
  },
  {
   "cell_type": "code",
   "execution_count": 42,
   "id": "fc816f79-7c55-46b3-af90-e700850b838a",
   "metadata": {},
   "outputs": [
    {
     "data": {
      "text/plain": [
       "[[1, 2, 3], [4, 5, 6], [7, 8, 9]]"
      ]
     },
     "execution_count": 42,
     "metadata": {},
     "output_type": "execute_result"
    }
   ],
   "source": [
    "y = [[1, 2, 3], [4, 5, 6], [7, 8, 9]]\n",
    "y"
   ]
  },
  {
   "cell_type": "code",
   "execution_count": 45,
   "id": "12709f29-cbcb-407b-b536-2aba5b477b58",
   "metadata": {},
   "outputs": [
    {
     "data": {
      "text/plain": [
       "array([[1, 2, 3],\n",
       "       [4, 5, 6],\n",
       "       [7, 8, 9]])"
      ]
     },
     "execution_count": 45,
     "metadata": {},
     "output_type": "execute_result"
    }
   ],
   "source": [
    "np_array = np.array(y)\n",
    "np_array"
   ]
  },
  {
   "cell_type": "code",
   "execution_count": 46,
   "id": "c7562e09-d4c4-47f2-b8d6-1aeec4eb13a1",
   "metadata": {},
   "outputs": [
    {
     "data": {
      "text/plain": [
       "3"
      ]
     },
     "execution_count": 46,
     "metadata": {},
     "output_type": "execute_result"
    }
   ],
   "source": [
    "np_array[0][2]"
   ]
  },
  {
   "cell_type": "code",
   "execution_count": 47,
   "id": "1ef6edee-cc6c-43ce-a796-f4ec3057ff57",
   "metadata": {},
   "outputs": [
    {
     "data": {
      "text/plain": [
       "(2, 9)"
      ]
     },
     "execution_count": 47,
     "metadata": {},
     "output_type": "execute_result"
    }
   ],
   "source": [
    "np_array[0][1],np_array[2][2]"
   ]
  },
  {
   "cell_type": "code",
   "execution_count": 49,
   "id": "53418ad8-31fa-490e-92ba-577dc1567869",
   "metadata": {},
   "outputs": [
    {
     "data": {
      "text/plain": [
       "3"
      ]
     },
     "execution_count": 49,
     "metadata": {},
     "output_type": "execute_result"
    }
   ],
   "source": [
    "np_array = np.array([[1, 2, 3], [4, 5, 6], [7, 8, 9]])\n",
    "np_array[0, 2]"
   ]
  },
  {
   "cell_type": "code",
   "execution_count": 51,
   "id": "af5f3b65-6e9b-425a-9ac5-3d96dda58970",
   "metadata": {},
   "outputs": [
    {
     "data": {
      "text/plain": [
       "array([[3, 4],\n",
       "       [7, 8]])"
      ]
     },
     "execution_count": 51,
     "metadata": {},
     "output_type": "execute_result"
    }
   ],
   "source": [
    "np_array = np.array([[1, 2, 3, 4], [5, 6, 7, 8], [9, 10, 11, 12]])\n",
    "np_array[0:2, 2:4]"
   ]
  },
  {
   "cell_type": "code",
   "execution_count": 52,
   "id": "44298361-492e-476a-952c-8cb965d8a1c3",
   "metadata": {},
   "outputs": [
    {
     "data": {
      "text/plain": [
       "array([11, 12])"
      ]
     },
     "execution_count": 52,
     "metadata": {},
     "output_type": "execute_result"
    }
   ],
   "source": [
    "np_array[2, 2:4]"
   ]
  },
  {
   "cell_type": "code",
   "execution_count": 53,
   "id": "585f84c4-3b6a-436c-9809-36475d353ed3",
   "metadata": {},
   "outputs": [
    {
     "data": {
      "text/plain": [
       "array([ 2,  4,  6,  8, 10, 12])"
      ]
     },
     "execution_count": 53,
     "metadata": {},
     "output_type": "execute_result"
    }
   ],
   "source": [
    "np_array[np_array % 2 == 0]"
   ]
  },
  {
   "cell_type": "code",
   "execution_count": null,
   "id": "09349128-87da-4de9-bf1a-5bb8f4ea736e",
   "metadata": {},
   "outputs": [],
   "source": []
  },
  {
   "cell_type": "code",
   "execution_count": 54,
   "id": "4f07f771-d492-4534-9bd6-3262ea433977",
   "metadata": {},
   "outputs": [],
   "source": [
    "x = np.array([['a', 'b', 'c', 'd'], \n",
    "              ['c', 'c', 'g', 'h']])"
   ]
  },
  {
   "cell_type": "code",
   "execution_count": 55,
   "id": "5fcfa4a0-30b3-406b-b1b4-92cd1acc8230",
   "metadata": {},
   "outputs": [
    {
     "name": "stdout",
     "output_type": "stream",
     "text": [
      "['c' 'c' 'c']\n"
     ]
    }
   ],
   "source": [
    "print(x [ x == 'c'])"
   ]
  },
  {
   "cell_type": "code",
   "execution_count": 57,
   "id": "331cdd6f-076f-445d-b624-13b28b4ccc39",
   "metadata": {},
   "outputs": [
    {
     "name": "stdout",
     "output_type": "stream",
     "text": [
      "[[ 8 18 28]\n",
      " [ 9 18 27]]\n"
     ]
    }
   ],
   "source": [
    "mat_a = np.array([[10, 20, 30], [10, 20, 30]])\n",
    "mat_b = np.array([[2, 2, 2], [1, 2, 3]])\n",
    "print(mat_a - mat_b)"
   ]
  },
  {
   "cell_type": "code",
   "execution_count": 74,
   "id": "334c111c-2304-46b1-81da-c3dab4b5247b",
   "metadata": {},
   "outputs": [
    {
     "name": "stdout",
     "output_type": "stream",
     "text": [
      "x shape :  (2, 6)\n",
      "y shape :  (2, 2)\n",
      "z shape :  (1, 6)\n",
      "z values :  [[86. 74. 59. 95. 80. 68.]]\n",
      "BMI data\n",
      "[25.68007405 23.88946281 20.65754    27.45982194 25.53544639 22.72043837]\n"
     ]
    },
    {
     "data": {
      "text/plain": [
       "array([[ 1.83,  1.76,  1.69,  1.86,  1.77,  1.73],\n",
       "       [86.  , 74.  , 59.  , 95.  , 80.  , 68.  ]])"
      ]
     },
     "execution_count": 74,
     "metadata": {},
     "output_type": "execute_result"
    }
   ],
   "source": [
    "import numpy as np\n",
    "\n",
    "x = np.array([[1.83, 1.76, 1.69, 1.86, 1.77, 1.73],\n",
    "              [86.0, 74.0, 59.0, 95.0, 80.0, 68.0]])\n",
    "\n",
    "\n",
    "y = x[0:2, 1:3]\n",
    "z = x[0:2][1:3]\n",
    "\n",
    "print('x shape : ', np.shape(x))\n",
    "print('y shape : ', np.shape(y))\n",
    "print('z shape : ', np.shape(z))\n",
    "print('z values : ', x[1:])\n",
    "\n",
    "bmi = x[1] / x[0] ** 2\n",
    "print('BMI data')\n",
    "print(bmi)\n",
    "x\n",
    "\n"
   ]
  },
  {
   "cell_type": "code",
   "execution_count": 82,
   "id": "5ba42010-82b8-408d-a1a1-1f1010f4a95c",
   "metadata": {},
   "outputs": [
    {
     "name": "stdout",
     "output_type": "stream",
     "text": [
      "몸무게가 80 이상인 선수 정보\n",
      "[[183.   86.2]\n",
      " [176.   80.1]]\n",
      "키가 180 이상인 선수 정보\n",
      "[[183.   86.2]\n",
      " [181.   78.5]]\n"
     ]
    }
   ],
   "source": [
    "players = [[170, 76.4],\n",
    "           [183, 86.2],\n",
    "           [181, 78.5],\n",
    "           [176, 80.1]]\n",
    "\n",
    "np_players = np.array(players)\n",
    "\n",
    "\n",
    "print(\"몸무게가 80 이상인 선수 정보\")\n",
    "print(np_players [np_players[:, 1] >= 80.0])\n",
    "\n",
    "print(\"키가 180 이상인 선수 정보\")\n",
    "print(np_players [np_players[:, 0] >= 180.0])\n",
    "          \n",
    "           "
   ]
  },
  {
   "cell_type": "code",
   "execution_count": 90,
   "id": "da3a1543-cba7-44e7-8da3-4d194f8a1af8",
   "metadata": {},
   "outputs": [
    {
     "data": {
      "text/plain": [
       "array([ 0., 10.])"
      ]
     },
     "execution_count": 90,
     "metadata": {},
     "output_type": "execute_result"
    }
   ],
   "source": [
    "np.linspace(0,10,2)"
   ]
  },
  {
   "cell_type": "code",
   "execution_count": 91,
   "id": "cabf3797-90ce-4326-a3e4-f14f41b83dc2",
   "metadata": {},
   "outputs": [
    {
     "name": "stdout",
     "output_type": "stream",
     "text": [
      "###################################\n",
      "# 오늘의 노래 #\n",
      "###################################\n",
      "\n",
      "a\n"
     ]
    }
   ],
   "source": [
    "import random \n",
    "\n",
    "song = []\n",
    "song.append('a')\n",
    "song.append('b')\n",
    "song.append('c')\n",
    "song.append('d')\n",
    "song.append('e')\n",
    "\n",
    "print('###################################')\n",
    "print('# 오늘의 노래 #')\n",
    "print('###################################')\n",
    "print('')\n",
    "dailySong = random.choice(song)\n",
    "print(dailySong)"
   ]
  },
  {
   "cell_type": "code",
   "execution_count": null,
   "id": "c3bdf811-0793-45c7-a875-4807dad5c8ad",
   "metadata": {},
   "outputs": [],
   "source": []
  },
  {
   "cell_type": "code",
   "execution_count": 92,
   "id": "362f3e87-ae01-4d27-a589-5c6526820053",
   "metadata": {},
   "outputs": [],
   "source": [
    "np.random.seed(100)"
   ]
  },
  {
   "cell_type": "code",
   "execution_count": 93,
   "id": "766e3f21-ffa5-4c32-a3ae-3e934ffe2ee0",
   "metadata": {},
   "outputs": [
    {
     "data": {
      "text/plain": [
       "array([0.54340494, 0.27836939, 0.42451759, 0.84477613, 0.00471886])"
      ]
     },
     "execution_count": 93,
     "metadata": {},
     "output_type": "execute_result"
    }
   ],
   "source": [
    "np.random.rand(5)"
   ]
  },
  {
   "cell_type": "code",
   "execution_count": 94,
   "id": "a2b540a5-61b9-4c5d-8f7e-84ad72a36f90",
   "metadata": {},
   "outputs": [
    {
     "data": {
      "text/plain": [
       "array([[0.12156912, 0.67074908, 0.82585276],\n",
       "       [0.13670659, 0.57509333, 0.89132195],\n",
       "       [0.20920212, 0.18532822, 0.10837689],\n",
       "       [0.21969749, 0.97862378, 0.81168315],\n",
       "       [0.17194101, 0.81622475, 0.27407375]])"
      ]
     },
     "execution_count": 94,
     "metadata": {},
     "output_type": "execute_result"
    }
   ],
   "source": [
    "np.random.rand(5, 3)"
   ]
  },
  {
   "cell_type": "code",
   "execution_count": 96,
   "id": "42c1d5fb-737c-4f78-898e-338c4a04b451",
   "metadata": {},
   "outputs": [
    {
     "data": {
      "text/plain": [
       "array([13.72832046, 10.05688507, 12.52426353, 17.95662508, 10.15254971])"
      ]
     },
     "execution_count": 96,
     "metadata": {},
     "output_type": "execute_result"
    }
   ],
   "source": [
    "a = 10\n",
    "b = 20\n",
    "(b - a) * np.random.rand(5) + a"
   ]
  },
  {
   "cell_type": "code",
   "execution_count": 97,
   "id": "25363827-5039-465d-8da6-29a04c07d26a",
   "metadata": {},
   "outputs": [
    {
     "data": {
      "text/plain": [
       "array([6, 4, 1, 2, 1, 6, 5, 3, 1, 1])"
      ]
     },
     "execution_count": 97,
     "metadata": {},
     "output_type": "execute_result"
    }
   ],
   "source": [
    "np.random.randint(1, 7, size = 10)"
   ]
  },
  {
   "cell_type": "code",
   "execution_count": 98,
   "id": "1a66fb0f-df93-4ea9-ad71-33c01a5717b4",
   "metadata": {},
   "outputs": [
    {
     "data": {
      "text/plain": [
       "array([-2.13740639,  0.91584868,  0.59257575,  0.03795813,  0.37196757])"
      ]
     },
     "execution_count": 98,
     "metadata": {},
     "output_type": "execute_result"
    }
   ],
   "source": [
    "np.random.randn(5)"
   ]
  },
  {
   "cell_type": "code",
   "execution_count": 99,
   "id": "687b1dd6-6434-40b8-9e4d-0114119feb6d",
   "metadata": {},
   "outputs": [
    {
     "data": {
      "text/plain": [
       "array([[ 0.35975395, -0.14039647, -0.44373851,  0.56877016],\n",
       "       [ 0.53848877,  1.31557418,  1.4789783 ,  0.22142626],\n",
       "       [-1.11789416, -0.18499993, -0.43118745,  0.14253625],\n",
       "       [-1.49639345,  0.30687456, -0.04634723,  0.41714428],\n",
       "       [-0.60377052,  0.68596725,  0.85997379,  0.19155544]])"
      ]
     },
     "execution_count": 99,
     "metadata": {},
     "output_type": "execute_result"
    }
   ],
   "source": [
    "np.random.randn(5, 4)"
   ]
  },
  {
   "cell_type": "code",
   "execution_count": 101,
   "id": "24c6e8df-9cb6-4900-a5f7-6ba9101ad504",
   "metadata": {},
   "outputs": [
    {
     "data": {
      "text/plain": [
       "array([[ 9.36723754,  8.19554846,  8.52287521,  9.20932224],\n",
       "       [10.16840171,  9.62875509, 12.21687846, 12.59642049],\n",
       "       [10.49444598, 10.52332915,  8.9325157 ,  9.64936623],\n",
       "       [ 9.91685837,  9.82156601,  8.76597999, 14.10570806],\n",
       "       [11.47812291, 12.84543078,  9.41150324, 12.09156488]])"
      ]
     },
     "execution_count": 101,
     "metadata": {},
     "output_type": "execute_result"
    }
   ],
   "source": [
    "mu = 10\n",
    "sigma = 2\n",
    "randoms = mu + sigma * np.random.randn(5,4)\n",
    "randoms"
   ]
  },
  {
   "cell_type": "code",
   "execution_count": 102,
   "id": "03622413-e4cf-4a5f-89f6-69d785882522",
   "metadata": {},
   "outputs": [
    {
     "data": {
      "text/plain": [
       "array([184.69879763, 192.44450342, 174.75929212, ..., 195.73979086,\n",
       "       164.50826262, 174.57505754])"
      ]
     },
     "execution_count": 102,
     "metadata": {},
     "output_type": "execute_result"
    }
   ],
   "source": [
    "m = 175\n",
    "sigma = 10\n",
    "heights = m + sigma * np.random.randn(10000)\n",
    "heights"
   ]
  },
  {
   "cell_type": "code",
   "execution_count": 103,
   "id": "55f241a6-67f8-4ccb-b74d-6a06923624ee",
   "metadata": {},
   "outputs": [
    {
     "data": {
      "text/plain": [
       "175.05755823328712"
      ]
     },
     "execution_count": 103,
     "metadata": {},
     "output_type": "execute_result"
    }
   ],
   "source": [
    "np.mean(heights)"
   ]
  },
  {
   "cell_type": "code",
   "execution_count": 104,
   "id": "b863694c-2cb9-4055-b637-471f3bcb2e0a",
   "metadata": {},
   "outputs": [
    {
     "data": {
      "text/plain": [
       "175.0656926822585"
      ]
     },
     "execution_count": 104,
     "metadata": {},
     "output_type": "execute_result"
    }
   ],
   "source": [
    "np.median(heights)"
   ]
  },
  {
   "cell_type": "code",
   "execution_count": 106,
   "id": "2c010a5c-abb5-4eda-93f3-78df85849bbb",
   "metadata": {},
   "outputs": [
    {
     "name": "stdout",
     "output_type": "stream",
     "text": [
      "a :\n",
      " [ 1  2  3  4  5  6  7  8  9 10 11 12 13 14 15 16 17 18 19 20 21 22 23 24\n",
      " 25 26 27 28 29 30 31 32 33 34 35 36]\n",
      "b :\n",
      " [[ 1  2  3  4  5  6  7  8  9 10 11 12]\n",
      " [13 14 15 16 17 18 19 20 21 22 23 24]\n",
      " [25 26 27 28 29 30 31 32 33 34 35 36]]\n",
      "c :\n",
      " [[ 1  2  3  4  5  6  7  8  9]\n",
      " [10 11 12 13 14 15 16 17 18]\n",
      " [19 20 21 22 23 24 25 26 27]\n",
      " [28 29 30 31 32 33 34 35 36]]\n",
      "d :\n",
      " [[[ 1  2  3  4  5  6]\n",
      "  [ 7  8  9 10 11 12]]\n",
      "\n",
      " [[13 14 15 16 17 18]\n",
      "  [19 20 21 22 23 24]]\n",
      "\n",
      " [[25 26 27 28 29 30]\n",
      "  [31 32 33 34 35 36]]]\n"
     ]
    }
   ],
   "source": [
    "a = np.arange(1, 37)\n",
    "print('a :\\n', a)\n",
    "\n",
    "b = a.reshape(3, 12)\n",
    "print('b :\\n', b)\n",
    "\n",
    "c = b.reshape(4, 9)\n",
    "print('c :\\n', c)\n",
    "\n",
    "d = c.reshape(3, 2, 6)\n",
    "print('d :\\n', d)"
   ]
  },
  {
   "cell_type": "code",
   "execution_count": 107,
   "id": "1a217666-969f-499a-821e-24d28c5c6eec",
   "metadata": {},
   "outputs": [
    {
     "name": "stdout",
     "output_type": "stream",
     "text": [
      "[[[ 1  2  3  4  5  6]\n",
      "  [ 7  8  9 10 11 12]]\n",
      "\n",
      " [[13 14 15 16 17 18]\n",
      "  [19 20 21 22 23 24]]\n",
      "\n",
      " [[25 26 27 28 29 30]\n",
      "  [31 32 33 34 35 36]]]\n"
     ]
    }
   ],
   "source": [
    "d = c.reshape(3, 2, 6)\n",
    "print(d)"
   ]
  },
  {
   "cell_type": "code",
   "execution_count": 112,
   "id": "60f1db76-6b82-46d5-86c2-7be8cab20f05",
   "metadata": {},
   "outputs": [
    {
     "name": "stdout",
     "output_type": "stream",
     "text": [
      "신장 평균값: 180.09671446519124\n",
      "신장 중앙값: 179.87378910388804\n",
      "체중 평균값: 70.79163811245544\n",
      "체중 중앙값:, np.median(we1ghts)\n",
      "나이 평균값: 23.29\n",
      "나이 중앙값: 22.0\n"
     ]
    }
   ],
   "source": [
    "import numpy as np\n",
    "\n",
    "players = np.zeros ( (100, 3) )\n",
    "players[:, 0] = 10 * np. random.rand(100) + 175\n",
    "players[:, 1] = 10 * np. random.randn(100) + 70\n",
    "players[:, 2] = np.floor(10 * np.random.randn(100)) + 22\n",
    "\n",
    "heights = players[:, 0]\n",
    "print('신장 평균값:', np.mean (heights))\n",
    "print('신장 중앙값:', np.median(heights))\n",
    "\n",
    "weights = players[:, 1]\n",
    "print('체중 평균값:', np.mean(weights))\n",
    "print ('체중 중앙값:, np.median(we1ghts)')\n",
    "\n",
    "ages = players[:, 2]\n",
    "print('나이 평균값:', np.mean(ages))\n",
    "print('나이 중앙값:', np.median(ages))"
   ]
  },
  {
   "cell_type": "code",
   "execution_count": 114,
   "id": "b26ecfc7-28c0-4e6c-b297-f48e8ebb20f6",
   "metadata": {},
   "outputs": [
    {
     "data": {
      "text/plain": [
       "[[1, 2, 3], [4, 5, 6], [7, 8, 9]]"
      ]
     },
     "execution_count": 114,
     "metadata": {},
     "output_type": "execute_result"
    }
   ],
   "source": [
    "y = [[1, 2, 3], [4, 5, 6], [7, 8, 9]]\n",
    "y"
   ]
  },
  {
   "cell_type": "code",
   "execution_count": 115,
   "id": "9234db53-50b5-4678-b3c8-e4f35d91defe",
   "metadata": {},
   "outputs": [
    {
     "data": {
      "text/plain": [
       "array([[1, 2, 3],\n",
       "       [4, 5, 6],\n",
       "       [7, 8, 9]])"
      ]
     },
     "execution_count": 115,
     "metadata": {},
     "output_type": "execute_result"
    }
   ],
   "source": [
    "np_array = np.array(y)\n",
    "np_array"
   ]
  },
  {
   "cell_type": "code",
   "execution_count": 116,
   "id": "cf8d6d8d-29f6-4e08-a0b8-0425de59feba",
   "metadata": {},
   "outputs": [
    {
     "data": {
      "text/plain": [
       "2"
      ]
     },
     "execution_count": 116,
     "metadata": {},
     "output_type": "execute_result"
    }
   ],
   "source": [
    "np_array[0][1]"
   ]
  },
  {
   "cell_type": "code",
   "execution_count": 117,
   "id": "5cdd0d4c-4b70-4da6-a740-ba0bfd8c06fc",
   "metadata": {},
   "outputs": [
    {
     "data": {
      "text/plain": [
       "2"
      ]
     },
     "execution_count": 117,
     "metadata": {},
     "output_type": "execute_result"
    }
   ],
   "source": [
    "np_array[0, 1]"
   ]
  },
  {
   "cell_type": "code",
   "execution_count": null,
   "id": "52690025-721c-4802-a0ac-897e0b7daefc",
   "metadata": {},
   "outputs": [],
   "source": []
  },
  {
   "cell_type": "code",
   "execution_count": 127,
   "id": "5d1804d1-08b1-453c-9506-c3d2fd5df760",
   "metadata": {},
   "outputs": [
    {
     "name": "stdout",
     "output_type": "stream",
     "text": [
      "[ 1  2  3  4  5  6  7  8  9 10 11 12 13 14 15 16 17 18 19 20]\n",
      "[20 19 18 17 16 15 14 13 12 11 10  9  8  7  6  5  4  3  2  1]\n",
      "210\n"
     ]
    },
    {
     "data": {
      "text/plain": [
       "array([[ 1,  2,  3,  4],\n",
       "       [ 5,  6,  7,  8],\n",
       "       [ 9, 10, 11, 12],\n",
       "       [13, 14, 15, 16],\n",
       "       [17, 18, 19, 20]])"
      ]
     },
     "execution_count": 127,
     "metadata": {},
     "output_type": "execute_result"
    }
   ],
   "source": [
    "import numpy as np\n",
    "num_arr = np.arange(1, 21)\n",
    "print(num_arr)\n",
    "print(num_arr[::-1])\n",
    "num_sum = num_arr.sum()\n",
    "print(num_sum)\n",
    "num_arr.reshape(5, 4)"
   ]
  },
  {
   "cell_type": "code",
   "execution_count": null,
   "id": "7c006b22-0191-4744-ba92-3e174e2d5870",
   "metadata": {},
   "outputs": [],
   "source": []
  },
  {
   "cell_type": "code",
   "execution_count": 183,
   "id": "4989aa19-a96f-4314-a9b0-2a44ba01dd9e",
   "metadata": {},
   "outputs": [
    {
     "name": "stdout",
     "output_type": "stream",
     "text": [
      "[[ 0  1  2]\n",
      " [ 5  6  7]\n",
      " [10 11 12]\n",
      " [15 16 17]\n",
      " [20 21 22]]\n"
     ]
    }
   ],
   "source": [
    "import numpy as np\n",
    "\n",
    "# 0부터 24까지의 값을 가지는 1차원 배열 생성 후 reshape으로 5x5 행렬로 변환\n",
    "n_arr = np.arange(25).reshape(5, 5)\n",
    "\n",
    "# 슬라이싱을 사용하여 5x3 배열 생성\n",
    "n_arr_sliced = n_arr[:,:3]\n",
    "\n",
    "print(n_arr_sliced)\n"
   ]
  },
  {
   "cell_type": "code",
   "execution_count": 192,
   "id": "2389fa5f-ebb7-44e6-a98e-49699beeeabd",
   "metadata": {},
   "outputs": [
    {
     "data": {
      "text/plain": [
       "array([[ 0,  2,  4],\n",
       "       [10, 12, 14],\n",
       "       [20, 22, 24]])"
      ]
     },
     "execution_count": 192,
     "metadata": {},
     "output_type": "execute_result"
    }
   ],
   "source": [
    "n_arr[0::2,0::2]"
   ]
  },
  {
   "cell_type": "code",
   "execution_count": 195,
   "id": "deffaa8f-ca21-4dc4-b024-003d796d3b1e",
   "metadata": {},
   "outputs": [
    {
     "name": "stdout",
     "output_type": "stream",
     "text": [
      "[[0 1]\n",
      " [2 3]\n",
      " [4 5]\n",
      " [6 7]\n",
      " [8 9]]\n"
     ]
    }
   ],
   "source": [
    "import numpy as np\n",
    "\n",
    "# 0부터 9까지의 값을 가지는 1차원 배열 생성\n",
    "n_arr = np.arange(10)\n",
    "\n",
    "# 슬라이싱을 사용하여 원하는 모양의 부분 배열 추출\n",
    "n_arr_sliced = n_arr[:10].reshape(5, 2)\n",
    "\n",
    "print(n_arr_sliced)\n"
   ]
  },
  {
   "cell_type": "code",
   "execution_count": 200,
   "id": "85584cca-f034-4495-9dff-7d7e129a3820",
   "metadata": {},
   "outputs": [
    {
     "name": "stdout",
     "output_type": "stream",
     "text": [
      "[[[0.63274634 0.20952431 0.15352036]\n",
      "  [0.46092216 0.20565255 0.95632266]\n",
      "  [0.66887619 0.97730283 0.81268448]]\n",
      "\n",
      " [[0.84829483 0.68942352 0.51545289]\n",
      "  [0.95212176 0.13442843 0.74033507]\n",
      "  [0.75283407 0.82763412 0.87642733]]\n",
      "\n",
      " [[0.15867197 0.85645133 0.88541798]\n",
      "  [0.58531264 0.1968307  0.30001475]\n",
      "  [0.54128612 0.84244869 0.86230355]]]\n"
     ]
    }
   ],
   "source": [
    "import numpy as np\n",
    "\n",
    "# 난수로 이루어진 3x3x3 배열 생성\n",
    "a = np.random.rand(3, 3, 3)\n",
    "\n",
    "print(a)\n"
   ]
  },
  {
   "cell_type": "code",
   "execution_count": 201,
   "id": "641cc7fc-e3dc-41b7-b331-63b1ad0c03d4",
   "metadata": {},
   "outputs": [
    {
     "name": "stdout",
     "output_type": "stream",
     "text": [
      "0.9773028270427597\n"
     ]
    }
   ],
   "source": [
    "b = a.max()\n",
    "print(b)"
   ]
  },
  {
   "cell_type": "code",
   "execution_count": 203,
   "id": "a7c1c76a-267d-4acc-9940-ece05479e2c4",
   "metadata": {},
   "outputs": [
    {
     "name": "stdout",
     "output_type": "stream",
     "text": [
      "0\n"
     ]
    }
   ],
   "source": [
    "c = b.argmax()\n",
    "print(c)"
   ]
  },
  {
   "cell_type": "code",
   "execution_count": 205,
   "id": "1d002d06-b0ee-4b34-982d-b460b9e0f719",
   "metadata": {},
   "outputs": [
    {
     "name": "stdout",
     "output_type": "stream",
     "text": [
      "가장 큰 값의 인덱스: 7\n"
     ]
    }
   ],
   "source": [
    "max_index = np.argmax(a)\n",
    "\n",
    "print(f\"가장 큰 값의 인덱스: {max_index}\")"
   ]
  },
  {
   "cell_type": "code",
   "execution_count": 209,
   "id": "2461f563-4546-4eac-862d-99dd7759a275",
   "metadata": {},
   "outputs": [
    {
     "data": {
      "text/plain": [
       "<function matplotlib.pyplot.show(close=None, block=None)>"
      ]
     },
     "execution_count": 209,
     "metadata": {},
     "output_type": "execute_result"
    },
    {
     "data": {
      "image/png": "[encoded data removed]",
      "text/plain": [
       "<Figure size 640x480 with 1 Axes>"
      ]
     },
     "metadata": {},
     "output_type": "display_data"
    }
   ],
   "source": [
    "import matplotlib.pyplot as plt\n",
    "\n",
    "years = [1950, 1960, 1970, 1980, 1990, 2000,2010]\n",
    "gdp = [67.0, 80.0, 257.0, 1686.0, 6505, 11865.3, 22105.3]\n",
    "\n",
    "plt.plot(years, gdp, color = 'green', marker = 'o', linestyle = 'solid')\n",
    "\n",
    "plt.title(\"GDP per capital\")\n",
    "\n",
    "plt.ylabel(\"dollars\")\n",
    "plt.show"
   ]
  },
  {
   "cell_type": "code",
   "execution_count": 221,
   "id": "571dc415-8941-44b4-840b-521b96e49d4b",
   "metadata": {},
   "outputs": [
    {
     "data": {
      "image/png": "[encoded data removed]",
      "text/plain": [
       "<Figure size 640x480 with 1 Axes>"
      ]
     },
     "metadata": {},
     "output_type": "display_data"
    }
   ],
   "source": [
    "import matplotlib.pyplot as plt\n",
    "\n",
    "x = [x for x in range(20)]\n",
    "y = [t ** 2 for t in x]\n",
    "z = [t ** 3 for t in x]\n",
    "w = [2 ** t for t in x]  # 2의 2승 그래프 추가\n",
    "\n",
    "plt.plot(x, x, label='linear')\n",
    "plt.plot(x, y, label='quadratic')\n",
    "plt.plot(x, z, label='cubic')\n",
    "plt.plot(x, w, label='2^x', linestyle='--')  # 2의 2승 그래프 추가, 점선 스타일\n",
    "\n",
    "plt.xlabel('x label')\n",
    "plt.ylabel('y label')\n",
    "plt.title(\"My plot\")\n",
    "plt.legend()\n",
    "plt.show()\n"
   ]
  },
  {
   "cell_type": "code",
   "execution_count": 222,
   "id": "3153edf3-380c-4c74-9f0f-bccd4390c055",
   "metadata": {},
   "outputs": [],
   "source": [
    "import numpy as np\n",
    "x = np.arange(0, 360)"
   ]
  },
  {
   "cell_type": "code",
   "execution_count": 223,
   "id": "c947c49b-a921-42d2-b6eb-aa80e219ac32",
   "metadata": {},
   "outputs": [
    {
     "data": {
      "text/plain": [
       "array([  0,   1,   2,   3,   4,   5,   6,   7,   8,   9,  10,  11,  12,\n",
       "        13,  14,  15,  16,  17,  18,  19,  20,  21,  22,  23,  24,  25,\n",
       "        26,  27,  28,  29,  30,  31,  32,  33,  34,  35,  36,  37,  38,\n",
       "        39,  40,  41,  42,  43,  44,  45,  46,  47,  48,  49,  50,  51,\n",
       "        52,  53,  54,  55,  56,  57,  58,  59,  60,  61,  62,  63,  64,\n",
       "        65,  66,  67,  68,  69,  70,  71,  72,  73,  74,  75,  76,  77,\n",
       "        78,  79,  80,  81,  82,  83,  84,  85,  86,  87,  88,  89,  90,\n",
       "        91,  92,  93,  94,  95,  96,  97,  98,  99, 100, 101, 102, 103,\n",
       "       104, 105, 106, 107, 108, 109, 110, 111, 112, 113, 114, 115, 116,\n",
       "       117, 118, 119, 120, 121, 122, 123, 124, 125, 126, 127, 128, 129,\n",
       "       130, 131, 132, 133, 134, 135, 136, 137, 138, 139, 140, 141, 142,\n",
       "       143, 144, 145, 146, 147, 148, 149, 150, 151, 152, 153, 154, 155,\n",
       "       156, 157, 158, 159, 160, 161, 162, 163, 164, 165, 166, 167, 168,\n",
       "       169, 170, 171, 172, 173, 174, 175, 176, 177, 178, 179, 180, 181,\n",
       "       182, 183, 184, 185, 186, 187, 188, 189, 190, 191, 192, 193, 194,\n",
       "       195, 196, 197, 198, 199, 200, 201, 202, 203, 204, 205, 206, 207,\n",
       "       208, 209, 210, 211, 212, 213, 214, 215, 216, 217, 218, 219, 220,\n",
       "       221, 222, 223, 224, 225, 226, 227, 228, 229, 230, 231, 232, 233,\n",
       "       234, 235, 236, 237, 238, 239, 240, 241, 242, 243, 244, 245, 246,\n",
       "       247, 248, 249, 250, 251, 252, 253, 254, 255, 256, 257, 258, 259,\n",
       "       260, 261, 262, 263, 264, 265, 266, 267, 268, 269, 270, 271, 272,\n",
       "       273, 274, 275, 276, 277, 278, 279, 280, 281, 282, 283, 284, 285,\n",
       "       286, 287, 288, 289, 290, 291, 292, 293, 294, 295, 296, 297, 298,\n",
       "       299, 300, 301, 302, 303, 304, 305, 306, 307, 308, 309, 310, 311,\n",
       "       312, 313, 314, 315, 316, 317, 318, 319, 320, 321, 322, 323, 324,\n",
       "       325, 326, 327, 328, 329, 330, 331, 332, 333, 334, 335, 336, 337,\n",
       "       338, 339, 340, 341, 342, 343, 344, 345, 346, 347, 348, 349, 350,\n",
       "       351, 352, 353, 354, 355, 356, 357, 358, 359])"
      ]
     },
     "execution_count": 223,
     "metadata": {},
     "output_type": "execute_result"
    }
   ],
   "source": [
    "x"
   ]
  },
  {
   "cell_type": "code",
   "execution_count": 229,
   "id": "4e06b5c5-8619-4e14-a375-4235542b6818",
   "metadata": {},
   "outputs": [
    {
     "data": {
      "image/png": "[encoded data removed]",
      "text/plain": [
       "<Figure size 640x480 with 1 Axes>"
      ]
     },
     "metadata": {},
     "output_type": "display_data"
    }
   ],
   "source": [
    "from matplotlib import pyplot as plt\n",
    "\n",
    "years = [1950, 1960, 1970, 1980, 1990, 2000, 2010]\n",
    "gdp = [67.0, 80.0, 257.0, 1686.0, 6505, 11865.3, 22105.3]\n",
    "\n",
    "plt.bar(range(len(years)), gdp)\n",
    "\n",
    "plt.title(\"GDP per capita\")\n",
    "plt.ylabel(\"dollars\")\n",
    "\n",
    "plt.xticks(range(len(years)), years)\n",
    "plt.show()"
   ]
  },
  {
   "cell_type": "code",
   "execution_count": 231,
   "id": "ea10e802-9842-4076-8626-fa78fa44a08a",
   "metadata": {},
   "outputs": [
    {
     "name": "stdout",
     "output_type": "stream",
     "text": [
      "7\n"
     ]
    }
   ],
   "source": [
    "print(len(years))"
   ]
  },
  {
   "cell_type": "code",
   "execution_count": 234,
   "id": "f96e252e-ccfa-426a-9d01-401969882239",
   "metadata": {},
   "outputs": [
    {
     "data": {
      "image/png": "[encoded data removed]",
      "text/plain": [
       "<Figure size 500x500 with 4 Axes>"
      ]
     },
     "metadata": {},
     "output_type": "display_data"
    }
   ],
   "source": [
    "fig, ax = plt.subplots(2, 2, figsize = (5, 5))"
   ]
  },
  {
   "cell_type": "code",
   "execution_count": 236,
   "id": "a1253a36-b854-4ed3-bc85-46c25f7cb74c",
   "metadata": {},
   "outputs": [
    {
     "data": {
      "image/png": "[encoded data removed]",
      "text/plain": [
       "<Figure size 640x480 with 4 Axes>"
      ]
     },
     "metadata": {},
     "output_type": "display_data"
    }
   ],
   "source": [
    "ax = plt.subplots(2, 2)"
   ]
  },
  {
   "cell_type": "code",
   "execution_count": 237,
   "id": "1ff6ac06-5728-46b2-97d2-8ee80f4493d7",
   "metadata": {},
   "outputs": [],
   "source": [
    "data = np.random.randn(2, 100)"
   ]
  },
  {
   "cell_type": "code",
   "execution_count": 238,
   "id": "91e2b531-5a8f-43d8-8888-6102e0188140",
   "metadata": {},
   "outputs": [
    {
     "data": {
      "text/plain": [
       "array([[-0.48592919,  0.3754836 ,  0.94190548, -1.12078598,  0.60032094,\n",
       "         0.79183948, -0.62379643, -0.298749  ,  0.60419613,  1.37193658,\n",
       "        -0.60207872,  0.88112906, -1.22584274, -1.8239054 ,  0.18740658,\n",
       "         0.04025082,  1.45809043,  0.22818514, -0.45145659,  0.09420429,\n",
       "        -0.84752717,  1.77074355, -0.50878996,  0.1234548 , -2.02950493,\n",
       "         0.56281957,  1.04096225,  0.8253333 , -0.71477919,  0.31562163,\n",
       "         0.09794906, -0.74905302,  1.47974883, -2.25198585, -1.90898207,\n",
       "        -1.34075773, -0.82544536,  1.12937007, -1.08134151,  0.38142628,\n",
       "         1.5079791 ,  1.84267828,  1.49031265, -0.29135977, -0.32868549,\n",
       "         0.18130403,  0.77050393,  0.02578993, -1.14846326, -1.47948163,\n",
       "         0.47062145, -1.21280655,  0.51855734, -0.34428018, -0.50519847,\n",
       "         0.0380307 , -1.66894555, -0.4185193 , -0.3533442 ,  0.82103327,\n",
       "         0.29742879,  0.10697886,  0.49961933, -0.57249723, -0.71502373,\n",
       "         0.82696428, -0.84482041, -0.32523983,  0.78361068,  0.86265772,\n",
       "         0.26885503, -0.33102099,  0.2286141 , -1.02207213, -1.23825823,\n",
       "         1.69941418,  0.43167311,  0.87474002,  0.05944489, -0.50739424,\n",
       "        -0.39788932, -0.90831195,  0.63285807,  0.73521496,  1.12383929,\n",
       "         0.17733707, -0.54023188,  0.10685139, -2.00667704,  1.53340695,\n",
       "         0.10004103, -0.01666233,  1.12769802,  0.26594011, -0.58573202,\n",
       "         0.43918294,  1.8028972 ,  0.17485749, -0.91457552,  1.1330486 ],\n",
       "       [ 0.97742864, -0.79618887, -2.09574835, -0.11021063, -0.18197804,\n",
       "         0.09199246,  0.37595029,  0.26427102,  2.75960784,  0.12381278,\n",
       "        -1.00587506, -2.15598762,  0.47747201, -1.166149  , -0.81438756,\n",
       "        -0.8564671 , -0.88522107,  0.24174171, -0.1145864 ,  0.67700271,\n",
       "        -1.1635041 , -1.23724329, -0.34237201,  1.2539016 , -0.97456502,\n",
       "         1.45286823,  0.69451983, -0.6267525 , -0.49689249, -0.25351984,\n",
       "        -0.31781782,  1.16095689, -1.08259455,  0.08101295, -0.56895736,\n",
       "        -0.26590863,  0.04736526,  0.7377497 , -0.97413254,  0.55597734,\n",
       "         1.50824348, -0.18051022,  0.4140224 ,  0.64949342, -0.72418625,\n",
       "         0.54335938,  0.51673744,  0.30317059,  0.0360593 ,  0.41320476,\n",
       "         0.55168093,  0.79387344,  0.85743298,  0.80338268, -0.14648013,\n",
       "        -0.74702181, -0.03906221, -1.19456741, -0.66864894,  0.50033187,\n",
       "        -0.35432423,  0.59959402,  1.70597386, -0.73575369, -1.85250993,\n",
       "        -1.01354721, -0.23509587,  0.96392304, -0.29319475,  0.10178065,\n",
       "        -0.15558277,  0.84757994, -0.29825469,  1.41752042, -0.49540106,\n",
       "         0.2124418 , -1.00587978,  0.70705335,  0.20342447,  1.04415873,\n",
       "        -0.19879035,  0.3500482 , -0.84272703,  0.56027508, -0.30576394,\n",
       "        -1.17748912, -2.37805323, -0.55267577,  0.90097033, -1.20780995,\n",
       "        -0.6732435 ,  1.16031946,  0.72707141, -0.19538208,  1.70082434,\n",
       "         0.30394815,  0.70038611, -0.42040071, -1.12289935,  1.91379758]])"
      ]
     },
     "execution_count": 238,
     "metadata": {},
     "output_type": "execute_result"
    }
   ],
   "source": [
    "data"
   ]
  },
  {
   "cell_type": "code",
   "execution_count": 239,
   "id": "49500ace-591c-4b25-924b-58b5156779ee",
   "metadata": {},
   "outputs": [
    {
     "data": {
      "text/plain": [
       "(array([ 1.,  1.,  2., 15., 13., 18., 18., 18.,  8.,  6.]),\n",
       " array([-3.12183853, -2.60011446, -2.0783904 , -1.55666633, -1.03494227,\n",
       "        -0.5132182 ,  0.00850587,  0.53022993,  1.051954  ,  1.57367806,\n",
       "         2.09540213]),\n",
       " <BarContainer object of 10 artists>)"
      ]
     },
     "execution_count": 239,
     "metadata": {},
     "output_type": "execute_result"
    },
    {
     "data": {
      "image/png": "[encoded data removed]",
      "text/plain": [
       "<Figure size 500x500 with 4 Axes>"
      ]
     },
     "metadata": {},
     "output_type": "display_data"
    }
   ],
   "source": [
    "np.random.seed(19680801)\n",
    "data = np.random.randn(2, 100)\n",
    "\n",
    "fig, axs = plt.subplots(2, 2, figsize = (5, 5))\n",
    "\n",
    "axs[0, 0].hist(data[0])"
   ]
  },
  {
   "cell_type": "code",
   "execution_count": 244,
   "id": "7d28e4d3-9298-4a7f-a84f-95e0a5642443",
   "metadata": {},
   "outputs": [
    {
     "data": {
      "text/plain": [
       "array([ 0,  1,  2,  3,  4,  5,  6,  7,  8,  9, 10, 11, 12, 13, 14, 15, 16,\n",
       "       17, 18, 19, 20, 21, 22, 23, 24])"
      ]
     },
     "execution_count": 244,
     "metadata": {},
     "output_type": "execute_result"
    }
   ],
   "source": [
    "num_arr2 = np.arange(25)\n",
    "num_arr2"
   ]
  },
  {
   "cell_type": "code",
   "execution_count": 245,
   "id": "431723e2-47e0-4904-b665-591eb2abf50a",
   "metadata": {},
   "outputs": [],
   "source": [
    "num_arr3 = num_arr2.reshape(5,5)"
   ]
  },
  {
   "cell_type": "code",
   "execution_count": 246,
   "id": "667b601e-4f08-4896-aca7-746fe4b76583",
   "metadata": {},
   "outputs": [
    {
     "data": {
      "text/plain": [
       "array([[ 0,  1,  2,  3,  4],\n",
       "       [ 5,  6,  7,  8,  9],\n",
       "       [10, 11, 12, 13, 14],\n",
       "       [15, 16, 17, 18, 19],\n",
       "       [20, 21, 22, 23, 24]])"
      ]
     },
     "execution_count": 246,
     "metadata": {},
     "output_type": "execute_result"
    }
   ],
   "source": [
    "num_arr3"
   ]
  },
  {
   "cell_type": "code",
   "execution_count": 247,
   "id": "17db3888-852a-4104-8a47-57aa98980f1a",
   "metadata": {},
   "outputs": [],
   "source": [
    "num_arr2 = np.arange(25)\n",
    "num_arr3 = num_arr2.reshape(5,5)"
   ]
  },
  {
   "cell_type": "code",
   "execution_count": null,
   "id": "e273f81c-6bff-424d-9c2b-94f2e96f3cbc",
   "metadata": {},
   "outputs": [],
   "source": []
  }
 ],
 "metadata": {
  "kernelspec": {
   "display_name": "Python 3 (ipykernel)",
   "language": "python",
   "name": "python3"
  },
  "language_info": {
   "codemirror_mode": {
    "name": "ipython",
    "version": 3
   },
   "file_extension": ".py",
   "mimetype": "text/x-python",
   "name": "python",
   "nbconvert_exporter": "python",
   "pygments_lexer": "ipython3",
   "version": "3.11.7"
  }
 },
 "nbformat": 4,
 "nbformat_minor": 5
}
