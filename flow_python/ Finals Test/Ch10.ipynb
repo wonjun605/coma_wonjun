{
 "cells": [
  {
   "cell_type": "markdown",
   "id": "bc09b0fd-6a19-441c-a5f4-81bb9d123303",
   "metadata": {},
   "source": [
    " \n"
   ]
  },
  {
   "cell_type": "markdown",
   "id": "fe600f49-f9cd-42a5-8802-5a48ca852283",
   "metadata": {},
   "source": [
    "# Ch10 넘파이로 수치 데이터를 처리해보자\n",
    "\n",
    "10.1 리스트보다 넘파이의 배열이 훨~씬~ 빠르다   \n",
    "10.2 넘파이의 별칭 만들기, 그리고 간단한 배열 연산하   \n",
    "10.3 강력한 넘파이 배열의 연산을 알아보자  \n",
    "- LAB 10-1 ndarray 객체를 생성하고 속성을 알아보자   \n",
    "- LAB 10-2 여러 사람의 BMI를 빠르고 간편하게 계산하기\n",
    "  \n",
    "10.4 인덱싱과 슬라이싱을 넘파이에서도 할 수 있다   \n",
    "10.5 2차원 배열의 인덱싱   \n",
    "10.6 넘파이 스타일의 2차원 배열 슬라이싱   \n",
    "- LAB 10-3 2차원 배열 연습하기   \n",
    "- LAB 10-4 넘파이 배열의 형태를 알아내고 슬라이싱하여 연산하기\n",
    "  \n",
    "10.7 arange() 함수와 range() 함수의 비교   \n",
    "- LAB 10-5 2차원 배열에서 특정 조건을 만족하는 행만 추출하기\n",
    "  \n",
    "10.8 linspace() 함수와 logspace() 함수   \n",
    "10.9 난수를 생성해보자   \n",
    "10.10 정규 분포 난수 생성   \n",
    "- LAB 10-6 배열의 형태를 바꾸어 보자   \n",
    "- LAB 10-7 평균과 중앙값 계산 연습\n",
    "  \n",
    "10.11 상관관계 계산하기 "
   ]
  },
  {
   "cell_type": "markdown",
   "id": "7acb0586-9e9e-431d-9d85-a157c96aadff",
   "metadata": {},
   "source": [
    "**이 장에서 배울 것들**    \n",
    "\n",
    "넘파이를 사용하는 이유를 알아봅시다.   \n",
    "넘파이가 제공하는 다차원 배열의 속성에 대하여 살펴보도록 합시다.    \n",
    "넘파이의 강력한 기능을 직접 사용해 보며 익혀 봅시다.   \n",
    "넘파이로 각종 확률 분포에서 난수를 생성해 데이터를 생성해 봅시다.    \n",
    "고차원 배열의 인덱싱 기법에 대해서도 익숙해져 봅시다.   \n",
    "넘파이가 제공하는 데이터 분석 함수를 살펴봅시다.   \n",
    "다수 변수 간의 상관관계를 계산하는 일도 해 봅시다.    \n"
   ]
  },
  {
   "cell_type": "markdown",
   "id": "38333e20-de37-4c90-b6fc-5734474320ff",
   "metadata": {},
   "source": [
    "## 10.1 리스트보다 넘파이의 배열이 훨~씬~ 빠르다\n",
    "\n",
    "- 데이터 과학자들은 기본 리스트 대신에 넘파이Numpy를 선호한다.\n",
    "- 넘파이는 대용량의 배열과 행렬 연산을 빠르게 수행하며, 고차원적인 수학 연산자와 함수를 포함하고 있는 파이썬 라이브러리이다.\n",
    "- 파이썬의 리스트에 비하여 처리속도가 매우 빠름\n",
    "- 데이터 분석이나 기계 학습 프로젝트를 수행한다면 넘파이에 대한 확실한 이해가 필수적이다.\n",
    "- 데이터 분석을 위한 패키지인 판다스Pandas나 기계학습을 위한 Scikit-learn, Tensorflow 등이 넘파이를 기반으로 작동한다."
   ]
  },
  {
   "cell_type": "code",
   "execution_count": 2,
   "id": "45339502-37d6-4d9a-b6da-2eee0cf002e8",
   "metadata": {},
   "outputs": [
    {
     "name": "stdout",
     "output_type": "stream",
     "text": [
      "136 µs ± 13.7 µs per loop (mean ± std. dev. of 7 runs, 10,000 loops each)\n"
     ]
    }
   ],
   "source": [
    "%timeit sum(range(10000))"
   ]
  },
  {
   "cell_type": "code",
   "execution_count": 8,
   "id": "9fc70982-ae4f-4e4f-b298-d01ad3ca3423",
   "metadata": {},
   "outputs": [
    {
     "name": "stdout",
     "output_type": "stream",
     "text": [
      "8.64 µs ± 10.4 ns per loop (mean ± std. dev. of 7 runs, 100,000 loops each)\n"
     ]
    }
   ],
   "source": [
    "import numpy as np\n",
    "%timeit np.sum(np.arange(10000))"
   ]
  },
  {
   "attachments": {},
   "cell_type": "markdown",
   "id": "78f7a831-ef54-43f1-8865-f6bd97c0a984",
   "metadata": {},
   "source": [
    "- 넘파이의 핵심적인 객체는 다차원 배열이다. 예를 들어서 정수들의 2차원 배열(테이블)을 넘파이를 이용해서 생성할 수 있다. 배열의 각 요소는 인덱스index라고 불리는 정수들로 참조된다.\n",
    "- 넘파이에서 차원은 축axis이라고도 한다.\r\n",
    "\n",
    "![276-2.png](276-2.jpg)"
   ]
  },
  {
   "cell_type": "code",
   "execution_count": 9,
   "id": "4a42dfff-67c2-47a4-8ac4-509064d3f02b",
   "metadata": {},
   "outputs": [
    {
     "data": {
      "text/plain": [
       "array(5)"
      ]
     },
     "execution_count": 9,
     "metadata": {},
     "output_type": "execute_result"
    }
   ],
   "source": [
    "w = 5 # scalar\n",
    "w = np.array(5)\n",
    "w"
   ]
  },
  {
   "cell_type": "code",
   "execution_count": 2,
   "id": "a4d54725-dda5-4dea-beb1-9a2c4a4b66a2",
   "metadata": {},
   "outputs": [],
   "source": [
    "import numpy as np"
   ]
  },
  {
   "cell_type": "code",
   "execution_count": 4,
   "id": "15660163-7eae-402f-8a89-3dfd728088a3",
   "metadata": {},
   "outputs": [
    {
     "data": {
      "text/plain": [
       "array([2, 3, 4])"
      ]
     },
     "execution_count": 4,
     "metadata": {},
     "output_type": "execute_result"
    }
   ],
   "source": [
    "x = np.array([2, 3, 4]) # 1차원 배열(array), 벡터(vector)\n",
    "x"
   ]
  },
  {
   "cell_type": "code",
   "execution_count": 6,
   "id": "dd6664f3-9daa-431d-abc1-24dde0dc327f",
   "metadata": {},
   "outputs": [
    {
     "data": {
      "text/plain": [
       "array([[2, 3, 4],\n",
       "       [5, 6, 7]])"
      ]
     },
     "execution_count": 6,
     "metadata": {},
     "output_type": "execute_result"
    }
   ],
   "source": [
    "y = np.array([[2, 3, 4], \n",
    "              [5, 6, 7]]) # 2 차원 배열, 행렬(matrix)\n",
    "y"
   ]
  },
  {
   "cell_type": "code",
   "execution_count": 17,
   "id": "2fbcdf6c-b139-4125-b98a-1c7d6fb74c44",
   "metadata": {},
   "outputs": [
    {
     "ename": "ValueError",
     "evalue": "setting an array element with a sequence. The requested array has an inhomogeneous shape after 1 dimensions. The detected shape was (5,) + inhomogeneous part.",
     "output_type": "error",
     "traceback": [
      "\u001b[0;31m---------------------------------------------------------------------------\u001b[0m",
      "\u001b[0;31mValueError\u001b[0m                                Traceback (most recent call last)",
      "Cell \u001b[0;32mIn[17], line 1\u001b[0m\n\u001b[0;32m----> 1\u001b[0m z \u001b[38;5;241m=\u001b[39m np\u001b[38;5;241m.\u001b[39marray([[\u001b[38;5;241m2\u001b[39m, \u001b[38;5;241m3\u001b[39m, \u001b[38;5;241m4\u001b[39m],\n\u001b[1;32m      2\u001b[0m                [\u001b[38;5;241m6\u001b[39m, \u001b[38;5;241m7\u001b[39m, \u001b[38;5;241m8\u001b[39m], \n\u001b[1;32m      3\u001b[0m                [\u001b[38;5;241m2\u001b[39m, \u001b[38;5;241m3\u001b[39m, \u001b[38;5;241m4\u001b[39m], \n\u001b[1;32m      4\u001b[0m                [\u001b[38;5;241m6\u001b[39m, \u001b[38;5;241m7\u001b[39m, \u001b[38;5;241m8\u001b[39m],\n\u001b[1;32m      5\u001b[0m               [[\u001b[38;5;241m2\u001b[39m, \u001b[38;5;241m3\u001b[39m, \u001b[38;5;241m4\u001b[39m],\n\u001b[1;32m      6\u001b[0m                [\u001b[38;5;241m6\u001b[39m, \u001b[38;5;241m7\u001b[39m, \u001b[38;5;241m8\u001b[39m], \n\u001b[1;32m      7\u001b[0m                [\u001b[38;5;241m2\u001b[39m, \u001b[38;5;241m3\u001b[39m, \u001b[38;5;241m4\u001b[39m], \n\u001b[1;32m      8\u001b[0m                [\u001b[38;5;241m6\u001b[39m, \u001b[38;5;241m7\u001b[39m, \u001b[38;5;241m8\u001b[39m]]])\n",
      "\u001b[0;31mValueError\u001b[0m: setting an array element with a sequence. The requested array has an inhomogeneous shape after 1 dimensions. The detected shape was (5,) + inhomogeneous part."
     ]
    }
   ],
   "source": [
    "z = np.array([[2, 3, 4],\n",
    "               [6, 7, 8], \n",
    "               [2, 3, 4], \n",
    "               [6, 7, 8],\n",
    "              [[2, 3, 4],\n",
    "               [6, 7, 8], \n",
    "               [2, 3, 4], \n",
    "               [6, 7, 8]]]) # 3차원 배열, Tensor\n",
    "             "
   ]
  },
  {
   "cell_type": "code",
   "execution_count": 1,
   "id": "8591a61e-9e9d-4a96-8fd3-a47b7500b7c3",
   "metadata": {},
   "outputs": [
    {
     "data": {
      "text/plain": [
       "array(3)"
      ]
     },
     "execution_count": 1,
     "metadata": {},
     "output_type": "execute_result"
    }
   ],
   "source": [
    "import numpy \n",
    "numpy.array(3)"
   ]
  },
  {
   "cell_type": "markdown",
   "id": "03e2d2a8-fa4a-454c-bbcf-ab3cc88f3951",
   "metadata": {},
   "source": [
    "**리스트와 넘파이 배열은 무엇이 다른가**\n",
    "- 넘파이는 성능이 우수한 ndarray 객체를 제공한다.\n",
    "- 전통적으로 배열array은 동일한 자료형을 가진 데이터를 연속적으로 저장한다. \n",
    "- 파이썬의 리스트는 동일하지 않은 자료형을 가진 항목들을 담을 수 있다. \n",
    "- ndarray의 장점을 정리하면 아래와 같다.\n",
    "    - C언어를 기반으로 작성. 빠르고 적은 메모리 점유\n",
    "    - 배열을 이용한 수학적 연산 제공\n",
    "    - 다양한 연산자와 함수 제공\n"
   ]
  },
  {
   "cell_type": "markdown",
   "id": "c56e881b-7472-4856-b347-c35c184fc4bd",
   "metadata": {},
   "source": [
    "**리스트와 넘파이 배열은 무엇이 다른가**"
   ]
  },
  {
   "cell_type": "code",
   "execution_count": 18,
   "id": "3bf44042-75c5-44b2-a5e0-8f6e89eb4253",
   "metadata": {},
   "outputs": [
    {
     "data": {
      "text/plain": [
       "[70, 70, 80, 70, 80, 90]"
      ]
     },
     "execution_count": 18,
     "metadata": {},
     "output_type": "execute_result"
    }
   ],
   "source": [
    "mid_scores = [70, 70, 80]\n",
    "final_scores = [70, 80, 90]\n",
    "\n",
    "mid_scores + final_scores"
   ]
  },
  {
   "cell_type": "code",
   "execution_count": 19,
   "id": "dcf4e9e5-3b48-4bfa-ab42-2f84fddda4a4",
   "metadata": {},
   "outputs": [
    {
     "data": {
      "text/plain": [
       "[140, 150, 170]"
      ]
     },
     "execution_count": 19,
     "metadata": {},
     "output_type": "execute_result"
    }
   ],
   "source": [
    "[x + y for x, y in zip(mid_scores, final_scores)]"
   ]
  },
  {
   "cell_type": "markdown",
   "id": "57fda292-3633-45c4-8d6e-08742598605e",
   "metadata": {},
   "source": [
    "## 10.2 넘파이의 별칭 만들기, 그리고 간단한 배열 연산하기"
   ]
  },
  {
   "cell_type": "code",
   "execution_count": null,
   "id": "2f82e400-82b1-4c00-856c-3eab53777788",
   "metadata": {},
   "outputs": [],
   "source": [
    "import numpy as np\n",
    "\n",
    "mid_scores = np.array([70, 70, 80])\n",
    "final_scores = np.array([70, 80, 90])\n",
    "\n",
    "mid_scores + final_scores"
   ]
  },
  {
   "cell_type": "markdown",
   "id": "89282c02-dcd2-4941-abe8-906b1f64cba6",
   "metadata": {},
   "source": [
    "**도전문제 10.1**\n",
    "```\n",
    "a = np.arrray(range(1, 11))\n",
    "b = np.array(range(10, 101, 10))\n",
    "b + a, b - a, b * a, b / a\n",
    "```"
   ]
  },
  {
   "cell_type": "code",
   "execution_count": 21,
   "id": "f46c1bd1-0c75-40a9-9f20-c1ab96e6ff34",
   "metadata": {},
   "outputs": [
    {
     "data": {
      "text/plain": [
       "(array([ 11,  22,  33,  44,  55,  66,  77,  88,  99, 110]),\n",
       " array([ 9, 18, 27, 36, 45, 54, 63, 72, 81, 90]),\n",
       " array([  10,   40,   90,  160,  250,  360,  490,  640,  810, 1000]),\n",
       " array([10., 10., 10., 10., 10., 10., 10., 10., 10., 10.]))"
      ]
     },
     "execution_count": 21,
     "metadata": {},
     "output_type": "execute_result"
    }
   ],
   "source": [
    "a = np.array(range(1, 11))\n",
    "b = np.array(range(10, 101, 10))\n",
    "b + a, b - a, b * a, b/ a"
   ]
  },
  {
   "cell_type": "markdown",
   "id": "1d5879c5-ec3a-4b74-bb2b-0f7282805d57",
   "metadata": {},
   "source": [
    "**다차원 배열ndarray의 속성**"
   ]
  },
  {
   "cell_type": "code",
   "execution_count": 38,
   "id": "54063c18-d644-49af-9cbc-da7471dc6f2c",
   "metadata": {},
   "outputs": [],
   "source": [
    "x = np.array([1, 2, 3])"
   ]
  },
  {
   "cell_type": "code",
   "execution_count": 31,
   "id": "ec9e25f7-84db-44c4-808b-379071d14863",
   "metadata": {},
   "outputs": [
    {
     "data": {
      "text/plain": [
       "1"
      ]
     },
     "execution_count": 31,
     "metadata": {},
     "output_type": "execute_result"
    }
   ],
   "source": [
    "# 차원(dimension)\n",
    "x.ndim"
   ]
  },
  {
   "cell_type": "code",
   "execution_count": 39,
   "id": "53a4c522-ba1a-40ac-8365-d8b2fde67224",
   "metadata": {},
   "outputs": [
    {
     "data": {
      "text/plain": [
       "2"
      ]
     },
     "execution_count": 39,
     "metadata": {},
     "output_type": "execute_result"
    }
   ],
   "source": [
    "y.ndim"
   ]
  },
  {
   "cell_type": "code",
   "execution_count": 40,
   "id": "a1797ba0-7e26-4a71-87d3-dc12f35e14a6",
   "metadata": {},
   "outputs": [
    {
     "ename": "NameError",
     "evalue": "name 'z' is not defined",
     "output_type": "error",
     "traceback": [
      "\u001b[0;31m---------------------------------------------------------------------------\u001b[0m",
      "\u001b[0;31mNameError\u001b[0m                                 Traceback (most recent call last)",
      "Cell \u001b[0;32mIn[40], line 1\u001b[0m\n\u001b[0;32m----> 1\u001b[0m z\u001b[38;5;241m.\u001b[39mndim\n",
      "\u001b[0;31mNameError\u001b[0m: name 'z' is not defined"
     ]
    }
   ],
   "source": [
    "z.ndim"
   ]
  },
  {
   "cell_type": "code",
   "execution_count": 34,
   "id": "c220c933-e6b7-431d-9f16-e4d3c38dc870",
   "metadata": {},
   "outputs": [
    {
     "ename": "NameError",
     "evalue": "name 'z' is not defined",
     "output_type": "error",
     "traceback": [
      "\u001b[0;31m---------------------------------------------------------------------------\u001b[0m",
      "\u001b[0;31mNameError\u001b[0m                                 Traceback (most recent call last)",
      "Cell \u001b[0;32mIn[34], line 2\u001b[0m\n\u001b[1;32m      1\u001b[0m \u001b[38;5;66;03m# 자료형(type)\u001b[39;00m\n\u001b[0;32m----> 2\u001b[0m \u001b[38;5;28mtype\u001b[39m(z)\n",
      "\u001b[0;31mNameError\u001b[0m: name 'z' is not defined"
     ]
    }
   ],
   "source": [
    "# 자료형(type)\n",
    "type(z)"
   ]
  },
  {
   "cell_type": "code",
   "execution_count": 35,
   "id": "43e86697-3cb5-4f62-9295-b1bacb20c9fa",
   "metadata": {},
   "outputs": [
    {
     "ename": "NameError",
     "evalue": "name 'z' is not defined",
     "output_type": "error",
     "traceback": [
      "\u001b[0;31m---------------------------------------------------------------------------\u001b[0m",
      "\u001b[0;31mNameError\u001b[0m                                 Traceback (most recent call last)",
      "Cell \u001b[0;32mIn[35], line 3\u001b[0m\n\u001b[1;32m      1\u001b[0m \u001b[38;5;66;03m# 배열의 형태(shape)\u001b[39;00m\n\u001b[1;32m      2\u001b[0m y\u001b[38;5;241m.\u001b[39mshape\n\u001b[0;32m----> 3\u001b[0m z\u001b[38;5;241m.\u001b[39mshape\n",
      "\u001b[0;31mNameError\u001b[0m: name 'z' is not defined"
     ]
    }
   ],
   "source": [
    "# 배열의 형태(shape)\n",
    "y.shape\n",
    "z.shape"
   ]
  },
  {
   "cell_type": "code",
   "execution_count": 36,
   "id": "b149c9f9-8da2-41d6-b295-d9ecc611bde1",
   "metadata": {},
   "outputs": [
    {
     "ename": "NameError",
     "evalue": "name 'z' is not defined",
     "output_type": "error",
     "traceback": [
      "\u001b[0;31m---------------------------------------------------------------------------\u001b[0m",
      "\u001b[0;31mNameError\u001b[0m                                 Traceback (most recent call last)",
      "Cell \u001b[0;32mIn[36], line 2\u001b[0m\n\u001b[1;32m      1\u001b[0m \u001b[38;5;66;03m# 항목의 수(size)\u001b[39;00m\n\u001b[0;32m----> 2\u001b[0m z\u001b[38;5;241m.\u001b[39msize\n",
      "\u001b[0;31mNameError\u001b[0m: name 'z' is not defined"
     ]
    }
   ],
   "source": [
    "# 항목의 수(size)\n",
    "z.size"
   ]
  },
  {
   "cell_type": "markdown",
   "id": "4ba424c3-cb88-4c41-a1e6-bbb856ad123c",
   "metadata": {},
   "source": [
    "**도전문제 10.2**   \n",
    "\n",
    "다음과 같이 결과를 출력해 보자.\n",
    "```\n",
    "a = np.arrray(range(1, 11)) + np.array(range(10, 101, 10))\n",
    "\n",
    "a.shape\n",
    "\n",
    "a.size\n",
    "```"
   ]
  },
  {
   "cell_type": "code",
   "execution_count": null,
   "id": "51180dc5-5a03-463c-ae28-4127ad781bb0",
   "metadata": {},
   "outputs": [],
   "source": []
  },
  {
   "cell_type": "markdown",
   "id": "908cac73-7112-4c9b-bd01-60e0507e02e3",
   "metadata": {},
   "source": [
    "## 10.3 강력한 넘파이 배열의 연산을 알아보자\n",
    "\n",
    "- +, -, *, /"
   ]
  },
  {
   "cell_type": "code",
   "execution_count": 41,
   "id": "9467a605-349b-4aac-b09d-69ce09ec2d64",
   "metadata": {},
   "outputs": [],
   "source": [
    "salary = np.array([220, 250, 230])"
   ]
  },
  {
   "cell_type": "code",
   "execution_count": 42,
   "id": "7099f938-e7a8-4c45-96d8-1bb35d7523a3",
   "metadata": {},
   "outputs": [
    {
     "data": {
      "text/plain": [
       "array([320, 350, 330])"
      ]
     },
     "execution_count": 42,
     "metadata": {},
     "output_type": "execute_result"
    }
   ],
   "source": [
    "salary = salary + 100 # bradcastiong\n",
    "salary"
   ]
  },
  {
   "cell_type": "code",
   "execution_count": 43,
   "id": "a117aa96-109e-4494-ab4c-a751b24a9fcb",
   "metadata": {},
   "outputs": [
    {
     "data": {
      "text/plain": [
       "array([672., 735., 693.])"
      ]
     },
     "execution_count": 43,
     "metadata": {},
     "output_type": "execute_result"
    }
   ],
   "source": [
    "salary = salary * 2.1 \n",
    "salary"
   ]
  },
  {
   "cell_type": "code",
   "execution_count": 44,
   "id": "2df544c8-d5b0-42e1-913a-10c012d4f3a1",
   "metadata": {},
   "outputs": [
    {
     "data": {
      "text/plain": [
       "array([336. , 367.5, 346.5])"
      ]
     },
     "execution_count": 44,
     "metadata": {},
     "output_type": "execute_result"
    }
   ],
   "source": [
    "salary = salary / 2\n",
    "salary"
   ]
  },
  {
   "cell_type": "markdown",
   "id": "bf66e825-72ba-48fc-a4ae-c1cc27b430cc",
   "metadata": {},
   "source": [
    "넘파이의 계산은 왜 빠를까?\n",
    "\n",
    "- 파이썬의 리스트는 아래의 코드와 같이 다양한 자료형의 값을 가질 수 있다. 하지만 넘파이는 각 배열마다 동일한 자료형의 데이터만 \n",
    "가질 수 있다. "
   ]
  },
  {
   "cell_type": "code",
   "execution_count": 45,
   "id": "461b2550-17fd-4be3-b4a9-04db009332ba",
   "metadata": {},
   "outputs": [
    {
     "data": {
      "text/plain": [
       "[3.0, 'park', 5, True]"
      ]
     },
     "execution_count": 45,
     "metadata": {},
     "output_type": "execute_result"
    }
   ],
   "source": [
    "lst = [3.0, 'park', 5, True]\n",
    "lst"
   ]
  },
  {
   "cell_type": "code",
   "execution_count": 46,
   "id": "92052630-4000-4cfa-befb-929a2a6116e5",
   "metadata": {},
   "outputs": [
    {
     "data": {
      "text/plain": [
       "array(['3.0', 'park', '5', 'True'], dtype='<U32')"
      ]
     },
     "execution_count": 46,
     "metadata": {},
     "output_type": "execute_result"
    }
   ],
   "source": [
    "array = np.array([3.0, 'park', 5, True])\n",
    "array"
   ]
  },
  {
   "cell_type": "markdown",
   "id": "1d9a2d0a-606f-4227-ad8a-2957f4860f1c",
   "metadata": {},
   "source": [
    "**강력한 벡터화 연산을 적극 활용하자**\n",
    "\n",
    "1에서 1000000까지의 정수를 하는 코드를 만든다."
   ]
  },
  {
   "cell_type": "code",
   "execution_count": 48,
   "id": "0ad63877-672d-42b6-9f58-e32b3be2cfd0",
   "metadata": {},
   "outputs": [
    {
     "name": "stdout",
     "output_type": "stream",
     "text": [
      "0.005629062652587891\n"
     ]
    }
   ],
   "source": [
    "# list\n",
    "import time\n",
    "st = time.time()\n",
    "sum(range(1, 100000))\n",
    "print(time.time() - st)"
   ]
  },
  {
   "cell_type": "code",
   "execution_count": 49,
   "id": "5d0fdb41-f82f-46c1-9a60-7ea931166884",
   "metadata": {},
   "outputs": [
    {
     "name": "stdout",
     "output_type": "stream",
     "text": [
      "0.002785921096801758\n"
     ]
    }
   ],
   "source": [
    "# numpy\n",
    "st = time.time()\n",
    "np.sum(np.arange(1, 1000000))\n",
    "print(time.time() - st)"
   ]
  },
  {
   "cell_type": "markdown",
   "id": "d7ea92b8-e71f-4e84-a00a-f5ae8e955f1e",
   "metadata": {},
   "source": [
    "- **LAB10-1**nadrray 객체를 생성하고 속성을 알아보자\n",
    "\n",
    "![lab10-1.png](lab10-1.png)"
   ]
  },
  {
   "cell_type": "code",
   "execution_count": 61,
   "id": "f144f9d8-7623-441f-8fbe-e58cfd2a0219",
   "metadata": {},
   "outputs": [
    {
     "data": {
      "text/plain": [
       "array([0, 1, 2, 3, 4, 5, 6, 7, 8, 9])"
      ]
     },
     "execution_count": 61,
     "metadata": {},
     "output_type": "execute_result"
    }
   ],
   "source": [
    "array_a = np.array([0, 1, 2, 3, 4, 5, 6, 7, 8, 9] )\n",
    "array_a"
   ]
  },
  {
   "cell_type": "code",
   "execution_count": 60,
   "id": "a99fdb4f-f712-4f5a-b49f-601bc46c8a85",
   "metadata": {},
   "outputs": [
    {
     "data": {
      "text/plain": [
       "array([0, 1, 2, 3, 4, 5, 6, 7, 8, 9])"
      ]
     },
     "execution_count": 60,
     "metadata": {},
     "output_type": "execute_result"
    }
   ],
   "source": [
    "array_b = np.array(range(10))\n",
    "array_b"
   ]
  },
  {
   "cell_type": "code",
   "execution_count": 62,
   "id": "aa08abcd-6337-43a0-8b39-a611749106a4",
   "metadata": {},
   "outputs": [
    {
     "data": {
      "text/plain": [
       "array([0, 2, 4, 6, 8])"
      ]
     },
     "execution_count": 62,
     "metadata": {},
     "output_type": "execute_result"
    }
   ],
   "source": [
    "array_c = np.array(range(0, 10, 2))\n",
    "array_c"
   ]
  },
  {
   "cell_type": "code",
   "execution_count": 63,
   "id": "f345593a-104d-4c95-81d3-e5cb69b90114",
   "metadata": {},
   "outputs": [
    {
     "data": {
      "text/plain": [
       "(5,)"
      ]
     },
     "execution_count": 63,
     "metadata": {},
     "output_type": "execute_result"
    }
   ],
   "source": [
    "array_c.shape # 5개의 원소를 가진다."
   ]
  },
  {
   "cell_type": "code",
   "execution_count": 64,
   "id": "45234fdd-4528-4bef-8ce1-7e61babbcbb1",
   "metadata": {},
   "outputs": [
    {
     "data": {
      "text/plain": [
       "1"
      ]
     },
     "execution_count": 64,
     "metadata": {},
     "output_type": "execute_result"
    }
   ],
   "source": [
    "array_c.ndim # 1차원 벡터"
   ]
  },
  {
   "cell_type": "code",
   "execution_count": 68,
   "id": "6d51a456-acf6-476a-a52b-40fb73ba30a1",
   "metadata": {},
   "outputs": [
    {
     "data": {
      "text/plain": [
       "dtype('int64')"
      ]
     },
     "execution_count": 68,
     "metadata": {},
     "output_type": "execute_result"
    }
   ],
   "source": [
    "array_c.dtype # 32-bit 정수"
   ]
  },
  {
   "cell_type": "code",
   "execution_count": 69,
   "id": "4cb773b0-173c-4d25-abd0-2bd4ea6f42d1",
   "metadata": {},
   "outputs": [
    {
     "data": {
      "text/plain": [
       "numpy.ndarray"
      ]
     },
     "execution_count": 69,
     "metadata": {},
     "output_type": "execute_result"
    }
   ],
   "source": [
    "type(array_c)"
   ]
  },
  {
   "cell_type": "code",
   "execution_count": null,
   "id": "f9883f8f-6e0a-4e20-be9e-5a59ed39dd1a",
   "metadata": {},
   "outputs": [],
   "source": []
  },
  {
   "cell_type": "markdown",
   "id": "496d1753-98ab-484a-9781-ed251c6027d9",
   "metadata": {},
   "source": [
    "**LAB10-2** 여러 사람의 BMI를 빠르고 간편하게 계산하기\n",
    "\n",
    "![lab10-2.png](lab10-2.png)"
   ]
  },
  {
   "cell_type": "code",
   "execution_count": 72,
   "id": "c559c50d-22e6-4a64-89ef-c922bfb0a8fd",
   "metadata": {},
   "outputs": [
    {
     "data": {
      "text/plain": [
       "[25.680074054167036,\n",
       " 23.889462809917354,\n",
       " 20.65754000210077,\n",
       " 27.45982194473349,\n",
       " 25.53544639152223,\n",
       " 22.720438370810918]"
      ]
     },
     "execution_count": 72,
     "metadata": {},
     "output_type": "execute_result"
    }
   ],
   "source": [
    "heights = [1.83, 1.76, 1.69, 1.86, 1.77, 1.73]\n",
    "weights = [86, 74, 59, 95, 80, 68]\n",
    "\n",
    "bmi = [w / h ** 2 for h, w in zip(heights, weights)]\n",
    "bmi"
   ]
  },
  {
   "cell_type": "code",
   "execution_count": 73,
   "id": "c4804cf2-b1b9-4925-a619-244941362e6d",
   "metadata": {},
   "outputs": [
    {
     "data": {
      "text/plain": [
       "array([25.68007405, 23.88946281, 20.65754   , 27.45982194, 25.53544639,\n",
       "       22.72043837])"
      ]
     },
     "execution_count": 73,
     "metadata": {},
     "output_type": "execute_result"
    }
   ],
   "source": [
    "heights = np.array(heights)\n",
    "weights = np.array(weights)\n",
    "\n",
    "bmi = weights / heights ** 2\n",
    "bmi"
   ]
  },
  {
   "cell_type": "markdown",
   "id": "f4d346e4-7f94-4f58-927e-5b0f237f2456",
   "metadata": {},
   "source": [
    "## 10.4 인덱싱과 슬라이싱을 넘파이에서도 할 수 있다"
   ]
  },
  {
   "cell_type": "code",
   "execution_count": 75,
   "id": "6dcc284a-c93a-4352-850b-35eefccd6003",
   "metadata": {},
   "outputs": [],
   "source": [
    "scores = np.array([88, 72, 93, 94, 89, 78, 99])"
   ]
  },
  {
   "cell_type": "code",
   "execution_count": 76,
   "id": "36d525df-487b-4718-8190-3fbdaf67d9d1",
   "metadata": {},
   "outputs": [
    {
     "data": {
      "text/plain": [
       "94"
      ]
     },
     "execution_count": 76,
     "metadata": {},
     "output_type": "execute_result"
    }
   ],
   "source": [
    "# indexing\n",
    "scores[3]"
   ]
  },
  {
   "cell_type": "code",
   "execution_count": 77,
   "id": "30c1c55e-a193-4787-b1ec-2584240113b8",
   "metadata": {},
   "outputs": [
    {
     "data": {
      "text/plain": [
       "99"
      ]
     },
     "execution_count": 77,
     "metadata": {},
     "output_type": "execute_result"
    }
   ],
   "source": [
    "scores[-1]"
   ]
  },
  {
   "cell_type": "code",
   "execution_count": 79,
   "id": "93ee4d84-4e8b-42f5-b937-0edcf0b739c9",
   "metadata": {},
   "outputs": [
    {
     "data": {
      "text/plain": [
       "array([93, 94, 89])"
      ]
     },
     "execution_count": 79,
     "metadata": {},
     "output_type": "execute_result"
    }
   ],
   "source": [
    "# slicing\n",
    "scores[2:5]"
   ]
  },
  {
   "cell_type": "code",
   "execution_count": 80,
   "id": "ee5b78c2-7eda-4740-919b-24e99c98a5b1",
   "metadata": {},
   "outputs": [
    {
     "data": {
      "text/plain": [
       "array([88, 72, 93])"
      ]
     },
     "execution_count": 80,
     "metadata": {},
     "output_type": "execute_result"
    }
   ],
   "source": [
    "scores[:3]"
   ]
  },
  {
   "cell_type": "code",
   "execution_count": 81,
   "id": "005dba0c-fa0e-4555-b8d9-06a746e74424",
   "metadata": {},
   "outputs": [
    {
     "data": {
      "text/plain": [
       "array([89, 78, 99])"
      ]
     },
     "execution_count": 81,
     "metadata": {},
     "output_type": "execute_result"
    }
   ],
   "source": [
    "scores[4:]"
   ]
  },
  {
   "cell_type": "code",
   "execution_count": 82,
   "id": "8179d45f-0118-43f6-9818-5d48f41c68d0",
   "metadata": {},
   "outputs": [
    {
     "data": {
      "text/plain": [
       "array([88, 93, 89, 99])"
      ]
     },
     "execution_count": 82,
     "metadata": {},
     "output_type": "execute_result"
    }
   ],
   "source": [
    "scores[::2]"
   ]
  },
  {
   "cell_type": "code",
   "execution_count": 83,
   "id": "c1df6b5c-1ee2-432e-9cfa-607e8083f1d3",
   "metadata": {},
   "outputs": [
    {
     "data": {
      "text/plain": [
       "array([88, 72, 93, 80, 89, 78, 99])"
      ]
     },
     "execution_count": 83,
     "metadata": {},
     "output_type": "execute_result"
    }
   ],
   "source": [
    "# 요소의 변경\n",
    "scores[3] = 80\n",
    "scores"
   ]
  },
  {
   "cell_type": "code",
   "execution_count": 84,
   "id": "cf8064f2-f2f9-4919-b039-c6f282f50073",
   "metadata": {},
   "outputs": [
    {
     "data": {
      "text/plain": [
       "array([93, 99])"
      ]
     },
     "execution_count": 84,
     "metadata": {},
     "output_type": "execute_result"
    }
   ],
   "source": [
    "# 논리 인덱싱\n",
    "scores[scores > 90]"
   ]
  },
  {
   "attachments": {},
   "cell_type": "markdown",
   "id": "e45d5fa8-bb6f-47b8-a7af-66cc684f6c99",
   "metadata": {},
   "source": [
    "## 10.5 2차원 배열의 인덱싱\n"
   ]
  },
  {
   "cell_type": "code",
   "execution_count": 85,
   "id": "fa2dcd15-8945-48eb-90b0-5d92d76ab662",
   "metadata": {},
   "outputs": [
    {
     "data": {
      "text/plain": [
       "(3, 3)"
      ]
     },
     "execution_count": 85,
     "metadata": {},
     "output_type": "execute_result"
    }
   ],
   "source": [
    "num_list = [[1, 2, 3], [4, 5, 6], [7, 8, 9]]\n",
    "np_array = np.array(num_list)\n",
    "np_array.shape"
   ]
  },
  {
   "cell_type": "code",
   "execution_count": 86,
   "id": "e6d74902-dbde-4849-9072-22c56784c4d1",
   "metadata": {},
   "outputs": [
    {
     "data": {
      "text/plain": [
       "array([[1, 2, 3],\n",
       "       [4, 5, 6],\n",
       "       [7, 8, 9]])"
      ]
     },
     "execution_count": 86,
     "metadata": {},
     "output_type": "execute_result"
    }
   ],
   "source": [
    "np_array"
   ]
  },
  {
   "cell_type": "code",
   "execution_count": 89,
   "id": "e9a0adf1-7795-4a2f-a1f9-2c903e36871f",
   "metadata": {},
   "outputs": [
    {
     "data": {
      "text/plain": [
       "6"
      ]
     },
     "execution_count": 89,
     "metadata": {},
     "output_type": "execute_result"
    }
   ],
   "source": [
    "# indexing [row, col]\n",
    "np_array[1, 2]"
   ]
  },
  {
   "cell_type": "code",
   "execution_count": 90,
   "id": "fe71b3fa-8a98-4c23-8222-d5d054934caa",
   "metadata": {},
   "outputs": [
    {
     "data": {
      "text/plain": [
       "4"
      ]
     },
     "execution_count": 90,
     "metadata": {},
     "output_type": "execute_result"
    }
   ],
   "source": [
    "np_array[1, 0]"
   ]
  },
  {
   "cell_type": "code",
   "execution_count": 93,
   "id": "4ea31881-d151-474d-b0ea-61ca65ea7034",
   "metadata": {},
   "outputs": [
    {
     "data": {
      "text/plain": [
       "array([4, 5, 6])"
      ]
     },
     "execution_count": 93,
     "metadata": {},
     "output_type": "execute_result"
    }
   ],
   "source": [
    "np_array[1]"
   ]
  },
  {
   "cell_type": "code",
   "execution_count": 97,
   "id": "6e9b76d2-411a-48af-b6ee-10f0496e1175",
   "metadata": {},
   "outputs": [
    {
     "data": {
      "text/plain": [
       "array([3, 6, 9])"
      ]
     },
     "execution_count": 97,
     "metadata": {},
     "output_type": "execute_result"
    }
   ],
   "source": [
    "np_array[:,2]"
   ]
  },
  {
   "cell_type": "code",
   "execution_count": 98,
   "id": "1a682ec0-be45-47c9-a2e0-f66a91e9c94e",
   "metadata": {},
   "outputs": [
    {
     "data": {
      "text/plain": [
       "array([2, 5, 8])"
      ]
     },
     "execution_count": 98,
     "metadata": {},
     "output_type": "execute_result"
    }
   ],
   "source": [
    "np_array[:,1]"
   ]
  },
  {
   "cell_type": "code",
   "execution_count": null,
   "id": "02d14306-5562-4a2a-815c-af7a63bc79ea",
   "metadata": {},
   "outputs": [],
   "source": [
    "# slicing [st:end:step, st:end:step]\n",
    "\n"
   ]
  },
  {
   "cell_type": "markdown",
   "id": "75058d1e-2d3d-403f-a496-1df9a5e8c49f",
   "metadata": {},
   "source": [
    "슬라이싱 정리\n",
    "\n",
    "![288-1.jpg](288-1.jpg)"
   ]
  },
  {
   "cell_type": "code",
   "execution_count": 105,
   "id": "4c27d421-1161-4188-aca4-03f7f740f481",
   "metadata": {},
   "outputs": [
    {
     "data": {
      "text/plain": [
       "array([[ 0,  1,  2,  3],\n",
       "       [ 4,  5,  6,  7],\n",
       "       [ 8,  9, 10, 11],\n",
       "       [12, 13, 14, 15]])"
      ]
     },
     "execution_count": 105,
     "metadata": {},
     "output_type": "execute_result"
    }
   ],
   "source": [
    "A = np.arange(16).reshape(4, 4)\n",
    "A"
   ]
  },
  {
   "cell_type": "code",
   "execution_count": 102,
   "id": "37986ec0-8fc7-4d39-b27d-62bb8811c34f",
   "metadata": {},
   "outputs": [
    {
     "data": {
      "text/plain": [
       "array([[ 5,  6],\n",
       "       [ 9, 10]])"
      ]
     },
     "execution_count": 102,
     "metadata": {},
     "output_type": "execute_result"
    }
   ],
   "source": [
    "A[1:3, 1:3]"
   ]
  },
  {
   "cell_type": "code",
   "execution_count": 109,
   "id": "eaf4bf7c-7050-4e51-a48c-eaa4cbe424a8",
   "metadata": {},
   "outputs": [
    {
     "data": {
      "text/plain": [
       "array([[ 0,  1,  2,  3],\n",
       "       [ 4, 50,  6,  7],\n",
       "       [ 8,  9, 10, 11],\n",
       "       [12, 13, 14, 15]])"
      ]
     },
     "execution_count": 109,
     "metadata": {},
     "output_type": "execute_result"
    }
   ],
   "source": [
    "# 요소의 변경\n",
    "A[1,1] = 50\n",
    "A"
   ]
  },
  {
   "cell_type": "code",
   "execution_count": null,
   "id": "f9dbd504-504c-4800-ac93-bfbe5f748382",
   "metadata": {},
   "outputs": [],
   "source": [
    "# 논리 인덱싱"
   ]
  },
  {
   "cell_type": "code",
   "execution_count": 110,
   "id": "a038d7e6-9a42-4914-b42d-a7971c4a42d3",
   "metadata": {},
   "outputs": [
    {
     "data": {
      "text/plain": [
       "array([50, 11, 12, 13, 14, 15])"
      ]
     },
     "execution_count": 110,
     "metadata": {},
     "output_type": "execute_result"
    }
   ],
   "source": [
    "A[A > 10]"
   ]
  },
  {
   "attachments": {},
   "cell_type": "markdown",
   "id": "4244d80d-ff8f-4de8-9e88-39630447ff07",
   "metadata": {},
   "source": [
    "**LAB10-3** 2차원 배열 연습하기\n",
    "\n",
    "![lab10-3.png](lab10-3.png)"
   ]
  },
  {
   "cell_type": "markdown",
   "id": "21132766-7b38-429d-8a58-e1cf7905b656",
   "metadata": {},
   "source": [
    "수학 용어 정리\n",
    "- 스칼라\n",
    "- 벡터\n",
    "- 행렬\n",
    "- 텐서"
   ]
  },
  {
   "cell_type": "markdown",
   "id": "fcfcf86a-fe0c-4927-84b0-8e8c326bb5dd",
   "metadata": {},
   "source": [
    "**LAB10-4** 넘파이 배열의 형태 알아내고 슬라이싱하여 연산\n",
    "\n",
    "![lab10-4.png](lab10-4.png)"
   ]
  },
  {
   "cell_type": "code",
   "execution_count": null,
   "id": "adec88e3-502e-420c-a57a-ae8c80e1e912",
   "metadata": {},
   "outputs": [],
   "source": [
    "x = np.array([[1.83, 1.76, 1.69, 1.86, 1.77, 1.73],\n",
    "              [86.0, 74.0, 59.0, 95.0, 80.0, 68.0]])\n"
   ]
  },
  {
   "cell_type": "code",
   "execution_count": null,
   "id": "b854f25e-fc87-4f6e-80ad-2ea7ad96c1a5",
   "metadata": {},
   "outputs": [],
   "source": []
  },
  {
   "cell_type": "markdown",
   "id": "1c7ab903-26e7-4e5c-9220-ac580365e9f2",
   "metadata": {},
   "source": [
    "## 10.7 arange() 함수와 range() 함수의 비교\n",
    "\n",
    "```\n",
    "numpy.arange([start], stop, [step])\n",
    "\n",
    "range([start], stop, [step])\n",
    "```\n"
   ]
  },
  {
   "cell_type": "code",
   "execution_count": 2,
   "id": "5b8a5943-75f4-4266-9319-67d74ac6fc18",
   "metadata": {},
   "outputs": [
    {
     "data": {
      "text/plain": [
       "array([0, 1, 2, 3, 4, 5, 6, 7, 8, 9])"
      ]
     },
     "execution_count": 2,
     "metadata": {},
     "output_type": "execute_result"
    }
   ],
   "source": [
    "import numpy as np\n",
    "np.array(range(10))"
   ]
  },
  {
   "cell_type": "code",
   "execution_count": null,
   "id": "bc14158b-8f70-4631-963c-17350a93dde5",
   "metadata": {},
   "outputs": [],
   "source": [
    "np.arange(5)"
   ]
  },
  {
   "cell_type": "code",
   "execution_count": null,
   "id": "17e1d011-4027-467f-a572-4909496d9aff",
   "metadata": {},
   "outputs": [],
   "source": [
    "np.arange(1, 6, 2)"
   ]
  },
  {
   "cell_type": "markdown",
   "id": "d453bf51-a8cd-4af2-8718-77f72e3282aa",
   "metadata": {},
   "source": [
    "**LAB10-5** 2차원 배열에서 특정 조건을 만족하는 행만 추출하기\n",
    "\n",
    "![lab10-5.png](lab10-5.png)"
   ]
  },
  {
   "cell_type": "code",
   "execution_count": 7,
   "id": "f8c2261b-a767-4f3b-953d-285e8d200da1",
   "metadata": {},
   "outputs": [],
   "source": [
    "players = [[178, 76.4],\n",
    "           [183, 86.2],\n",
    "           [181, 78.5],\n",
    "           [176, 80.1]]"
   ]
  },
  {
   "cell_type": "code",
   "execution_count": 9,
   "id": "531bdcab-16b6-4fdb-a27c-9351759f8293",
   "metadata": {},
   "outputs": [
    {
     "data": {
      "text/plain": [
       "(4, 2)"
      ]
     },
     "execution_count": 9,
     "metadata": {},
     "output_type": "execute_result"
    }
   ],
   "source": [
    "players = np.array(players)\n",
    "players.shape"
   ]
  },
  {
   "cell_type": "code",
   "execution_count": 121,
   "id": "a437fa7d-7107-4822-8213-4591ec58e91b",
   "metadata": {},
   "outputs": [
    {
     "data": {
      "text/plain": [
       "array([[178. ,  76.4],\n",
       "       [183. ,  86.2],\n",
       "       [181. ,  78.5],\n",
       "       [176. ,  80.1]])"
      ]
     },
     "execution_count": 121,
     "metadata": {},
     "output_type": "execute_result"
    }
   ],
   "source": [
    "players = np.array(players)\n",
    "players"
   ]
  },
  {
   "cell_type": "code",
   "execution_count": 123,
   "id": "a539fbce-d6f5-454e-8280-1c5a90f44a53",
   "metadata": {},
   "outputs": [
    {
     "data": {
      "text/plain": [
       "array([[183. ,  86.2],\n",
       "       [176. ,  80.1]])"
      ]
     },
     "execution_count": 123,
     "metadata": {},
     "output_type": "execute_result"
    }
   ],
   "source": [
    "players[players[:, 1] > 80]"
   ]
  },
  {
   "cell_type": "code",
   "execution_count": 124,
   "id": "4c9c32e3-24ad-4db5-a31a-1c714f103f81",
   "metadata": {},
   "outputs": [
    {
     "data": {
      "text/plain": [
       "array([], shape=(0, 2), dtype=float64)"
      ]
     },
     "execution_count": 124,
     "metadata": {},
     "output_type": "execute_result"
    }
   ],
   "source": [
    "players[players[:, 1] > 180]"
   ]
  },
  {
   "cell_type": "markdown",
   "id": "419028e4-d5c1-493b-83e4-1ff5e69c60fd",
   "metadata": {},
   "source": [
    "## 10.8 linspace() 함수와 logspace() 함수\n",
    "```\n",
    "numpy.linspace(start, stop, num)\n",
    "```"
   ]
  },
  {
   "cell_type": "code",
   "execution_count": 12,
   "id": "4e5678e1-c6dc-440e-953d-cb18945ef9ac",
   "metadata": {},
   "outputs": [
    {
     "data": {
      "text/plain": [
       "array([0.        , 0.11111111, 0.22222222, 0.33333333, 0.44444444,\n",
       "       0.55555556, 0.66666667, 0.77777778, 0.88888889, 1.        ])"
      ]
     },
     "execution_count": 12,
     "metadata": {},
     "output_type": "execute_result"
    }
   ],
   "source": [
    "# np.arange(start, end, step)\n",
    "np.linspace(0, 1, 10) # Linear space"
   ]
  },
  {
   "cell_type": "code",
   "execution_count": 13,
   "id": "a1ebdf9f-e3b9-4302-930c-db35e49f7b16",
   "metadata": {},
   "outputs": [
    {
     "data": {
      "text/plain": [
       "array([0. , 0.1, 0.2, 0.3, 0.4, 0.5, 0.6, 0.7, 0.8, 0.9, 1. ])"
      ]
     },
     "execution_count": 13,
     "metadata": {},
     "output_type": "execute_result"
    }
   ],
   "source": [
    "np.linspace(0, 1, 11)"
   ]
  },
  {
   "cell_type": "code",
   "execution_count": 14,
   "id": "f286fbac-e0f8-4417-8970-3c6488bbbe14",
   "metadata": {},
   "outputs": [
    {
     "data": {
      "text/plain": [
       "array([0. , 0.1, 0.2, 0.3, 0.4, 0.5, 0.6, 0.7, 0.8, 0.9, 1. ])"
      ]
     },
     "execution_count": 14,
     "metadata": {},
     "output_type": "execute_result"
    }
   ],
   "source": [
    "np.arange(0, 1.1, 0.1)"
   ]
  },
  {
   "cell_type": "markdown",
   "id": "82a1da63-c8a4-4d1f-8723-e5181e9971d0",
   "metadata": {},
   "source": [
    "**배열의 형태를 바꾸는 reshape() 메소드와 flatten() 메소드**"
   ]
  },
  {
   "cell_type": "code",
   "execution_count": 16,
   "id": "0d3fc232-d77f-4aa3-8be3-c54b7a14dd00",
   "metadata": {},
   "outputs": [],
   "source": [
    "y = np.arange(12)"
   ]
  },
  {
   "cell_type": "code",
   "execution_count": 21,
   "id": "84c28e0e-8bb9-4d9d-a080-03802201231f",
   "metadata": {},
   "outputs": [
    {
     "data": {
      "text/plain": [
       "array([[ 0,  1,  2,  3],\n",
       "       [ 4,  5,  6,  7],\n",
       "       [ 8,  9, 10, 11]])"
      ]
     },
     "execution_count": 21,
     "metadata": {},
     "output_type": "execute_result"
    }
   ],
   "source": [
    "# reshape\n",
    "z = y.reshape(3, 4)\n",
    "z"
   ]
  },
  {
   "cell_type": "code",
   "execution_count": null,
   "id": "aa7f6b7d-5237-40b0-b22d-41af93c66a6b",
   "metadata": {},
   "outputs": [],
   "source": [
    "# flatten\n",
    "x = z.flatten()\n"
   ]
  },
  {
   "cell_type": "code",
   "execution_count": null,
   "id": "357dd93c-7a00-4541-b9f9-f49a9f3e82a6",
   "metadata": {},
   "outputs": [],
   "source": []
  },
  {
   "cell_type": "markdown",
   "id": "303f3874-43ae-4b05-aae2-1e54113a44da",
   "metadata": {},
   "source": [
    "## 10.9 난수를 생성해보자"
   ]
  },
  {
   "cell_type": "code",
   "execution_count": null,
   "id": "89407442-4e7f-4d48-8ef3-8e2f1b278a84",
   "metadata": {},
   "outputs": [],
   "source": [
    "np.random.seed(43)\n",
    "# probability density funcion(pdf) "
   ]
  },
  {
   "cell_type": "markdown",
   "id": "3b3ec5f8-74b3-4568-8252-1e1acec9d705",
   "metadata": {},
   "source": [
    "정규분포 난수\n",
    "![298-1.jpg](298-1.jpg)"
   ]
  },
  {
   "cell_type": "code",
   "execution_count": 22,
   "id": "b0603759-318e-4460-a841-0b635406611c",
   "metadata": {},
   "outputs": [
    {
     "data": {
      "text/plain": [
       "array([ 0.46310138,  1.37140859,  2.11408388, -0.39844343,  1.0347903 ,\n",
       "        0.92739794,  0.15828665, -1.53757016,  2.73922581, -0.68646377])"
      ]
     },
     "execution_count": 22,
     "metadata": {},
     "output_type": "execute_result"
    }
   ],
   "source": [
    "x = np.random.randn(10) # mu=0, sigma=1\n",
    "x"
   ]
  },
  {
   "cell_type": "code",
   "execution_count": 23,
   "id": "63c25a44-4805-4687-863f-10cfc18be67e",
   "metadata": {},
   "outputs": [
    {
     "data": {
      "text/plain": [
       "array([[-1.63090732,  1.54227913,  0.75138736, -0.08318795],\n",
       "       [ 0.10673165,  1.34178487,  0.16645549,  1.71108807],\n",
       "       [-1.48158643,  0.43135339, -1.24012611, -1.19293518],\n",
       "       [ 1.53090381,  0.53306436,  0.06560022,  0.43945084],\n",
       "       [ 0.17874585,  0.49047586,  0.31670233, -3.21000881]])"
      ]
     },
     "execution_count": 23,
     "metadata": {},
     "output_type": "execute_result"
    }
   ],
   "source": [
    "x = np.random.randn(5, 4) # mu=0, sigma=1\n",
    "x"
   ]
  },
  {
   "cell_type": "code",
   "execution_count": 24,
   "id": "99e0ca11-12df-412f-83aa-2a115ac25941",
   "metadata": {},
   "outputs": [
    {
     "data": {
      "text/plain": [
       "array([[ 9.74813649, 11.23678018,  8.85475952,  9.02460659],\n",
       "       [ 7.31191   , 12.02203369, 10.78760608,  9.33351902],\n",
       "       [ 8.62533319,  9.87895612, 10.6367601 , 15.10499122],\n",
       "       [ 9.04647285, 10.79106041,  8.46925864, 12.70033083],\n",
       "       [ 9.89401953, 12.06971247, 10.11745358, 11.28268735]])"
      ]
     },
     "execution_count": 24,
     "metadata": {},
     "output_type": "execute_result"
    }
   ],
   "source": [
    "mu = 10\n",
    "sigma = 2\n",
    "x = mu + sigma * np.random.randn(5, 4)\n",
    "x"
   ]
  },
  {
   "cell_type": "markdown",
   "id": "0fe06b56-c551-4363-91b4-acff2a39031c",
   "metadata": {},
   "source": [
    "**평균과 중앙값 계산하기**"
   ]
  },
  {
   "cell_type": "code",
   "execution_count": 28,
   "id": "f35a1531-97a9-4699-a2be-bd21288ea079",
   "metadata": {},
   "outputs": [
    {
     "data": {
      "text/plain": [
       "(138.31936388767974, 206.79629323668212)"
      ]
     },
     "execution_count": 28,
     "metadata": {},
     "output_type": "execute_result"
    }
   ],
   "source": [
    "mu = 175\n",
    "sigma = 10\n",
    "heights = mu + sigma * np.random.randn(1000)\n",
    "min(heights), max(heights)"
   ]
  },
  {
   "cell_type": "code",
   "execution_count": 29,
   "id": "c526fb8d-506a-46fe-aa59-493a15c4f55f",
   "metadata": {},
   "outputs": [
    {
     "data": {
      "text/plain": [
       "175.14050576170504"
      ]
     },
     "execution_count": 29,
     "metadata": {},
     "output_type": "execute_result"
    }
   ],
   "source": [
    "np.mean(heights)"
   ]
  },
  {
   "cell_type": "code",
   "execution_count": 30,
   "id": "57cd6f8c-0aee-4e84-94ad-85417cfa508d",
   "metadata": {},
   "outputs": [
    {
     "data": {
      "text/plain": [
       "10.259958288326033"
      ]
     },
     "execution_count": 30,
     "metadata": {},
     "output_type": "execute_result"
    }
   ],
   "source": [
    "np.std(heights) # 표준편찬(standard deviation) "
   ]
  },
  {
   "cell_type": "code",
   "execution_count": 31,
   "id": "33e514f9-998d-4888-95bc-4bef579444f8",
   "metadata": {},
   "outputs": [],
   "source": [
    "numbers = np.array([3, 7, 1, 2, 21])"
   ]
  },
  {
   "cell_type": "code",
   "execution_count": 32,
   "id": "07b8d766-2422-40cf-ab11-05dda108bd5a",
   "metadata": {},
   "outputs": [
    {
     "data": {
      "text/plain": [
       "[1, 2, 3, 7, 21]"
      ]
     },
     "execution_count": 32,
     "metadata": {},
     "output_type": "execute_result"
    }
   ],
   "source": [
    "sorted(numbers)"
   ]
  },
  {
   "cell_type": "code",
   "execution_count": 33,
   "id": "fc565cfd-d807-419b-aba3-7f9437be52c6",
   "metadata": {},
   "outputs": [
    {
     "data": {
      "text/plain": [
       "6.8"
      ]
     },
     "execution_count": 33,
     "metadata": {},
     "output_type": "execute_result"
    }
   ],
   "source": [
    "np.mean(numbers)"
   ]
  },
  {
   "cell_type": "code",
   "execution_count": 34,
   "id": "edc468d4-d3fa-4842-9243-aba02a41709c",
   "metadata": {},
   "outputs": [
    {
     "data": {
      "text/plain": [
       "3.0"
      ]
     },
     "execution_count": 34,
     "metadata": {},
     "output_type": "execute_result"
    }
   ],
   "source": [
    "np.median(numbers)"
   ]
  },
  {
   "cell_type": "code",
   "execution_count": null,
   "id": "d43c5fcf-06ac-45d7-b3c0-a6a4bf81155a",
   "metadata": {},
   "outputs": [],
   "source": [
    "# 평균(mean)\n",
    "numbers.sum() / len(numbers), np.mean(numbers)"
   ]
  },
  {
   "cell_type": "code",
   "execution_count": null,
   "id": "acf00c3a-8e09-4ce5-bdf1-42da2d3a496b",
   "metadata": {},
   "outputs": [],
   "source": [
    "# 중앙값(median)\n"
   ]
  },
  {
   "cell_type": "code",
   "execution_count": null,
   "id": "bf78b7ef-2510-4c7e-9870-2dc078d73d04",
   "metadata": {},
   "outputs": [],
   "source": []
  },
  {
   "attachments": {},
   "cell_type": "markdown",
   "id": "452c2292-32fc-4941-b149-238c2cb36401",
   "metadata": {},
   "source": [
    "**LAB10-6 배열의 형태를 바꾸어 보자**\n",
    "\n",
    "![lab10-6.png](lab10-6.png)"
   ]
  },
  {
   "cell_type": "code",
   "execution_count": 39,
   "id": "36a2ee5a-558f-4db5-96ad-6936d31680cd",
   "metadata": {},
   "outputs": [
    {
     "data": {
      "text/plain": [
       "array([ 1,  2,  3,  4,  5,  6,  7,  8,  9, 10, 11, 12, 13, 14, 15, 16, 17,\n",
       "       18, 19, 20, 21, 22, 23, 24, 25, 26, 27, 28, 29, 30, 31, 32, 33, 34,\n",
       "       35, 36])"
      ]
     },
     "execution_count": 39,
     "metadata": {},
     "output_type": "execute_result"
    }
   ],
   "source": [
    "a = np.arange(1,37)\n",
    "a"
   ]
  },
  {
   "cell_type": "code",
   "execution_count": 41,
   "id": "c3916179-d274-44be-9e5a-aa35eea201d0",
   "metadata": {},
   "outputs": [
    {
     "data": {
      "text/plain": [
       "array([[ 1,  2,  3,  4,  5,  6,  7,  8,  9, 10, 11, 12],\n",
       "       [13, 14, 15, 16, 17, 18, 19, 20, 21, 22, 23, 24],\n",
       "       [25, 26, 27, 28, 29, 30, 31, 32, 33, 34, 35, 36]])"
      ]
     },
     "execution_count": 41,
     "metadata": {},
     "output_type": "execute_result"
    }
   ],
   "source": [
    "b = a.reshape(3, 12)\n",
    "b"
   ]
  },
  {
   "cell_type": "code",
   "execution_count": 45,
   "id": "b4089a79-0182-422b-a27d-e07b73a737f5",
   "metadata": {},
   "outputs": [
    {
     "data": {
      "text/plain": [
       "array([[ 1,  2,  3,  4,  5,  6,  7,  8,  9],\n",
       "       [10, 11, 12, 13, 14, 15, 16, 17, 18],\n",
       "       [19, 20, 21, 22, 23, 24, 25, 26, 27],\n",
       "       [28, 29, 30, 31, 32, 33, 34, 35, 36]])"
      ]
     },
     "execution_count": 45,
     "metadata": {},
     "output_type": "execute_result"
    }
   ],
   "source": [
    "c = a.reshape(4, 9)\n",
    "c"
   ]
  },
  {
   "cell_type": "code",
   "execution_count": 46,
   "id": "87483369-b50c-4a22-a7ae-64bd6143ba86",
   "metadata": {},
   "outputs": [
    {
     "data": {
      "text/plain": [
       "24"
      ]
     },
     "execution_count": 46,
     "metadata": {},
     "output_type": "execute_result"
    }
   ],
   "source": [
    "c[2, 5]"
   ]
  },
  {
   "cell_type": "code",
   "execution_count": 47,
   "id": "e43c3fe2-680f-453a-8bc7-1eae358f46d5",
   "metadata": {},
   "outputs": [
    {
     "data": {
      "text/plain": [
       "array([[13, 14],\n",
       "       [22, 23]])"
      ]
     },
     "execution_count": 47,
     "metadata": {},
     "output_type": "execute_result"
    }
   ],
   "source": [
    "c[1:3, 3:5]"
   ]
  },
  {
   "cell_type": "markdown",
   "id": "8af2e4b2-4187-4a85-a41c-7de9c85f243f",
   "metadata": {},
   "source": [
    "**LAB10-7** 평균과 중앙값 계산 연습\n",
    "\n",
    "![lab10-7.png](lab10-7.png)"
   ]
  },
  {
   "cell_type": "code",
   "execution_count": null,
   "id": "acc57ba8-db54-4104-a5ce-118fc3d93de8",
   "metadata": {},
   "outputs": [],
   "source": []
  },
  {
   "cell_type": "markdown",
   "id": "13a4ef8a-c639-45a7-a4fd-b96e515470df",
   "metadata": {},
   "source": [
    "## 10.11 상관관계 계산하기\n",
    "\n",
    "- 일반적으로 키가 큰 사람의 몸무게가 키가 작은 사람에 비해서 많이 나간다\n",
    "- 공부하는 시간이 길면 점수가 높다.\n",
    "- 운동을 시간이 길수록 몸무게가 적게 나간다.\n"
   ]
  },
  {
   "cell_type": "code",
   "execution_count": 49,
   "id": "6bdbada6-54ac-4852-852d-9d20488c2e35",
   "metadata": {},
   "outputs": [
    {
     "data": {
      "text/plain": [
       "array([[1.        , 0.90400265],\n",
       "       [0.90400265, 1.        ]])"
      ]
     },
     "execution_count": 49,
     "metadata": {},
     "output_type": "execute_result"
    }
   ],
   "source": [
    "heights = 175 + 10 * np.random.randn(1000)\n",
    "weights = (heights - 110) + 5 * np.random.randn(1000)\n",
    "np.corrcoef(heights, weights)"
   ]
  },
  {
   "cell_type": "code",
   "execution_count": 48,
   "id": "94fe5906-87a3-4d88-94d4-5500b7dbba24",
   "metadata": {},
   "outputs": [],
   "source": [
    "import matplotlib.pyplot as plt"
   ]
  },
  {
   "cell_type": "code",
   "execution_count": 50,
   "id": "e45fd592-f196-4222-85c0-93e87e2a9032",
   "metadata": {},
   "outputs": [
    {
     "data": {
      "image/png": "[encoded data removed]",
      "text/plain": [
       "<Figure size 640x480 with 1 Axes>"
      ]
     },
     "metadata": {},
     "output_type": "display_data"
    }
   ],
   "source": [
    "plt.plot(heights, weights, 'k.')\n",
    "plt.show()"
   ]
  },
  {
   "cell_type": "code",
   "execution_count": 52,
   "id": "53829835-154c-4a64-9aef-94b8a9807e49",
   "metadata": {},
   "outputs": [
    {
     "data": {
      "text/plain": [
       "array([[ 1.        , -0.04738347],\n",
       "       [-0.04738347,  1.        ]])"
      ]
     },
     "execution_count": 52,
     "metadata": {},
     "output_type": "execute_result"
    }
   ],
   "source": [
    "x = np.linspace(0, 100, 101)\n",
    "y = np.sin(x)\n",
    "np.corrcoef(x, y)"
   ]
  },
  {
   "cell_type": "code",
   "execution_count": 54,
   "id": "817d58f6-fada-4e4f-873b-35e06ff14c36",
   "metadata": {},
   "outputs": [],
   "source": [
    "x = np.arange(100)\n",
    "y = x ** 2\n",
    "z = np.sin(3.14 * x / 100)"
   ]
  },
  {
   "cell_type": "code",
   "execution_count": 55,
   "id": "822eac47-aa83-4d61-8ec4-9853a4995851",
   "metadata": {},
   "outputs": [
    {
     "data": {
      "text/plain": [
       "array([[ 1.        ,  0.96764439,  0.03763255],\n",
       "       [ 0.96764439,  1.        , -0.21532645],\n",
       "       [ 0.03763255, -0.21532645,  1.        ]])"
      ]
     },
     "execution_count": 55,
     "metadata": {},
     "output_type": "execute_result"
    }
   ],
   "source": [
    "np.corrcoef([x, y, z])"
   ]
  },
  {
   "cell_type": "code",
   "execution_count": 56,
   "id": "2c507752-4e7f-47d3-b87f-ea36cf078788",
   "metadata": {},
   "outputs": [
    {
     "data": {
      "image/png": "[encoded data removed]",
      "text/plain": [
       "<Figure size 1000x300 with 3 Axes>"
      ]
     },
     "metadata": {},
     "output_type": "display_data"
    }
   ],
   "source": [
    "import matplotlib.pyplot as plt\n",
    "\n",
    "plt.figure(figsize=(10, 3))\n",
    "plt.subplot(1, 3, 1)\n",
    "plt.plot(x, y)\n",
    "plt.subplot(1, 3, 2)\n",
    "plt.plot(y, z)\n",
    "plt.subplot(1, 3, 3)\n",
    "plt.plot(x, z)\n",
    "plt.show()"
   ]
  },
  {
   "cell_type": "code",
   "execution_count": null,
   "id": "4a270d04-dfb9-4398-86ec-44af66acda5f",
   "metadata": {},
   "outputs": [],
   "source": []
  }
 ],
 "metadata": {
  "kernelspec": {
   "display_name": "Python 3 (ipykernel)",
   "language": "python",
   "name": "python3"
  },
  "language_info": {
   "codemirror_mode": {
    "name": "ipython",
    "version": 3
   },
   "file_extension": ".py",
   "mimetype": "text/x-python",
   "name": "python",
   "nbconvert_exporter": "python",
   "pygments_lexer": "ipython3",
   "version": "3.11.7"
  }
 },
 "nbformat": 4,
 "nbformat_minor": 5
}
