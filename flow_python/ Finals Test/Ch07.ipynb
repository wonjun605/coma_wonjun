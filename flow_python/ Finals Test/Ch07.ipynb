{
 "cells": [
  {
   "cell_type": "markdown",
   "id": "b305ce8c-3a25-4c9a-ba46-9932f011a0e9",
   "metadata": {},
   "source": [
    "# 07 데이터를 리스트와 튜플로 묶어보자\n",
    "\n",
    "7.1 리스트는 무엇이고 왜필요한가   \n",
    "7.2 리스트 연산을 해보자   \n",
    "LAB 7-1 입력을 받아 맛있는 과일의리스트를만들어보자   \n",
    "LAB 7-2 2에서 100까지의 소수를 구해보자   \n",
    "7.3 인덱싱과 슬라이싱을해보자   \n",
    "7.4 리스트의 원소 값을 자유롭게조작해보자   \n",
    "LAB 7-3 도시의 인구 자료에 대한슬라이싱을해보자   \n",
    "7.5 리스트의 메소드와 여러기능들   \n",
    "7.6 리스트를 크기에따라정렬해보자   \n",
    "LAB 7-4 오늘의 명언을 골라주는 기능을만들자   \n",
    "LAB 7-5 도시의 이름과 인구를 튜플로묶어보자   \n",
    "7.7 바퀴의 재발명?    \n",
    "7.8 리스트 객체의생성과참조라는깊이있는개념   \n",
    "7.9 리스트 함축은코드를짧고간결하게만드는데사용된다   \n",
    "7.10 한번 생성하면 그 값을고칠수없는자료형: 튜플   \n",
    "7.11 zip() 함수를 사용한 집적화   \n",
    "7.12 클래스와 객체가 무엇인가   \n",
    "\r\n"
   ]
  },
  {
   "cell_type": "markdown",
   "id": "31090e2f-9621-4805-ab00-3650c3528a0c",
   "metadata": {},
   "source": [
    "이장에서 배울 것들\n",
    "\n",
    "- 여러 개의 데이터를 하나로 묶어서 처리하는 리스트와 튜플을 배워 봅시다. \n",
    "- 리스트나 튜플의 항목들을 인덱스를 이용해서 접근해 봅시다. \n",
    "- 리스트는 가변속성을 갖고 튜플은 불변속성을 가집니다. 이를 상세하게 알아봅시다. \n",
    "- 리스트나 튜플 같이 데이터가 연속해서 나타나는 것을 시퀀스라고 합니다. \n",
    "- 시퀀스의 일부를 잘라내는 슬라이싱을 익혀 봅시다. \n",
    "- 슬라이싱을 이용하여 효율적으로 데이터를 다루도록 연습해 봅시다. \n",
    "- 복잡한 기능의 자료형을 설계하고 만드는 객체지향 개념을 살펴봅시다."
   ]
  },
  {
   "cell_type": "markdown",
   "id": "8f844640-e9a5-468d-9db1-5165c6d3d2e8",
   "metadata": {},
   "source": [
    "## 7.1 리스트는 무엇이고 왜 필요한가\n",
    "\n",
    "- 파이썬 자료형\n",
    "    - 단순한 자료형: int, float, bool\n",
    "    - 집단 자료형(collection data type):\n",
    "        - 문자열(string), 리스트(list), 퓨플(tuple), 사전(dictionary, dict), 집합(set)\n",
    "     "
   ]
  },
  {
   "cell_type": "code",
   "execution_count": null,
   "id": "ff8e71ca-53a2-4bea-8ea7-4f60a4ca68a0",
   "metadata": {},
   "outputs": [],
   "source": []
  },
  {
   "cell_type": "markdown",
   "id": "0b757cb1-551d-4739-be45-8e39389a9962",
   "metadata": {},
   "source": [
    "- 리스트: 여러가지 자료형의 데이터를 하나로 묶어 놓은 자료 구조\n",
    " \n",
    "- 리스트 만들기\n",
    "    - 빈 리스트(empty list)\n",
    "    - 항목(element)의 추가\n",
    "    - range()를 리스트로 변환"
   ]
  },
  {
   "cell_type": "code",
   "execution_count": null,
   "id": "35024804-07ba-48d2-a5f7-649cb7b46ee6",
   "metadata": {},
   "outputs": [],
   "source": [
    "# list 만들기 # 대괄호 사용"
   ]
  },
  {
   "cell_type": "code",
   "execution_count": 2,
   "id": "1eb06651-87e4-4d2e-b38d-b4c6c1e11f19",
   "metadata": {},
   "outputs": [
    {
     "data": {
      "text/plain": [
       "[178, 190, 165]"
      ]
     },
     "execution_count": 2,
     "metadata": {},
     "output_type": "execute_result"
    }
   ],
   "source": [
    "heights = [178, 190, 165]\n",
    "heights"
   ]
  },
  {
   "cell_type": "code",
   "execution_count": 2,
   "id": "d7b8f75e-c33b-41f2-b3a2-6dc3c3b5148f",
   "metadata": {},
   "outputs": [
    {
     "data": {
      "text/plain": [
       "[178, 190, 165]"
      ]
     },
     "execution_count": 2,
     "metadata": {},
     "output_type": "execute_result"
    }
   ],
   "source": [
    "heights = [178, 190, 165]\n",
    "heights"
   ]
  },
  {
   "cell_type": "code",
   "execution_count": 5,
   "id": "94df7a8f-55e7-4063-bcb9-d0da691b5473",
   "metadata": {},
   "outputs": [
    {
     "data": {
      "text/plain": [
       "[['Park', 187, 65], ['Lee', 190, 120], ['choi', 165, 50]]"
      ]
     },
     "execution_count": 5,
     "metadata": {},
     "output_type": "execute_result"
    }
   ],
   "source": [
    "my_friends = [['Park', 187, 65], ['Lee', 190, 120], ['choi', 165, 50]]\n",
    "my_friends"
   ]
  },
  {
   "cell_type": "code",
   "execution_count": 5,
   "id": "f0c627a6-2e7d-4394-ad5f-4b91b3937340",
   "metadata": {},
   "outputs": [
    {
     "data": {
      "text/plain": [
       "[['Park', 187, 65], ['Lee', 190, 120], ['choi', 165, 50]]"
      ]
     },
     "execution_count": 5,
     "metadata": {},
     "output_type": "execute_result"
    }
   ],
   "source": [
    "my_friends = [['Park', 187, 65], ['Lee', 190, 120], ['choi', 165, 50]]\n",
    "my_friends"
   ]
  },
  {
   "cell_type": "code",
   "execution_count": null,
   "id": "f5d20523-e489-4732-a9dc-98277e06182c",
   "metadata": {},
   "outputs": [],
   "source": []
  },
  {
   "cell_type": "code",
   "execution_count": null,
   "id": "81cf4c36-8a31-44e4-b434-ca1c42f0d597",
   "metadata": {},
   "outputs": [],
   "source": [
    "# 빈 리스트 - append 리스트에 추가"
   ]
  },
  {
   "cell_type": "code",
   "execution_count": 8,
   "id": "2f221e9d-96ff-43a3-a115-9bc57fdc4550",
   "metadata": {},
   "outputs": [
    {
     "data": {
      "text/plain": [
       "[]"
      ]
     },
     "execution_count": 8,
     "metadata": {},
     "output_type": "execute_result"
    }
   ],
   "source": [
    "heights = []\n",
    "heights"
   ]
  },
  {
   "cell_type": "code",
   "execution_count": 12,
   "id": "2153ba62-e0d5-421d-bec1-4956fa37a36d",
   "metadata": {},
   "outputs": [
    {
     "data": {
      "text/plain": [
       "[1, 1, 2, 3]"
      ]
     },
     "execution_count": 12,
     "metadata": {},
     "output_type": "execute_result"
    }
   ],
   "source": [
    "heights.append(3)\n",
    "heights"
   ]
  },
  {
   "cell_type": "code",
   "execution_count": 6,
   "id": "e65c3aff-86df-4794-a9d4-98bea061bbbb",
   "metadata": {},
   "outputs": [
    {
     "data": {
      "text/plain": [
       "[]"
      ]
     },
     "execution_count": 6,
     "metadata": {},
     "output_type": "execute_result"
    }
   ],
   "source": [
    "heights = []\n",
    "heights"
   ]
  },
  {
   "cell_type": "code",
   "execution_count": 7,
   "id": "77460962-77b2-45c0-a23b-cd75ed7a6c31",
   "metadata": {},
   "outputs": [
    {
     "data": {
      "text/plain": [
       "[]"
      ]
     },
     "execution_count": 7,
     "metadata": {},
     "output_type": "execute_result"
    }
   ],
   "source": [
    "heights = list()\n",
    "heights"
   ]
  },
  {
   "cell_type": "code",
   "execution_count": 8,
   "id": "a706a865-442a-48f6-99fe-287840e1dc31",
   "metadata": {},
   "outputs": [
    {
     "data": {
      "text/plain": [
       "[178]"
      ]
     },
     "execution_count": 8,
     "metadata": {},
     "output_type": "execute_result"
    }
   ],
   "source": [
    "heights.append(178)\n",
    "heights"
   ]
  },
  {
   "cell_type": "code",
   "execution_count": 11,
   "id": "23d96f25-5cf5-4ccf-bacc-b4d1ba7f28c6",
   "metadata": {},
   "outputs": [
    {
     "data": {
      "text/plain": [
       "[178, 190, 190, 190]"
      ]
     },
     "execution_count": 11,
     "metadata": {},
     "output_type": "execute_result"
    }
   ],
   "source": [
    "heights.append(190)\n",
    "heights"
   ]
  },
  {
   "cell_type": "code",
   "execution_count": null,
   "id": "fab710bd-8e8d-4702-89da-cce15e70e6c3",
   "metadata": {},
   "outputs": [],
   "source": [
    "# range()를 리스트로 변환"
   ]
  },
  {
   "cell_type": "code",
   "execution_count": 12,
   "id": "307b1189-61eb-4399-98ad-423da5a81ab2",
   "metadata": {},
   "outputs": [
    {
     "data": {
      "text/plain": [
       "[0, 2, 4, 6, 8]"
      ]
     },
     "execution_count": 12,
     "metadata": {},
     "output_type": "execute_result"
    }
   ],
   "source": [
    "evens = []\n",
    "for i in range(0, 10, 2):\n",
    "    evens.append(i)\n",
    "\n",
    "evens"
   ]
  },
  {
   "cell_type": "code",
   "execution_count": 13,
   "id": "9e1f1b37-a5f1-4802-8dce-d45ab6013bad",
   "metadata": {},
   "outputs": [
    {
     "data": {
      "text/plain": [
       "[0, 2, 4, 6, 8]"
      ]
     },
     "execution_count": 13,
     "metadata": {},
     "output_type": "execute_result"
    }
   ],
   "source": [
    "evens = []\n",
    "for i in range(0, 10, 2):\n",
    "    evens.append(i)\n",
    "evens"
   ]
  },
  {
   "cell_type": "code",
   "execution_count": 13,
   "id": "c9002235-aad2-44cc-83cc-27e4e453f769",
   "metadata": {},
   "outputs": [
    {
     "data": {
      "text/plain": [
       "[0, 2, 4, 6, 8]"
      ]
     },
     "execution_count": 13,
     "metadata": {},
     "output_type": "execute_result"
    }
   ],
   "source": [
    "list(range(0, 10, 2))"
   ]
  },
  {
   "cell_type": "code",
   "execution_count": 14,
   "id": "8c72fea0-a8a1-47a1-ae26-dca63d07b8a4",
   "metadata": {},
   "outputs": [
    {
     "data": {
      "text/plain": [
       "[0, 3, 6, 9, 12, 15, 18]"
      ]
     },
     "execution_count": 14,
     "metadata": {},
     "output_type": "execute_result"
    }
   ],
   "source": [
    "list(range(0, 20, 3))"
   ]
  },
  {
   "cell_type": "code",
   "execution_count": 22,
   "id": "b42630e3-57e0-4638-a94b-a23fbc6d91ed",
   "metadata": {},
   "outputs": [
    {
     "data": {
      "text/plain": [
       "['Jennie', 'Rose', 'Lisa', 'Jisoo']"
      ]
     },
     "execution_count": 22,
     "metadata": {},
     "output_type": "execute_result"
    }
   ],
   "source": [
    "black_pink = ['Jennie', 'Rose', 'Lisa', 'Jisoo']\n",
    "black_pink"
   ]
  },
  {
   "cell_type": "code",
   "execution_count": 23,
   "id": "4b979c17-193c-4383-87b5-904b01633734",
   "metadata": {},
   "outputs": [
    {
     "data": {
      "text/plain": [
       "True"
      ]
     },
     "execution_count": 23,
     "metadata": {},
     "output_type": "execute_result"
    }
   ],
   "source": [
    "'Jennie' in black_pink"
   ]
  },
  {
   "cell_type": "code",
   "execution_count": 24,
   "id": "d05cd7d3-1b0e-4986-bea2-1f55c0b3ce57",
   "metadata": {},
   "outputs": [
    {
     "data": {
      "text/plain": [
       "True"
      ]
     },
     "execution_count": 24,
     "metadata": {},
     "output_type": "execute_result"
    }
   ],
   "source": [
    "'Psy' not in black_pink"
   ]
  },
  {
   "cell_type": "markdown",
   "id": "2e37c382-e93d-4066-9c34-5c98cd53c2e6",
   "metadata": {},
   "source": [
    "## 7.2 리스트 연산을 해보자\n",
    "\n",
    "- 리스트 합치기 -> +\n",
    "- 리스트의 반복 -> *\n",
    "- type: 자료형 확인\n",
    "- in/not in\n",
    "- len(), max(), min(), sum()\n",
    "- any(), all()"
   ]
  },
  {
   "cell_type": "code",
   "execution_count": null,
   "id": "672c6520-9f5d-4b7a-b7ee-efb590ab5ef4",
   "metadata": {},
   "outputs": [],
   "source": [
    "# 리스트 합치기 #더하기 연산"
   ]
  },
  {
   "cell_type": "code",
   "execution_count": 17,
   "id": "ca2d4cae-02aa-428f-b9c3-68cdc15f86ac",
   "metadata": {},
   "outputs": [
    {
     "data": {
      "text/plain": [
       "[190, 180, 175, 175, 168, 192]"
      ]
     },
     "execution_count": 17,
     "metadata": {},
     "output_type": "execute_result"
    }
   ],
   "source": [
    "my_heights = [190, 180, 175]\n",
    "your_friends = [175, 168, 192]\n",
    "our_friends = my_heights + your_friends\n",
    "our_friends"
   ]
  },
  {
   "cell_type": "code",
   "execution_count": null,
   "id": "09005845-37e5-49b1-a880-5f063a0ebfc5",
   "metadata": {},
   "outputs": [],
   "source": [
    "# 리스트의 반복 # 곱하기 연산"
   ]
  },
  {
   "cell_type": "code",
   "execution_count": 18,
   "id": "b93deff2-7c4d-4a1f-b159-d06f8fb1ef22",
   "metadata": {},
   "outputs": [
    {
     "data": {
      "text/plain": [
       "[1, 2, 3, 1, 2, 3, 1, 2, 3]"
      ]
     },
     "execution_count": 18,
     "metadata": {},
     "output_type": "execute_result"
    }
   ],
   "source": [
    "numbers = [1, 2, 3]\n",
    "numbers * 3"
   ]
  },
  {
   "cell_type": "code",
   "execution_count": null,
   "id": "c98df2d2-9a8b-4dc2-a0c4-fc6abb19fda1",
   "metadata": {},
   "outputs": [],
   "source": [
    "# type: 자료형 확인"
   ]
  },
  {
   "cell_type": "code",
   "execution_count": 19,
   "id": "ff7c9d82-b519-4126-b9df-bdd340387134",
   "metadata": {},
   "outputs": [
    {
     "data": {
      "text/plain": [
       "list"
      ]
     },
     "execution_count": 19,
     "metadata": {},
     "output_type": "execute_result"
    }
   ],
   "source": [
    "type(numbers)"
   ]
  },
  {
   "cell_type": "code",
   "execution_count": null,
   "id": "b0bf5702-6abc-47bf-9b0d-0fdba8dad6a2",
   "metadata": {},
   "outputs": [],
   "source": [
    "# in/not in # 리스트 안에 값이 있는지 확인할 때"
   ]
  },
  {
   "cell_type": "code",
   "execution_count": 23,
   "id": "9877a25b-8b6f-4b63-abde-5900bd268ac2",
   "metadata": {},
   "outputs": [
    {
     "data": {
      "text/plain": [
       "False"
      ]
     },
     "execution_count": 23,
     "metadata": {},
     "output_type": "execute_result"
    }
   ],
   "source": [
    "numbers\n",
    "1 not in numbers"
   ]
  },
  {
   "cell_type": "code",
   "execution_count": 24,
   "id": "ccb39efe-25ae-4421-9324-ffcb315917b7",
   "metadata": {},
   "outputs": [
    {
     "data": {
      "text/plain": [
       "True"
      ]
     },
     "execution_count": 24,
     "metadata": {},
     "output_type": "execute_result"
    }
   ],
   "source": [
    "10 not in numbers"
   ]
  },
  {
   "cell_type": "code",
   "execution_count": null,
   "id": "4284436a-a09e-4ba1-bfb7-d5bd783553ba",
   "metadata": {},
   "outputs": [],
   "source": [
    "# len(), max(), min(), sum()"
   ]
  },
  {
   "cell_type": "code",
   "execution_count": 25,
   "id": "8ef89128-2f8f-49fc-b253-c0cf1805782b",
   "metadata": {},
   "outputs": [
    {
     "data": {
      "text/plain": [
       "3"
      ]
     },
     "execution_count": 25,
     "metadata": {},
     "output_type": "execute_result"
    }
   ],
   "source": [
    "len(numbers)"
   ]
  },
  {
   "cell_type": "code",
   "execution_count": 26,
   "id": "1f132c9e-326a-42c0-8613-58d91f50e203",
   "metadata": {},
   "outputs": [
    {
     "data": {
      "text/plain": [
       "3"
      ]
     },
     "execution_count": 26,
     "metadata": {},
     "output_type": "execute_result"
    }
   ],
   "source": [
    "max(numbers)"
   ]
  },
  {
   "cell_type": "code",
   "execution_count": 27,
   "id": "2bb5f68f-2926-4db2-bcdd-df1ed596f432",
   "metadata": {},
   "outputs": [
    {
     "data": {
      "text/plain": [
       "1"
      ]
     },
     "execution_count": 27,
     "metadata": {},
     "output_type": "execute_result"
    }
   ],
   "source": [
    "min(numbers)"
   ]
  },
  {
   "cell_type": "code",
   "execution_count": 28,
   "id": "e1c4786a-56d9-4456-948d-57e21be081ed",
   "metadata": {},
   "outputs": [
    {
     "data": {
      "text/plain": [
       "6"
      ]
     },
     "execution_count": 28,
     "metadata": {},
     "output_type": "execute_result"
    }
   ],
   "source": [
    "sum(numbers)"
   ]
  },
  {
   "cell_type": "code",
   "execution_count": 31,
   "id": "2aaa3505-2289-4e09-8f0a-59df282daaa1",
   "metadata": {},
   "outputs": [
    {
     "data": {
      "text/plain": [
       "181.66666666666666"
      ]
     },
     "execution_count": 31,
     "metadata": {},
     "output_type": "execute_result"
    }
   ],
   "source": [
    "sum(my_heights)/len(my_friends)"
   ]
  },
  {
   "cell_type": "code",
   "execution_count": null,
   "id": "b52c38eb-b8e2-4ece-83da-0188e13bdc2d",
   "metadata": {},
   "outputs": [],
   "source": [
    "# any(), all()"
   ]
  },
  {
   "cell_type": "code",
   "execution_count": 32,
   "id": "53c62bef-c1b3-4695-bc35-b20c51045344",
   "metadata": {},
   "outputs": [
    {
     "data": {
      "text/plain": [
       "False"
      ]
     },
     "execution_count": 32,
     "metadata": {},
     "output_type": "execute_result"
    }
   ],
   "source": [
    "numbers = [0, 0, 0, 0]\n",
    "any(numbers)"
   ]
  },
  {
   "cell_type": "code",
   "execution_count": 33,
   "id": "07576811-aaa0-4895-b6f3-198025698a0a",
   "metadata": {},
   "outputs": [
    {
     "data": {
      "text/plain": [
       "False"
      ]
     },
     "execution_count": 33,
     "metadata": {},
     "output_type": "execute_result"
    }
   ],
   "source": [
    "all(numbers)"
   ]
  },
  {
   "attachments": {},
   "cell_type": "markdown",
   "id": "55e003a4-4294-4aac-b04a-2ce5c951f240",
   "metadata": {},
   "source": [
    "**도전문제 7.1**\n",
    "![image.png](7-1.png)"
   ]
  },
  {
   "cell_type": "code",
   "execution_count": null,
   "id": "2de93e71-865f-4874-a0f0-ffbe4fcc0de3",
   "metadata": {},
   "outputs": [],
   "source": []
  },
  {
   "attachments": {},
   "cell_type": "markdown",
   "id": "0067117c-94a7-4a71-93f4-b3fb1f348885",
   "metadata": {},
   "source": [
    "**LAB7-1** 입력을 받아 맛있는 과일의 리스트를 만들어 보자.\n",
    "\n",
    "![image.png](7-2.png)"
   ]
  },
  {
   "cell_type": "code",
   "execution_count": null,
   "id": "e7fd284c-f0d1-4dc1-9ff6-6e9abda50727",
   "metadata": {},
   "outputs": [],
   "source": []
  },
  {
   "cell_type": "markdown",
   "id": "4a80fbab-c729-4d03-9d32-79b8f6b5c2d2",
   "metadata": {},
   "source": [
    "**LAB7-2** 100보다 작은 모든 소수를 구해보자."
   ]
  },
  {
   "cell_type": "code",
   "execution_count": 35,
   "id": "166ffabc-b272-4b47-b855-5ca7fc2d758a",
   "metadata": {},
   "outputs": [
    {
     "name": "stdout",
     "output_type": "stream",
     "text": [
      "2,3,5,7,11,13,17,19,23,29,31,37,41,43,47,53,59,61,67,71,73,79,83,89,97,"
     ]
    }
   ],
   "source": [
    "def is_prime(n):\n",
    "    for i in range(2, n):\n",
    "        if n % i == 0:\n",
    "            return False\n",
    "    return  True\n",
    "\n",
    "prime_number = []\n",
    "for i in range(2, 100):\n",
    "    if is_prime(i) : \n",
    "        prime_number.append(i)\n",
    "        print(i, end=',')\n",
    "\n",
    "\n"
   ]
  },
  {
   "cell_type": "markdown",
   "id": "238a0fb0-e176-4ef1-aa86-20f001cfcbba",
   "metadata": {},
   "source": [
    "## 7.3 인덱싱과 슬라이싱을 해 보자\n",
    "- 인덱싱(indexing)\n",
    "    - 리스트_이름[인덱스] \n",
    "- 슬라이싱(slicing)\n",
    "    - 리스트_이름[시작 인덱스:끝 인덱스: 증가] \n",
    "\n",
    "```\n",
    "letters = ['A', 'B', 'C', 'D', 'E', 'F']\n",
    "#           0    1    2    3    4    5\n",
    "#          -6   -5   -4   -3   -2   -1"
   ]
  },
  {
   "cell_type": "code",
   "execution_count": 37,
   "id": "6b382461-c6a2-42f5-8fd8-5ed82e7015e5",
   "metadata": {},
   "outputs": [],
   "source": [
    "letters = ['A', 'B', 'C', 'D', 'E', 'F']"
   ]
  },
  {
   "cell_type": "code",
   "execution_count": 38,
   "id": "cbb2776f-10ad-4356-b1bd-7e8313fa327a",
   "metadata": {},
   "outputs": [
    {
     "data": {
      "text/plain": [
       "['E', 'F']"
      ]
     },
     "execution_count": 38,
     "metadata": {},
     "output_type": "execute_result"
    }
   ],
   "source": [
    "letters[4:]"
   ]
  },
  {
   "cell_type": "code",
   "execution_count": 39,
   "id": "a40ebb7c-524f-4983-807a-a2399ad677e5",
   "metadata": {},
   "outputs": [
    {
     "data": {
      "text/plain": [
       "['A', 'B', 'C', 'D']"
      ]
     },
     "execution_count": 39,
     "metadata": {},
     "output_type": "execute_result"
    }
   ],
   "source": [
    "letters[:4]"
   ]
  },
  {
   "cell_type": "code",
   "execution_count": 33,
   "id": "27e5e68d-05da-4048-9803-11e1574aa655",
   "metadata": {},
   "outputs": [
    {
     "data": {
      "text/plain": [
       "['B', 'C', 'D', 'E']"
      ]
     },
     "execution_count": 33,
     "metadata": {},
     "output_type": "execute_result"
    }
   ],
   "source": [
    "letters[1:5]"
   ]
  },
  {
   "cell_type": "code",
   "execution_count": 36,
   "id": "11dd6ee0-bc2c-4368-8ed3-784b167bb765",
   "metadata": {},
   "outputs": [
    {
     "data": {
      "text/plain": [
       "['A', 'C', 'E']"
      ]
     },
     "execution_count": 36,
     "metadata": {},
     "output_type": "execute_result"
    }
   ],
   "source": [
    "letters[::2]"
   ]
  },
  {
   "cell_type": "code",
   "execution_count": 42,
   "id": "d8efa217-7a5c-4875-9171-d47b3a7525a8",
   "metadata": {},
   "outputs": [
    {
     "data": {
      "text/plain": [
       "['Jin', 'Suga', 'J-Hop', 'Jungkook']"
      ]
     },
     "execution_count": 42,
     "metadata": {},
     "output_type": "execute_result"
    }
   ],
   "source": [
    "A = bts[5:1:-1]\n",
    "A"
   ]
  },
  {
   "cell_type": "code",
   "execution_count": 43,
   "id": "7da1559e-5a70-4dd7-9719-47081589df8a",
   "metadata": {},
   "outputs": [
    {
     "data": {
      "text/plain": [
       "['Jin', 'Suga', 'J-Hop', 'Jungkook']"
      ]
     },
     "execution_count": 43,
     "metadata": {},
     "output_type": "execute_result"
    }
   ],
   "source": [
    "bts[-2:1:-1]"
   ]
  },
  {
   "cell_type": "code",
   "execution_count": 68,
   "id": "283bccd9-aaab-454a-8135-d1b49c2320d0",
   "metadata": {},
   "outputs": [],
   "source": [
    "letters = ['A', 'B', 'C', 'D', 'E', 'F']\n",
    "bts = ['V', 'RM', 'Jungkook', 'J-Hop', 'Suga', 'Jin', 'Jimin']\n",
    "#       0     1       2          3        4      5       6\n",
    "#                    -5         -4       -3     -2      -1"
   ]
  },
  {
   "cell_type": "code",
   "execution_count": null,
   "id": "e443feac-dd08-4c55-b020-ae966de83978",
   "metadata": {},
   "outputs": [],
   "source": [
    "# 인덱싱"
   ]
  },
  {
   "cell_type": "code",
   "execution_count": 24,
   "id": "cb983fbe-5256-4985-a8c5-22f716d7d041",
   "metadata": {},
   "outputs": [
    {
     "data": {
      "text/plain": [
       "'Jimin'"
      ]
     },
     "execution_count": 24,
     "metadata": {},
     "output_type": "execute_result"
    }
   ],
   "source": [
    "bts[6]"
   ]
  },
  {
   "cell_type": "code",
   "execution_count": null,
   "id": "bd29faa8-0785-47c8-8255-dc5205b12f13",
   "metadata": {},
   "outputs": [],
   "source": [
    "# 슬라이싱"
   ]
  },
  {
   "cell_type": "code",
   "execution_count": 28,
   "id": "40f293cd-5805-4f08-97ab-09816cf9a544",
   "metadata": {},
   "outputs": [
    {
     "data": {
      "text/plain": [
       "['RM', 'Jungkook', 'J-Hop']"
      ]
     },
     "execution_count": 28,
     "metadata": {},
     "output_type": "execute_result"
    }
   ],
   "source": [
    "bts[1:4]"
   ]
  },
  {
   "cell_type": "code",
   "execution_count": 40,
   "id": "488b465d-345c-490c-aeef-05b08e44e948",
   "metadata": {},
   "outputs": [],
   "source": [
    "population = ['seoul', 9765, 'Busan', 3441, 'Incheon', 2954]"
   ]
  },
  {
   "cell_type": "code",
   "execution_count": 41,
   "id": "d1725d4a-030b-40ef-acb8-8b7b76e8662a",
   "metadata": {},
   "outputs": [
    {
     "data": {
      "text/plain": [
       "['seoul', 'Busan', 'Incheon']"
      ]
     },
     "execution_count": 41,
     "metadata": {},
     "output_type": "execute_result"
    }
   ],
   "source": [
    "population[::2]"
   ]
  },
  {
   "cell_type": "code",
   "execution_count": 46,
   "id": "cd327ca7-0277-4eb5-9ef5-ea2a85f5159d",
   "metadata": {},
   "outputs": [
    {
     "data": {
      "text/plain": [
       "16160"
      ]
     },
     "execution_count": 46,
     "metadata": {},
     "output_type": "execute_result"
    }
   ],
   "source": [
    "A = population[1::2]\n",
    "sum(A)"
   ]
  },
  {
   "attachments": {},
   "cell_type": "markdown",
   "id": "492ad54d-e2d6-4817-9d83-c4dcd936a1ab",
   "metadata": {},
   "source": [
    "**LAB7-3** 도시의 인구 자료에 대한 슬라이싱을 해보자.\n",
    "![image.png](7-4.png)"
   ]
  },
  {
   "attachments": {},
   "cell_type": "markdown",
   "id": "129af80a-06ab-4430-82b1-24f98ccf249e",
   "metadata": {},
   "source": [
    "## 7.4 리스트의 원소 값을 자유롭게 조작해 보자\n",
    "- 항목의 변경\n",
    "- append()\n",
    "- insert(index, item)\n",
    "\n",
    "![image.png](7-3.png)"
   ]
  },
  {
   "cell_type": "code",
   "execution_count": null,
   "id": "3a0d3645-eccb-4c5b-9264-90be264e2137",
   "metadata": {},
   "outputs": [],
   "source": [
    "# 항목의 변경"
   ]
  },
  {
   "cell_type": "code",
   "execution_count": 69,
   "id": "3d69e41c-b665-478f-b199-5337ff72086c",
   "metadata": {},
   "outputs": [
    {
     "data": {
      "text/plain": [
       "['A', 'B', 'C', 'd', 'E', 'F']"
      ]
     },
     "execution_count": 69,
     "metadata": {},
     "output_type": "execute_result"
    }
   ],
   "source": [
    "letters[3] = 'd'\n",
    "letters"
   ]
  },
  {
   "cell_type": "code",
   "execution_count": null,
   "id": "f5af9603-e758-48fd-85d8-08d1b93526de",
   "metadata": {},
   "outputs": [],
   "source": [
    "# 항목의 추가 - append"
   ]
  },
  {
   "cell_type": "code",
   "execution_count": 70,
   "id": "33b50e6c-c7f6-4d7f-a52c-c9035ad970ed",
   "metadata": {},
   "outputs": [
    {
     "data": {
      "text/plain": [
       "['A', 'B', 'C', 'd', 'E', 'F', 'G']"
      ]
     },
     "execution_count": 70,
     "metadata": {},
     "output_type": "execute_result"
    }
   ],
   "source": [
    "letters.append('G')\n",
    "letters"
   ]
  },
  {
   "cell_type": "code",
   "execution_count": null,
   "id": "132f86cb-6f1b-4445-aa53-51e967e5a85d",
   "metadata": {},
   "outputs": [],
   "source": [
    "# 항목의 삽입 - insert(index, item)"
   ]
  },
  {
   "cell_type": "code",
   "execution_count": 71,
   "id": "074fb6a6-0cea-4a70-8a56-0317ab25d0a6",
   "metadata": {},
   "outputs": [
    {
     "data": {
      "text/plain": [
       "['A', 'B', 'C', 'd', 'e', 'E', 'F', 'G']"
      ]
     },
     "execution_count": 71,
     "metadata": {},
     "output_type": "execute_result"
    }
   ],
   "source": [
    "letters.insert(4, 'e')\n",
    "letters"
   ]
  },
  {
   "cell_type": "code",
   "execution_count": 42,
   "id": "77ad862f-4910-43d6-81a6-f9116d00ee7a",
   "metadata": {},
   "outputs": [],
   "source": [
    "letters = ['a', 'b', 'c', 'd', 'e', 'f' ,'g']"
   ]
  },
  {
   "cell_type": "code",
   "execution_count": 43,
   "id": "49ebbdc8-5d70-4d14-8c18-e1203b436aa4",
   "metadata": {},
   "outputs": [],
   "source": [
    "letters.insert(3, 'ㄱ')\n",
    "letters"
   ]
  },
  {
   "cell_type": "code",
   "execution_count": 44,
   "id": "456ffd29-a624-4b95-a213-8a054616be71",
   "metadata": {},
   "outputs": [
    {
     "data": {
      "text/plain": [
       "['a', 'b', 'c', 'ㄱ', 'd', 'e', 'f', 'g']"
      ]
     },
     "execution_count": 44,
     "metadata": {},
     "output_type": "execute_result"
    }
   ],
   "source": [
    "letters"
   ]
  },
  {
   "cell_type": "code",
   "execution_count": null,
   "id": "439f9b0c-7241-4b14-88bf-282f5c24cb13",
   "metadata": {},
   "outputs": [],
   "source": [
    "# 리스트의 항목 결합 - extend(list)"
   ]
  },
  {
   "cell_type": "code",
   "execution_count": 72,
   "id": "7a172f6a-8e16-4d32-8da2-63ee06e76147",
   "metadata": {},
   "outputs": [
    {
     "data": {
      "text/plain": [
       "['A',\n",
       " 'B',\n",
       " 'C',\n",
       " 'd',\n",
       " 'e',\n",
       " 'E',\n",
       " 'F',\n",
       " 'G',\n",
       " 'V',\n",
       " 'RM',\n",
       " 'Jungkook',\n",
       " 'J-Hop',\n",
       " 'Suga',\n",
       " 'Jin',\n",
       " 'Jimin']"
      ]
     },
     "execution_count": 72,
     "metadata": {},
     "output_type": "execute_result"
    }
   ],
   "source": [
    "letters.extend(bts)\n",
    "letters"
   ]
  },
  {
   "cell_type": "code",
   "execution_count": 74,
   "id": "571bc5dd-956d-4847-bec7-5df3fb4f5acc",
   "metadata": {},
   "outputs": [
    {
     "data": {
      "text/plain": [
       "[1, 2, 3, 4]"
      ]
     },
     "execution_count": 74,
     "metadata": {},
     "output_type": "execute_result"
    }
   ],
   "source": [
    "numbers = [1,2,3]\n",
    "numbers.append(4)\n",
    "numbers"
   ]
  },
  {
   "cell_type": "code",
   "execution_count": null,
   "id": "d5102baf-1385-4f61-ab13-c7d8c0ce17fa",
   "metadata": {},
   "outputs": [],
   "source": [
    "[1, 2, 3, 4]"
   ]
  },
  {
   "cell_type": "code",
   "execution_count": 75,
   "id": "4e883403-f711-4333-9710-1a8f11d0d0af",
   "metadata": {},
   "outputs": [
    {
     "data": {
      "text/plain": [
       "[1, 2, 3, 4, 10, 11]"
      ]
     },
     "execution_count": 75,
     "metadata": {},
     "output_type": "execute_result"
    }
   ],
   "source": [
    "new_numbers = [10, 11]\n",
    "numbers.extend(new_numbers)\n",
    "numbers"
   ]
  },
  {
   "cell_type": "code",
   "execution_count": 80,
   "id": "fd9ab95c-4075-46a5-9b24-98e893da04db",
   "metadata": {},
   "outputs": [
    {
     "data": {
      "text/plain": [
       "[1, 2, 3, [10, 11]]"
      ]
     },
     "execution_count": 80,
     "metadata": {},
     "output_type": "execute_result"
    }
   ],
   "source": [
    "numbers = [1,2,3]\n",
    "numbers.append(new_numbers)\n",
    "numbers"
   ]
  },
  {
   "cell_type": "code",
   "execution_count": null,
   "id": "432e5e22-c6fb-4ae2-a2cf-ddf9f7260a41",
   "metadata": {},
   "outputs": [],
   "source": [
    "# 항목의 삭제 - remove(item)"
   ]
  },
  {
   "cell_type": "code",
   "execution_count": 82,
   "id": "9cd71d8b-8439-4bde-8acf-41c08c670fd2",
   "metadata": {},
   "outputs": [
    {
     "data": {
      "text/plain": [
       "[1, 2, 3]"
      ]
     },
     "execution_count": 82,
     "metadata": {},
     "output_type": "execute_result"
    }
   ],
   "source": [
    "numbers.remove([10, 11])\n",
    "numbers"
   ]
  },
  {
   "cell_type": "code",
   "execution_count": null,
   "id": "23831dbd-0441-42f6-b782-1a1159c4eba9",
   "metadata": {},
   "outputs": [],
   "source": [
    "# 항목의 삭제 - pop(item)"
   ]
  },
  {
   "cell_type": "code",
   "execution_count": 83,
   "id": "fe9156ec-7bc4-4900-97bb-2e2bdb5d3aad",
   "metadata": {},
   "outputs": [
    {
     "data": {
      "text/plain": [
       "3"
      ]
     },
     "execution_count": 83,
     "metadata": {},
     "output_type": "execute_result"
    }
   ],
   "source": [
    "numbers.pop(2)"
   ]
  },
  {
   "cell_type": "code",
   "execution_count": 45,
   "id": "bf86d769-44d9-44c6-8c32-81ca33fecee4",
   "metadata": {},
   "outputs": [],
   "source": [
    "numbers =[1,2,3]"
   ]
  },
  {
   "cell_type": "code",
   "execution_count": 46,
   "id": "1ed5c720-62e6-43eb-b350-48f28d7e8eed",
   "metadata": {},
   "outputs": [
    {
     "data": {
      "text/plain": [
       "3"
      ]
     },
     "execution_count": 46,
     "metadata": {},
     "output_type": "execute_result"
    }
   ],
   "source": [
    "numbers.pop(2)"
   ]
  },
  {
   "cell_type": "code",
   "execution_count": 47,
   "id": "2bfe8192-1226-4374-9e53-20f84a5d8fe7",
   "metadata": {},
   "outputs": [
    {
     "data": {
      "text/plain": [
       "[1, 2]"
      ]
     },
     "execution_count": 47,
     "metadata": {},
     "output_type": "execute_result"
    }
   ],
   "source": [
    "numbers"
   ]
  },
  {
   "cell_type": "code",
   "execution_count": null,
   "id": "9477e7b9-58ac-4a55-829e-90e3a0e1ce63",
   "metadata": {},
   "outputs": [],
   "source": [
    "# 항목의 수 - count(item)"
   ]
  },
  {
   "cell_type": "code",
   "execution_count": 84,
   "id": "e7636a4a-3c85-42a1-a8f3-81de0225828b",
   "metadata": {},
   "outputs": [
    {
     "data": {
      "text/plain": [
       "[1, 2]"
      ]
     },
     "execution_count": 84,
     "metadata": {},
     "output_type": "execute_result"
    }
   ],
   "source": [
    "numbers"
   ]
  },
  {
   "cell_type": "code",
   "execution_count": 85,
   "id": "b6f68e77-8558-4402-ba66-5b0a26797466",
   "metadata": {},
   "outputs": [
    {
     "data": {
      "text/plain": [
       "3"
      ]
     },
     "execution_count": 85,
     "metadata": {},
     "output_type": "execute_result"
    }
   ],
   "source": [
    "numbers = [1,2,3,2,5,2]\n",
    "numbers.count(2)"
   ]
  },
  {
   "cell_type": "code",
   "execution_count": 86,
   "id": "539478c0-bfaa-4895-aa40-0a83a1beb345",
   "metadata": {},
   "outputs": [],
   "source": [
    "# 항목의 인덱스 - index(item)"
   ]
  },
  {
   "cell_type": "code",
   "execution_count": 48,
   "id": "c4d2d8ef-dea8-49fd-b6c6-92d7d298d8b2",
   "metadata": {},
   "outputs": [],
   "source": [
    "numbers = [1,2,3,2,5,2]"
   ]
  },
  {
   "cell_type": "code",
   "execution_count": 50,
   "id": "4fcd0448-8fbf-4795-baa3-f6782f325a04",
   "metadata": {},
   "outputs": [
    {
     "data": {
      "text/plain": [
       "1"
      ]
     },
     "execution_count": 50,
     "metadata": {},
     "output_type": "execute_result"
    }
   ],
   "source": [
    "numbers.index(2)"
   ]
  },
  {
   "cell_type": "code",
   "execution_count": null,
   "id": "9be4e3f9-c6f3-4d5d-97a3-286e14cb70b2",
   "metadata": {},
   "outputs": [],
   "source": [
    "# 정렬 - sort()"
   ]
  },
  {
   "cell_type": "code",
   "execution_count": 88,
   "id": "e2078644-ec66-4d3a-bcac-affcf270cc04",
   "metadata": {},
   "outputs": [
    {
     "data": {
      "text/plain": [
       "[5, 3, 2, 2, 2, 1]"
      ]
     },
     "execution_count": 88,
     "metadata": {},
     "output_type": "execute_result"
    }
   ],
   "source": [
    "numbers.sort(reverse=True)\n",
    "numbers"
   ]
  },
  {
   "cell_type": "code",
   "execution_count": null,
   "id": "cfbaddc2-521c-4a15-b6ed-03fac7ceefe2",
   "metadata": {},
   "outputs": [],
   "source": [
    "# 항목을 역순으로 - reverse()"
   ]
  },
  {
   "cell_type": "code",
   "execution_count": 89,
   "id": "d7321785-232d-4619-8907-e665099448ba",
   "metadata": {},
   "outputs": [
    {
     "data": {
      "text/plain": [
       "[2, 5, 2, 3, 2, 1]"
      ]
     },
     "execution_count": 89,
     "metadata": {},
     "output_type": "execute_result"
    }
   ],
   "source": [
    "numbers = [1,2,3,2,5,2]\n",
    "numbers.reverse()\n",
    "numbers"
   ]
  },
  {
   "cell_type": "code",
   "execution_count": 90,
   "id": "6bdf1889-9bcb-4bcd-9171-cd233be9cf07",
   "metadata": {},
   "outputs": [
    {
     "data": {
      "text/plain": [
       "[5, 2, 3, 2, 1]"
      ]
     },
     "execution_count": 90,
     "metadata": {},
     "output_type": "execute_result"
    }
   ],
   "source": [
    "numbers.remove(2)\n",
    "numbers"
   ]
  },
  {
   "cell_type": "code",
   "execution_count": 93,
   "id": "369d26d5-2592-4844-bafb-37ab10bbd0c2",
   "metadata": {},
   "outputs": [],
   "source": [
    "numbers = [1,2,3,4]\n",
    "sorted_numbers = sorted(numbers) # 비파괴 "
   ]
  },
  {
   "cell_type": "markdown",
   "id": "c2859e4d-6442-447b-a733-6dc7657fcc8f",
   "metadata": {},
   "source": [
    "## 7.5 리스트의 메소드와 여러 기능들\n",
    "- 항목 삭제: remove(item), pop(index)\n",
    "- del\n",
    "- 항목의 인덱스 찾기: index(item)\n",
    "- 정렬하기: sort(), sorted()\n"
   ]
  },
  {
   "cell_type": "code",
   "execution_count": 94,
   "id": "461c88b8-a72c-4224-8b41-95ebcde9ab25",
   "metadata": {},
   "outputs": [
    {
     "data": {
      "text/plain": [
       "[1, 2, 3, 4]"
      ]
     },
     "execution_count": 94,
     "metadata": {},
     "output_type": "execute_result"
    }
   ],
   "source": [
    "sorted_numbers"
   ]
  },
  {
   "cell_type": "code",
   "execution_count": 91,
   "id": "b2fb89c8-b409-4cd0-92ab-b99aa06d7c11",
   "metadata": {},
   "outputs": [
    {
     "data": {
      "text/plain": [
       "[1, 2, 3, 4]"
      ]
     },
     "execution_count": 91,
     "metadata": {},
     "output_type": "execute_result"
    }
   ],
   "source": [
    "numbers = [4, 3, 2, 1]\n",
    "numbers.sort() # 파괴적 함수\n",
    "numbers"
   ]
  },
  {
   "cell_type": "markdown",
   "id": "ad4ed7d7-5948-41a1-83d0-80e08cb28321",
   "metadata": {},
   "source": [
    "**문자열도 리스트와 유사하다**   \n",
    "\n",
    "- 문자열을 리스트로 바꾸기\n",
    "- 문자열의 길이: len()\n",
    "- 인덱싱, 슬라이싱\n",
    "- 문자열 합치기\n",
    "- 문자열의 반복\n",
    "- 문자열 분리하기: split()\n"
   ]
  },
  {
   "cell_type": "code",
   "execution_count": 98,
   "id": "bc60f275-5328-401d-9b87-2b0160152961",
   "metadata": {},
   "outputs": [
    {
     "data": {
      "text/plain": [
       "13"
      ]
     },
     "execution_count": 98,
     "metadata": {},
     "output_type": "execute_result"
    }
   ],
   "source": [
    "s = 'Python is fun'\n",
    "len(s)"
   ]
  },
  {
   "cell_type": "code",
   "execution_count": 99,
   "id": "5d31cb1a-633b-4f32-92eb-5640640b5f28",
   "metadata": {},
   "outputs": [
    {
     "data": {
      "text/plain": [
       "4"
      ]
     },
     "execution_count": 99,
     "metadata": {},
     "output_type": "execute_result"
    }
   ],
   "source": [
    "len(numbers)"
   ]
  },
  {
   "attachments": {},
   "cell_type": "markdown",
   "id": "1d1134d8-4108-4314-b2a3-188b499d8de6",
   "metadata": {},
   "source": [
    "**도전문제 7.3**\n",
    "\n",
    "![image.png](7-5.png)"
   ]
  },
  {
   "cell_type": "code",
   "execution_count": null,
   "id": "94f50da6-58c9-4c75-9f06-0a59fea53fc7",
   "metadata": {},
   "outputs": [],
   "source": []
  },
  {
   "cell_type": "markdown",
   "id": "e20a3e44-932a-42c4-8dd5-4b0082115527",
   "metadata": {},
   "source": [
    "**도전문제 7.5:** 간단한 산수 문제 만들기\n",
    "```\n",
    "eval('100 + 200')\n",
    "```"
   ]
  },
  {
   "cell_type": "code",
   "execution_count": null,
   "id": "6fbc1bbd-29f8-4eb5-9369-fe10b1e56ffb",
   "metadata": {},
   "outputs": [],
   "source": []
  },
  {
   "cell_type": "markdown",
   "id": "fdd1da6d-65f0-4666-b421-5449e54fda99",
   "metadata": {},
   "source": [
    "## 7.7 바퀴의 재발명?\n",
    "> 이전에 다른 사람들에의해 만들어졌거나 최적화된 기초적인 방식(=바퀴)을 그\n",
    "대로 활용하는 것이 새로게 다시 만드는(=바퀴를 재발명) 시도보다 더 나은 방법이라\n",
    "는 의미를 가지고 있다. 즉, 굳이 for 문과 비교문을 사용해서 가장 큰 값과, 가장 작\n",
    "은 값을 얻는 시도를 할 필요는 없을 것이다."
   ]
  },
  {
   "cell_type": "code",
   "execution_count": 56,
   "id": "0c9d7d36-2e34-4bb7-acc1-d632a80beb43",
   "metadata": {},
   "outputs": [],
   "source": [
    "numbers = [1, 10, 5, 6, 8]"
   ]
  },
  {
   "cell_type": "code",
   "execution_count": 57,
   "id": "f954e2fc-8f5f-41fb-bb5c-13e0fb9c297d",
   "metadata": {},
   "outputs": [
    {
     "ename": "NameError",
     "evalue": "name 'n' is not defined",
     "output_type": "error",
     "traceback": [
      "\u001b[0;31m---------------------------------------------------------------------------\u001b[0m",
      "\u001b[0;31mNameError\u001b[0m                                 Traceback (most recent call last)",
      "Cell \u001b[0;32mIn[57], line 10\u001b[0m\n\u001b[1;32m      7\u001b[0m             max_num  \u001b[38;5;241m=\u001b[39m n\n\u001b[1;32m      8\u001b[0m     \u001b[38;5;28;01mreturn\u001b[39;00m(max_num)\n\u001b[0;32m---> 10\u001b[0m \u001b[38;5;28mmax\u001b[39m(numbers)\n",
      "Cell \u001b[0;32mIn[57], line 7\u001b[0m, in \u001b[0;36mmax\u001b[0;34m(numbers)\u001b[0m\n\u001b[1;32m      5\u001b[0m \u001b[38;5;28;01mfor\u001b[39;00m i \u001b[38;5;129;01min\u001b[39;00m numbers:\n\u001b[1;32m      6\u001b[0m     \u001b[38;5;28;01mif\u001b[39;00m i \u001b[38;5;241m>\u001b[39m max_num:\n\u001b[0;32m----> 7\u001b[0m         max_num  \u001b[38;5;241m=\u001b[39m n\n\u001b[1;32m      8\u001b[0m \u001b[38;5;28;01mreturn\u001b[39;00m(max_num)\n",
      "\u001b[0;31mNameError\u001b[0m: name 'n' is not defined"
     ]
    }
   ],
   "source": [
    "numbers = [1, 10, 5, 6, 8]\n",
    "\n",
    "def max(numbers):\n",
    "    max_num = numbers[0]\n",
    "    for i in numbers:\n",
    "        if i > max_num:\n",
    "            max_num  = n\n",
    "    return(max_num)\n",
    "\n",
    "max(numbers)"
   ]
  },
  {
   "cell_type": "code",
   "execution_count": 112,
   "id": "a54a6fff-0ba4-4dc2-999a-9e862ce82b08",
   "metadata": {},
   "outputs": [
    {
     "data": {
      "text/plain": [
       "10"
      ]
     },
     "execution_count": 112,
     "metadata": {},
     "output_type": "execute_result"
    }
   ],
   "source": [
    "max(numbers)"
   ]
  },
  {
   "cell_type": "markdown",
   "id": "2e30c098-f7b4-4102-b0aa-9b0bb7bb28e7",
   "metadata": {},
   "source": [
    "## 7.8 리스트의 객체의 생성과 참조라는 깊이있는 개념"
   ]
  },
  {
   "cell_type": "code",
   "execution_count": 70,
   "id": "c7bc15e8-beff-463f-9854-7d85e3a39308",
   "metadata": {},
   "outputs": [],
   "source": [
    "alist = ['Kim', 'Park', 'Lee', 'Hong']"
   ]
  },
  {
   "cell_type": "code",
   "execution_count": 71,
   "id": "1600f1e3-e873-432f-af97-92625078a409",
   "metadata": {},
   "outputs": [
    {
     "data": {
      "text/plain": [
       "4422342528"
      ]
     },
     "execution_count": 71,
     "metadata": {},
     "output_type": "execute_result"
    }
   ],
   "source": [
    "id(alist)"
   ]
  },
  {
   "cell_type": "code",
   "execution_count": 73,
   "id": "3d87a6f5-b6e1-4004-b67a-6c79670a7c7c",
   "metadata": {},
   "outputs": [
    {
     "data": {
      "text/plain": [
       "4422342528"
      ]
     },
     "execution_count": 73,
     "metadata": {},
     "output_type": "execute_result"
    }
   ],
   "source": [
    "blist = alist\n",
    "id(blist)"
   ]
  },
  {
   "cell_type": "code",
   "execution_count": 75,
   "id": "c9446f05-81f8-4158-b3c3-409e2348ac7a",
   "metadata": {},
   "outputs": [],
   "source": [
    "blist[1] = 'Choi'"
   ]
  },
  {
   "cell_type": "code",
   "execution_count": 76,
   "id": "60e4016a-e85e-4be2-bfb7-d697f3f5f030",
   "metadata": {},
   "outputs": [
    {
     "data": {
      "text/plain": [
       "['Kim', 'Choi', 'Lee', 'Hong']"
      ]
     },
     "execution_count": 76,
     "metadata": {},
     "output_type": "execute_result"
    }
   ],
   "source": [
    "blist"
   ]
  },
  {
   "cell_type": "code",
   "execution_count": 77,
   "id": "c7c84495-0fc4-4f97-b63c-785f6896c746",
   "metadata": {},
   "outputs": [
    {
     "data": {
      "text/plain": [
       "['Kim', 'Choi', 'Lee', 'Hong']"
      ]
     },
     "execution_count": 77,
     "metadata": {},
     "output_type": "execute_result"
    }
   ],
   "source": [
    "alist"
   ]
  },
  {
   "cell_type": "code",
   "execution_count": 78,
   "id": "a9aeed0c-702a-44fb-bd9e-acef314dcf9d",
   "metadata": {},
   "outputs": [
    {
     "data": {
      "text/plain": [
       "(4422342528, 4422342528)"
      ]
     },
     "execution_count": 78,
     "metadata": {},
     "output_type": "execute_result"
    }
   ],
   "source": [
    "id(alist), id(blist)"
   ]
  },
  {
   "cell_type": "code",
   "execution_count": 79,
   "id": "c359603f-5f3e-4845-a446-05cacc46869a",
   "metadata": {},
   "outputs": [
    {
     "data": {
      "text/plain": [
       "['Kim', 'Choi', 'Lee', 'Hong']"
      ]
     },
     "execution_count": 79,
     "metadata": {},
     "output_type": "execute_result"
    }
   ],
   "source": [
    "clist = alist[:]\n",
    "clist"
   ]
  },
  {
   "cell_type": "code",
   "execution_count": 15,
   "id": "85da58ed-0331-49e3-b8bb-59323e41c440",
   "metadata": {},
   "outputs": [],
   "source": [
    "dlist = alist.copy()"
   ]
  },
  {
   "cell_type": "code",
   "execution_count": 16,
   "id": "8a5e98a9-2cea-4b4b-8e6f-ac069a20a9de",
   "metadata": {},
   "outputs": [
    {
     "data": {
      "text/plain": [
       "(2311408944000, 2311408036992)"
      ]
     },
     "execution_count": 16,
     "metadata": {},
     "output_type": "execute_result"
    }
   ],
   "source": [
    "id(alist), id(dlist)"
   ]
  },
  {
   "cell_type": "code",
   "execution_count": 115,
   "id": "7be34706-4a04-43c3-997d-5035e7710034",
   "metadata": {},
   "outputs": [
    {
     "data": {
      "text/plain": [
       "[0, 1, 4, 9, 16, 25, 36, 49, 64, 81]"
      ]
     },
     "execution_count": 115,
     "metadata": {},
     "output_type": "execute_result"
    }
   ],
   "source": [
    "square = [i ** 2 for i in range(10)]\n",
    "square"
   ]
  },
  {
   "cell_type": "markdown",
   "id": "aeb8a8b0-8e5c-48c5-a8b7-d3be204680e2",
   "metadata": {},
   "source": [
    "## 7.9 리스트 함축(list comprehension)\n",
    "- 리스트 함축은 코드를 짧고 간결하게 만드는데 사용된다\n",
    "    - 10보다 작은 정수의 제곱을 담은 리스트를 만들자.\n",
    "    - ['welcome', 'to', 'the', 'python', 'world']에서 각 항목의 첫 문자만으로 구성된 리스트를 만들자.\n",
    "    - ['welcome', 'to', 'the', 'python', 'world']를 모두 대문자로 바꾸자\n",
    "- 조건이 붙는 리스트 함축표현도 가능하다\n",
    "    - ['Hello', '12', 'World', '678']을 정수로 바꾸자."
   ]
  },
  {
   "cell_type": "code",
   "execution_count": 83,
   "id": "28ad7480-f668-4832-ac9c-d48afddd8106",
   "metadata": {},
   "outputs": [
    {
     "data": {
      "text/plain": [
       "[0, 1, 4, 9, 16, 25, 36, 49, 64, 81]"
      ]
     },
     "execution_count": 83,
     "metadata": {},
     "output_type": "execute_result"
    }
   ],
   "source": [
    "square = []\n",
    "for i in range(10):\n",
    "    square.append(i**2)\n",
    "square"
   ]
  },
  {
   "cell_type": "code",
   "execution_count": 85,
   "id": "c78c21a5-3bce-4f9d-8eba-32d4587567cf",
   "metadata": {},
   "outputs": [
    {
     "data": {
      "text/plain": [
       "[0, 1, 4, 9, 16, 25, 36, 49, 64, 81]"
      ]
     },
     "execution_count": 85,
     "metadata": {},
     "output_type": "execute_result"
    }
   ],
   "source": [
    "square = [i**2 for i in range(10)]\n",
    "square"
   ]
  },
  {
   "cell_type": "code",
   "execution_count": 87,
   "id": "b9e07322-f068-45cc-99c6-73155d4fb42a",
   "metadata": {},
   "outputs": [
    {
     "data": {
      "text/plain": [
       "[1, 9, 25, 49, 81]"
      ]
     },
     "execution_count": 87,
     "metadata": {},
     "output_type": "execute_result"
    }
   ],
   "source": [
    "square = [i ** 2 for i in range(10) if i % 2 ==1]\n",
    "square"
   ]
  },
  {
   "attachments": {},
   "cell_type": "markdown",
   "id": "5c537d88-6267-4ad6-bf17-3191bed486ad",
   "metadata": {},
   "source": [
    "## 7.10 튜플\n",
    "- 한번 생성하면 그 값을 고칠 수 없는 자료형\n",
    "    - 가변속성(mutable), 불변속성(immutable)\n",
    "![image.png](7-6.png)"
   ]
  },
  {
   "cell_type": "code",
   "execution_count": 89,
   "id": "4854b3ce-3f76-43e4-80e0-63f151693ba1",
   "metadata": {},
   "outputs": [
    {
     "ename": "TypeError",
     "evalue": "'str' object does not support item assignment",
     "output_type": "error",
     "traceback": [
      "\u001b[0;31m---------------------------------------------------------------------------\u001b[0m",
      "\u001b[0;31mTypeError\u001b[0m                                 Traceback (most recent call last)",
      "Cell \u001b[0;32mIn[89], line 2\u001b[0m\n\u001b[1;32m      1\u001b[0m string \u001b[38;5;241m=\u001b[39m \u001b[38;5;124m'\u001b[39m\u001b[38;5;124mabcde\u001b[39m\u001b[38;5;124m'\u001b[39m \n\u001b[0;32m----> 2\u001b[0m string[\u001b[38;5;241m-\u001b[39m\u001b[38;5;241m1\u001b[39m] \u001b[38;5;241m=\u001b[39m \u001b[38;5;124m'\u001b[39m\u001b[38;5;124mq\u001b[39m\u001b[38;5;124m'\u001b[39m\n",
      "\u001b[0;31mTypeError\u001b[0m: 'str' object does not support item assignment"
     ]
    }
   ],
   "source": [
    "string = 'abcde' \n",
    "string[-1] = 'q' # 불변, imutable"
   ]
  },
  {
   "cell_type": "code",
   "execution_count": 93,
   "id": "d69f6401-b60c-41f0-9a26-648c6caf6b85",
   "metadata": {},
   "outputs": [
    {
     "data": {
      "text/plain": [
       "['a', 'b', 'c', 'd', 'q']"
      ]
     },
     "execution_count": 93,
     "metadata": {},
     "output_type": "execute_result"
    }
   ],
   "source": [
    "lst = list(string)\n",
    "lst[-1] = 'q' # 가변, mutable\n",
    "lst"
   ]
  },
  {
   "cell_type": "markdown",
   "id": "a55e5019-14c6-46f2-bd2e-a829cb12da99",
   "metadata": {},
   "source": [
    "- 튜플 만들기\n",
    "- 인덱싱, 슬라이싱\n",
    "- 함수는 튜플을 돌려줄 수 있다"
   ]
  },
  {
   "cell_type": "code",
   "execution_count": 94,
   "id": "779ed9d3-a582-4447-a79e-4da8b33f9e7b",
   "metadata": {},
   "outputs": [
    {
     "data": {
      "text/plain": [
       "['red', 'green', 'blue']"
      ]
     },
     "execution_count": 94,
     "metadata": {},
     "output_type": "execute_result"
    }
   ],
   "source": [
    "color_list = ['red', 'green', 'blue']\n",
    "color_list"
   ]
  },
  {
   "cell_type": "code",
   "execution_count": 95,
   "id": "61d55773-6e05-4037-bae9-ec018a7ecf4f",
   "metadata": {},
   "outputs": [
    {
     "data": {
      "text/plain": [
       "('red', 'green', 'blue')"
      ]
     },
     "execution_count": 95,
     "metadata": {},
     "output_type": "execute_result"
    }
   ],
   "source": [
    "colors = ('red', 'green', 'blue') # tuple\n",
    "colors"
   ]
  },
  {
   "cell_type": "code",
   "execution_count": 96,
   "id": "17708890-d9f5-4138-83bc-157398c287c5",
   "metadata": {},
   "outputs": [
    {
     "data": {
      "text/plain": [
       "('green', 'blue')"
      ]
     },
     "execution_count": 96,
     "metadata": {},
     "output_type": "execute_result"
    }
   ],
   "source": [
    "colors[1:]"
   ]
  },
  {
   "cell_type": "code",
   "execution_count": 97,
   "id": "59773b8f-60b3-4d24-a189-67472398d5f2",
   "metadata": {},
   "outputs": [
    {
     "ename": "TypeError",
     "evalue": "'tuple' object does not support item assignment",
     "output_type": "error",
     "traceback": [
      "\u001b[0;31m---------------------------------------------------------------------------\u001b[0m",
      "\u001b[0;31mTypeError\u001b[0m                                 Traceback (most recent call last)",
      "Cell \u001b[0;32mIn[97], line 1\u001b[0m\n\u001b[0;32m----> 1\u001b[0m colors[\u001b[38;5;241m1\u001b[39m] \u001b[38;5;241m=\u001b[39m \u001b[38;5;124m'\u001b[39m\u001b[38;5;124mblack\u001b[39m\u001b[38;5;124m'\u001b[39m\n",
      "\u001b[0;31mTypeError\u001b[0m: 'tuple' object does not support item assignment"
     ]
    }
   ],
   "source": [
    "colors[1] = 'black'"
   ]
  },
  {
   "cell_type": "code",
   "execution_count": 98,
   "id": "01bd083a-bd41-4ebd-9827-4f7a0ec7d1be",
   "metadata": {},
   "outputs": [
    {
     "data": {
      "text/plain": [
       "(10, 5)"
      ]
     },
     "execution_count": 98,
     "metadata": {},
     "output_type": "execute_result"
    }
   ],
   "source": [
    "def min_max(n1, n2):\n",
    "    if n1 > n2:\n",
    "        return n1, n2\n",
    "    else:\n",
    "        return n2, n1\n",
    "\n",
    "min_max(10, 5)"
   ]
  },
  {
   "cell_type": "markdown",
   "id": "b5682ec2-a53a-4305-a82d-4d6019c96bff",
   "metadata": {},
   "source": [
    "## 7.11 zip() 함수를 사용한 집적화\n",
    "- 집적화:  zip() 함수는 다음과 같이 여러 개의 반\n",
    "복가능 자료형을 아을 모아서 하나의 반복가능 자료형을 만들 수\r\n",
    "있다"
   ]
  },
  {
   "cell_type": "code",
   "execution_count": 100,
   "id": "ca1394fb-d509-408e-9dc3-a0f78275107b",
   "metadata": {},
   "outputs": [],
   "source": [
    "cities = ['Seoul', 'Busan', 'Incheon', 'Kwangju', 'Deajeon']\n",
    "pops   = [  9765,    3441,      2954,      1501,      1531]"
   ]
  },
  {
   "cell_type": "code",
   "execution_count": 102,
   "id": "b033a467-10ef-4be1-90aa-edca71cbd0b3",
   "metadata": {},
   "outputs": [
    {
     "data": {
      "text/plain": [
       "[('Seoul', 9765),\n",
       " ('Busan', 3441),\n",
       " ('Incheon', 2954),\n",
       " ('Kwangju', 1501),\n",
       " ('Deajeon', 1531)]"
      ]
     },
     "execution_count": 102,
     "metadata": {},
     "output_type": "execute_result"
    }
   ],
   "source": [
    "list (zip(cities, pops))"
   ]
  },
  {
   "cell_type": "code",
   "execution_count": 104,
   "id": "5f75761c-b317-4f92-815f-58c78657ad62",
   "metadata": {},
   "outputs": [
    {
     "name": "stdout",
     "output_type": "stream",
     "text": [
      "Seoul 시의 인구는, 9765 천명입니다.\n",
      "Busan 시의 인구는, 3441 천명입니다.\n",
      "Incheon 시의 인구는, 2954 천명입니다.\n",
      "Kwangju 시의 인구는, 1501 천명입니다.\n",
      "Deajeon 시의 인구는, 1531 천명입니다.\n"
     ]
    }
   ],
   "source": [
    "for i in range(len(cities)):\n",
    "    print(f\"{cities[i]} 시의 인구는, {pops[i]} 천명입니다.\")"
   ]
  },
  {
   "cell_type": "code",
   "execution_count": 106,
   "id": "9f36a56c-b087-434f-a720-f13845d7d4a7",
   "metadata": {},
   "outputs": [
    {
     "name": "stdout",
     "output_type": "stream",
     "text": [
      "Seoul 시의 인구는, 9765 천명입니다.\n",
      "Busan 시의 인구는, 3441 천명입니다.\n",
      "Incheon 시의 인구는, 2954 천명입니다.\n",
      "Kwangju 시의 인구는, 1501 천명입니다.\n",
      "Deajeon 시의 인구는, 1531 천명입니다.\n"
     ]
    }
   ],
   "source": [
    "for city, pop in zip(cities, pops):\n",
    "        print(f\"{city} 시의 인구는, {pop} 천명입니다.\")"
   ]
  },
  {
   "cell_type": "code",
   "execution_count": 107,
   "id": "3b9f261c-358d-4307-a0a7-b6bd55045566",
   "metadata": {},
   "outputs": [],
   "source": [
    "alist = [1, 2, 3, 4]\n",
    "blist = [6, 7, 8, 9]\n"
   ]
  },
  {
   "cell_type": "code",
   "execution_count": 112,
   "id": "8ba82815-ccc2-4442-a897-ffbbf40443a6",
   "metadata": {},
   "outputs": [
    {
     "data": {
      "text/plain": [
       "[1, 2, 3, 4]"
      ]
     },
     "execution_count": 112,
     "metadata": {},
     "output_type": "execute_result"
    }
   ],
   "source": [
    "[i % j for i, j in zip(alist, blist)]"
   ]
  },
  {
   "cell_type": "markdown",
   "id": "164aa85f-e6a0-4a96-9141-a8e3879f7d31",
   "metadata": {},
   "source": [
    "**도전문제 7.6**\n",
    "```\n",
    "['한국', '미국', '중국', '필리핀']\n",
    "['서울', '워싱턴DC', '베이징', '마닐라']\n",
    "[100.2, 9834, 9579, 300]\n",
    "\n",
    "- (나라이름, 면적)\n",
    "- 한국의 수도는 서울이고 면적은 100.2km2입니다"
   ]
  },
  {
   "cell_type": "code",
   "execution_count": null,
   "id": "1c84ef13-8405-41bd-80c7-8b631b445db7",
   "metadata": {},
   "outputs": [],
   "source": []
  },
  {
   "cell_type": "markdown",
   "id": "6197439d-1b1e-4224-9599-40f1356307bc",
   "metadata": {},
   "source": [
    "## 7.12 클래스와 객체가 무엇인가\n",
    "- 객체지향 프로그래밍object \n",
    "oriented programmin\n",
    "    - 클래스(class)\n",
    "    - 인스턴스 객체(instance object)\n",
    "- 파이썬은 ‘객체지향 프로그래밍 언어’이다. 그리고 이미 살펴본 자료형, 함수, 모듈은 \n",
    "모두 객체이다\n",
    "- 특정한 클래스에 속한 객체들이 사용할 수 있는 함수들을 해당 클래스\n",
    "의 메소드method라고 부른.다. "
   ]
  },
  {
   "cell_type": "code",
   "execution_count": 2,
   "id": "16ec9b52-b49e-4637-a6a5-94f15989a45d",
   "metadata": {},
   "outputs": [],
   "source": [
    "class Dog:\n",
    "    def __init__(self, name, weight, height):\n",
    "        self.name = name\n",
    "        self.weight = weight\n",
    "        self.height = height\n",
    "\n",
    "    def walk(self, speed):\n",
    "        print(f'{self.name}은 평균 {speed}로 걷는다')\n",
    "        \n",
    "    def eat(self, food):\n",
    "        print(f'{self.name}은 {food}를 먹는다')"
   ]
  },
  {
   "cell_type": "code",
   "execution_count": null,
   "id": "7646b8a3-86b3-4aa5-a0a8-9f1f9f82e9a9",
   "metadata": {},
   "outputs": [],
   "source": []
  }
 ],
 "metadata": {
  "kernelspec": {
   "display_name": "Python 3 (ipykernel)",
   "language": "python",
   "name": "python3"
  },
  "language_info": {
   "codemirror_mode": {
    "name": "ipython",
    "version": 3
   },
   "file_extension": ".py",
   "mimetype": "text/x-python",
   "name": "python",
   "nbconvert_exporter": "python",
   "pygments_lexer": "ipython3",
   "version": "3.11.7"
  }
 },
 "nbformat": 4,
 "nbformat_minor": 5
}
