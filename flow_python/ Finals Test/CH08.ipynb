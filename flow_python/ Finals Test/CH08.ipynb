{
 "cells": [
  {
   "cell_type": "markdown",
   "id": "02bde71a-b112-4fc0-83da-8fac57efc88d",
   "metadata": {},
   "source": [
    "# 08 연관된 데이터를 딕셔너리로 짝을 짓자\n",
    "\n",
    "8.1 키와 값을 가진 딕셔너리로 자료를 저장하자    \n",
    "8.2 딕셔너리와 리스트의 비교    \n",
    "8.3 딕셔너리의 다양한 메소드   \n",
    "8.4 람다 함수 = 이름이 없는 함수   \n",
    "    LAB 8-1 편의점 재고 관리 프로그램을 만들자   \n",
    "    LAB 8-2 영한 사전을 만들어 보자    \n",
    "8.5 순서가 중요하지 않은 대상들이 모이면 : 집합    \n",
    "8.6 집합에 적용할 수 있는 다양한 연산들을 살펴보자   \n",
    "8.7 리스트, 튜플, 집합, 딕셔너리를 비교하자    \n",
    "    LAB 8-3 파티에 동시에 참석한 사람 알아내기    \n",
    "8.8 파일로부터 자료를 읽고 저장해보자    \n",
    "    LAB 8-4 파일에서 사용된 단어 구하기    \n",
    "8.9 두 수의 약수와 최대공약수 그리고 프로그래밍적인 사고   "
   ]
  },
  {
   "cell_type": "markdown",
   "id": "a24dd07d-8972-49ea-9960-b60416b4dabf",
   "metadata": {},
   "source": [
    "- 키를 이용해서 값을 추출할 수 있는 딕셔너리에 대하여 알아봅시다. \n",
    "- 딕셔너리의 다양한 기능과 메소드에 대하여 알아봅시다. \n",
    "- 딕셔너리를 사용하여 여러 가지 문제를 해결해 봅시다. \n",
    "- 자료값의 중복을 허용하지 않는 순서가 없는 자료형인 집합에 대하여 알아봅시다. \n",
    "- 합집합, 교집합등 집합에 적용할 수 있는 편리한 연산을 알아봅시다. \n",
    "- 집합을 이용하여 중복된 자료를 편리하게 제거하는 방법을 알아봅시다. \n",
    "- 파이썬의 강력한 자료구조를 사용한 문제해결 기법을 익혀 봅시다.\n"
   ]
  },
  {
   "cell_type": "markdown",
   "id": "6fdf5f4a-f1b1-4e5e-bf5a-0a85f87d87f7",
   "metadata": {},
   "source": [
    "## 8.1 키와 값을 가진 딕셔너리로 자료를 저장하자\n",
    "- 딕셔너리dictionary:  리스트와 같이 값을 저장하는 파이썬의 기본 자료구조 \n",
    "- 키key와 값value 쌍으로 구성\n",
    "```\n",
    "    {키: 값}\n",
    "```"
   ]
  },
  {
   "cell_type": "markdown",
   "id": "a7c9d815-9a53-423d-8f86-24fecde5d180",
   "metadata": {},
   "source": [
    "**딕셔너리 만들기**"
   ]
  },
  {
   "cell_type": "code",
   "execution_count": 2,
   "id": "48208bf7-a011-44fc-a8e9-8f7baaaddc84",
   "metadata": {},
   "outputs": [
    {
     "data": {
      "text/plain": [
       "(1, 2, 3)"
      ]
     },
     "execution_count": 2,
     "metadata": {},
     "output_type": "execute_result"
    }
   ],
   "source": [
    "[1, 2, 3] # list\n",
    "(1, 2, 3) # tuple\n",
    "# {키: 값} # dictionary"
   ]
  },
  {
   "cell_type": "code",
   "execution_count": 3,
   "id": "ee8e0713-220c-45dd-a430-af5e0e8e93ba",
   "metadata": {},
   "outputs": [
    {
     "data": {
      "text/plain": [
       "{'홍길동': '010-1234-5678', '강감찬': '010-1234-5679', '이순신': '010-1234-5670'}"
      ]
     },
     "execution_count": 3,
     "metadata": {},
     "output_type": "execute_result"
    }
   ],
   "source": [
    "phone_book = {\"홍길동\": \"010-1234-5678\",\n",
    "              \"강감찬\": \"010-1234-5679\",\n",
    "              \"이순신\": \"010-1234-5670\"}\n",
    "phone_book"
   ]
  },
  {
   "cell_type": "code",
   "execution_count": 5,
   "id": "b812be17-d836-431d-97fb-861d786e42d3",
   "metadata": {},
   "outputs": [
    {
     "data": {
      "text/plain": [
       "{}"
      ]
     },
     "execution_count": 5,
     "metadata": {},
     "output_type": "execute_result"
    }
   ],
   "source": [
    "phone_book = {} # 빈 딕셔너리\n",
    "phone_book"
   ]
  },
  {
   "cell_type": "code",
   "execution_count": 6,
   "id": "2523dc9c-dcbb-4a88-8e72-a2bd6cb04c57",
   "metadata": {},
   "outputs": [
    {
     "data": {
      "text/plain": [
       "{}"
      ]
     },
     "execution_count": 6,
     "metadata": {},
     "output_type": "execute_result"
    }
   ],
   "source": [
    "phone_book = dict()\n",
    "phone_book"
   ]
  },
  {
   "cell_type": "code",
   "execution_count": 7,
   "id": "00af575e-b890-4457-a934-613cf0b39137",
   "metadata": {},
   "outputs": [
    {
     "data": {
      "text/plain": [
       "{'홍길동': '010-1234-5678'}"
      ]
     },
     "execution_count": 7,
     "metadata": {},
     "output_type": "execute_result"
    }
   ],
   "source": [
    "phone_book[\"홍길동\"] = \"010-1234-5678\" # 데이터의 추가 # dict_name[key] = value\n",
    "phone_book"
   ]
  },
  {
   "cell_type": "code",
   "execution_count": 14,
   "id": "2308d2e7-487a-4e41-b031-a8b1de0f5341",
   "metadata": {},
   "outputs": [
    {
     "data": {
      "text/plain": [
       "{'홍길동': '010-1234-5678', '강감찬': '010-1234-5333'}"
      ]
     },
     "execution_count": 14,
     "metadata": {},
     "output_type": "execute_result"
    }
   ],
   "source": [
    "phone_book[\"강감찬\"] = \"010-1234-5333\"\n",
    "phone_book"
   ]
  },
  {
   "cell_type": "markdown",
   "id": "8ab232fe-4fcb-4784-9e90-85aa20308676",
   "metadata": {},
   "source": [
    "- 리스트와 마찬가지로 딕셔너리에는 어떤 유형의 값도 저장할 수 있다."
   ]
  },
  {
   "cell_type": "code",
   "execution_count": null,
   "id": "6c4cc71d-35cd-4a5e-b8b9-77a39bbf1d57",
   "metadata": {},
   "outputs": [],
   "source": [
    "person_info = {'이름': '홍길동', '나이': 27, '몸무게': 65.5, '키': 178.2}\n",
    "person_info"
   ]
  },
  {
   "cell_type": "code",
   "execution_count": 16,
   "id": "2b51caa8-d468-45c2-90c2-90a63c67f73a",
   "metadata": {},
   "outputs": [
    {
     "data": {
      "text/plain": [
       "{'이름': '이원준', '나이': 20, '몸무게': 55, '키': 165}"
      ]
     },
     "execution_count": 16,
     "metadata": {},
     "output_type": "execute_result"
    }
   ],
   "source": [
    "my_info = {'이름' : '이원준', '나이' : 20, '몸무게' : 55, '키' : 165}\n",
    "my_info"
   ]
  },
  {
   "cell_type": "code",
   "execution_count": 17,
   "id": "cdd72404-6e41-4b83-b73a-cca5bce4f670",
   "metadata": {},
   "outputs": [
    {
     "data": {
      "text/plain": [
       "'이원준'"
      ]
     },
     "execution_count": 17,
     "metadata": {},
     "output_type": "execute_result"
    }
   ],
   "source": [
    "my_info['이름']"
   ]
  },
  {
   "cell_type": "code",
   "execution_count": 18,
   "id": "9fcf8a67-4413-4322-98a3-b02bc4f4001a",
   "metadata": {},
   "outputs": [
    {
     "data": {
      "text/plain": [
       "55"
      ]
     },
     "execution_count": 18,
     "metadata": {},
     "output_type": "execute_result"
    }
   ],
   "source": [
    "my_info['몸무게']"
   ]
  },
  {
   "cell_type": "code",
   "execution_count": 19,
   "id": "36233065-6339-4683-9120-43848021981e",
   "metadata": {},
   "outputs": [
    {
     "data": {
      "text/plain": [
       "20"
      ]
     },
     "execution_count": 19,
     "metadata": {},
     "output_type": "execute_result"
    }
   ],
   "source": [
    "my_info['나이']"
   ]
  },
  {
   "cell_type": "code",
   "execution_count": 20,
   "id": "f57e291c-268e-4cb0-bf08-7f7a1c44e48c",
   "metadata": {},
   "outputs": [
    {
     "data": {
      "text/plain": [
       "165"
      ]
     },
     "execution_count": 20,
     "metadata": {},
     "output_type": "execute_result"
    }
   ],
   "source": [
    "my_info['키']"
   ]
  },
  {
   "cell_type": "markdown",
   "id": "de801d03-78f4-47a6-a5a5-76a757e83026",
   "metadata": {},
   "source": [
    "- 딕셔너리에서는 키로 값을 찾는다."
   ]
  },
  {
   "cell_type": "code",
   "execution_count": null,
   "id": "7fc7ceea-0ff9-41f7-8aab-825344526eb2",
   "metadata": {},
   "outputs": [],
   "source": [
    "person_info['이름']"
   ]
  },
  {
   "cell_type": "markdown",
   "id": "a3fb8527-34cc-4d3e-91cb-babe400d4de7",
   "metadata": {},
   "source": [
    "- keys() : 키를 확인할 수 있는 메소드"
   ]
  },
  {
   "cell_type": "code",
   "execution_count": 22,
   "id": "a6955fe1-ec24-40fd-848f-580a04add3bb",
   "metadata": {},
   "outputs": [
    {
     "data": {
      "text/plain": [
       "dict_keys(['이름', '나이', '몸무게', '키'])"
      ]
     },
     "execution_count": 22,
     "metadata": {},
     "output_type": "execute_result"
    }
   ],
   "source": [
    "my_info.keys()"
   ]
  },
  {
   "cell_type": "code",
   "execution_count": null,
   "id": "37138aa2-159f-4357-a977-04ed48a2c804",
   "metadata": {},
   "outputs": [],
   "source": [
    "- values() : 값를 확인할 수 있는 메소드"
   ]
  },
  {
   "cell_type": "code",
   "execution_count": 24,
   "id": "4780908c-dbf1-40da-8ef9-57bf954565cc",
   "metadata": {},
   "outputs": [
    {
     "data": {
      "text/plain": [
       "dict_values(['이원준', 20, 55, 165])"
      ]
     },
     "execution_count": 24,
     "metadata": {},
     "output_type": "execute_result"
    }
   ],
   "source": [
    "my_info.values()"
   ]
  },
  {
   "cell_type": "markdown",
   "id": "c334f7ce-cee2-40e1-a582-c890f923f8c8",
   "metadata": {},
   "source": [
    "- items() : 값과 키를 모두 확인할 수 있는 메소드"
   ]
  },
  {
   "cell_type": "code",
   "execution_count": 29,
   "id": "402ce8aa-c389-4437-8f19-99cb08db4232",
   "metadata": {},
   "outputs": [
    {
     "data": {
      "text/plain": [
       "dict_items([('이름', '이원준'), ('나이', 20), ('몸무게', 55), ('키', 165)])"
      ]
     },
     "execution_count": 29,
     "metadata": {},
     "output_type": "execute_result"
    }
   ],
   "source": [
    "my_info.items()"
   ]
  },
  {
   "cell_type": "markdown",
   "id": "0ae48fb2-bb02-471e-97d1-1654c0246ba3",
   "metadata": {},
   "source": [
    "**도전문제 8.1** 자신의 정보를 저장하는 디셔널리를 만들고 for 문을 이용하여 출력해보자 \n",
    "\n",
    "```\n",
    "이름 : 홍길동\n",
    "나이 : 27\n",
    "몸무게 : 65.5\n",
    "키 :178.2"
   ]
  },
  {
   "cell_type": "code",
   "execution_count": 26,
   "id": "5eb6c6a2-dfd4-4735-b380-b2546e016a56",
   "metadata": {},
   "outputs": [
    {
     "name": "stdout",
     "output_type": "stream",
     "text": [
      "이름 : 이원준\n",
      "나이 : 20\n",
      "몸무게 : 55\n",
      "키 : 165\n"
     ]
    }
   ],
   "source": [
    "for k in my_info:\n",
    "    print(k, ':', my_info[k])"
   ]
  },
  {
   "cell_type": "code",
   "execution_count": 28,
   "id": "906a1f79-4d8b-4b7b-9cb3-51173480035a",
   "metadata": {},
   "outputs": [
    {
     "name": "stdout",
     "output_type": "stream",
     "text": [
      "이름 : 이원준\n",
      "나이 : 20\n",
      "몸무게 : 55\n",
      "키 : 165\n"
     ]
    }
   ],
   "source": [
    "for k, v in my_info.items():\n",
    "    print (k, \":\", v)"
   ]
  },
  {
   "cell_type": "markdown",
   "id": "cc4879fc-a816-40f5-8d88-b313ab1add55",
   "metadata": {},
   "source": [
    "## 8.2 딕셔너리와 리스트의 비교\n",
    "![image.png](그림1.png)"
   ]
  },
  {
   "cell_type": "code",
   "execution_count": 31,
   "id": "6173526c-0c5c-4f62-84b8-ef0cff45dfd0",
   "metadata": {},
   "outputs": [],
   "source": [
    "# list : 순서가 있는 자료형, index\n",
    "# dict : 순서가 없는 자료형, key"
   ]
  },
  {
   "cell_type": "code",
   "execution_count": 32,
   "id": "6c4e79fa-71dc-4bab-b7d1-68f8f7a4a83d",
   "metadata": {},
   "outputs": [],
   "source": [
    "lst = [11, 22, 33, 44, 55]\n",
    "dic = {0:11, 1:22, 2:33, 3:44, 4:55}"
   ]
  },
  {
   "cell_type": "code",
   "execution_count": 33,
   "id": "0cd80d27-b0ee-4689-a176-856f9ac1ba7d",
   "metadata": {},
   "outputs": [
    {
     "data": {
      "text/plain": [
       "22"
      ]
     },
     "execution_count": 33,
     "metadata": {},
     "output_type": "execute_result"
    }
   ],
   "source": [
    "lst[1] # list_name[index]"
   ]
  },
  {
   "cell_type": "code",
   "execution_count": 34,
   "id": "c6830e33-52e0-47b2-9616-c37b7c0555e6",
   "metadata": {},
   "outputs": [
    {
     "data": {
      "text/plain": [
       "22"
      ]
     },
     "execution_count": 34,
     "metadata": {},
     "output_type": "execute_result"
    }
   ],
   "source": [
    "dic[1] # dict_name[key]"
   ]
  },
  {
   "cell_type": "markdown",
   "id": "896ec3a6-63d3-45d1-a79f-1ee774916a68",
   "metadata": {},
   "source": [
    "- 항목의 수를 확인하고 삭제하기\n",
    "\n",
    "![image.png](그림2.png)"
   ]
  },
  {
   "cell_type": "code",
   "execution_count": 35,
   "id": "aefdf1b7-aaef-4ab7-92c7-5b5acd2d0dcd",
   "metadata": {},
   "outputs": [
    {
     "data": {
      "text/plain": [
       "5"
      ]
     },
     "execution_count": 35,
     "metadata": {},
     "output_type": "execute_result"
    }
   ],
   "source": [
    "len(lst)"
   ]
  },
  {
   "cell_type": "code",
   "execution_count": 37,
   "id": "1d4f0c62-6aeb-49bc-9a3b-d4bcf6e037be",
   "metadata": {},
   "outputs": [
    {
     "data": {
      "text/plain": [
       "5"
      ]
     },
     "execution_count": 37,
     "metadata": {},
     "output_type": "execute_result"
    }
   ],
   "source": [
    "len(dic)"
   ]
  },
  {
   "cell_type": "code",
   "execution_count": 38,
   "id": "12513e82-cba5-4081-b2cd-dd44e0a3a89e",
   "metadata": {},
   "outputs": [
    {
     "data": {
      "text/plain": [
       "{0: 11, 1: 22, 2: 33, 3: 44, 4: 55}"
      ]
     },
     "execution_count": 38,
     "metadata": {},
     "output_type": "execute_result"
    }
   ],
   "source": [
    "dic"
   ]
  },
  {
   "cell_type": "code",
   "execution_count": 42,
   "id": "84146503-b498-4ef3-bbdc-4a970a03e55b",
   "metadata": {},
   "outputs": [],
   "source": [
    "dic.clear()"
   ]
  },
  {
   "cell_type": "code",
   "execution_count": 43,
   "id": "74f662ec-5943-4ba9-b394-544023e9993b",
   "metadata": {},
   "outputs": [
    {
     "data": {
      "text/plain": [
       "{}"
      ]
     },
     "execution_count": 43,
     "metadata": {},
     "output_type": "execute_result"
    }
   ],
   "source": [
    "dic"
   ]
  },
  {
   "cell_type": "markdown",
   "id": "644390b1-5df7-488c-bb3d-f2e15f65b565",
   "metadata": {},
   "source": [
    "## 8.3 딕셔너리의 다양한 메소드\n",
    "\n",
    "![image.png](그림3.png)"
   ]
  },
  {
   "cell_type": "code",
   "execution_count": 44,
   "id": "305c4cc6-ece7-4237-8cd3-e9efa37a7b87",
   "metadata": {},
   "outputs": [],
   "source": [
    "person_info = {'이름': '홍길동', '나이': 27, '몸무게': 65.5, '키': 178.2}"
   ]
  },
  {
   "cell_type": "code",
   "execution_count": null,
   "id": "7b06077e-9168-47d2-8b3a-22fe4fd79638",
   "metadata": {},
   "outputs": [],
   "source": [
    "# keys()"
   ]
  },
  {
   "cell_type": "code",
   "execution_count": 45,
   "id": "87eae23e-3355-43c5-a439-02be0036c784",
   "metadata": {},
   "outputs": [
    {
     "data": {
      "text/plain": [
       "dict_keys(['이름', '나이', '몸무게', '키'])"
      ]
     },
     "execution_count": 45,
     "metadata": {},
     "output_type": "execute_result"
    }
   ],
   "source": [
    "person_info.keys()"
   ]
  },
  {
   "cell_type": "code",
   "execution_count": null,
   "id": "59821f83-1ebe-4220-88cc-3adcc7e2dffa",
   "metadata": {},
   "outputs": [],
   "source": [
    "# values()"
   ]
  },
  {
   "cell_type": "code",
   "execution_count": 46,
   "id": "e2781348-97f9-4cfe-87a2-d4ed2e6f520c",
   "metadata": {},
   "outputs": [
    {
     "data": {
      "text/plain": [
       "dict_values(['홍길동', 27, 65.5, 178.2])"
      ]
     },
     "execution_count": 46,
     "metadata": {},
     "output_type": "execute_result"
    }
   ],
   "source": [
    "person_info.values()"
   ]
  },
  {
   "cell_type": "code",
   "execution_count": null,
   "id": "007fe1c7-ece1-40aa-add9-71d376d0e350",
   "metadata": {},
   "outputs": [],
   "source": [
    "# items()"
   ]
  },
  {
   "cell_type": "code",
   "execution_count": 47,
   "id": "a1460a0b-5854-499c-9cfc-0ac5431540e6",
   "metadata": {},
   "outputs": [
    {
     "data": {
      "text/plain": [
       "dict_items([('이름', '홍길동'), ('나이', 27), ('몸무게', 65.5), ('키', 178.2)])"
      ]
     },
     "execution_count": 47,
     "metadata": {},
     "output_type": "execute_result"
    }
   ],
   "source": [
    "person_info.items()"
   ]
  },
  {
   "cell_type": "code",
   "execution_count": null,
   "id": "1b16bb97-5dd2-483f-b040-a13f2ca31e86",
   "metadata": {},
   "outputs": [],
   "source": [
    "# get(key)"
   ]
  },
  {
   "cell_type": "code",
   "execution_count": 55,
   "id": "71585b86-f048-4f9b-9e39-413d2cb36d31",
   "metadata": {},
   "outputs": [
    {
     "data": {
      "text/plain": [
       "27"
      ]
     },
     "execution_count": 55,
     "metadata": {},
     "output_type": "execute_result"
    }
   ],
   "source": [
    "person_info['나이']"
   ]
  },
  {
   "cell_type": "code",
   "execution_count": 53,
   "id": "b514a47a-3ef6-4f2c-93b8-499e4b339532",
   "metadata": {},
   "outputs": [
    {
     "data": {
      "text/plain": [
       "'그런키는 없어요'"
      ]
     },
     "execution_count": 53,
     "metadata": {},
     "output_type": "execute_result"
    }
   ],
   "source": [
    "person_info.get('학점', '그런키는 없어요')"
   ]
  },
  {
   "cell_type": "code",
   "execution_count": 54,
   "id": "6395ae6e-bb1b-4b8e-87d8-275693f70302",
   "metadata": {},
   "outputs": [
    {
     "data": {
      "text/plain": [
       "27"
      ]
     },
     "execution_count": 54,
     "metadata": {},
     "output_type": "execute_result"
    }
   ],
   "source": [
    "person_info.get('나이', '그런키는 없어요')"
   ]
  },
  {
   "cell_type": "code",
   "execution_count": 56,
   "id": "f4d74a07-1309-48be-afab-8d13cc69a383",
   "metadata": {},
   "outputs": [
    {
     "data": {
      "text/plain": [
       "{'이름': '홍길동', '나이': 27, '몸무게': 65.5, '키': 178.2}"
      ]
     },
     "execution_count": 56,
     "metadata": {},
     "output_type": "execute_result"
    }
   ],
   "source": [
    "# pop(key) 특정 키를 삭제\n",
    "person_info"
   ]
  },
  {
   "cell_type": "code",
   "execution_count": 57,
   "id": "d0fde4e8-eb6f-4815-98e6-20fe3e36d378",
   "metadata": {},
   "outputs": [
    {
     "data": {
      "text/plain": [
       "178.2"
      ]
     },
     "execution_count": 57,
     "metadata": {},
     "output_type": "execute_result"
    }
   ],
   "source": [
    "person_info.pop('키')"
   ]
  },
  {
   "cell_type": "code",
   "execution_count": 58,
   "id": "bc46efd0-81c4-4746-8211-806ed8a43d64",
   "metadata": {},
   "outputs": [
    {
     "data": {
      "text/plain": [
       "{'이름': '홍길동', '나이': 27, '몸무게': 65.5}"
      ]
     },
     "execution_count": 58,
     "metadata": {},
     "output_type": "execute_result"
    }
   ],
   "source": [
    "person_info"
   ]
  },
  {
   "cell_type": "code",
   "execution_count": null,
   "id": "3f7228c0-c858-46cb-9cfa-3e2bc6a1047f",
   "metadata": {},
   "outputs": [],
   "source": [
    "# popitem()"
   ]
  },
  {
   "cell_type": "code",
   "execution_count": 60,
   "id": "aaff8f1c-6b93-468b-8510-f559e027dd94",
   "metadata": {},
   "outputs": [
    {
     "data": {
      "text/plain": [
       "('몸무게', 65.5)"
      ]
     },
     "execution_count": 60,
     "metadata": {},
     "output_type": "execute_result"
    }
   ],
   "source": [
    "person_info.popitem() # 맨마지막 키를 삭제"
   ]
  },
  {
   "cell_type": "code",
   "execution_count": 61,
   "id": "49c8cc4e-80dc-4c96-8983-b0e94ee7fd89",
   "metadata": {},
   "outputs": [
    {
     "data": {
      "text/plain": [
       "{'이름': '홍길동', '나이': 27}"
      ]
     },
     "execution_count": 61,
     "metadata": {},
     "output_type": "execute_result"
    }
   ],
   "source": [
    "person_info"
   ]
  },
  {
   "cell_type": "code",
   "execution_count": null,
   "id": "b468f801-3822-4efd-9746-219de4b12dd3",
   "metadata": {},
   "outputs": [],
   "source": [
    "# clear()"
   ]
  },
  {
   "cell_type": "markdown",
   "id": "480376a3-9f78-4e55-8071-6c44e2851648",
   "metadata": {},
   "source": [
    "- sorted() : 정렬하기"
   ]
  },
  {
   "cell_type": "code",
   "execution_count": 63,
   "id": "fe3f1e60-a3f1-4b83-bb65-6791d976f450",
   "metadata": {},
   "outputs": [],
   "source": [
    "scores = {'Lee': 65, 'Park': 96, 'Choi': 89, 'Ko': 77, 'Jung': 83}"
   ]
  },
  {
   "cell_type": "code",
   "execution_count": 64,
   "id": "e8bad9c3-ae54-4e8a-9981-d6b8753a1892",
   "metadata": {},
   "outputs": [
    {
     "data": {
      "text/plain": [
       "['Choi', 'Jung', 'Ko', 'Lee', 'Park']"
      ]
     },
     "execution_count": 64,
     "metadata": {},
     "output_type": "execute_result"
    }
   ],
   "source": [
    "sorted(scores)"
   ]
  },
  {
   "cell_type": "markdown",
   "id": "57533782-d6fc-4119-90eb-bc6a78811b3e",
   "metadata": {},
   "source": [
    "**실습** 다음과 같이 이름에 따라서 정렬된 딕셔너리를 만들자\n",
    "```\n",
    "{'Choi': 89, 'Jung': 83, 'Ko': 77, 'Lee': 65, 'Park': 96}\n",
    "```"
   ]
  },
  {
   "cell_type": "code",
   "execution_count": 69,
   "id": "84eacb4d-7299-4f2e-ae8e-dc690d623211",
   "metadata": {},
   "outputs": [
    {
     "data": {
      "text/plain": [
       "{'Choi': 89, 'Jung': 83, 'Ko': 77, 'Lee': 65, 'Park': 96}"
      ]
     },
     "execution_count": 69,
     "metadata": {},
     "output_type": "execute_result"
    }
   ],
   "source": [
    "sorted_scores = {k:scores[k] for k in sorted(scores)}\n",
    "sorted_scores"
   ]
  },
  {
   "cell_type": "markdown",
   "id": "d6aa8b68-b4bf-49ea-b8d5-dcabeda1036f",
   "metadata": {},
   "source": [
    "실습 다음과 같이 점수에 따라서 정렬된 딕셔너리를 만들자\n",
    "```\n",
    "{'Lee': 65, 'Ko': 77, 'Jung': 83, 'Choi': 89, 'Park': 96}\n",
    "```"
   ]
  },
  {
   "cell_type": "code",
   "execution_count": 78,
   "id": "d7da7f1c-28b0-4373-a544-9e467b30d694",
   "metadata": {},
   "outputs": [
    {
     "data": {
      "text/plain": [
       "{'Lee': 65, 'Ko': 77, 'Jung': 83, 'Choi': 89, 'Park': 96}"
      ]
     },
     "execution_count": 78,
     "metadata": {},
     "output_type": "execute_result"
    }
   ],
   "source": [
    "dict(sorted(scores.items(), key=lambda x: x[1]))\n"
   ]
  },
  {
   "cell_type": "markdown",
   "id": "4e6f9301-873c-4963-afd6-6ae11227eabc",
   "metadata": {},
   "source": [
    "## 8.4 람다 함수 = 이름이 없는 함수\n",
    "\n",
    "![image.png](그림4.png)"
   ]
  },
  {
   "cell_type": "code",
   "execution_count": null,
   "id": "3c7980f4-c4f0-44e1-8ecb-b0d704d97bf6",
   "metadata": {},
   "outputs": [],
   "source": []
  },
  {
   "attachments": {},
   "cell_type": "markdown",
   "id": "f464006a-63cd-48c4-93a2-588e26db64f1",
   "metadata": {},
   "source": [
    "**LAB8-1** 편의점 재고 관리 프로그램을 만들자\n",
    "![image.png](그림5.png)"
   ]
  },
  {
   "cell_type": "code",
   "execution_count": null,
   "id": "dee2b5e4-9b72-407e-baf5-0c89085eea14",
   "metadata": {},
   "outputs": [],
   "source": []
  },
  {
   "cell_type": "markdown",
   "id": "13010a69-6bdf-45f1-be24-cb563fbb5d5b",
   "metadata": {},
   "source": [
    "## 8.5 순서가 중요하지 않은 대상들이 모이면 : 집합\n",
    "\n",
    "- 파이썬의 집합set 수학의 집합과 비슷하며, 순서가 없는 자료형.\n",
    "- 동일한 값을 가지는 항목의 중복이 허용되지 않는다\n",
    "- 교집합, 합집합, 차집합, 대칭차집합 등의 다양한 집합 연산을 수행할 수 있다.\n",
    "- 집합 만들기\n",
    "```\n",
    "- {원소, 원소, ...}\n",
    "- set(리스트)\n",
    "```\n"
   ]
  },
  {
   "cell_type": "code",
   "execution_count": 79,
   "id": "0bfb276c-abdf-4dbe-addf-51c83c2c37f4",
   "metadata": {},
   "outputs": [
    {
     "data": {
      "text/plain": [
       "{1, 2, 3}"
      ]
     },
     "execution_count": 79,
     "metadata": {},
     "output_type": "execute_result"
    }
   ],
   "source": [
    "numbers = {1, 3, 2}\n",
    "numbers"
   ]
  },
  {
   "cell_type": "code",
   "execution_count": 80,
   "id": "b37d4445-fd76-4b7f-96c1-e46c113bf9c3",
   "metadata": {},
   "outputs": [
    {
     "data": {
      "text/plain": [
       "{1, 2, 3, 4}"
      ]
     },
     "execution_count": 80,
     "metadata": {},
     "output_type": "execute_result"
    }
   ],
   "source": [
    "numbers = set([1, 3, 2, 3, 1, 4])\n",
    "numbers"
   ]
  },
  {
   "cell_type": "markdown",
   "id": "c4e8d445-1e9d-4f3d-ae4d-2559d6c9d1a1",
   "metadata": {},
   "source": [
    "- in : 항목의 확인"
   ]
  },
  {
   "cell_type": "code",
   "execution_count": 81,
   "id": "b1f91f10-ed90-4fe3-9852-eacb79a46f22",
   "metadata": {},
   "outputs": [
    {
     "data": {
      "text/plain": [
       "True"
      ]
     },
     "execution_count": 81,
     "metadata": {},
     "output_type": "execute_result"
    }
   ],
   "source": [
    "1 in numbers"
   ]
  },
  {
   "cell_type": "code",
   "execution_count": 83,
   "id": "922d234c-4279-4032-86bc-db703d3eb7c7",
   "metadata": {},
   "outputs": [
    {
     "data": {
      "text/plain": [
       "False"
      ]
     },
     "execution_count": 83,
     "metadata": {},
     "output_type": "execute_result"
    }
   ],
   "source": [
    "10 in numbers"
   ]
  },
  {
   "cell_type": "code",
   "execution_count": null,
   "id": "1ec54be6-c96c-4304-bd2a-6cd4ec0d3c6e",
   "metadata": {},
   "outputs": [],
   "source": [
    "- add(): 원소의 추가"
   ]
  },
  {
   "cell_type": "code",
   "execution_count": 87,
   "id": "84e77047-a8cd-482a-81d6-23af521a7fac",
   "metadata": {},
   "outputs": [
    {
     "data": {
      "text/plain": [
       "{1, 2, 3, 4, 5}"
      ]
     },
     "execution_count": 87,
     "metadata": {},
     "output_type": "execute_result"
    }
   ],
   "source": [
    "numbers.add(5)\n",
    "numbers"
   ]
  },
  {
   "cell_type": "code",
   "execution_count": null,
   "id": "e3d06370-0bba-4e21-981b-75663b79063f",
   "metadata": {},
   "outputs": [],
   "source": [
    "- remove(): 원소의 제거"
   ]
  },
  {
   "cell_type": "code",
   "execution_count": 92,
   "id": "a1874691-2d2e-44e5-8ca8-8cb5ebd2a960",
   "metadata": {},
   "outputs": [
    {
     "data": {
      "text/plain": [
       "{1, 3, 4, 5}"
      ]
     },
     "execution_count": 92,
     "metadata": {},
     "output_type": "execute_result"
    }
   ],
   "source": [
    "numbers.remove(2)\n",
    "numbers"
   ]
  },
  {
   "cell_type": "markdown",
   "id": "e7a2b098-8656-4223-a4f7-9fd9305aeaf9",
   "metadata": {},
   "source": [
    "- 집합의 비교 : ==, !=, <, <=, >, >= "
   ]
  },
  {
   "cell_type": "code",
   "execution_count": 100,
   "id": "96072783-9722-4ed9-9eb2-70db1b90cbf1",
   "metadata": {},
   "outputs": [],
   "source": [
    "num1 = {1, 3, 2}\n",
    "num2 = {1, 2, 2, 3, 3, 4}"
   ]
  },
  {
   "cell_type": "code",
   "execution_count": 97,
   "id": "50f06d2d-fc49-44a9-a4ea-97e6b3a0ec3f",
   "metadata": {},
   "outputs": [
    {
     "data": {
      "text/plain": [
       "True"
      ]
     },
     "execution_count": 97,
     "metadata": {},
     "output_type": "execute_result"
    }
   ],
   "source": [
    "num1 == num2"
   ]
  },
  {
   "cell_type": "code",
   "execution_count": 98,
   "id": "eba3e9bc-3036-4423-a14a-708c5b330c4b",
   "metadata": {},
   "outputs": [
    {
     "data": {
      "text/plain": [
       "False"
      ]
     },
     "execution_count": 98,
     "metadata": {},
     "output_type": "execute_result"
    }
   ],
   "source": [
    "num1 > num2"
   ]
  },
  {
   "cell_type": "code",
   "execution_count": 101,
   "id": "c02481bf-4498-42f8-9cdd-d675c9954dbc",
   "metadata": {},
   "outputs": [
    {
     "data": {
      "text/plain": [
       "True"
      ]
     },
     "execution_count": 101,
     "metadata": {},
     "output_type": "execute_result"
    }
   ],
   "source": [
    "num1 < num2"
   ]
  },
  {
   "cell_type": "markdown",
   "id": "33e30e16-7c28-4ff4-92f3-1f3fdd5eb5ce",
   "metadata": {},
   "source": [
    "- 합집합, 교집합, 차집합, 대칭차집합"
   ]
  },
  {
   "cell_type": "code",
   "execution_count": null,
   "id": "c4caf565-1704-44a9-9979-2c703aa1bf85",
   "metadata": {},
   "outputs": [],
   "source": [
    "A = {1, 2, 3}\n",
    "B = {3, 4, 5}"
   ]
  },
  {
   "cell_type": "code",
   "execution_count": null,
   "id": "930592d7-2dd1-4f65-acde-5aac1423cc02",
   "metadata": {},
   "outputs": [],
   "source": [
    "# 합집합: "
   ]
  },
  {
   "cell_type": "code",
   "execution_count": null,
   "id": "f35e6bae-6077-455e-b4b5-24382e0d6152",
   "metadata": {},
   "outputs": [],
   "source": [
    "# 교집합"
   ]
  },
  {
   "cell_type": "code",
   "execution_count": null,
   "id": "fe9f44d8-c234-42f5-8f66-f71a3113f156",
   "metadata": {},
   "outputs": [],
   "source": [
    "# 차집합"
   ]
  },
  {
   "cell_type": "code",
   "execution_count": null,
   "id": "dc7e12d1-473e-4b53-a505-494fdce4a2b0",
   "metadata": {},
   "outputs": [],
   "source": [
    "# 대칭차집합"
   ]
  },
  {
   "cell_type": "code",
   "execution_count": null,
   "id": "ccb82e0a-1029-45cb-95c1-19a24b64b739",
   "metadata": {},
   "outputs": [],
   "source": []
  },
  {
   "cell_type": "markdown",
   "id": "145ad833-0762-4f4d-9999-fbecf2d6f71a",
   "metadata": {},
   "source": [
    "**LAB8-3 파티에 동시에 참석한 사람 알아내기**\n",
    "\n",
    "![image.png](그림7.png)"
   ]
  },
  {
   "cell_type": "markdown",
   "id": "48c53414-2bd7-4d5d-95cb-9bba4c33a995",
   "metadata": {},
   "source": [
    "## 8.7 리스트, 튜플, 집합, 딕셔너리를 비교하자!\n",
    "- 리스트: \n",
    "    - 리스트는 여러 가지 유형의 자료값을 한꺼번에 담을 수 있다.\n",
    "    - 순서형ordered 자료구조: 인덱스를 이용해서 각각의 항목에 접근할 수 있다. 유형의 자료형을 \n",
    "    - 변경가능mutable 자료형\n",
    "\n",
    "- 튜플: \n",
    "    - 여러 가지 유형의 자료값을 한꺼번에 담을 수 있다.\n",
    "    - 순서형 자료구조이다. \n",
    "    - 변경불가능immutable 자료형\n",
    "\n",
    "- 딕셔너리: \n",
    "    - 딕셔너리는 키-값 쌍으로 자료값이 저장\n",
    "    - 딕셔너리는 유일한 키를 통해서 값에 접근 가능\n",
    "    - 딕셔너리의 키는 문자열, 정수, 튜플 등\n",
    "    - 변경 가능 자료형\n",
    "    - 순서가 없다\n",
    "\n",
    "- 집합: \n",
    "    - 집합은 여러 가지 자료값을 한 꺼번에 담을 수 있다.\n",
    "    - unordered 자료구조: 순서가 존재하지 않고 중복된 자료값을 허용하지 않는다.\n",
    "\n",
    "![image.png](그림6.png)"
   ]
  },
  {
   "cell_type": "code",
   "execution_count": null,
   "id": "c96a67cd-28b1-4597-b8b5-19040359f356",
   "metadata": {},
   "outputs": [],
   "source": []
  },
  {
   "cell_type": "markdown",
   "id": "ee13b39d-a798-4a12-be2f-e49dcaf4688d",
   "metadata": {},
   "source": [
    "## 8.8 파일로부터 자료를 읽고 저장해보자\n"
   ]
  },
  {
   "cell_type": "code",
   "execution_count": null,
   "id": "718dcbdc-2377-4474-889e-515c5d8556eb",
   "metadata": {},
   "outputs": [],
   "source": [
    "# 파일 쓰기\n",
    "f = open('hello.txt', 'w') # 파일을 쓰기 모드(w)로 열기\n",
    "f.write('Hello World!!!')  # 파일에 내용 쓰기\n",
    "f.close                    # 파일 닫기\n"
   ]
  },
  {
   "cell_type": "code",
   "execution_count": null,
   "id": "d50b85cc-f1eb-427b-95e1-b6f4c010fd73",
   "metadata": {},
   "outputs": [],
   "source": [
    "# 파일 쓰기\n",
    "f = open('hello.txt', 'r') # 파일을 일기 모드(r)로 열기\n",
    "s= f.read()                # 파일에 내용 읽\n",
    "f.close                    # 파일 닫기\n"
   ]
  },
  {
   "cell_type": "markdown",
   "id": "b389e675-ae9f-4a6f-8e7a-0165b8717d66",
   "metadata": {},
   "source": [
    "**LAB8-4** 파일에서 사용된 단어 구하기\n",
    "\n",
    "![image.png](그림8.png)"
   ]
  },
  {
   "cell_type": "code",
   "execution_count": null,
   "id": "b8acf159-f3e2-40fb-a48a-8a5fbf595960",
   "metadata": {},
   "outputs": [],
   "source": []
  },
  {
   "cell_type": "markdown",
   "id": "e015fe92-564b-4b74-a150-33b9011322be",
   "metadata": {},
   "source": [
    "## 8.9 두 수의 약수와 최대공약수 그리고 프로그래밍적인 사고\n",
    "\n",
    "- 문제를 해결하위하여 단계적 과정을 통해서 해를 구하는 것이 바로 **프로그램적인 사고 방식**\n",
    "\n",
    "- 최대 공약수 구하기\n",
    "    - 약수 구하기 -> 공약수 구하기 -> 최대값 구하기"
   ]
  },
  {
   "cell_type": "code",
   "execution_count": null,
   "id": "5170f453-7762-4ff2-aa7e-ddce28b7e908",
   "metadata": {},
   "outputs": [],
   "source": []
  }
 ],
 "metadata": {
  "kernelspec": {
   "display_name": "Python 3 (ipykernel)",
   "language": "python",
   "name": "python3"
  },
  "language_info": {
   "codemirror_mode": {
    "name": "ipython",
    "version": 3
   },
   "file_extension": ".py",
   "mimetype": "text/x-python",
   "name": "python",
   "nbconvert_exporter": "python",
   "pygments_lexer": "ipython3",
   "version": "3.11.7"
  }
 },
 "nbformat": 4,
 "nbformat_minor": 5
}
