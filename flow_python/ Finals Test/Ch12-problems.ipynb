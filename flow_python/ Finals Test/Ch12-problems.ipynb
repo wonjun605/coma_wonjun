{
 "cells": [
  {
   "cell_type": "markdown",
   "id": "00eb79a5-1c77-4d23-8035-8ed68b914e1e",
   "metadata": {},
   "source": [
    "# 12 판다스 - 심화문제\n"
   ]
  },
  {
   "cell_type": "markdown",
   "id": "a036b531-5d85-441f-a786-5bb1a415a781",
   "metadata": {},
   "source": [
    "## 12.1\n",
    "이장에서 사용한 `weather.csv`를 읽어서 다음과 같은 일을 처리해 보자.\n"
   ]
  },
  {
   "cell_type": "code",
   "execution_count": 4,
   "id": "7fc642a7-87ac-4d1e-9768-ad961a3dfdd3",
   "metadata": {},
   "outputs": [
    {
     "name": "stdout",
     "output_type": "stream",
     "text": [
      "            평균기온(°C)  최대 풍속(m/s)  평균 풍속(m/s)\n",
      "일시                                          \n",
      "2010-08-01      28.7         8.3         3.4\n",
      "2010-08-02      25.2         8.7         3.8\n",
      "2010-08-03      22.1         6.3         2.9\n",
      "2010-08-04      25.3         6.6         4.2\n",
      "2010-08-05      27.2         9.1         5.6\n",
      "...              ...         ...         ...\n",
      "2020-07-27      22.1         4.2         1.7\n",
      "2020-07-28      21.9         4.5         1.6\n",
      "2020-07-29      21.6         3.2         1.0\n",
      "2020-07-30      22.9         9.7         2.4\n",
      "2020-07-31      25.7         4.8         2.5\n",
      "\n",
      "[3653 rows x 3 columns]\n"
     ]
    }
   ],
   "source": [
    "# 필요한 패키지를 불러온다\n",
    "import pandas as pd\n",
    "\n",
    "# weather.csv를 읽는다\n",
    "df = pd.read_csv(\"weather.csv\", encoding = 'cp949', index_col = 0)\n",
    "print(df)"
   ]
  },
  {
   "cell_type": "markdown",
   "id": "9a9c476b-97eb-47c0-8cc3-7484dfef30be",
   "metadata": {},
   "source": [
    "1) 앞의 세개 행과 마비막 세개 행을 화면처럼 나타내어라.\n",
    "```\n",
    "            평균기온(°C)  최대 풍속(m/s)  평균 풍속(m/s)\n",
    "일시                                          \n",
    "2010-08-01      28.7         8.3         3.4\n",
    "2010-08-02      25.2         8.7         3.8\n",
    "2010-08-03      22.1         6.3         2.9\n",
    "\n",
    "            평균기온(°C)  최대 풍속(m/s)  평균 풍속(m/s)\n",
    "일시                                          \n",
    "2020-07-27      22.1         4.2         1.7\n",
    "2020-07-28      21.9         4.5         1.6\n",
    "2020-07-29      21.6         3.2         1.0\n",
    "2020-07-30      22.9         9.7         2.4\n",
    "2020-07-31      25.7         4.8      \n",
    "```"
   ]
  },
  {
   "cell_type": "code",
   "execution_count": 10,
   "id": "48113927-106c-4cb4-a0b6-0c4a131efd4d",
   "metadata": {},
   "outputs": [
    {
     "name": "stdout",
     "output_type": "stream",
     "text": [
      "            평균기온(°C)  최대 풍속(m/s)  평균 풍속(m/s)\n",
      "일시                                          \n",
      "2010-08-01      28.7         8.3         3.4\n",
      "2010-08-02      25.2         8.7         3.8\n",
      "2010-08-03      22.1         6.3         2.9\n"
     ]
    }
   ],
   "source": [
    "### 앞의 세행 - head()\n",
    "print(df.head(3))"
   ]
  },
  {
   "cell_type": "code",
   "execution_count": 9,
   "id": "f5e47f25-638a-42be-928f-0de97cf34e51",
   "metadata": {},
   "outputs": [
    {
     "name": "stdout",
     "output_type": "stream",
     "text": [
      "            평균기온(°C)  최대 풍속(m/s)  평균 풍속(m/s)\n",
      "일시                                          \n",
      "2020-07-29      21.6         3.2         1.0\n",
      "2020-07-30      22.9         9.7         2.4\n",
      "2020-07-31      25.7         4.8         2.5\n"
     ]
    }
   ],
   "source": [
    "# 뒤의 세행 - tail() \n",
    "print(df.tail(3))"
   ]
  },
  {
   "cell_type": "code",
   "execution_count": 12,
   "id": "1b8fba68-8e33-4d9f-b304-644c057b6979",
   "metadata": {},
   "outputs": [
    {
     "name": "stdout",
     "output_type": "stream",
     "text": [
      "<class 'pandas.core.frame.DataFrame'>\n",
      "Index: 3653 entries, 2010-08-01 to 2020-07-31\n",
      "Data columns (total 3 columns):\n",
      " #   Column      Non-Null Count  Dtype  \n",
      "---  ------      --------------  -----  \n",
      " 0   평균기온(°C)    3653 non-null   float64\n",
      " 1   최대 풍속(m/s)  3649 non-null   float64\n",
      " 2   평균 풍속(m/s)  3647 non-null   float64\n",
      "dtypes: float64(3)\n",
      "memory usage: 114.2+ KB\n"
     ]
    }
   ],
   "source": [
    "df.info()"
   ]
  },
  {
   "cell_type": "markdown",
   "id": "91b6225b-005b-4806-aeec-468e06ddd8b4",
   "metadata": {},
   "source": [
    "2) 2015년 6월 6일 울릉도 평균 기온과 풍속 정보를 다음과 같이 확인해 보라\n",
    "\n",
    "```\n",
    "평균기온(°C)      16.6\n",
    "최대 풍속(m/s)     4.4\n",
    "평균 풍속(m/s)     1.9\n",
    "Name: 2015-06-06, dtype: float64\n",
    "```"
   ]
  },
  {
   "cell_type": "code",
   "execution_count": 13,
   "id": "3d1842c2-069c-4dcd-90f4-24778e39fb9b",
   "metadata": {},
   "outputs": [
    {
     "data": {
      "text/plain": [
       "평균기온(°C)      16.6\n",
       "최대 풍속(m/s)     4.4\n",
       "평균 풍속(m/s)     1.9\n",
       "Name: 2015-06-06, dtype: float64"
      ]
     },
     "execution_count": 13,
     "metadata": {},
     "output_type": "execute_result"
    }
   ],
   "source": [
    "df.loc['2015-06-06']"
   ]
  },
  {
   "cell_type": "markdown",
   "id": "2d99e139-e019-4eb1-b580-6f01ad568813",
   "metadata": {},
   "source": [
    "3) 이 데이터에 기록된 날들 중 가장 무더웠던 날의 평균기온이 얼마였는지 찾아보라 "
   ]
  },
  {
   "cell_type": "code",
   "execution_count": 17,
   "id": "8a520284-bbf2-4608-85b4-70e505541b79",
   "metadata": {},
   "outputs": [
    {
     "data": {
      "text/plain": [
       "31.3"
      ]
     },
     "execution_count": 17,
     "metadata": {},
     "output_type": "execute_result"
    }
   ],
   "source": [
    "# 평균기온의 최대 값 - max()\n",
    "df['평균기온(°C)'].max()"
   ]
  },
  {
   "cell_type": "markdown",
   "id": "0958bcea-7e54-443b-8b1e-499c4c8126c0",
   "metadata": {},
   "source": [
    "4) 가장 더웠던 날은 언제이고 이날의 기온, 풍속, 등을 확인하라.\n",
    "```\n",
    "            평균기온(°C)  최대 풍속(m/s)  평균 풍속(m/s)\n",
    "일시                                          \n",
    "2013-08-08      31.3         7.8         4.6\n",
    "```"
   ]
  },
  {
   "cell_type": "code",
   "execution_count": 20,
   "id": "7a7903a0-693b-4234-a551-9aff20ec3d4f",
   "metadata": {},
   "outputs": [
    {
     "name": "stdout",
     "output_type": "stream",
     "text": [
      "            평균기온(°C)  최대 풍속(m/s)  평균 풍속(m/s)\n",
      "일시                                          \n",
      "2013-08-08      31.3         7.8         4.6\n"
     ]
    }
   ],
   "source": [
    "# 논리 인덱싱...\n",
    "print(df[df['평균기온(°C)'] == df['평균기온(°C)'].max()])"
   ]
  },
  {
   "cell_type": "markdown",
   "id": "9cba7dc6-b3a6-4549-be49-e46dd54a53a6",
   "metadata": {},
   "source": [
    "5) 울릉도 평균기온이 30도를 넘는 날 들을 찾아서 기상 데이터를 확인하라.\n",
    "```\n",
    "            평균기온(°C)  최대 풍속(m/s)  평균 풍속(m/s)\n",
    "일시                                          \n",
    "2013-08-08      31.3         7.8         4.6\n",
    "2013-08-09      30.6         9.9         6.4\n",
    "2013-08-10      30.6         7.4         3.8\n",
    "2018-07-23      30.5         6.5         1.6\n",
    "2018-08-04      30.3         5.8         3.0\n",
    "```"
   ]
  },
  {
   "cell_type": "code",
   "execution_count": 21,
   "id": "5956848f-2599-47af-a51c-3f11cc5adafe",
   "metadata": {},
   "outputs": [
    {
     "data": {
      "text/html": [
       "<div>\n",
       "<style scoped>\n",
       "    .dataframe tbody tr th:only-of-type {\n",
       "        vertical-align: middle;\n",
       "    }\n",
       "\n",
       "    .dataframe tbody tr th {\n",
       "        vertical-align: top;\n",
       "    }\n",
       "\n",
       "    .dataframe thead th {\n",
       "        text-align: right;\n",
       "    }\n",
       "</style>\n",
       "<table border=\"1\" class=\"dataframe\">\n",
       "  <thead>\n",
       "    <tr style=\"text-align: right;\">\n",
       "      <th></th>\n",
       "      <th>평균기온(°C)</th>\n",
       "      <th>최대 풍속(m/s)</th>\n",
       "      <th>평균 풍속(m/s)</th>\n",
       "    </tr>\n",
       "    <tr>\n",
       "      <th>일시</th>\n",
       "      <th></th>\n",
       "      <th></th>\n",
       "      <th></th>\n",
       "    </tr>\n",
       "  </thead>\n",
       "  <tbody>\n",
       "    <tr>\n",
       "      <th>2013-08-08</th>\n",
       "      <td>31.3</td>\n",
       "      <td>7.8</td>\n",
       "      <td>4.6</td>\n",
       "    </tr>\n",
       "    <tr>\n",
       "      <th>2013-08-09</th>\n",
       "      <td>30.6</td>\n",
       "      <td>9.9</td>\n",
       "      <td>6.4</td>\n",
       "    </tr>\n",
       "    <tr>\n",
       "      <th>2013-08-10</th>\n",
       "      <td>30.6</td>\n",
       "      <td>7.4</td>\n",
       "      <td>3.8</td>\n",
       "    </tr>\n",
       "    <tr>\n",
       "      <th>2018-07-23</th>\n",
       "      <td>30.5</td>\n",
       "      <td>6.5</td>\n",
       "      <td>1.6</td>\n",
       "    </tr>\n",
       "    <tr>\n",
       "      <th>2018-08-04</th>\n",
       "      <td>30.3</td>\n",
       "      <td>5.8</td>\n",
       "      <td>3.0</td>\n",
       "    </tr>\n",
       "  </tbody>\n",
       "</table>\n",
       "</div>"
      ],
      "text/plain": [
       "            평균기온(°C)  최대 풍속(m/s)  평균 풍속(m/s)\n",
       "일시                                          \n",
       "2013-08-08      31.3         7.8         4.6\n",
       "2013-08-09      30.6         9.9         6.4\n",
       "2013-08-10      30.6         7.4         3.8\n",
       "2018-07-23      30.5         6.5         1.6\n",
       "2018-08-04      30.3         5.8         3.0"
      ]
     },
     "execution_count": 21,
     "metadata": {},
     "output_type": "execute_result"
    }
   ],
   "source": [
    "# 논리 인덱싱...\n",
    "df[df['평균기온(°C)'] > 30]"
   ]
  },
  {
   "cell_type": "code",
   "execution_count": null,
   "id": "b04cef95-43f5-47ad-9295-fb41bc26e47e",
   "metadata": {},
   "outputs": [],
   "source": []
  },
  {
   "cell_type": "markdown",
   "id": "9effd8d9-5687-40a6-9fb4-62d199593043",
   "metadata": {},
   "source": [
    "## 12.2\n",
    "다음은 P 자동차회사의 자종별 마력, 총중량, 그리고 여니를 나타낸 표이다.\n",
    "\n",
    "```\n",
    "'name'        : ['A',   'B',  'C',  'D',  'E',  'F', 'G']\n",
    "'horse power' : [ 130,  250,  190, 300,  210,  220,  170]\n",
    "'weight'      : [ 1.9,  2.6,  2.2, 2.9,  2.4,  2.3,  2.2]\n",
    "'efficiency'  : [16.3, 10.2, 11.1, 7.1, 12.1, 13.2, 14.2]\n",
    "```\n",
    "\n",
    "이 표를 데이터프레임으로 만들어라. \n",
    "\n",
    "```\n",
    "  name  horse power  weight  efficiency\n",
    "0    A          130     1.9        16.3\n",
    "1    B          250     2.6        10.2\n",
    "2    C          190     2.2        11.1\n",
    "3    D          300     2.9         7.1\n",
    "4    E          210     2.4        12.1\n",
    "5    F          220     2.3        13.2\n",
    "6    G          170     2.2        14.2  \n",
    "```   "
   ]
  },
  {
   "cell_type": "code",
   "execution_count": 22,
   "id": "3d220004-826c-4bab-8932-20f4117d02ce",
   "metadata": {},
   "outputs": [
    {
     "name": "stdout",
     "output_type": "stream",
     "text": [
      "  name  horse power  weight  efficiency\n",
      "0    A          130     1.9        16.3\n",
      "1    B          250     2.6        10.2\n",
      "2    C          190     2.2        11.1\n",
      "3    D          300     2.9         7.1\n",
      "4    E          210     2.4        12.1\n",
      "5    F          220     2.3        13.2\n",
      "6    G          170     2.2        14.2\n"
     ]
    }
   ],
   "source": [
    "# 데이터 프레임은 dict를 이용해서 만든다.\n",
    "df_P = pd.DataFrame({\n",
    "    'name'        : ['A',   'B',  'C',  'D',  'E',  'F', 'G'],\n",
    "    'horse power' : [ 130,  250,  190, 300,  210,  220,  170],\n",
    "    'weight'      : [ 1.9,  2.6,  2.2, 2.9,  2.4,  2.3,  2.2],\n",
    "    'efficiency'  : [16.3, 10.2, 11.1, 7.1, 12.1, 13.2, 14.2]\n",
    "})\n",
    "\n",
    "print(df_P)"
   ]
  },
  {
   "cell_type": "markdown",
   "id": "3fabe6db-3f64-430e-9056-2f288499d27a",
   "metadata": {},
   "source": [
    "1) 이 데이터 프레임의 `name`열을 인덱스롤 만들어라.\n",
    "```\n",
    "      horse power  weight  efficiency\n",
    "name                                 \n",
    "A             130     1.9        16.3\n",
    "B             250     2.6        10.2\n",
    "C             190     2.2        11.1\n",
    "D             300     2.9         7.1\n",
    "E             210     2.4        12.1\n",
    "F             220     2.3        13.2\n",
    "G             170     2.2        14.2\n",
    "```"
   ]
  },
  {
   "cell_type": "code",
   "execution_count": 23,
   "id": "f33ceb51-fc8c-48af-ad06-f5d888fea5c6",
   "metadata": {},
   "outputs": [
    {
     "name": "stdout",
     "output_type": "stream",
     "text": [
      "      horse power  weight  efficiency\n",
      "name                                 \n",
      "A             130     1.9        16.3\n",
      "B             250     2.6        10.2\n",
      "C             190     2.2        11.1\n",
      "D             300     2.9         7.1\n",
      "E             210     2.4        12.1\n",
      "F             220     2.3        13.2\n",
      "G             170     2.2        14.2\n"
     ]
    }
   ],
   "source": [
    "# set_index() 메소드를 사용한다.\n",
    "df_P = df_P.set_index('name')\n",
    "print(df_P)"
   ]
  },
  {
   "cell_type": "markdown",
   "id": "63525436-a732-4d53-aab4-3bb7d5423f39",
   "metadata": {},
   "source": [
    "2) 가장 높은 마력을 가진 차종을 찾아서 중량과 연비를 확인해 보자\n",
    "\n",
    "```\n",
    "      horse power  weight  efficiency\n",
    "name                                 \n",
    "D             300     2.9         7.1\n",
    "```"
   ]
  },
  {
   "cell_type": "code",
   "execution_count": 26,
   "id": "9519b76a-97c1-48ab-a361-bbc0c091d209",
   "metadata": {},
   "outputs": [
    {
     "data": {
      "text/html": [
       "<div>\n",
       "<style scoped>\n",
       "    .dataframe tbody tr th:only-of-type {\n",
       "        vertical-align: middle;\n",
       "    }\n",
       "\n",
       "    .dataframe tbody tr th {\n",
       "        vertical-align: top;\n",
       "    }\n",
       "\n",
       "    .dataframe thead th {\n",
       "        text-align: right;\n",
       "    }\n",
       "</style>\n",
       "<table border=\"1\" class=\"dataframe\">\n",
       "  <thead>\n",
       "    <tr style=\"text-align: right;\">\n",
       "      <th></th>\n",
       "      <th>horse power</th>\n",
       "      <th>weight</th>\n",
       "      <th>efficiency</th>\n",
       "    </tr>\n",
       "    <tr>\n",
       "      <th>name</th>\n",
       "      <th></th>\n",
       "      <th></th>\n",
       "      <th></th>\n",
       "    </tr>\n",
       "  </thead>\n",
       "  <tbody>\n",
       "    <tr>\n",
       "      <th>D</th>\n",
       "      <td>300</td>\n",
       "      <td>2.9</td>\n",
       "      <td>7.1</td>\n",
       "    </tr>\n",
       "  </tbody>\n",
       "</table>\n",
       "</div>"
      ],
      "text/plain": [
       "      horse power  weight  efficiency\n",
       "name                                 \n",
       "D             300     2.9         7.1"
      ]
     },
     "execution_count": 26,
     "metadata": {},
     "output_type": "execute_result"
    }
   ],
   "source": [
    "# 논리 인덱싱\n",
    "df_P[df_P['horse power'] == df_P['horse power'].max()]"
   ]
  },
  {
   "cell_type": "markdown",
   "id": "6dfe1b79-8c22-43d1-857c-67b71f9f7745",
   "metadata": {},
   "source": [
    "3. 마력과 연비의 곱이 가장 큰 차종을 다음과 같이 찾아보자.\n",
    "```\n",
    "      horse power  weight  efficiency  hp x mile\n",
    "name                                            \n",
    "F             220     2.3        13.2     2904.0\n",
    "```"
   ]
  },
  {
   "cell_type": "code",
   "execution_count": 31,
   "id": "8f30f5cb-ecf5-4cec-a91c-b6c9f76a5041",
   "metadata": {},
   "outputs": [
    {
     "name": "stdout",
     "output_type": "stream",
     "text": [
      "      horse power  weight  efficiency  hp x mile\n",
      "name                                            \n",
      "A             130     1.9        16.3     2119.0\n",
      "B             250     2.6        10.2     2550.0\n",
      "C             190     2.2        11.1     2109.0\n",
      "D             300     2.9         7.1     2130.0\n",
      "E             210     2.4        12.1     2541.0\n",
      "F             220     2.3        13.2     2904.0\n",
      "G             170     2.2        14.2     2414.0\n",
      "      horse power  weight  efficiency  hp x mile\n",
      "name                                            \n",
      "F             220     2.3        13.2     2904.0\n"
     ]
    }
   ],
   "source": [
    "# 'hp x mile' 열을 만든다.\n",
    "df_P ['hp x mile'] = df_P['horse power'] * df_P['efficiency']\n",
    "print(df_P)\n",
    "# 'hp x mile' 중 최대 값을 찾아서 표시한다.\n",
    "print(df_P[df_P['hp x mile'] == df_P['hp x mile'].max()])"
   ]
  },
  {
   "cell_type": "code",
   "execution_count": null,
   "id": "dd198c89-ae56-4e81-a51f-65f9be9d3725",
   "metadata": {},
   "outputs": [],
   "source": []
  },
  {
   "cell_type": "markdown",
   "id": "ca3590d6-a5fa-4851-b69c-eebe793be1df",
   "metadata": {},
   "source": [
    "## 12.3 \n",
    "다음은 Q 자동차 회사의 차종별 마력, 총 중량 그리고 연비를 나타낸 표이다.\n",
    "\n",
    "```\n",
    "'name'        : ['A',   'B',  'C',  'D']\n",
    "'horse power' : [120,   220,  120,  200]\n",
    "'weight'      : [ 1.9,  2.1,  1.5,  2.9]\n",
    "'efficiency'  : [18.3, 19.2, 21.1, 17.3]\n",
    "```\n",
    "\n",
    "1) 데이터프레임으로 만들어라.\n",
    "```\n",
    "      horse power  weight  efficiency\n",
    "name                                 \n",
    "A             120     1.9        18.3\n",
    "B             220     2.1        19.2\n",
    "C             120     1.5        21.1\n",
    "D             200     2.9        17.3\n",
    "```"
   ]
  },
  {
   "cell_type": "code",
   "execution_count": 37,
   "id": "8692074e-bc2e-4d3e-bd62-63c6889c7bbe",
   "metadata": {},
   "outputs": [
    {
     "ename": "AttributeError",
     "evalue": "'dict' object has no attribute 'set_index'",
     "output_type": "error",
     "traceback": [
      "\u001b[0;31m---------------------------------------------------------------------------\u001b[0m",
      "\u001b[0;31mAttributeError\u001b[0m                            Traceback (most recent call last)",
      "Cell \u001b[0;32mIn[37], line 10\u001b[0m\n\u001b[1;32m      2\u001b[0m df_Q \u001b[38;5;241m=\u001b[39m ({\n\u001b[1;32m      3\u001b[0m     \u001b[38;5;124m'\u001b[39m\u001b[38;5;124mname\u001b[39m\u001b[38;5;124m'\u001b[39m        : [\u001b[38;5;124m'\u001b[39m\u001b[38;5;124mA\u001b[39m\u001b[38;5;124m'\u001b[39m,   \u001b[38;5;124m'\u001b[39m\u001b[38;5;124mB\u001b[39m\u001b[38;5;124m'\u001b[39m,  \u001b[38;5;124m'\u001b[39m\u001b[38;5;124mC\u001b[39m\u001b[38;5;124m'\u001b[39m,  \u001b[38;5;124m'\u001b[39m\u001b[38;5;124mD\u001b[39m\u001b[38;5;124m'\u001b[39m,  \u001b[38;5;124m'\u001b[39m\u001b[38;5;124mE\u001b[39m\u001b[38;5;124m'\u001b[39m,  \u001b[38;5;124m'\u001b[39m\u001b[38;5;124mF\u001b[39m\u001b[38;5;124m'\u001b[39m, \u001b[38;5;124m'\u001b[39m\u001b[38;5;124mG\u001b[39m\u001b[38;5;124m'\u001b[39m],\n\u001b[1;32m      4\u001b[0m     \u001b[38;5;124m'\u001b[39m\u001b[38;5;124mhorse power\u001b[39m\u001b[38;5;124m'\u001b[39m : [ \u001b[38;5;241m130\u001b[39m,  \u001b[38;5;241m250\u001b[39m,  \u001b[38;5;241m190\u001b[39m, \u001b[38;5;241m300\u001b[39m,  \u001b[38;5;241m210\u001b[39m,  \u001b[38;5;241m220\u001b[39m,  \u001b[38;5;241m170\u001b[39m],\n\u001b[1;32m      5\u001b[0m     \u001b[38;5;124m'\u001b[39m\u001b[38;5;124mweight\u001b[39m\u001b[38;5;124m'\u001b[39m      : [ \u001b[38;5;241m1.9\u001b[39m,  \u001b[38;5;241m2.6\u001b[39m,  \u001b[38;5;241m2.2\u001b[39m, \u001b[38;5;241m2.9\u001b[39m,  \u001b[38;5;241m2.4\u001b[39m,  \u001b[38;5;241m2.3\u001b[39m,  \u001b[38;5;241m2.2\u001b[39m],\n\u001b[1;32m      6\u001b[0m     \u001b[38;5;124m'\u001b[39m\u001b[38;5;124mefficiency\u001b[39m\u001b[38;5;124m'\u001b[39m  : [\u001b[38;5;241m16.3\u001b[39m, \u001b[38;5;241m10.2\u001b[39m, \u001b[38;5;241m11.1\u001b[39m, \u001b[38;5;241m7.1\u001b[39m, \u001b[38;5;241m12.1\u001b[39m, \u001b[38;5;241m13.2\u001b[39m, \u001b[38;5;241m14.2\u001b[39m]\n\u001b[1;32m      7\u001b[0m         })\n\u001b[1;32m      9\u001b[0m \u001b[38;5;66;03m# 인덱스를 'name`로 고치기\u001b[39;00m\n\u001b[0;32m---> 10\u001b[0m df_Q \u001b[38;5;241m=\u001b[39m df_Q\u001b[38;5;241m.\u001b[39mset_index(\u001b[38;5;124m'\u001b[39m\u001b[38;5;124mname\u001b[39m\u001b[38;5;124m'\u001b[39m)\n",
      "\u001b[0;31mAttributeError\u001b[0m: 'dict' object has no attribute 'set_index'"
     ]
    }
   ],
   "source": [
    "# 데이터 프레임 만들기\n",
    "df_Q = ({\n",
    "    'name'        : ['A',   'B',  'C',  'D',  'E',  'F', 'G'],\n",
    "    'horse power' : [ 130,  250,  190, 300,  210,  220,  170],\n",
    "    'weight'      : [ 1.9,  2.6,  2.2, 2.9,  2.4,  2.3,  2.2],\n",
    "    'efficiency'  : [16.3, 10.2, 11.1, 7.1, 12.1, 13.2, 14.2]\n",
    "        })\n",
    "\n",
    "# 인덱스를 'name`로 고치기\n",
    "df_Q = df_Q.set_index('name')\n",
    "\n",
    "\n",
    "# 인쇄하기\n",
    "print(df_Q)"
   ]
  },
  {
   "cell_type": "code",
   "execution_count": null,
   "id": "1d9c92c5-1417-4208-82bf-ff8cc6faa285",
   "metadata": {},
   "outputs": [],
   "source": []
  },
  {
   "cell_type": "markdown",
   "id": "52950e22-fa78-48a4-a453-7da44ff0746b",
   "metadata": {},
   "source": [
    "2) Q 사의 데이터와 P 사의 데이터를 합쳐서 하나로 만들어라.\n",
    "```\n",
    " horse power  weight  efficiency\n",
    "name                                 \n",
    "A             130     1.9        16.3\n",
    "B             250     2.6        10.2\n",
    "C             190     2.2        11.1\n",
    "D             300     2.9         7.1\n",
    "E             210     2.4        12.1\n",
    "F             220     2.3        13.2\n",
    "G             170     2.2        14.2\n",
    "A             120     1.9        18.3\n",
    "B             220     2.1        19.2\n",
    "C             120     1.5        21.1\n",
    "D             200     2.9        17.3\n",
    "```"
   ]
  },
  {
   "cell_type": "code",
   "execution_count": 39,
   "id": "df8b470b-fbe8-41f9-be21-c51304b99852",
   "metadata": {},
   "outputs": [
    {
     "name": "stdout",
     "output_type": "stream",
     "text": [
      "      horse power  weight  efficiency  hp x mile com\n",
      "name                                                \n",
      "A             130     1.9        16.3     2119.0   P\n",
      "B             250     2.6        10.2     2550.0   P\n",
      "C             190     2.2        11.1     2109.0   P\n",
      "D             300     2.9         7.1     2130.0   P\n",
      "E             210     2.4        12.1     2541.0   P\n",
      "F             220     2.3        13.2     2904.0   P\n",
      "G             170     2.2        14.2     2414.0   P\n"
     ]
    }
   ],
   "source": [
    "# concat() 메소드를 사용한다.\n",
    "df_PQ = pd.concat([df_P ])\n",
    "print(df_PQ)"
   ]
  },
  {
   "cell_type": "markdown",
   "id": "ea8e5e24-1bc8-4c4d-b3fe-08be9afc7542",
   "metadata": {},
   "source": [
    "3) 제조사를 알 수 있게 다음과 같이 데이터프레임을 만들어 보자,\n",
    "```\n",
    "      horse power  weight  efficiency com\n",
    "name                                     \n",
    "A             130     1.9        16.3   P\n",
    "B             250     2.6        10.2   P\n",
    "C             190     2.2        11.1   P\n",
    "D             300     2.9         7.1   P\n",
    "E             210     2.4        12.1   P\n",
    "F             220     2.3        13.2   P\n",
    "G             170     2.2        14.2   P\n",
    "A             120     1.9        18.3   Q\n",
    "B             220     2.1        19.2   Q\n",
    "C             120     1.5        21.1   Q\n",
    "D             200     2.9        17.3   Q\n",
    "```"
   ]
  },
  {
   "cell_type": "code",
   "execution_count": 40,
   "id": "623ded67-4340-434d-a55e-e7cfe3af12af",
   "metadata": {},
   "outputs": [
    {
     "ename": "TypeError",
     "evalue": "cannot concatenate object of type '<class 'dict'>'; only Series and DataFrame objs are valid",
     "output_type": "error",
     "traceback": [
      "\u001b[0;31m---------------------------------------------------------------------------\u001b[0m",
      "\u001b[0;31mTypeError\u001b[0m                                 Traceback (most recent call last)",
      "Cell \u001b[0;32mIn[40], line 5\u001b[0m\n\u001b[1;32m      3\u001b[0m df_Q[\u001b[38;5;124m'\u001b[39m\u001b[38;5;124mcom\u001b[39m\u001b[38;5;124m'\u001b[39m] \u001b[38;5;241m=\u001b[39m \u001b[38;5;124m'\u001b[39m\u001b[38;5;124mQ\u001b[39m\u001b[38;5;124m'\u001b[39m\n\u001b[1;32m      4\u001b[0m \u001b[38;5;66;03m# 두 데이터프레임을 합친다.\u001b[39;00m\n\u001b[0;32m----> 5\u001b[0m df_PQ \u001b[38;5;241m=\u001b[39m pd\u001b[38;5;241m.\u001b[39mconcat([df_P, df_Q])\n\u001b[1;32m      6\u001b[0m \u001b[38;5;28mprint\u001b[39m(df_PQ)\n",
      "File \u001b[0;32m/opt/anaconda3/lib/python3.11/site-packages/pandas/core/reshape/concat.py:380\u001b[0m, in \u001b[0;36mconcat\u001b[0;34m(objs, axis, join, ignore_index, keys, levels, names, verify_integrity, sort, copy)\u001b[0m\n\u001b[1;32m    377\u001b[0m \u001b[38;5;28;01melif\u001b[39;00m copy \u001b[38;5;129;01mand\u001b[39;00m using_copy_on_write():\n\u001b[1;32m    378\u001b[0m     copy \u001b[38;5;241m=\u001b[39m \u001b[38;5;28;01mFalse\u001b[39;00m\n\u001b[0;32m--> 380\u001b[0m op \u001b[38;5;241m=\u001b[39m _Concatenator(\n\u001b[1;32m    381\u001b[0m     objs,\n\u001b[1;32m    382\u001b[0m     axis\u001b[38;5;241m=\u001b[39maxis,\n\u001b[1;32m    383\u001b[0m     ignore_index\u001b[38;5;241m=\u001b[39mignore_index,\n\u001b[1;32m    384\u001b[0m     join\u001b[38;5;241m=\u001b[39mjoin,\n\u001b[1;32m    385\u001b[0m     keys\u001b[38;5;241m=\u001b[39mkeys,\n\u001b[1;32m    386\u001b[0m     levels\u001b[38;5;241m=\u001b[39mlevels,\n\u001b[1;32m    387\u001b[0m     names\u001b[38;5;241m=\u001b[39mnames,\n\u001b[1;32m    388\u001b[0m     verify_integrity\u001b[38;5;241m=\u001b[39mverify_integrity,\n\u001b[1;32m    389\u001b[0m     copy\u001b[38;5;241m=\u001b[39mcopy,\n\u001b[1;32m    390\u001b[0m     sort\u001b[38;5;241m=\u001b[39msort,\n\u001b[1;32m    391\u001b[0m )\n\u001b[1;32m    393\u001b[0m \u001b[38;5;28;01mreturn\u001b[39;00m op\u001b[38;5;241m.\u001b[39mget_result()\n",
      "File \u001b[0;32m/opt/anaconda3/lib/python3.11/site-packages/pandas/core/reshape/concat.py:446\u001b[0m, in \u001b[0;36m_Concatenator.__init__\u001b[0;34m(self, objs, axis, join, keys, levels, names, ignore_index, verify_integrity, copy, sort)\u001b[0m\n\u001b[1;32m    443\u001b[0m objs, keys \u001b[38;5;241m=\u001b[39m \u001b[38;5;28mself\u001b[39m\u001b[38;5;241m.\u001b[39m_clean_keys_and_objs(objs, keys)\n\u001b[1;32m    445\u001b[0m \u001b[38;5;66;03m# figure out what our result ndim is going to be\u001b[39;00m\n\u001b[0;32m--> 446\u001b[0m ndims \u001b[38;5;241m=\u001b[39m \u001b[38;5;28mself\u001b[39m\u001b[38;5;241m.\u001b[39m_get_ndims(objs)\n\u001b[1;32m    447\u001b[0m sample, objs \u001b[38;5;241m=\u001b[39m \u001b[38;5;28mself\u001b[39m\u001b[38;5;241m.\u001b[39m_get_sample_object(objs, ndims, keys, names, levels)\n\u001b[1;32m    449\u001b[0m \u001b[38;5;66;03m# Standardize axis parameter to int\u001b[39;00m\n",
      "File \u001b[0;32m/opt/anaconda3/lib/python3.11/site-packages/pandas/core/reshape/concat.py:487\u001b[0m, in \u001b[0;36m_Concatenator._get_ndims\u001b[0;34m(self, objs)\u001b[0m\n\u001b[1;32m    482\u001b[0m     \u001b[38;5;28;01mif\u001b[39;00m \u001b[38;5;129;01mnot\u001b[39;00m \u001b[38;5;28misinstance\u001b[39m(obj, (ABCSeries, ABCDataFrame)):\n\u001b[1;32m    483\u001b[0m         msg \u001b[38;5;241m=\u001b[39m (\n\u001b[1;32m    484\u001b[0m             \u001b[38;5;124mf\u001b[39m\u001b[38;5;124m\"\u001b[39m\u001b[38;5;124mcannot concatenate object of type \u001b[39m\u001b[38;5;124m'\u001b[39m\u001b[38;5;132;01m{\u001b[39;00m\u001b[38;5;28mtype\u001b[39m(obj)\u001b[38;5;132;01m}\u001b[39;00m\u001b[38;5;124m'\u001b[39m\u001b[38;5;124m; \u001b[39m\u001b[38;5;124m\"\u001b[39m\n\u001b[1;32m    485\u001b[0m             \u001b[38;5;124m\"\u001b[39m\u001b[38;5;124monly Series and DataFrame objs are valid\u001b[39m\u001b[38;5;124m\"\u001b[39m\n\u001b[1;32m    486\u001b[0m         )\n\u001b[0;32m--> 487\u001b[0m         \u001b[38;5;28;01mraise\u001b[39;00m \u001b[38;5;167;01mTypeError\u001b[39;00m(msg)\n\u001b[1;32m    489\u001b[0m     ndims\u001b[38;5;241m.\u001b[39madd(obj\u001b[38;5;241m.\u001b[39mndim)\n\u001b[1;32m    490\u001b[0m \u001b[38;5;28;01mreturn\u001b[39;00m ndims\n",
      "\u001b[0;31mTypeError\u001b[0m: cannot concatenate object of type '<class 'dict'>'; only Series and DataFrame objs are valid"
     ]
    }
   ],
   "source": [
    "# 각 회사 데이터에 회사 이름 열을 추가 한다.\n",
    "df_P['com'] = 'P'\n",
    "df_Q['com'] = 'Q'\n",
    "# 두 데이터프레임을 합친다.\n",
    "df_PQ = pd.concat([df_P, df_Q])\n",
    "print(df_PQ)"
   ]
  },
  {
   "cell_type": "markdown",
   "id": "0d933e29-925d-4959-b6cb-8beea7c49d8a",
   "metadata": {},
   "source": [
    "4) 두 회사 차랑을 비교 했을 때 마력x연비의 평균연비를 비교하라.\n",
    "```\n",
    "com\n",
    "P    2395.285714\n",
    "Q    3103.000000\n",
    "Name: hp x mile, dtype: float64\n",
    "```"
   ]
  },
  {
   "cell_type": "code",
   "execution_count": 43,
   "id": "173eb4f6-c1bf-4df1-9270-f02e269dd1c4",
   "metadata": {},
   "outputs": [
    {
     "ename": "NameError",
     "evalue": "name 'PQ' is not defined",
     "output_type": "error",
     "traceback": [
      "\u001b[0;31m---------------------------------------------------------------------------\u001b[0m",
      "\u001b[0;31mNameError\u001b[0m                                 Traceback (most recent call last)",
      "Cell \u001b[0;32mIn[43], line 5\u001b[0m\n\u001b[1;32m      2\u001b[0m df_PQ[\u001b[38;5;124m'\u001b[39m\u001b[38;5;124mhp x mile\u001b[39m\u001b[38;5;124m'\u001b[39m] \u001b[38;5;241m=\u001b[39m df_PQ[\u001b[38;5;124m'\u001b[39m\u001b[38;5;124mhorse power\u001b[39m\u001b[38;5;124m'\u001b[39m] \u001b[38;5;241m*\u001b[39m df_PQ[\u001b[38;5;124m'\u001b[39m\u001b[38;5;124mefficiency\u001b[39m\u001b[38;5;124m'\u001b[39m]\n\u001b[1;32m      3\u001b[0m \u001b[38;5;66;03m# 회사별로 데이터를 모은다 - groupby()\u001b[39;00m\n\u001b[1;32m      4\u001b[0m \u001b[38;5;66;03m# 평균을 구한다 - mean()\u001b[39;00m\n\u001b[0;32m----> 5\u001b[0m df_grouped \u001b[38;5;241m=\u001b[39m df\u001b[38;5;241m+\u001b[39mPQ\u001b[38;5;241m.\u001b[39mgroupby(\u001b[38;5;124m'\u001b[39m\u001b[38;5;124mcom\u001b[39m\u001b[38;5;124m'\u001b[39m)\n\u001b[1;32m      6\u001b[0m \u001b[38;5;28mprint\u001b[39m(df_grouped)\n",
      "\u001b[0;31mNameError\u001b[0m: name 'PQ' is not defined"
     ]
    }
   ],
   "source": [
    "# 합친 데이터프레임에 'hp x mile'열을 만든다.\n",
    "df_PQ['hp x mile'] = df_PQ['horse power'] * df_PQ['efficiency']\n",
    "# 회사별로 데이터를 모은다 - groupby()\n",
    "# 평균을 구한다 - mean()\n",
    "df_grouped = df_PQ.groupby('com')\n",
    "print(df_grouped.mean()['hp x mile'])"
   ]
  },
  {
   "cell_type": "code",
   "execution_count": 41,
   "id": "1ba2e40a-c96b-43ef-b3f5-a647dc5462c7",
   "metadata": {},
   "outputs": [
    {
     "ename": "NameError",
     "evalue": "name 'df_grouped' is not defined",
     "output_type": "error",
     "traceback": [
      "\u001b[0;31m---------------------------------------------------------------------------\u001b[0m",
      "\u001b[0;31mNameError\u001b[0m                                 Traceback (most recent call last)",
      "Cell \u001b[0;32mIn[41], line 1\u001b[0m\n\u001b[0;32m----> 1\u001b[0m \u001b[38;5;28;01mfor\u001b[39;00m df \u001b[38;5;129;01min\u001b[39;00m df_grouped:\n\u001b[1;32m      2\u001b[0m     prind(df)\n",
      "\u001b[0;31mNameError\u001b[0m: name 'df_grouped' is not defined"
     ]
    }
   ],
   "source": [
    "for df in df_grouped:\n",
    "    prind(df)"
   ]
  },
  {
   "cell_type": "code",
   "execution_count": null,
   "id": "d4a795a1-fb58-4bcb-93a8-1328d5697cac",
   "metadata": {},
   "outputs": [],
   "source": []
  }
 ],
 "metadata": {
  "kernelspec": {
   "display_name": "Python 3 (ipykernel)",
   "language": "python",
   "name": "python3"
  },
  "language_info": {
   "codemirror_mode": {
    "name": "ipython",
    "version": 3
   },
   "file_extension": ".py",
   "mimetype": "text/x-python",
   "name": "python",
   "nbconvert_exporter": "python",
   "pygments_lexer": "ipython3",
   "version": "3.11.7"
  }
 },
 "nbformat": 4,
 "nbformat_minor": 5
}
