{
 "cells": [
  {
   "cell_type": "markdown",
   "id": "291ea2c6-912e-4f01-94fb-078863beb2d8",
   "metadata": {},
   "source": [
    "# 05 여러 번 반복하는 일을 하자\n",
    "\n",
    "- 반복문의 필요성을 알아봅시다. \n",
    "- for 문과 조건식을 사용하여 반복적으로 명령을 실행시켜보도록 하자. \n",
    "- while 문과 반복 블록의 사용법을 익혀 봅시다. \n",
    "- for 문을 사용하여 정해진 횟수만큼 반복하는 방법을 학습해 봅시다.\n",
    "- 반복문을 사용하여 다양한 문제를 해결해 봅시다. \n",
    "- 많은 횟수의 동작을 수행하는 프로그램도 작성해 봅시다. \n",
    "- 오랫동안 동작하며 사용자와 상호작용하는 프로그램을 작성해 봅시다."
   ]
  },
  {
   "cell_type": "markdown",
   "id": "8d64ae15-f408-4f69-b059-cd831ea491a0",
   "metadata": {},
   "source": [
    "다"
   ]
  },
  {
   "cell_type": "markdown",
   "id": "9cc8462b-b433-4837-b2ec-a44a12ea15d5",
   "metadata": {},
   "source": [
    "## 5.1 왜 반복문이 중요한가\n",
    "\n",
    "- 프로그램이 간단하고 빠르게 된다.\n",
    "- 프로그래밍에 필요한 시간 단축\n",
    "- 반복적으로 수행하는 번거로운 작업을 손쉽게 해결"
   ]
  },
  {
   "cell_type": "code",
   "execution_count": 2,
   "id": "ff832c2c-f47c-431b-bd04-e3de5537cb02",
   "metadata": {},
   "outputs": [
    {
     "name": "stdout",
     "output_type": "stream",
     "text": [
      "순천대 방문을 환영합니다\n",
      "순천대 방문을 환영합니다\n",
      "순천대 방문을 환영합니다\n",
      "순천대 방문을 환영합니다\n",
      "순천대 방문을 환영합니다\n",
      "순천대 방문을 환영합니다\n"
     ]
    }
   ],
   "source": [
    "print(\"순천대 방문을 환영합니다\")\n",
    "print(\"순천대 방문을 환영합니다\")\n",
    "print(\"순천대 방문을 환영합니다\")\n",
    "print(\"순천대 방문을 환영합니다\")\n",
    "print(\"순천대 방문을 환영합니다\")\n",
    "print(\"순천대 방문을 환영합니다\")"
   ]
  },
  {
   "cell_type": "code",
   "execution_count": 1,
   "id": "6a66833b-f766-442f-bad5-40462012e2ca",
   "metadata": {},
   "outputs": [
    {
     "name": "stdout",
     "output_type": "stream",
     "text": [
      "순천대 방문을 환영합니다\n",
      "순천대 방문을 환영합니다\n",
      "순천대 방문을 환영합니다\n",
      "순천대 방문을 환영합니다\n",
      "순천대 방문을 환영합니다\n",
      "순천대 방문을 환영합니다\n",
      "순천대 방문을 환영합니다\n",
      "순천대 방문을 환영합니다\n",
      "순천대 방문을 환영합니다\n",
      "순천대 방문을 환영합니다\n"
     ]
    }
   ],
   "source": [
    "for i in range(10):\n",
    "    print(\"순천대 방문을 환영합니다\")"
   ]
  },
  {
   "cell_type": "markdown",
   "id": "406726a7-c49f-499d-bbd0-cb791b132fe3",
   "metadata": {},
   "source": [
    "### 반복의 종류\n",
    "\n",
    " 1. 횟수 제어 반복(for 문): 보통 횟수를 정해 놓고 반복한다.\r\n",
    " 2. 조건 제어 반복(while 문): 특정한 조건이 만족되면 계속 반복한다."
   ]
  },
  {
   "cell_type": "code",
   "execution_count": 2,
   "id": "20f82092-55ab-4326-b028-f17517b945c8",
   "metadata": {},
   "outputs": [
    {
     "name": "stdout",
     "output_type": "stream",
     "text": [
      "순천대 방문을 환영합니다\n",
      "순천대 방문을 환영합니다\n",
      "순천대 방문을 환영합니다\n",
      "순천대 방문을 환영합니다\n",
      "순천대 방문을 환영합니다\n",
      "순천대 방문을 환영합니다\n",
      "순천대 방문을 환영합니다\n",
      "순천대 방문을 환영합니다\n",
      "순천대 방문을 환영합니다\n",
      "순천대 방문을 환영합니다\n"
     ]
    }
   ],
   "source": [
    "i = 0\n",
    "while i < 10:\n",
    "    print(\"순천대 방문을 환영합니다\")\n",
    "    i += 1"
   ]
  },
  {
   "cell_type": "code",
   "execution_count": 5,
   "id": "2de1539c-7c98-4742-8f15-8c5b09a786aa",
   "metadata": {},
   "outputs": [
    {
     "data": {
      "text/plain": [
       "[1, 2, 3, 4]"
      ]
     },
     "execution_count": 5,
     "metadata": {},
     "output_type": "execute_result"
    }
   ],
   "source": [
    "[1,2,3,4]"
   ]
  },
  {
   "cell_type": "code",
   "execution_count": 6,
   "id": "afb7735a-62bc-43f9-99f9-d17fd39109f7",
   "metadata": {},
   "outputs": [
    {
     "data": {
      "text/plain": [
       "[3.5, 5.0, 2.0]"
      ]
     },
     "execution_count": 6,
     "metadata": {},
     "output_type": "execute_result"
    }
   ],
   "source": [
    "[3.5, 5.0, 2.]"
   ]
  },
  {
   "cell_type": "code",
   "execution_count": 7,
   "id": "ee20e7a7-7267-4241-b57d-bd6a44eb1248",
   "metadata": {},
   "outputs": [
    {
     "data": {
      "text/plain": [
       "['Lee', 'Park', 'cho']"
      ]
     },
     "execution_count": 7,
     "metadata": {},
     "output_type": "execute_result"
    }
   ],
   "source": [
    "name = ['Lee', 'Park','cho']\n",
    "name"
   ]
  },
  {
   "cell_type": "code",
   "execution_count": 8,
   "id": "f5086011-3385-480f-ba50-57a7b9df0390",
   "metadata": {},
   "outputs": [
    {
     "ename": "SyntaxError",
     "evalue": "invalid syntax (2911594099.py, line 1)",
     "output_type": "error",
     "traceback": [
      "\u001b[0;36m  Cell \u001b[0;32mIn[8], line 1\u001b[0;36m\u001b[0m\n\u001b[0;31m    my frofile = ['park', 'profsspr',170, 61.5]\u001b[0m\n\u001b[0m       ^\u001b[0m\n\u001b[0;31mSyntaxError\u001b[0m\u001b[0;31m:\u001b[0m invalid syntax\n"
     ]
    }
   ],
   "source": [
    "my frofile = ['park', 'profsspr',170, 61.5]\n"
   ]
  },
  {
   "cell_type": "markdown",
   "id": "0308846f-b6dc-42a4-a059-8cb6f13c5107",
   "metadata": {},
   "source": [
    "## 5.2 횟수를 정해 놓고 반복시키자\n",
    "\n",
    "```\n",
    "for variable in iterable:\n",
    "    statements\n",
    "    ...\n",
    "```"
   ]
  },
  {
   "cell_type": "code",
   "execution_count": 3,
   "id": "1d104551-f1bf-4010-a989-1c740437e6d5",
   "metadata": {},
   "outputs": [
    {
     "name": "stdout",
     "output_type": "stream",
     "text": [
      "i = 0\n",
      "i = 1\n",
      "i = 3\n",
      "i = 4\n",
      "i = 5\n"
     ]
    }
   ],
   "source": [
    "for i in [0, 1, 3, 4, 5]: # list\n",
    "    print('i =', i)"
   ]
  },
  {
   "cell_type": "code",
   "execution_count": 4,
   "id": "d1255af3-0db5-48c5-9dbf-7169a5245ab6",
   "metadata": {},
   "outputs": [
    {
     "name": "stdout",
     "output_type": "stream",
     "text": [
      "H,e,l,l,o,"
     ]
    }
   ],
   "source": [
    "for sp in 'Hello': # string\n",
    "    print(sp, end=',') # 인쇄하고 콤마 찍어줘"
   ]
  },
  {
   "cell_type": "code",
   "execution_count": 9,
   "id": "ccf06493-0095-4557-a007-896faedba5b0",
   "metadata": {},
   "outputs": [
    {
     "name": "stdout",
     "output_type": "stream",
     "text": [
      "순천대 방문을 환영합니다\n",
      "순천대 방문을 환영합니다\n",
      "순천대 방문을 환영합니다\n",
      "순천대 방문을 환영합니다\n",
      "순천대 방문을 환영합니다\n"
     ]
    }
   ],
   "source": [
    "for i in [0, 1, 3, 4, 5]: # list\n",
    "    print('순천대 방문을 환영합니다')"
   ]
  },
  {
   "cell_type": "markdown",
   "id": "7a12bf4b-27b2-48f3-b3fb-99ed4afa5496",
   "metadata": {},
   "source": [
    "**도전문제 5.3** 자신이 좋아하는 k-pop 그룹의 이름을 담은 리스트를 만들고 각 멤버의 일름을 출력하는 코드를 작성하자"
   ]
  },
  {
   "cell_type": "code",
   "execution_count": 17,
   "id": "f63af2b8-40a0-44d7-bd31-98c15d552f5c",
   "metadata": {},
   "outputs": [
    {
     "name": "stdout",
     "output_type": "stream",
     "text": [
      "알엠 님, 순천대 방문을 환영합니다\n",
      "뷔 님, 순천대 방문을 환영합니다\n",
      "정국 님, 순천대 방문을 환영합니다\n",
      "진 님, 순천대 방문을 환영합니다\n",
      "지민 님, 순천대 방문을 환영합니다\n",
      "슈가 님, 순천대 방문을 환영합니다\n"
     ]
    }
   ],
   "source": [
    "bts = ['알엠', '뷔', '정국', '진', '지민', '슈가']\n",
    "\n",
    "for name in bts:\n",
    "    print(name, '님, 순천대 방문을 환영합니다')"
   ]
  },
  {
   "cell_type": "code",
   "execution_count": null,
   "id": "26d9373f-63ed-4351-8520-8c61e3484cd8",
   "metadata": {},
   "outputs": [],
   "source": []
  },
  {
   "cell_type": "markdown",
   "id": "e42a1533-8df7-47a3-a3e2-f03f60e132e1",
   "metadata": {},
   "source": [
    "## 5.3 for 문과 찰떡 궁합인 range() 함수\n",
    "\n",
    "```\n",
    "range([start], end, [step])\n",
    "```"
   ]
  },
  {
   "cell_type": "code",
   "execution_count": 9,
   "id": "30ff2ee4-c496-49ec-8277-874fa3ec63f8",
   "metadata": {},
   "outputs": [
    {
     "data": {
      "text/plain": [
       "range(0, 5)"
      ]
     },
     "execution_count": 9,
     "metadata": {},
     "output_type": "execute_result"
    }
   ],
   "source": [
    "range(5)\n"
   ]
  },
  {
   "cell_type": "code",
   "execution_count": 10,
   "id": "11068c30-bdb9-4818-a4d5-df9c4a3ab676",
   "metadata": {},
   "outputs": [
    {
     "data": {
      "text/plain": [
       "range(0, 5)"
      ]
     },
     "execution_count": 10,
     "metadata": {},
     "output_type": "execute_result"
    }
   ],
   "source": [
    "range(0, 5, 1) # 0, 1, 2, 3, 4"
   ]
  },
  {
   "cell_type": "code",
   "execution_count": 12,
   "id": "9051f243-8a8b-4e05-829a-30b1b0a40a03",
   "metadata": {},
   "outputs": [
    {
     "data": {
      "text/plain": [
       "[0, 1, 2, 3, 4]"
      ]
     },
     "execution_count": 12,
     "metadata": {},
     "output_type": "execute_result"
    }
   ],
   "source": [
    "list(range(0, 5, 1))"
   ]
  },
  {
   "cell_type": "code",
   "execution_count": 13,
   "id": "f557e4ea-a082-4ce2-909d-693ac9a34304",
   "metadata": {},
   "outputs": [
    {
     "name": "stdout",
     "output_type": "stream",
     "text": [
      "i = 0\n",
      "i = 1\n",
      "i = 2\n",
      "i = 3\n",
      "i = 4\n"
     ]
    }
   ],
   "source": [
    "for i in range(5): # range\n",
    "    print('i =', i)"
   ]
  },
  {
   "cell_type": "code",
   "execution_count": 19,
   "id": "c8b11a11-89de-459d-ab21-afb473bee315",
   "metadata": {},
   "outputs": [
    {
     "name": "stdout",
     "output_type": "stream",
     "text": [
      "알엠 순천대 방문을 환영합니다\n",
      "뷔 순천대 방문을 환영합니다\n",
      "정국 순천대 방문을 환영합니다\n",
      "진 순천대 방문을 환영합니다\n",
      "지민 순천대 방문을 환영합니다\n",
      "슈가 순천대 방문을 환영합니다\n"
     ]
    }
   ],
   "source": [
    "bts = ['알엠', '뷔', '정국', '진', '지민', '슈가']\n",
    "#          0     1      2     3      4       5\n",
    "\n",
    "for i in range(6): # range\n",
    "    print(bts[i], '순천대 방문을 환영합니다')"
   ]
  },
  {
   "cell_type": "code",
   "execution_count": 20,
   "id": "7c0596d9-1b59-47aa-a8ec-b1e115224ff9",
   "metadata": {},
   "outputs": [
    {
     "name": "stdout",
     "output_type": "stream",
     "text": [
      "뷔 순천대 방문을 환영합니다\n",
      "진 순천대 방문을 환영합니다\n",
      "슈가 순천대 방문을 환영합니다\n"
     ]
    }
   ],
   "source": [
    "for i in range(1, 6, 2): # range\n",
    "    print(bts[i], '순천대 방문을 환영합니다')"
   ]
  },
  {
   "cell_type": "markdown",
   "id": "92f3c15b-92c9-47ac-be6a-ad4fe1232a33",
   "metadata": {},
   "source": [
    "### range() 함수는 숫자를 생산하는 공장이다."
   ]
  },
  {
   "cell_type": "code",
   "execution_count": 23,
   "id": "ee6af198-fead-41d4-8e53-ed66d4625fe7",
   "metadata": {},
   "outputs": [
    {
     "name": "stdout",
     "output_type": "stream",
     "text": [
      "0, 2, 4, 6, 8, "
     ]
    }
   ],
   "source": [
    "for i in range(0, 10, 2):\n",
    "    print(i, end=', ')"
   ]
  },
  {
   "cell_type": "code",
   "execution_count": 11,
   "id": "86a03dbe-db60-4bf0-b096-8c8f50f9c18c",
   "metadata": {},
   "outputs": [
    {
     "name": "stdout",
     "output_type": "stream",
     "text": [
      "10, 9, 8, 7, 6, 5, 4, 3, 2, 1, "
     ]
    }
   ],
   "source": [
    "for i in range(10, 0, -1):\n",
    "    print(i, end=', ')"
   ]
  },
  {
   "cell_type": "code",
   "execution_count": 25,
   "id": "417e2589-5050-4ab6-a684-82b98bad2b08",
   "metadata": {},
   "outputs": [
    {
     "name": "stdout",
     "output_type": "stream",
     "text": [
      "10, 8, 6, 4, 2, 0, -2, -4, -6, -8, "
     ]
    }
   ],
   "source": [
    "for i in range(10, -10, -2):\n",
    "    print(i, end=', ')"
   ]
  },
  {
   "attachments": {},
   "cell_type": "markdown",
   "id": "979efdc6-3dc1-47b9-beb8-c4718636ad55",
   "metadata": {},
   "source": [
    "Lab 5-1: 터틀 그래픽으로 여러개의 원을 그려보자\n",
    "\n",
    "![image.png](fig1.png)"
   ]
  },
  {
   "cell_type": "markdown",
   "id": "8e5b21c4-c626-4bec-8858-5fcf03731604",
   "metadata": {},
   "source": [
    "**LAB5-2** 반복을 사용하여 도형을 그리자.\n",
    "\n",
    "삼각형, 사각형, n-각형"
   ]
  },
  {
   "cell_type": "code",
   "execution_count": 17,
   "id": "b7ca0e31-d099-4d3a-bf5a-1895f13f5388",
   "metadata": {},
   "outputs": [],
   "source": [
    "import turtle\n",
    "t = turtle.Turtle()\n",
    "\n",
    "n =  5\n",
    "angle = 360 / 5\n",
    "\n",
    "for i in range(n):\n",
    "    t.forward(100)\n",
    "    t.right(angle)\n",
    "\n",
    "t.right(36)\n",
    "t.pencolor('red')\n",
    "for i in range(n):\n",
    "    t.forward(161.8)\n",
    "    t.left(144)\n",
    "\n",
    "\n",
    "\n",
    "\n",
    "\n",
    "turtle.done()"
   ]
  },
  {
   "cell_type": "code",
   "execution_count": 2,
   "id": "ba81b409-8cbc-4a0d-800e-e52d9d6b072c",
   "metadata": {},
   "outputs": [
    {
     "data": {
      "text/plain": [
       "225.0"
      ]
     },
     "execution_count": 2,
     "metadata": {},
     "output_type": "execute_result"
    }
   ],
   "source": [
    "(1 + (5**1/2) / 2) * 100"
   ]
  },
  {
   "cell_type": "code",
   "execution_count": null,
   "id": "b29e4f5e-93fb-48b8-8ecc-f76c037a153f",
   "metadata": {},
   "outputs": [],
   "source": [
    "turtle.done()"
   ]
  },
  {
   "cell_type": "markdown",
   "id": "003e7d8d-c74d-4a94-a730-4e69e1af7d58",
   "metadata": {},
   "source": [
    "**LAB5-4** 반복을 이용하여 팩토리얼을 계산하기"
   ]
  },
  {
   "cell_type": "code",
   "execution_count": 36,
   "id": "1561bde2-d677-47be-a596-08091b19ee65",
   "metadata": {},
   "outputs": [
    {
     "data": {
      "text/plain": [
       "6"
      ]
     },
     "execution_count": 36,
     "metadata": {},
     "output_type": "execute_result"
    }
   ],
   "source": [
    "n = 3\n",
    "\n"
   ]
  },
  {
   "cell_type": "markdown",
   "id": "0584fec5-bbf4-48b4-b029-733e1d675732",
   "metadata": {},
   "source": [
    "## 5.4 조건에 따라 반복해서 실행하는 while 문\n",
    "\n",
    "```\n",
    "while 조건식:\n",
    "    문장\n",
    "    ...\n",
    "```"
   ]
  },
  {
   "cell_type": "code",
   "execution_count": 4,
   "id": "735404fb-2849-4fa5-8ea2-76d85ae32080",
   "metadata": {},
   "outputs": [
    {
     "name": "stdin",
     "output_type": "stream",
     "text": [
      "암호를 입력하세요: 1111\n",
      "암호를 입력하세요: 1111\n",
      "암호를 입력하세요: 1111\n",
      "암호를 입력하세요: 1\n",
      "암호를 입력하세요: 1\n",
      "암호를 입력하세요: 1\n",
      "암호를 입력하세요: 1\n",
      "암호를 입력하세요: 1\n",
      "암호를 입력하세요: 1\n",
      "암호를 입력하세요: 1\n",
      "암호를 입력하세요: 1\n",
      "암호를 입력하세요: 1234\n"
     ]
    },
    {
     "name": "stdout",
     "output_type": "stream",
     "text": [
      "암호가 올바르네요\n"
     ]
    }
   ],
   "source": [
    "true_passwd = '1234'\n",
    "passwd = \"\"\n",
    "while true_passwd != passwd:\n",
    "    passwd = input('암호를 입력하세요:')\n",
    "\n",
    "print(\"암호가 올바르네요\")\n"
   ]
  },
  {
   "cell_type": "markdown",
   "id": "7fa68e0f-489d-4ab7-b06d-2171774ea412",
   "metadata": {},
   "source": [
    "- while 반복문을 사용해서 1에서 10까지 더하는 코드를 작성하세요"
   ]
  },
  {
   "cell_type": "code",
   "execution_count": null,
   "id": "8213331b-93f3-48fe-bf00-fd44b9cb6674",
   "metadata": {},
   "outputs": [],
   "source": [
    "sum = 0 \n",
    "i = 1\n",
    "while i <= 10:\n",
    "    \n",
    "    sum += i\n",
    "    print(i, sum)\n",
    "    i += 1\n",
    "\n",
    "print(sum)"
   ]
  },
  {
   "cell_type": "markdown",
   "id": "8a8f690a-2862-420a-8b23-2ad89cdb5405",
   "metadata": {},
   "source": [
    "- while 반복문을 이용하여 터틀 그래픽으로 사각형을 그려보세요"
   ]
  },
  {
   "cell_type": "code",
   "execution_count": null,
   "id": "5e84cc49-b1eb-40cb-b71e-13c6737b13d5",
   "metadata": {},
   "outputs": [],
   "source": []
  },
  {
   "cell_type": "markdown",
   "id": "6c0c3bdf-2d57-4606-9cfb-1e806b01a227",
   "metadata": {},
   "source": [
    "- 사용자에게 원하는 단을 입력 받아서 구구단을 구하는 코드를 작성해 보세요."
   ]
  },
  {
   "cell_type": "code",
   "execution_count": null,
   "id": "21853e12-e853-4b70-81a0-b6c4bd0bed5d",
   "metadata": {},
   "outputs": [],
   "source": []
  },
  {
   "cell_type": "markdown",
   "id": "b313664a-2e63-4219-ba6f-7487eefe9c66",
   "metadata": {},
   "source": [
    "- 터틀 그래픽을 이용하여 별을 그려봅시다."
   ]
  },
  {
   "cell_type": "code",
   "execution_count": null,
   "id": "86509e5b-6070-416a-8f4f-8fdcd81c4897",
   "metadata": {},
   "outputs": [],
   "source": []
  },
  {
   "cell_type": "markdown",
   "id": "24b9f0a9-de88-4fc8-8105-58724a6f0846",
   "metadata": {},
   "source": [
    "- 스무고개 코드를 작성해 봅시다. 컴퓨터가 생성한 100 미만의 수를 알아 맟춰 봅시다. 사용자가 예측한 값이 생성한 수보다 작으면 \"작다\", 크면 \"크다\" 라고 힌트를 주고, 맞추면 끝내는 것이다. 몇 번을 시도하고 맞추는지도 알아보자."
   ]
  },
  {
   "cell_type": "code",
   "execution_count": null,
   "id": "ccbbf23f-a854-4d82-a47a-c3506269d87f",
   "metadata": {},
   "outputs": [],
   "source": []
  },
  {
   "cell_type": "markdown",
   "id": "7dbdbad0-d2a8-4a09-9cbb-160c36717508",
   "metadata": {},
   "source": [
    "- 덧셈 연습 코드를 작성해 봅시다. 컴퓨터가 두개의 100 미만 수를 만들어서 문제를 내고 사용자가 맟추는 것입니다.\n",
    "  ```\n",
    "  55 + 66 =\n",
    "  ```"
   ]
  },
  {
   "cell_type": "code",
   "execution_count": 9,
   "id": "3bb33285-6783-4f2a-ae0e-de494f4d50de",
   "metadata": {},
   "outputs": [
    {
     "name": "stdout",
     "output_type": "stream",
     "text": [
      "57 + 52 =\n"
     ]
    },
    {
     "name": "stdin",
     "output_type": "stream",
     "text": [
      "합을 구하세요:  33\n"
     ]
    },
    {
     "name": "stdout",
     "output_type": "stream",
     "text": [
      "답은  109 조금더 노력하세요\n",
      "32 + 3 =\n"
     ]
    },
    {
     "name": "stdin",
     "output_type": "stream",
     "text": [
      "합을 구하세요:  33\n"
     ]
    },
    {
     "name": "stdout",
     "output_type": "stream",
     "text": [
      "답은  35 조금더 노력하세요\n",
      "38 + 37 =\n"
     ]
    },
    {
     "name": "stdin",
     "output_type": "stream",
     "text": [
      "합을 구하세요:  33\n"
     ]
    },
    {
     "name": "stdout",
     "output_type": "stream",
     "text": [
      "답은  75 조금더 노력하세요\n",
      "18 + 33 =\n"
     ]
    },
    {
     "ename": "KeyboardInterrupt",
     "evalue": "Interrupted by user",
     "output_type": "error",
     "traceback": [
      "\u001b[0;31m---------------------------------------------------------------------------\u001b[0m",
      "\u001b[0;31mKeyboardInterrupt\u001b[0m                         Traceback (most recent call last)",
      "Cell \u001b[0;32mIn[9], line 6\u001b[0m\n\u001b[1;32m      4\u001b[0m n1, n2 \u001b[38;5;241m=\u001b[39m random\u001b[38;5;241m.\u001b[39mrandrange(\u001b[38;5;241m100\u001b[39m), random\u001b[38;5;241m.\u001b[39mrandrange(\u001b[38;5;241m100\u001b[39m)\n\u001b[1;32m      5\u001b[0m \u001b[38;5;28mprint\u001b[39m(n1, \u001b[38;5;124m'\u001b[39m\u001b[38;5;124m+\u001b[39m\u001b[38;5;124m'\u001b[39m, n2, \u001b[38;5;124m'\u001b[39m\u001b[38;5;124m=\u001b[39m\u001b[38;5;124m'\u001b[39m)\n\u001b[0;32m----> 6\u001b[0m \u001b[38;5;28msum\u001b[39m \u001b[38;5;241m=\u001b[39m \u001b[38;5;28mint\u001b[39m(\u001b[38;5;28minput\u001b[39m(\u001b[38;5;124m\"\u001b[39m\u001b[38;5;124m합을 구하세요: \u001b[39m\u001b[38;5;124m\"\u001b[39m))\n\u001b[1;32m      7\u001b[0m \u001b[38;5;28;01mif\u001b[39;00m n1 \u001b[38;5;241m+\u001b[39m n2 \u001b[38;5;241m==\u001b[39m \u001b[38;5;28msum\u001b[39m:\n\u001b[1;32m      8\u001b[0m     \u001b[38;5;28mprint\u001b[39m(\u001b[38;5;124m\"\u001b[39m\u001b[38;5;124m참 잘했어요\u001b[39m\u001b[38;5;124m\"\u001b[39m)\n",
      "File \u001b[0;32m/opt/anaconda3/lib/python3.11/site-packages/ipykernel/kernelbase.py:1262\u001b[0m, in \u001b[0;36mKernel.raw_input\u001b[0;34m(self, prompt)\u001b[0m\n\u001b[1;32m   1260\u001b[0m     msg \u001b[38;5;241m=\u001b[39m \u001b[38;5;124m\"\u001b[39m\u001b[38;5;124mraw_input was called, but this frontend does not support input requests.\u001b[39m\u001b[38;5;124m\"\u001b[39m\n\u001b[1;32m   1261\u001b[0m     \u001b[38;5;28;01mraise\u001b[39;00m StdinNotImplementedError(msg)\n\u001b[0;32m-> 1262\u001b[0m \u001b[38;5;28;01mreturn\u001b[39;00m \u001b[38;5;28mself\u001b[39m\u001b[38;5;241m.\u001b[39m_input_request(\n\u001b[1;32m   1263\u001b[0m     \u001b[38;5;28mstr\u001b[39m(prompt),\n\u001b[1;32m   1264\u001b[0m     \u001b[38;5;28mself\u001b[39m\u001b[38;5;241m.\u001b[39m_parent_ident[\u001b[38;5;124m\"\u001b[39m\u001b[38;5;124mshell\u001b[39m\u001b[38;5;124m\"\u001b[39m],\n\u001b[1;32m   1265\u001b[0m     \u001b[38;5;28mself\u001b[39m\u001b[38;5;241m.\u001b[39mget_parent(\u001b[38;5;124m\"\u001b[39m\u001b[38;5;124mshell\u001b[39m\u001b[38;5;124m\"\u001b[39m),\n\u001b[1;32m   1266\u001b[0m     password\u001b[38;5;241m=\u001b[39m\u001b[38;5;28;01mFalse\u001b[39;00m,\n\u001b[1;32m   1267\u001b[0m )\n",
      "File \u001b[0;32m/opt/anaconda3/lib/python3.11/site-packages/ipykernel/kernelbase.py:1305\u001b[0m, in \u001b[0;36mKernel._input_request\u001b[0;34m(self, prompt, ident, parent, password)\u001b[0m\n\u001b[1;32m   1302\u001b[0m \u001b[38;5;28;01mexcept\u001b[39;00m \u001b[38;5;167;01mKeyboardInterrupt\u001b[39;00m:\n\u001b[1;32m   1303\u001b[0m     \u001b[38;5;66;03m# re-raise KeyboardInterrupt, to truncate traceback\u001b[39;00m\n\u001b[1;32m   1304\u001b[0m     msg \u001b[38;5;241m=\u001b[39m \u001b[38;5;124m\"\u001b[39m\u001b[38;5;124mInterrupted by user\u001b[39m\u001b[38;5;124m\"\u001b[39m\n\u001b[0;32m-> 1305\u001b[0m     \u001b[38;5;28;01mraise\u001b[39;00m \u001b[38;5;167;01mKeyboardInterrupt\u001b[39;00m(msg) \u001b[38;5;28;01mfrom\u001b[39;00m \u001b[38;5;28;01mNone\u001b[39;00m\n\u001b[1;32m   1306\u001b[0m \u001b[38;5;28;01mexcept\u001b[39;00m \u001b[38;5;167;01mException\u001b[39;00m:\n\u001b[1;32m   1307\u001b[0m     \u001b[38;5;28mself\u001b[39m\u001b[38;5;241m.\u001b[39mlog\u001b[38;5;241m.\u001b[39mwarning(\u001b[38;5;124m\"\u001b[39m\u001b[38;5;124mInvalid Message:\u001b[39m\u001b[38;5;124m\"\u001b[39m, exc_info\u001b[38;5;241m=\u001b[39m\u001b[38;5;28;01mTrue\u001b[39;00m)\n",
      "\u001b[0;31mKeyboardInterrupt\u001b[0m: Interrupted by user"
     ]
    }
   ],
   "source": [
    "import random\n",
    "\n",
    "while True:\n",
    "    n1, n2 = random.randrange(100), random.randrange(100)\n",
    "    print(n1, '+', n2, '=')\n",
    "    sum = int(input(\"합을 구하세요: \"))\n",
    "    if n1 + n2 == sum:\n",
    "        print(\"참 잘했어요\")\n",
    "    else:\n",
    "        print(\"답은 \", n1 + n2, \"조금더 노력하세요\")"
   ]
  },
  {
   "cell_type": "markdown",
   "id": "550cb543-98d8-4ab6-99b2-6f327684f514",
   "metadata": {},
   "source": [
    "## 5.6 무한 루프와 break로 빠져나가기"
   ]
  },
  {
   "cell_type": "code",
   "execution_count": 13,
   "id": "fdebae6e-0591-4d13-ac37-1cd35208c038",
   "metadata": {},
   "outputs": [
    {
     "name": "stdout",
     "output_type": "stream",
     "text": [
      "3 + 24 =\n"
     ]
    },
    {
     "name": "stdin",
     "output_type": "stream",
     "text": [
      "합을 구하세요:  27\n"
     ]
    },
    {
     "name": "stdout",
     "output_type": "stream",
     "text": [
      "참 잘했어요\n",
      "41 + 58 =\n"
     ]
    },
    {
     "name": "stdin",
     "output_type": "stream",
     "text": [
      "합을 구하세요:  99\n"
     ]
    },
    {
     "name": "stdout",
     "output_type": "stream",
     "text": [
      "참 잘했어요\n",
      "74 + 81 =\n"
     ]
    },
    {
     "name": "stdin",
     "output_type": "stream",
     "text": [
      "합을 구하세요:  999\n"
     ]
    }
   ],
   "source": [
    "import random\n",
    "\n",
    "while True:\n",
    "    n1, n2 = random.randrange(100), random.randrange(100)\n",
    "    print(n1, '+', n2, '=')\n",
    "    sum = input(\"합을 구하세요: \")\n",
    "    if sum == '00':\n",
    "        print(\"덧셈 연습 끝\")\n",
    "        break\n",
    "    sum = int(sum)\n",
    "    if sum == 999:\n",
    "        break\n",
    "    if n1 + n2 == sum:\n",
    "        print(\"참 잘했어요\")\n",
    "    else:\n",
    "        print(\"답은 \", n1 + n2, \"조금더 노력하세요\")\n",
    "        "
   ]
  },
  {
   "cell_type": "markdown",
   "id": "a752edfe-9d4d-4ec9-9e2d-b14ed26b689d",
   "metadata": {},
   "source": [
    "**도전문제 5.11** 'programming'에서 'o'이전 문자인 'pr'만 출력하라."
   ]
  },
  {
   "cell_type": "code",
   "execution_count": 16,
   "id": "6eff3241-c991-49ad-afcc-6ada267b8fe5",
   "metadata": {},
   "outputs": [
    {
     "name": "stdout",
     "output_type": "stream",
     "text": [
      "prgrmmng"
     ]
    }
   ],
   "source": [
    "for ch in 'programming':\n",
    "    if ch in 'aeiou':\n",
    "        pass                   ## pass\n",
    "    else:\n",
    "        print (ch, end='')"
   ]
  },
  {
   "cell_type": "code",
   "execution_count": 17,
   "id": "a6cde3f9-0f65-4855-97fa-a8f5e6f2a188",
   "metadata": {},
   "outputs": [
    {
     "name": "stdout",
     "output_type": "stream",
     "text": [
      "prgrmmng"
     ]
    }
   ],
   "source": [
    "for ch in 'programming':\n",
    "    if ch in 'aeiou':\n",
    "        continue               ## continue\n",
    "    print (ch, end='')"
   ]
  },
  {
   "cell_type": "code",
   "execution_count": 1,
   "id": "c5b4d45f-e3cc-4185-97a8-e34eed30555f",
   "metadata": {},
   "outputs": [
    {
     "name": "stdout",
     "output_type": "stream",
     "text": [
      "pr"
     ]
    }
   ],
   "source": [
    "for ch in 'programming':\n",
    "    if ch == 'o':\n",
    "        break                  ## break\n",
    "    print(ch, end='')"
   ]
  },
  {
   "attachments": {},
   "cell_type": "markdown",
   "id": "ed6b1376-438c-46b8-ad13-13a4b91b064b",
   "metadata": {},
   "source": [
    "### 루프를 제어하는 고급 기법 : continue와 break\n",
    "\n",
    "![image.png](fig2.png)"
   ]
  },
  {
   "cell_type": "markdown",
   "id": "f175357b-3ff3-41be-81d9-c75bb1fa083f",
   "metadata": {},
   "source": [
    "'I love Python Programming'에서 자음만 출력하도록 해보자.\n",
    "- 모음: a e i o u A E I O U"
   ]
  },
  {
   "cell_type": "markdown",
   "id": "419285cc-6166-4b56-b011-3024a2117de9",
   "metadata": {},
   "source": [
    "## 5.7 출력을 예쁘게 만드는 포매팅\n",
    "\n",
    "- 플레이스홀더를 \n",
    "이용하여 원하는 문자나 숫자를 적절한 포맷으로 출력"
   ]
  },
  {
   "cell_type": "code",
   "execution_count": 18,
   "id": "822d8189-7463-4d31-9f5e-8db6773120c4",
   "metadata": {},
   "outputs": [
    {
     "data": {
      "text/plain": [
       "'I love python'"
      ]
     },
     "execution_count": 18,
     "metadata": {},
     "output_type": "execute_result"
    }
   ],
   "source": [
    "string = \"I love {}\".format('python')\n",
    "string"
   ]
  },
  {
   "cell_type": "code",
   "execution_count": 19,
   "id": "9141329c-0c05-42d6-ba9c-b07efe6a7c3a",
   "metadata": {},
   "outputs": [
    {
     "data": {
      "text/plain": [
       "'I love python'"
      ]
     },
     "execution_count": 19,
     "metadata": {},
     "output_type": "execute_result"
    }
   ],
   "source": [
    "lang = 'python'\n",
    "string = \"I love {}\".format(lang)\n",
    "string\n"
   ]
  },
  {
   "cell_type": "code",
   "execution_count": 20,
   "id": "2d6994e2-bde3-4693-b668-ab56b60e8bf2",
   "metadata": {},
   "outputs": [
    {
     "ename": "SyntaxError",
     "evalue": "'[' was never closed (961337468.py, line 1)",
     "output_type": "error",
     "traceback": [
      "\u001b[0;36m  Cell \u001b[0;32mIn[20], line 1\u001b[0;36m\u001b[0m\n\u001b[0;31m    my_favorate = ['Python', 'C', 'Java', 'Javascript', 'Go', 'Swift'\u001b[0m\n\u001b[0m                  ^\u001b[0m\n\u001b[0;31mSyntaxError\u001b[0m\u001b[0;31m:\u001b[0m '[' was never closed\n"
     ]
    }
   ],
   "source": [
    "my_favorate = ['Python', 'C', 'Java', 'Javascript', 'Go', 'Swift'\n",
    "\n",
    "for lang1 in my_favorate:\n",
    "    for lang2 in my_favorate:\n",
    "        string = \"I love {1} and {0}\".format(lang1, lang2)\n",
    "        print(string)   "
   ]
  },
  {
   "cell_type": "code",
   "execution_count": 87,
   "id": "dac69eee-d6ab-4f52-a6e5-80ffe2318a66",
   "metadata": {},
   "outputs": [],
   "source": [
    "my_friends = ['동주', '명희', '봉길', '상덕']\n"
   ]
  },
  {
   "cell_type": "code",
   "execution_count": null,
   "id": "60601b37-388f-41c3-928d-0f658bf14f42",
   "metadata": {},
   "outputs": [],
   "source": []
  },
  {
   "cell_type": "markdown",
   "id": "adb24a67-7365-4fe4-ab03-0090abcd7a5c",
   "metadata": {},
   "source": [
    "### 숫자의 출력 포멧팅\n",
    "- 실수\n",
    "- 정수"
   ]
  },
  {
   "cell_type": "code",
   "execution_count": 61,
   "id": "91013a57-5ada-448c-9b9e-f8ca2f2f678b",
   "metadata": {},
   "outputs": [
    {
     "data": {
      "text/plain": [
       "3.141592653589793"
      ]
     },
     "execution_count": 61,
     "metadata": {},
     "output_type": "execute_result"
    }
   ],
   "source": [
    "import math\n",
    "pi = math.pi\n",
    "pi"
   ]
  },
  {
   "cell_type": "code",
   "execution_count": 21,
   "id": "deb118ce-ad18-4674-a444-5fdcac394b72",
   "metadata": {},
   "outputs": [
    {
     "data": {
      "text/plain": [
       "3.141592653589793"
      ]
     },
     "execution_count": 21,
     "metadata": {},
     "output_type": "execute_result"
    }
   ],
   "source": [
    "import math\n",
    "pi = math.pi\n",
    "pi"
   ]
  },
  {
   "cell_type": "code",
   "execution_count": 27,
   "id": "b9bd6e47-bae3-464c-8002-f618b4b1326f",
   "metadata": {},
   "outputs": [
    {
     "name": "stdout",
     "output_type": "stream",
     "text": [
      "pi = 3.14\n"
     ]
    }
   ],
   "source": [
    "print('pi = {:0.2f}'.format(pi))    ## 소수점 몇째 자리 까지"
   ]
  },
  {
   "cell_type": "code",
   "execution_count": 35,
   "id": "5592224d-1797-47ae-bf55-df302ddfbfe8",
   "metadata": {},
   "outputs": [
    {
     "name": "stdout",
     "output_type": "stream",
     "text": [
      "pi ** 0 =   1.000\n",
      "pi ** 1 =   3.142\n",
      "pi ** 2 =   9.870\n",
      "pi ** 3 =  31.006\n",
      "pi ** 4 =  97.409\n"
     ]
    }
   ],
   "source": [
    "for i in range(5):\n",
    "    print('pi ** {} = {:7.3f}'.format(i, pi ** i))"
   ]
  },
  {
   "cell_type": "code",
   "execution_count": 39,
   "id": "333ba14d-a115-48ce-b1bd-a74f2e8fe6d0",
   "metadata": {},
   "outputs": [
    {
     "name": "stdout",
     "output_type": "stream",
     "text": [
      "pi ** 0 =   1.000\n",
      "pi ** 1 =   3.142\n",
      "pi ** 2 =   9.870\n",
      "pi ** 3 =  31.006\n",
      "pi ** 4 =  97.409\n"
     ]
    }
   ],
   "source": [
    "for i in range(5):\n",
    "    print(f'pi ** {i} = {pi ** i:7.3f}')"
   ]
  },
  {
   "cell_type": "code",
   "execution_count": 40,
   "id": "91341a4b-c257-40a3-839d-85cf7e78ec05",
   "metadata": {},
   "outputs": [
    {
     "data": {
      "text/plain": [
       "'           123456789'"
      ]
     },
     "execution_count": 40,
     "metadata": {},
     "output_type": "execute_result"
    }
   ],
   "source": [
    "n = 123456789\n",
    "f'{n:20d}'"
   ]
  },
  {
   "cell_type": "markdown",
   "id": "4541e7d1-52e8-406a-8821-ea4f4e0e8c0d",
   "metadata": {},
   "source": [
    "- 구구단을 예쁘게 출력해 보자"
   ]
  },
  {
   "cell_type": "code",
   "execution_count": null,
   "id": "8419326e-d659-40a1-a9cc-62633333256e",
   "metadata": {},
   "outputs": [],
   "source": [
    "dan = int(input(\"몇 단?\"))\n",
    "\n",
    "for i in range( 1,10 ):\n",
    "    print( dan, '*', i, '=', dan * i)\n",
    "          "
   ]
  },
  {
   "cell_type": "code",
   "execution_count": null,
   "id": "37d1d67a-e4bc-4958-a9c7-5c776b474c7f",
   "metadata": {},
   "outputs": [],
   "source": [
    "dan = int(input(\"몇 단?\"))\n",
    "\n",
    "i = 1\n",
    "while i < 10:\n",
    "    print( dan, '*', i, '=', dan * i)\n",
    "    i += 1\n",
    "                "
   ]
  },
  {
   "cell_type": "code",
   "execution_count": null,
   "id": "e6058852-ed79-4981-8b9b-6edea9a73296",
   "metadata": {},
   "outputs": [],
   "source": [
    "import random\n",
    "print(\"1과 100 사이의 숫자를 맞추세요\")\n",
    "\n",
    "R = random.random(1,100)\n",
    "\n",
    "\n",
    "while R != X:\n",
    "    X = int(input(\"1 부터 100 사이 숫자 입력\"))\n",
    "    if R > X:\n",
    "        print(\"R이\", X, \"값보다 큽니다.\")\n",
    "\n",
    "    elif R < X:\n",
    "        print(\"R이\", X, \"값보다 작습니다.\")\n",
    "    else:\n",
    "        print('정답')\n"
   ]
  },
  {
   "cell_type": "code",
   "execution_count": null,
   "id": "18b6310d-a1d5-4b24-8a54-59a9975def6f",
   "metadata": {},
   "outputs": [],
   "source": [
    "import random\n",
    "\n"
   ]
  }
 ],
 "metadata": {
  "kernelspec": {
   "display_name": "Python 3 (ipykernel)",
   "language": "python",
   "name": "python3"
  },
  "language_info": {
   "codemirror_mode": {
    "name": "ipython",
    "version": 3
   },
   "file_extension": ".py",
   "mimetype": "text/x-python",
   "name": "python",
   "nbconvert_exporter": "python",
   "pygments_lexer": "ipython3",
   "version": "3.11.7"
  }
 },
 "nbformat": 4,
 "nbformat_minor": 5
}
