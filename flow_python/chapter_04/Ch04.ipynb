{
 "cells": [
  {
   "cell_type": "markdown",
   "id": "cee07456-936f-4eb0-8a14-8f3e866cf2d0",
   "metadata": {},
   "source": [
    "# 4장: 조건문\n",
    "\n",
    "- 순차적 실행이 아닌 조건에 따라 수행되는 제어문에 대하여 이해해 봅시다.\n",
    "- if-else 문을 이해하고 사용하는 방법을 익혀 봅시다. \n",
    "- 관계연산자와 논리연산자를 학습해 봅시다. \n",
    "- 블록의 개념을 이해하고 활용하는 방법을 익혀 봅시다. \n",
    "- 중첩 if-else 문을 학습해 봅시다. \n",
    "- 조건에 따라 다르게 동작하는 프로그램을 작성해 봅시다. \n",
    "- 좀 더 동적으로 동작하는 프로그램을 작성하는 방법을 익혀보자"
   ]
  },
  {
   "attachments": {},
   "cell_type": "markdown",
   "id": "c069f672-8a97-4fee-85c0-eb42a3254b96",
   "metadata": {},
   "source": [
    "## 4.1 프로그램의 기본 제어 구조\n",
    "\n",
    "- **순차 구조sequence** - 여러 명령이 순차적으로 실행되는 구조이다.\n",
    "- **선택 구조selection** - 여러 개 중 하나의 명령문을 선택하여 실행하는 구조이다.\n",
    "- **반복 구조iteration** - 동일한 명령이 반복되면서 실행되는 구조이다.\n",
    "\n",
    "![image.png](.\\figs\\fig1.png)"
   ]
  },
  {
   "cell_type": "markdown",
   "id": "6bce06ca-9695-4c05-ab9a-5764d4b9b366",
   "metadata": {},
   "source": [
    "## 4.2 조건이 맞을 때만 실행되는 if 문\n",
    "\n",
    "```\n",
    "if 조건식:\n",
    "    문장 1\n",
    "    문장 2\n",
    "    ...\n",
    "```\n",
    "\n",
    "**`:`과 들여쓰기에 주의하자**\n",
    "- **들여쓰기가 아주 중요한 파이썬 : 블록은 들여쓰기로 완성**"
   ]
  },
  {
   "cell_type": "code",
   "execution_count": 2,
   "id": "a1110cc8-73fa-4a26-8f90-1fa0f207153b",
   "metadata": {},
   "outputs": [
    {
     "name": "stdout",
     "output_type": "stream",
     "text": [
      "True\n"
     ]
    }
   ],
   "source": [
    "if True: \n",
    "    print(\"True\")"
   ]
  },
  {
   "cell_type": "code",
   "execution_count": 3,
   "id": "743507d0-47f7-4271-b0b1-d0729249b25b",
   "metadata": {},
   "outputs": [
    {
     "name": "stdout",
     "output_type": "stream",
     "text": [
      "True\n"
     ]
    }
   ],
   "source": [
    "if 5> 3: \n",
    "    print(\"True\")"
   ]
  },
  {
   "cell_type": "code",
   "execution_count": 4,
   "id": "386963ab-9c79-4a03-b9a1-a9e268b851e8",
   "metadata": {},
   "outputs": [
    {
     "name": "stdout",
     "output_type": "stream",
     "text": [
      "True\n"
     ]
    }
   ],
   "source": [
    "if 5> 3 and 5 * 7 < 100:\n",
    "    print(\"True\")"
   ]
  },
  {
   "cell_type": "code",
   "execution_count": 5,
   "id": "6cf8db60-1752-4c61-a2f8-1c6993c0da8f",
   "metadata": {},
   "outputs": [
    {
     "name": "stdout",
     "output_type": "stream",
     "text": [
      "True\n"
     ]
    }
   ],
   "source": [
    "if 100:\n",
    "    print(\"True\")"
   ]
  },
  {
   "cell_type": "code",
   "execution_count": 6,
   "id": "304db55a-d6c5-4ae0-ba93-16d24928b99c",
   "metadata": {},
   "outputs": [],
   "source": [
    "if 0:\n",
    "    print(\"True\")"
   ]
  },
  {
   "cell_type": "code",
   "execution_count": null,
   "id": "d1cf6db2-438b-47b1-8ddd-3cc6ac449a2e",
   "metadata": {},
   "outputs": [],
   "source": [
    "score = int(input(\"성적 입력하세요\"))\n",
    "\n",
    "if score > 80:\n",
    "    print(\"축하합니다. 합격입니다\")\n",
    "\n",
    "    print(\"장학생으로 선발되었습니다.\")\n",
    "\n",
    "    print(\"내일 ot가 있으니 꼭 참석해 주세요\")"
   ]
  },
  {
   "cell_type": "markdown",
   "id": "02e9d13c-f81d-4317-a4d8-492ca3113c16",
   "metadata": {},
   "source": [
    "- 성적이 80점 이상이면 합격과 동시에 장학금도 받을 수 있다고 출력하려면 어떻게 해야 \r\n",
    "할까?"
   ]
  },
  {
   "cell_type": "code",
   "execution_count": 37,
   "id": "cce932fa-98ed-4ccb-93aa-b8873e79ce4f",
   "metadata": {},
   "outputs": [
    {
     "name": "stdin",
     "output_type": "stream",
     "text": [
      "성적 입력하세요 96\n"
     ]
    },
    {
     "name": "stdout",
     "output_type": "stream",
     "text": [
      "축하합니다. 합격입니다\n",
      "장학생으로 선발되었습니다.\n",
      "내일 OT가 있으니 꼭 참석해 주세요\n"
     ]
    }
   ],
   "source": [
    "score = int(input(\"성적 입력하세요\"))\n",
    "\n",
    "if score > 80:\n",
    "    print(\"축하합니다. 합격입니다\")\n",
    "    print(\"장학생으로 선발되었습니다.\")\n",
    "    print(\"내일 OT가 있으니 꼭 참석해 주세요\")"
   ]
  },
  {
   "cell_type": "code",
   "execution_count": 10,
   "id": "fb4d3a32-c773-443a-b213-a85e784d8074",
   "metadata": {},
   "outputs": [
    {
     "name": "stdout",
     "output_type": "stream",
     "text": [
      "축하합니다. 합격입니다\n",
      "장학생으로 선발되었습니다.\n",
      "내일 OT가 있으니 꼭 참석해 주세요\n"
     ]
    }
   ],
   "source": [
    "score = 90\n",
    "if score > 80:\n",
    " print(\"축하합니다. 합격입니다\")\n",
    " print(\"장학생으로 선발되었습니다.\")\n",
    " print(\"내일 OT가 있으니 꼭 참석해 주세요\")"
   ]
  },
  {
   "cell_type": "code",
   "execution_count": 21,
   "id": "9c343db3-3803-4c46-ae25-4f76e41ad56f",
   "metadata": {},
   "outputs": [
    {
     "name": "stdin",
     "output_type": "stream",
     "text": [
      "수를 입력하시오. -9\n"
     ]
    },
    {
     "name": "stdout",
     "output_type": "stream",
     "text": [
      "9\n"
     ]
    }
   ],
   "source": [
    "X = int(input(\"수를 입력하시오.\"))\n",
    "\n",
    "if X < 0:\n",
    "    X *= -1\n",
    "    print(X)\n",
    "\n",
    "else:\n",
    "    print(X)\n",
    "\n",
    "        "
   ]
  },
  {
   "cell_type": "markdown",
   "id": "e5f18a28-c612-4160-8d70-9e6176279219",
   "metadata": {},
   "source": [
    "**도전문제 4.1**: 자동차 속도가 30km/h이면 \"과속입니다. 속도를 줄이세요\"라고 출력하라"
   ]
  },
  {
   "cell_type": "markdown",
   "id": "58edfc33-4877-4f34-8e44-50bf86ce3ea7",
   "metadata": {},
   "source": [
    "## 4.3 배타적 조건에 따라 실행하는 if-else 문\n",
    "```\n",
    "if 조건식:\n",
    "    조건식이 만족할 때 실행할 문장 \n",
    "    ...\n",
    "else:\n",
    "    조건식이 만족하지 않을 때 실행할 문장\n",
    "    ...\n"
   ]
  },
  {
   "cell_type": "markdown",
   "id": "e915d0e7-0691-4046-9458-8fb165094822",
   "metadata": {},
   "source": [
    "-  24시 체계의 시간정보를 입력 받아 12보다 작으면 '오전입니다.' 12이상이면 '오후입니다.'를 출력."
   ]
  },
  {
   "cell_type": "code",
   "execution_count": null,
   "id": "7aca18e1-d864-4e49-a0b3-2f4a7db22411",
   "metadata": {},
   "outputs": [],
   "source": []
  },
  {
   "cell_type": "markdown",
   "id": "70a881b2-b138-4080-b3de-d7665b93a168",
   "metadata": {},
   "source": [
    "**도전문제 4.2**: 자동차 속도가 30km/h이면 \"과속입니다. 속도를 줄이세요\"라고 출력하고 그렇지 않으면 \"안전운전 하세요\"라고 출력하라."
   ]
  },
  {
   "cell_type": "code",
   "execution_count": null,
   "id": "88e91681-32a1-475c-a198-24281f661f97",
   "metadata": {},
   "outputs": [],
   "source": []
  },
  {
   "cell_type": "markdown",
   "id": "4d87f83d-801e-4617-aa9b-80203994b67c",
   "metadata": {},
   "source": [
    "- 사용자로부터 성적을 입력받아서 합격 여부를 판단해 보자. 60점 이상 합격"
   ]
  },
  {
   "cell_type": "code",
   "execution_count": null,
   "id": "e5a05f70-e3b9-4aa4-b1bc-470ede7909fd",
   "metadata": {},
   "outputs": [],
   "source": []
  },
  {
   "cell_type": "markdown",
   "id": "465523b0-c022-44b7-b5ff-862eccfb63d7",
   "metadata": {},
   "source": [
    "- 사용자로부터 정수를 입력받아서 짝수인지 홀수인지를 검사하는 프로그램을 작성"
   ]
  },
  {
   "cell_type": "code",
   "execution_count": 25,
   "id": "4ce0edcb-7510-4243-93db-5b67e01d2c94",
   "metadata": {},
   "outputs": [
    {
     "name": "stdin",
     "output_type": "stream",
     "text": [
      "수를 입력하시오. 35\n"
     ]
    },
    {
     "name": "stdout",
     "output_type": "stream",
     "text": [
      "홀수 입니다.\n",
      "검사 완료\n"
     ]
    }
   ],
   "source": [
    "X = int(input(\"수를 입력하시오.\"))\n",
    "\n",
    "if X % 2 == 0:\n",
    "    print(\"짝수 입니다.\")\n",
    "\n",
    "else:\n",
    "    print(\"홀수 입니다.\")\n",
    "\n",
    "print(\"검사 완료\")\n",
    "\n"
   ]
  },
  {
   "cell_type": "markdown",
   "id": "0c2b28f2-8109-43fe-9c1f-0152cb9bce08",
   "metadata": {},
   "source": [
    "**LAB 4-2** 영화를 볼수 있는 나이 제한 검사"
   ]
  },
  {
   "cell_type": "code",
   "execution_count": null,
   "id": "a3506abf-69f4-4a26-9cd2-ce6057987966",
   "metadata": {},
   "outputs": [],
   "source": []
  },
  {
   "cell_type": "markdown",
   "id": "f4be56ea-1531-4abf-9f25-fc446b1443f5",
   "metadata": {},
   "source": [
    "**LAB 4-4** 윤년 판단 검사\n",
    "\n",
    "    - 4로 나누어 떨어지면 윤년이다.\n",
    "    - 4로 나누어 떨어져도 100으로 나누어 떨어지지 않아야 한다.\n",
    "    - 400으로 나누어 떨어지면 무조건 윤년이다.\n"
   ]
  },
  {
   "cell_type": "code",
   "execution_count": 28,
   "id": "d59745d6-e267-49f6-ac61-71cfbb8209ea",
   "metadata": {},
   "outputs": [
    {
     "name": "stdin",
     "output_type": "stream",
     "text": [
      "년도를 입력하시오. 23202342342\n"
     ]
    },
    {
     "name": "stdout",
     "output_type": "stream",
     "text": [
      "23202342342 는 윤년이 아니다.\n"
     ]
    }
   ],
   "source": [
    "year = int(input(\"년도를 입력하시오.\"))\n",
    "        \n",
    "if year % 4 == 0 and year % 100 != 0 or year % 400 == 0:\n",
    "    print(year, \"는 윤년이다\")\n",
    "else:\n",
    "    print(year,\"는 윤년이 아니다.\")"
   ]
  },
  {
   "cell_type": "code",
   "execution_count": 38,
   "id": "607078c2-7c14-418a-9f77-bfaba8cef749",
   "metadata": {},
   "outputs": [
    {
     "name": "stdout",
     "output_type": "stream",
     "text": [
      "2024 는 윤년이다\n"
     ]
    }
   ],
   "source": [
    "year = 2024\n",
    "if year % 4 == 0:\n",
    "    if year % 100 == 0:\n",
    "        if year % 400 == 0:\n",
    "            print(year, \"는 윤년이다\")\n",
    "        else:\n",
    "            print(year,\"는 윤년이 아니다\")\n",
    "    else:\n",
    "        print(year, \"는 윤년이다\")\n",
    "else:\n",
    "    print(year, \"는 윤년이 아니다\")"
   ]
  },
  {
   "cell_type": "markdown",
   "id": "9cc1d78f-a0b5-4d59-ac26-ea636efeaff2",
   "metadata": {},
   "source": []
  },
  {
   "cell_type": "markdown",
   "id": "2fbccfde-b985-45c3-8ac1-37a458383ea6",
   "metadata": {},
   "source": [
    "**LAB 4-5** 동전을 던져서 맞추기 게임을 만들어 보자\n",
    "- 앞면: 0, 뒷면: 1"
   ]
  },
  {
   "cell_type": "code",
   "execution_count": 29,
   "id": "b23c8ec6-800b-4644-9f9a-0d89c61f4936",
   "metadata": {},
   "outputs": [
    {
     "name": "stdout",
     "output_type": "stream",
     "text": [
      "동전이 앞면인지 뒷면인지 맞추는 게임을 시작합니다 (앞면: 0, 뒷면: 1)\n"
     ]
    },
    {
     "name": "stdin",
     "output_type": "stream",
     "text": [
      "당신의 예측을 입력하세요(0/1):  10\n"
     ]
    },
    {
     "name": "stdout",
     "output_type": "stream",
     "text": [
      "틀렸네요\n",
      "다음기회에...\n"
     ]
    }
   ],
   "source": [
    "import random\n",
    "\n",
    "print(\"동전이 앞면인지 뒷면인지 맞추는 게임을 시작합니다 (앞면: 0, 뒷면: 1)\")\n",
    "guess = int(input(\"당신의 예측을 입력하세요(0/1): \"))\n",
    "\n",
    "coin = random.randrange(2)\n",
    "\n",
    "if guess == coin:\n",
    "    print(\"맟췄어요\")\n",
    "else:\n",
    "    print(\"틀렸네요\")\n",
    "    print(\"다음기회에...\")"
   ]
  },
  {
   "cell_type": "code",
   "execution_count": 30,
   "id": "a14e3947-4664-498e-9348-4371bebda821",
   "metadata": {},
   "outputs": [
    {
     "data": {
      "text/plain": [
       "0"
      ]
     },
     "execution_count": 30,
     "metadata": {},
     "output_type": "execute_result"
    }
   ],
   "source": [
    "import random\n",
    "random.randrange(2)"
   ]
  },
  {
   "cell_type": "code",
   "execution_count": null,
   "id": "c074988e-e743-46c1-b5ba-7ec44f4be6c6",
   "metadata": {},
   "outputs": [],
   "source": [
    "print(\"동전이 앞면인지 뒷면인지 맟추는 게임을 시작합니다. (앞면:0, 뒷면:1)\")\n",
    "guess = int(input(\"당신의 예측을 입력히시오.\n",
    "      "
   ]
  },
  {
   "cell_type": "markdown",
   "id": "b6073ee0-a0db-4a2e-8f07-2a36d5522001",
   "metadata": {},
   "source": [
    "**도전문제**: 주사위를 던져지기 문제로 바꾸어 보자. 예측한 주사위 눈의 수가 컴퓨터의 수보다 높으면 이기는 게임이다."
   ]
  },
  {
   "cell_type": "code",
   "execution_count": 40,
   "id": "be1cf17f-d576-4036-abaa-3a4a6381e189",
   "metadata": {},
   "outputs": [
    {
     "name": "stdout",
     "output_type": "stream",
     "text": [
      "주사위 숫자를 예측하시오.\n"
     ]
    },
    {
     "name": "stdin",
     "output_type": "stream",
     "text": [
      "당신의 예측을 입력하시오.(0/6)) 1\n"
     ]
    },
    {
     "name": "stdout",
     "output_type": "stream",
     "text": [
      "당신이 졌습니다.\n"
     ]
    }
   ],
   "source": [
    "import random\n",
    "random.randrange(1,7)\n",
    "\n",
    "print(\"주사위 숫자를 예측하시오.\")\n",
    "guess = int(input(\"당신의 예측을 입력하시오.(0/6))\"))\n",
    "\n",
    "if guess > coin:\n",
    "            print(\"당신이 이겼습니다.\")\n",
    "            \n",
    "else:\n",
    "    print (\"당신이 졌습니다.\")\n",
    "            \n"
   ]
  },
  {
   "cell_type": "markdown",
   "id": "e8867e8e-0838-4a03-8d7b-cd35bfa76986",
   "metadata": {},
   "source": [
    "**LAB 4-6**: 원점에 중심이 있는 반지름이 5인 원이 있다. 입력한 (x, y)좌표 원의 내부에 있는지 외부에 있는 확인하는 코드를 작성하라. "
   ]
  },
  {
   "cell_type": "code",
   "execution_count": null,
   "id": "1fd4e6af-b265-4a3e-a82b-b2362da01e8e",
   "metadata": {},
   "outputs": [],
   "source": []
  },
  {
   "cell_type": "markdown",
   "id": "0d009ac6-fc5b-49b0-8e85-6f171205f631",
   "metadata": {},
   "source": [
    "## 4.6 조건이 거짓일 때 연속하여 다른 조건을 검사"
   ]
  },
  {
   "attachments": {},
   "cell_type": "markdown",
   "id": "ce56403f-c30c-40c1-a6bd-2dcf397ec407",
   "metadata": {},
   "source": [
    "- 사용자로부터 정수 num를 입력받아서 이 값을 보고 \"양수입니다.\", \"0입니다.\", \"음수\r\n",
    "입니다.\"를 출력하는 프로그\n",
    "\n",
    "![image.png](figs/fig2.png)램"
   ]
  },
  {
   "cell_type": "markdown",
   "id": "35454219-17e7-498b-953c-4de2e147172b",
   "metadata": {},
   "source": [
    "```\n",
    "if 조건식 1:\n",
    "    조건식 1이 만족하면 실행\n",
    "    ...\n",
    "elif 조건식 2:\n",
    "    조건식 2이 만족하면 실행\n",
    "    ...\n",
    "elif 조건식 3:\n",
    "    조건식 3이 만족하면 실행\n",
    "    ...\n",
    "...\n",
    "else:\n",
    "    위의 모든 조건이 만족하지 않는 경우 실행\n",
    "    ...\n",
    "```"
   ]
  },
  {
   "cell_type": "code",
   "execution_count": 43,
   "id": "572d3094-f197-4a9b-965d-934de70ebc3b",
   "metadata": {},
   "outputs": [
    {
     "name": "stdin",
     "output_type": "stream",
     "text": [
      "수를 입력하시오. -1\n"
     ]
    },
    {
     "name": "stdout",
     "output_type": "stream",
     "text": [
      "음수 입니다.\n"
     ]
    }
   ],
   "source": [
    "X = int(input(\"수를 입력하시오.\"))\n",
    "\n",
    "if X >0:\n",
    "    print(\"양수입니다.\")\n",
    "elif X==0:\n",
    "    print(\"o입니다.\")\n",
    "else:\n",
    "    print(\"음수 입니다.\")"
   ]
  },
  {
   "cell_type": "code",
   "execution_count": 45,
   "id": "c76d00ad-b19c-4c75-bf7c-b5da27d4bba4",
   "metadata": {},
   "outputs": [
    {
     "name": "stdin",
     "output_type": "stream",
     "text": [
      "수를 입력하시오. 3\n"
     ]
    },
    {
     "name": "stdout",
     "output_type": "stream",
     "text": [
      "음수 입니다.\n"
     ]
    }
   ],
   "source": [
    "X = int(input(\"수를 입력하시오.\"))\n",
    "\n",
    "if X >= 0:\n",
    "    if X == 0:\n",
    "        print(\"0입니다.\")\n",
    "    else:\n",
    "        print(\"음수 입니다.\")\n",
    "else:\n",
    "    print(\"음수입니다.\")\n",
    "\n",
    "    "
   ]
  },
  {
   "attachments": {},
   "cell_type": "markdown",
   "id": "642dd748-5c8f-4e1b-b425-d6cc7d4a937f",
   "metadata": {},
   "source": [
    "### 중첩 if: if-else 문 안에 if-else 문 넣기\n",
    "\n",
    "![image.png](figs/fig3.png)"
   ]
  },
  {
   "cell_type": "code",
   "execution_count": null,
   "id": "bb5488dc-b4f1-48da-9ecb-f878aa653b83",
   "metadata": {},
   "outputs": [],
   "source": []
  },
  {
   "cell_type": "markdown",
   "id": "e1b3b4b7-b22a-46ac-b76c-6b51ac2f3ce7",
   "metadata": {},
   "source": [
    "**LAB 4-8:** 컴퓨터와 가위-바위-보 게임을 해보자.\n",
    "- 가위(0), 바위(1), 보(2)"
   ]
  },
  {
   "cell_type": "code",
   "execution_count": 26,
   "id": "0d0afc96-191e-444d-97b8-34f24eefdb60",
   "metadata": {},
   "outputs": [
    {
     "name": "stdout",
     "output_type": "stream",
     "text": [
      "컴퓨터와 가위-바위-보 게임을 해보자. 가위(0), 바위(1), 보(2)\n"
     ]
    }
   ],
   "source": [
    "import random\n",
    "print(\"컴퓨터와 가위-바위-보 게임을 해보자. 가위(0), 바위(1), 보(2)\")"
   ]
  },
  {
   "cell_type": "markdown",
   "id": "53270a44-0236-4946-a819-9ed218777266",
   "metadata": {},
   "source": [
    "# 나는 무엇을 냈고 컴퓨터는 무엇을 냈으니 누가 이겼다 출력"
   ]
  },
  {
   "cell_type": "code",
   "execution_count": null,
   "id": "93df7528-fd3c-4f48-b155-5145e66edba1",
   "metadata": {},
   "outputs": [],
   "source": []
  },
  {
   "cell_type": "markdown",
   "id": "94876625-9a54-4be1-a689-6de629112cb0",
   "metadata": {},
   "source": [
    "성적에 대하여 학점을 주는 코드를 작성해보자\n",
    "- 점수 > 90: \"A\"\n",
    "- 80 <= 점수 < 90: \"B\"\n",
    "- 70 <= 점수 < 80: \"C\"\n",
    "- 60 <= 점수 < 70: \"D\"\n",
    "- 점수 < 60: \"F\""
   ]
  },
  {
   "cell_type": "code",
   "execution_count": 56,
   "id": "5db8b15c-ed88-445a-bdb3-839897fa7caa",
   "metadata": {},
   "outputs": [
    {
     "name": "stdin",
     "output_type": "stream",
     "text": [
      "당신의 학점을 입력하시오. 60\n"
     ]
    },
    {
     "name": "stdout",
     "output_type": "stream",
     "text": [
      "당신의 학점은 D 입니다.\n"
     ]
    }
   ],
   "source": [
    "score = int(input(\"당신의 학점을 입력하시오.\"))\n",
    "\n",
    "if score >= 90:\n",
    "    grade = 'A'\n",
    "    \n",
    "elif score >= 80:\n",
    "    grade = 'B'\n",
    "\n",
    "elif 70 <= score:\n",
    "    grade = 'C'\n",
    "    \n",
    "elif 60 <= score:\n",
    "    grade = 'D'\n",
    "    \n",
    "else:\n",
    "    grade = 'F'\n",
    "    \n",
    "print(\"당신의 학점은\", grade, \"입니다.\")"
   ]
  },
  {
   "cell_type": "code",
   "execution_count": null,
   "id": "6a9c62d9-d97d-47f0-83bf-53e6d2bd3b19",
   "metadata": {},
   "outputs": [],
   "source": []
  }
 ],
 "metadata": {
  "kernelspec": {
   "display_name": "Python 3 (ipykernel)",
   "language": "python",
   "name": "python3"
  },
  "language_info": {
   "codemirror_mode": {
    "name": "ipython",
    "version": 3
   },
   "file_extension": ".py",
   "mimetype": "text/x-python",
   "name": "python",
   "nbconvert_exporter": "python",
   "pygments_lexer": "ipython3",
   "version": "3.11.7"
  }
 },
 "nbformat": 4,
 "nbformat_minor": 5
}
