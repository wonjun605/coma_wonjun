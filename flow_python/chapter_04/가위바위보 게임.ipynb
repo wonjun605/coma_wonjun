{
 "cells": [
  {
   "cell_type": "code",
   "execution_count": 13,
   "id": "1b91f6e7-1b88-4f06-af2f-3865c944afe1",
   "metadata": {},
   "outputs": [
    {
     "name": "stdout",
     "output_type": "stream",
     "text": [
      "컴퓨터와 가위-바위-보 게임을 해보자. 가위(0), 바위(1), 보(2)\n"
     ]
    },
    {
     "name": "stdin",
     "output_type": "stream",
     "text": [
      "가위-위-보 중 선택하시오. 가위\n"
     ]
    },
    {
     "name": "stdout",
     "output_type": "stream",
     "text": [
      "0\n"
     ]
    }
   ],
   "source": [
    "import random\n",
    "print(\"컴퓨터와 가위-바위-보 게임을 해보자. 가위(0), 바위(1), 보(2)\")\n",
    "\n",
    "X = str(input(\"가위-위-보 중 선택하시오.\"))\n",
    "\n",
    "if X == \"가위\":\n",
    "    X = 0\n",
    "    \n",
    "elif X == \"바위\":\n",
    "    X = 1\n",
    "    \n",
    "else: \n",
    "    X = 2\n",
    "\n",
    "    \n",
    "print(X)"
   ]
  },
  {
   "cell_type": "code",
   "execution_count": 17,
   "id": "f12961c6-17ed-4c86-b4f0-1fc59963537f",
   "metadata": {},
   "outputs": [
    {
     "name": "stdout",
     "output_type": "stream",
     "text": [
      "컴퓨터와 가위-바위-보 게임을 해보자. 가위, 바위, 보\n"
     ]
    },
    {
     "name": "stdin",
     "output_type": "stream",
     "text": [
      "가위-위-보 중 선택하시오. 바위\n"
     ]
    },
    {
     "name": "stdout",
     "output_type": "stream",
     "text": [
      "나는 가위 를 내고 컴퓨터는 0 를 냈으니 내가 이겼다.\n",
      "가위\n"
     ]
    }
   ],
   "source": [
    "import random\n",
    "print(\"컴퓨터와 가위-바위-보 게임을 해보자. 가위, 바위, 보\")\n",
    "\n",
    "# Y = random.randrange(1,4)\n",
    "Y = 0\n",
    "X = str(input(\"가위-위-보 중 선택하시오.\"))\n",
    "\n",
    "if X == \"가위\":\n",
    "    X = 0\n",
    "    \n",
    "elif X == \"바위\":\n",
    "    X = 1\n",
    "    \n",
    "else: \n",
    "    X = 2\n",
    "\n",
    "\n",
    "\n",
    "if X > Y:\n",
    "    \n",
    "    if X == 0:\n",
    "        X = \"가위\"\n",
    "    \n",
    "    elif X == 1:\n",
    "        X = \"바위\"\n",
    "    \n",
    "    else: \n",
    "        X = \"보\"\n",
    "        \n",
    "if Y == 0:\n",
    "    X = \"가위\"\n",
    "    \n",
    "elif Y == 1:\n",
    "    X = \"바위\"\n",
    "    \n",
    "else: \n",
    "    Y = \"보\"\n",
    "        \n",
    "        \n",
    "    print( \"나는\", X,\"를 내고 컴퓨터는\", Y,\"를 냈으니 내가 이겼다.\")\n",
    "\n",
    "\n",
    "\n",
    "\n",
    "\n",
    "\n",
    "          \n",
    "    \n",
    "print(X)"
   ]
  },
  {
   "cell_type": "code",
   "execution_count": 40,
   "id": "a9b4ee35-ed86-4e74-ad02-7df4e57f37e9",
   "metadata": {},
   "outputs": [
    {
     "name": "stdout",
     "output_type": "stream",
     "text": [
      "컴퓨터와 가위-바위-보 게임을 해보자. 가위(0), 바위(1), 보(2)\n",
      "2\n"
     ]
    },
    {
     "name": "stdin",
     "output_type": "stream",
     "text": [
      "가위-바위-보 중 선택하시오. 가위\n"
     ]
    },
    {
     "name": "stdout",
     "output_type": "stream",
     "text": [
      "당신이 이겼습니다!\n"
     ]
    }
   ],
   "source": [
    "import random\n",
    "print(\"컴퓨터와 가위-바위-보 게임을 해보자. 가위(0), 바위(1), 보(2)\")\n",
    "\n",
    "Y = random.randrange(1,3)\n",
    "print(Y)\n",
    "\n",
    "X = str(input(\"가위-바위-보 중 선택하시오.\"))\n",
    "\n",
    "if X == \"가위\":\n",
    "    X = 0\n",
    "    \n",
    "elif X == \"바위\":\n",
    "    X = 1\n",
    "    \n",
    "else: \n",
    "    X = 2\n",
    "\n",
    "\n",
    "\n",
    "if X == Y:\n",
    "    print(\"비겼습니다!\")\n",
    "elif (X == 0 and Y == 2) or (X == 1 and Y == 0) or (X == 2 and Y == 1):\n",
    "    print(\"당신이  이겼습니다!\")\n",
    "else:\n",
    "    print(\"컴퓨터가 이겼습니다!\")\n",
    "\n",
    "\n",
    "\n",
    "\n",
    "\n"
   ]
  },
  {
   "cell_type": "code",
   "execution_count": 3,
   "id": "ea974015-bf7d-49fc-9be6-2416a7e33660",
   "metadata": {},
   "outputs": [
    {
     "name": "stdout",
     "output_type": "stream",
     "text": [
      "컴퓨터와 가위-바위-보 게임을 해보자. 가위(0), 바위(1), 보(2)\n",
      "2\n"
     ]
    },
    {
     "name": "stdin",
     "output_type": "stream",
     "text": [
      "가위-바위-보 중 선택하시오. 바위\n"
     ]
    },
    {
     "name": "stdout",
     "output_type": "stream",
     "text": [
      "컴퓨터가 이겼습니다!\n"
     ]
    }
   ],
   "source": [
    "import random\n",
    "print(\"컴퓨터와 가위-바위-보 게임을 해보자. 가위(0), 바위(1), 보(2)\")\n",
    "\n",
    "Y = random.randrange(1,3)\n",
    "print(Y)\n",
    "\n",
    "X = str(input(\"가위-바위-보 중 선택하시오.\"))\n",
    "\n",
    "if X == \"가위\":\n",
    "    X = 0\n",
    "    \n",
    "elif X == \"바위\":\n",
    "    X = 1\n",
    "    \n",
    "else: \n",
    "    X = 2\n",
    "\n",
    "\n",
    "\n",
    "if X == Y:\n",
    "    if X == 0:\n",
    "        X = \"가위\"\n",
    "    \n",
    "    elif X == 1:\n",
    "        X = \"바위\"\n",
    "    \n",
    "    else: \n",
    "        X = \"보\"\n",
    "\n",
    "    if Y == 0:\n",
    "    X = \"가위\"\n",
    "    \n",
    "    elif Y == 1:\n",
    "    X = \"바위\"\n",
    "    \n",
    "    else: \n",
    "    Y = \"보\"\n",
    "        \n",
    "    print(\"비겼습니다!\")\n",
    "elif (X == 0 and Y == 2) or (X == 1 and Y == 0) or (X == 2 and Y == 1):\n",
    "    \n",
    "    print(\"당신이  이겼습니다!\")\n",
    "else:\n",
    "    print(\"컴퓨터가 이겼습니다!\")\n",
    "\n",
    "#이 조건문은 가위바위보 게임에서 사용자가 이기는 경우를 모두 고려\n",
    "#사용자가 가위를 선택하고 컴퓨터가 보를 선택하거나, \n",
    "#사용자가 바위를 선택하고 컴퓨터가 가위를 선택하거나, \n",
    "#사용자가 보를 선택하고 컴퓨터가 바위를 선택한 경우 모두 사용자가 이기게 됨.\n",
    "\n",
    "\n",
    "\n"
   ]
  },
  {
   "cell_type": "code",
   "execution_count": null,
   "id": "0f72ebbb-3b85-412b-bc3a-2048e6ff7713",
   "metadata": {},
   "outputs": [],
   "source": []
  }
 ],
 "metadata": {
  "kernelspec": {
   "display_name": "Python 3 (ipykernel)",
   "language": "python",
   "name": "python3"
  },
  "language_info": {
   "codemirror_mode": {
    "name": "ipython",
    "version": 3
   },
   "file_extension": ".py",
   "mimetype": "text/x-python",
   "name": "python",
   "nbconvert_exporter": "python",
   "pygments_lexer": "ipython3",
   "version": "3.11.7"
  }
 },
 "nbformat": 4,
 "nbformat_minor": 5
}
