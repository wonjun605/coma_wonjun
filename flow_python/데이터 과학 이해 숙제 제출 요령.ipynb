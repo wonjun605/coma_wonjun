{
 "cells": [
  {
   "cell_type": "markdown",
   "metadata": {
    "id": "IPqynqfI3LBZ"
   },
   "source": [
    "# (1)차 숙제\n",
    "## 이름: 홍길동\n",
    "## 학번: 20240101\n",
    "\n"
   ]
  },
  {
   "cell_type": "markdown",
   "metadata": {
    "id": "gqFpiAdO4OzP"
   },
   "source": [
    "1. 수업에서 중요한 점을 써보자\n",
    "\n",
    "    1) 파이썬 설치 하는 방법   \n",
    "    2) 파이썬 언어의 장점에 대하여 배웠다.   \n",
    "        - ...\n",
    "        - ---\n",
    "\n",
    "    3) IDLE과 Jupyter lab 사용법을 배웠다.   "
   ]
  },
  {
   "cell_type": "markdown",
   "metadata": {
    "id": "K-M7ORMnmJ6X"
   },
   "source": [
    "2. 수업에서 어려운 점에 대해여 써 보자\n",
    "\n",
    "    1) jupyter의 마크 다운 사용법이 어렵다. 그러나 잘 너무 어려워서 못할 정도는 아니다.   \n",
    "    2) ...\n",
    "\n"
   ]
  },
  {
   "cell_type": "markdown",
   "metadata": {
    "id": "7bsq30vn4YCU"
   },
   "source": [
    "# 심화문제 "
   ]
  },
  {
   "cell_type": "markdown",
   "metadata": {
    "id": "eA00A6YxmXEG"
   },
   "source": [
    "## 1.1\n",
    "다음은 프로그래밍을 위해서 우리가 반드시 알아야 할 용어들이다. 이용어에 대하여 인터넷 검색을 통하여 조사하고 그 내용을 2문장 이내로 작성하라\n",
    "\n",
    "1) 프로그래밍 : 컴퓨터의 프로그램을 작성하는 일. 일반적으로는 프로그램의 작성 방법의 결정, 코딩(coding), 에러 수정 등의 작업 모두를 가리키지만 코딩만을 가리킬 때도 있음.\n",
    "\n",
    "2) 프로그램 언어어\n",
    "\n",
    "3)\n",
    "\n",
    "\n",
    "\n"
   ]
  },
  {
   "cell_type": "markdown",
   "metadata": {
    "id": "62BjOM5Rm3Y6"
   },
   "source": [
    "## 1.2\n",
    "다음 파이썬 코드의 출력 결과는 무엇인가? 직접 코드를 수행한 후 그 결과를 적으시오"
   ]
  },
  {
   "cell_type": "code",
   "execution_count": null,
   "metadata": {
    "colab": {
     "base_uri": "https://localhost:8080/"
    },
    "executionInfo": {
     "elapsed": 4,
     "status": "ok",
     "timestamp": 1662347153460,
     "user": {
      "displayName": "pbandj park",
      "userId": "10147148734232158566"
     },
     "user_tz": -540
    },
    "id": "ZVMDorbamWrE",
    "outputId": "935a55fa-3fcb-491d-f0f3-38a87fa1a292"
   },
   "outputs": [
    {
     "name": "stdout",
     "output_type": "stream",
     "text": [
      "100\n"
     ]
    }
   ],
   "source": [
    "print(100)"
   ]
  },
  {
   "cell_type": "code",
   "execution_count": null,
   "metadata": {
    "colab": {
     "base_uri": "https://localhost:8080/"
    },
    "executionInfo": {
     "elapsed": 4,
     "status": "ok",
     "timestamp": 1662347168398,
     "user": {
      "displayName": "pbandj park",
      "userId": "10147148734232158566"
     },
     "user_tz": -540
    },
    "id": "8nryedgOmJj9",
    "outputId": "2ab52d66-9000-46d9-b7e8-f30c470f8990"
   },
   "outputs": [
    {
     "name": "stdout",
     "output_type": "stream",
     "text": [
      "300\n"
     ]
    }
   ],
   "source": [
    "print(100 + 200)"
   ]
  },
  {
   "cell_type": "markdown",
   "metadata": {
    "id": "gwKYMWIznQsN"
   },
   "source": [
    "## 1.3"
   ]
  },
  {
   "cell_type": "code",
   "execution_count": null,
   "metadata": {
    "colab": {
     "base_uri": "https://localhost:8080/"
    },
    "executionInfo": {
     "elapsed": 2,
     "status": "ok",
     "timestamp": 1662347225837,
     "user": {
      "displayName": "pbandj park",
      "userId": "10147148734232158566"
     },
     "user_tz": -540
    },
    "id": "L6uskI-EIfYq",
    "outputId": "64606974-59ed-44e2-c527-568cddf8a74b"
   },
   "outputs": [
    {
     "name": "stdout",
     "output_type": "stream",
     "text": [
      "Hello Python!\n"
     ]
    }
   ],
   "source": [
    "print('Hello Python!')"
   ]
  },
  {
   "cell_type": "code",
   "execution_count": null,
   "metadata": {
    "id": "GAecnlAC5_ru"
   },
   "outputs": [],
   "source": []
  }
 ],
 "metadata": {
  "accelerator": "GPU",
  "colab": {
   "authorship_tag": "ABX9TyMmE/A4yhz1XinZoEHVzW/c",
   "provenance": []
  },
  "gpuClass": "standard",
  "kernelspec": {
   "display_name": "Python 3 (ipykernel)",
   "language": "python",
   "name": "python3"
  },
  "language_info": {
   "codemirror_mode": {
    "name": "ipython",
    "version": 3
   },
   "file_extension": ".py",
   "mimetype": "text/x-python",
   "name": "python",
   "nbconvert_exporter": "python",
   "pygments_lexer": "ipython3",
   "version": "3.11.7"
  }
 },
 "nbformat": 4,
 "nbformat_minor": 4
}
