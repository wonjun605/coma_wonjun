{
 "cells": [
  {
   "cell_type": "markdown",
   "id": "b1d9caed-e57c-4581-a309-c612ba94ddbc",
   "metadata": {},
   "source": [
    "# 05 여러번 반복하는 일을 하자."
   ]
  },
  {
   "cell_type": "markdown",
   "id": "588158db-55e4-40c6-96fb-9479178f6e31",
   "metadata": {},
   "source": [
    "## 5.1 \n",
    "for 반복문을 이해하기 위해 다음과 같이 여러 수에서 특정한 수를 뽑아 내어 보자.\n",
    "\n",
    "1). for 반복문과 range()를 이용하여 1에서 100까지의 수 중에서 홀수를 아래와 같이 출력하는 프로그램을 작성하여라.\n",
    "```\n",
    "1에서 100까지의 정수 중 홀수는 :\n",
    "1 3 5 7 9 11 13 15 17 19 21 23 25 27 29 31 33 35 37 39 41 43 45 47 49 51 53 55 57 59 61 63 65 67 69 71 73 75 77 79 81 83 85 87 89 91 93 95 97 99\n",
    "```"
   ]
  },
  {
   "cell_type": "code",
   "execution_count": 9,
   "id": "cc4a8c52-b947-429b-87ce-5366a5bdcd9a",
   "metadata": {},
   "outputs": [
    {
     "name": "stdout",
     "output_type": "stream",
     "text": [
      "1 3 5 7 9 11 13 15 17 19 21 23 25 27 29 31 33 35 37 39 41 43 45 47 49 51 53 55 57 59 61 63 65 67 69 71 73 75 77 79 81 83 85 87 89 91 93 95 97 99 "
     ]
    }
   ],
   "source": [
    "s = 0\n",
    "for i in range(1, 101):\n",
    "    if i % 2 ==1:\n",
    "        print (i, end = ' ')\n",
    "    "
   ]
  },
  {
   "cell_type": "markdown",
   "id": "0d2753e5-f34e-490c-b596-1af854e5eff5",
   "metadata": {},
   "source": [
    "2). while 반복문을 사용하여 1에서 100까지의 수 중에서 홀수를 출력하는 프로그램을 작성하여라."
   ]
  },
  {
   "cell_type": "code",
   "execution_count": 13,
   "id": "cd0f3a7e-9b04-410c-b79e-232a2a8436d9",
   "metadata": {},
   "outputs": [
    {
     "name": "stdout",
     "output_type": "stream",
     "text": [
      "1 3 5 7 9 11 13 15 17 19 21 23 25 27 29 31 33 35 37 39 41 43 45 47 49 51 53 55 57 59 61 63 65 67 69 71 73 75 77 79 81 83 85 87 89 91 93 95 97 99 "
     ]
    }
   ],
   "source": [
    "s = 0\n",
    "while s < 101:\n",
    "    if s % 2 ==1:\n",
    "        print(s, end = ' ')\n",
    "    s += 1"
   ]
  },
  {
   "cell_type": "markdown",
   "id": "e6edd73b-9e53-4f44-9bc6-c7107b04171a",
   "metadata": {},
   "source": [
    "3). 앞에서 만들어 본 1), 2)의 코드를 변형하여 for 반복문과 while 반복문을 사용하여 1에서 100사이의 수 중에서 짝수를 출력하는 프로그램을 각각 작성하여라.\n",
    "```\n",
    "1에서 100까지의 정수 중 짝수는: \n",
    "2 4 6 8 10 12 14 16 18 20 22 24 26 28 30 32 34 36 38 40 42 44 46 48 50 52 54 56 58 60 62 64 66 68 70 72 74 76 78 80 82 84 86 88 90 92 94 96 98 100\n",
    "```"
   ]
  },
  {
   "cell_type": "code",
   "execution_count": 15,
   "id": "3b50e840-9a46-4cba-80e6-cecd3c151f63",
   "metadata": {},
   "outputs": [
    {
     "name": "stdout",
     "output_type": "stream",
     "text": [
      "1 , 3 , 5 , 7 , 9 , 11 , 13 , 15 , 17 , 19 , 21 , 23 , 25 , 27 , 29 , 31 , 33 , 35 , 37 , 39 , 41 , 43 , 45 , 47 , 49 , 51 , 53 , 55 , 57 , 59 , 61 , 63 , 65 , 67 , 69 , 71 , 73 , 75 , 77 , 79 , 81 , 83 , 85 , 87 , 89 , 91 , 93 , 95 , 97 , 99 , "
     ]
    }
   ],
   "source": [
    "for i in range(1,101,2):\n",
    "    print(i, end=' , ')"
   ]
  },
  {
   "cell_type": "markdown",
   "id": "840dbf74-3f70-4bd7-9786-e71ac218b027",
   "metadata": {},
   "source": [
    "## 5.2 \n",
    "반복문을 활용하여 특정 구간의 수의 합을 구할 수 있다.\n",
    "\n",
    "1). for 반복문과 while 반복문을 사용하여 1에서 100까지의 정수 중에서 홀수의 합을 출력하는 프로그램을 작성하여라.\n",
    "```\n",
    "1에서 100까지의 수중 홀수의 합: 2500\n",
    "```"
   ]
  },
  {
   "cell_type": "code",
   "execution_count": 16,
   "id": "2798e792-80b2-48c5-845c-645d65027f65",
   "metadata": {},
   "outputs": [
    {
     "name": "stdout",
     "output_type": "stream",
     "text": [
      "2500\n"
     ]
    }
   ],
   "source": [
    "s = 0\n",
    "for i in range(1, 100, 2):\n",
    "    s = s + i\n",
    "print(s)"
   ]
  },
  {
   "cell_type": "markdown",
   "id": "6085129f-3cf2-4aec-978a-e4d8ae4e6219",
   "metadata": {},
   "source": [
    "2). for 반복문과 while 반복문을 사용하여 1에서 100까지의 정수 중에서 짝수의 합을 출력하는 프로그램을 작성하여라.\n",
    "```\n",
    "1에서 100까지의 수중 짝수의 합: 2500\n",
    "```"
   ]
  },
  {
   "cell_type": "code",
   "execution_count": 17,
   "id": "0d9c2e28-4f74-424a-87f4-c0e89788bf6d",
   "metadata": {},
   "outputs": [
    {
     "name": "stdout",
     "output_type": "stream",
     "text": [
      "2550\n"
     ]
    }
   ],
   "source": [
    "s = 0\n",
    "for i in range(2, 101, 2):\n",
    "    s = s + i\n",
    "print(s)"
   ]
  },
  {
   "cell_type": "code",
   "execution_count": 19,
   "id": "90e98ea8-2109-4a04-971c-35bc11a928c8",
   "metadata": {},
   "outputs": [
    {
     "name": "stdout",
     "output_type": "stream",
     "text": [
      "945\n"
     ]
    }
   ],
   "source": [
    "p = 1\n",
    "for i in range(1, 10, 2):\n",
    "    p *= i\n",
    "print(p)\n",
    "    "
   ]
  },
  {
   "cell_type": "markdown",
   "id": "d60da9b3-5fc6-4e3f-a937-a23c25bc2d75",
   "metadata": {},
   "source": [
    "3). 사용자로부터 시작 정수와 끝 정수를 입력으로 받은 다음 시작 정수 값에서 끝 값까지의 합을 구하여 다음과 같이 출력하는 프로그램을 작성하여라.\n",
    "```\n",
    "시작 정수를 입력하세요:  2\n",
    "끝 정수를 입력하세요:  6\n",
    "2 에서 6 까지 정수의 합: 20\n",
    "```"
   ]
  },
  {
   "cell_type": "code",
   "execution_count": 20,
   "id": "8bb92eaa-d720-4002-a663-cfbb59a901e3",
   "metadata": {},
   "outputs": [
    {
     "name": "stdout",
     "output_type": "stream",
     "text": [
      "20\n"
     ]
    }
   ],
   "source": [
    "n1 = 2\n",
    "n2 = 6\n",
    "\n",
    "s = 0\n",
    "for i in range(n1,n2+1):\n",
    "    s = s + i\n",
    "print(s)"
   ]
  },
  {
   "cell_type": "markdown",
   "id": "985bab69-08bf-4cbe-905e-3eb3e6d1ee81",
   "metadata": {},
   "source": [
    "## 5.3\n",
    "맛나 식당의 메뉴 주문 프로그램을 개발하고자 한다. 이를 위하여 사용자에게 다음과 같은 1), 2), 3)의 메뉴를 보여주고 이 중에서 하나를 선택하도록 하자. 이때 아래 보기와 같이 메뉴에 없는 5, 6, 0과 같은 숫자가 입력되면 '메뉴를 다시 입력하세요:'가 출력되도록 한 후 다시 입력을 받도록 하자.\n",
    "```\n",
    "맛나 식당에 오신 것을 환영합니다. 메뉴는 다음과 같습니다.\n",
    "1) 햄버거\n",
    "2) 치킨\n",
    "3) 피자\n",
    "1에서 3까지의 메뉴를 선택하세요 : 5\n",
    "메뉴를 다시 입력하세요: 6\n",
    "메뉴를 다시 입력하세요: 0\n",
    "메뉴를 다시 입력하세요: 2\n",
    "치킨을 선택했습니다.\n",
    "```"
   ]
  },
  {
   "cell_type": "code",
   "execution_count": 30,
   "id": "2eee195e-aa0c-4646-ae70-3608fd0a4640",
   "metadata": {},
   "outputs": [
    {
     "name": "stdout",
     "output_type": "stream",
     "text": [
      "맛나 식당에 오신 것을 환영합니다. 메누는 다음과 같습니다. \n",
      " 1) 햄버거 \n",
      " 2) 치킨 \n",
      " 3) 피자\n"
     ]
    },
    {
     "name": "stdin",
     "output_type": "stream",
     "text": [
      "1에서 3까지의 메뉴를 선택하세요: 6\n",
      "메뉴를 다시 입력하세요 6\n",
      "메뉴를 다시 입력하세요 6\n",
      "메뉴를 다시 입력하세요 3\n"
     ]
    },
    {
     "name": "stdout",
     "output_type": "stream",
     "text": [
      "피자\n"
     ]
    }
   ],
   "source": [
    "print(\"맛나 식당에 오신 것을 환영합니다. 메누는 다음과 같습니다. \\n 1) 햄버거 \\n 2) 치킨 \\n 3) 피자\")\n",
    "menu = int(input(\"1에서 3까지의 메뉴를 선택하세요:\"))\n",
    "while menu < 1 or menu > 3:\n",
    "    menu = (int(input('메뉴를 다시 입력하세요')))\n",
    "\n",
    "if menu == 1:\n",
    "    print(\"햄버거\")\n",
    "if menu == 2:\n",
    "    print(\"치킨\")\n",
    "if menu == 3:\n",
    "    print(\"피자\")\n",
    "\n"
   ]
  },
  {
   "cell_type": "markdown",
   "id": "539bf72d-0fb3-418d-a564-71b407b33222",
   "metadata": {},
   "source": [
    "## 5.4 \n",
    "사용자로 부터 정수를 입력받아 다음과 같은 삼각형을 출력하는 프로그램을 작성하여라. 이때 숫자 5가 입력되면 높이가 5이고 제일 마지막 줄의 별이 5개가 삼각형 형태로 나타나도록 하여라.\n",
    "\n",
    "```\n",
    "숫자를 입력하세요:  5\r\n",
    "    *\r\n",
    "   **\r\n",
    "  ***\r\n",
    " ****\r\n",
    "*****\n",
    "```"
   ]
  },
  {
   "cell_type": "code",
   "execution_count": 34,
   "id": "7003b517-d553-44d6-8c61-707589e24e32",
   "metadata": {},
   "outputs": [
    {
     "ename": "NameError",
     "evalue": "name 'rnage' is not defined",
     "output_type": "error",
     "traceback": [
      "\u001b[0;31m---------------------------------------------------------------------------\u001b[0m",
      "\u001b[0;31mNameError\u001b[0m                                 Traceback (most recent call last)",
      "Cell \u001b[0;32mIn[34], line 1\u001b[0m\n\u001b[0;32m----> 1\u001b[0m \u001b[38;5;28;01mfor\u001b[39;00m s \u001b[38;5;129;01min\u001b[39;00m rnage(\u001b[38;5;241m1\u001b[39m, \u001b[38;5;241m6\u001b[39m):\n\u001b[1;32m      2\u001b[0m     \u001b[38;5;28;01mfor\u001b[39;00m i \u001b[38;5;129;01min\u001b[39;00m rnage(\u001b[38;5;241m1\u001b[39m, \u001b[38;5;241m6\u001b[39m):\n\u001b[1;32m      3\u001b[0m         (\u001b[38;5;124m'\u001b[39m\u001b[38;5;124m \u001b[39m\u001b[38;5;124m'\u001b[39m \u001b[38;5;241m*\u001b[39m i \u001b[38;5;241m+\u001b[39m \u001b[38;5;124m'\u001b[39m\u001b[38;5;124m*\u001b[39m\u001b[38;5;124m'\u001b[39m \u001b[38;5;241m*\u001b[39m s)\n",
      "\u001b[0;31mNameError\u001b[0m: name 'rnage' is not defined"
     ]
    }
   ],
   "source": [
    "for i in rnage(1, 6):\n",
    "        (' ' * i + '*' * s)\n",
    "        print (s)\n"
   ]
  },
  {
   "cell_type": "markdown",
   "id": "c39a68ea-4bbb-439c-86d9-bc30a7b7643d",
   "metadata": {},
   "source": [
    "## 5.5\n",
    "깊이가 30 미터인 우물이 있다. 이 우물에 사는 달팽이는 하루 종일 기어서 올라가면 7미터를 올라갈 수 있다. 그러나 밤이 되어 휴식을 취하는 동안 5미터를 미끄러져 내려간다. 이 우물을 벗어나는데 며칠의 시간이 걸릴까? while 문을 이용하여 매일 저녁 달팽이의 위치를 다음과 같이 구하라(주의: 하루에 7 - 5 = 2 미터를 올라갈 것이라고 단순 계산하면 안된다. 이 경우 15일 되는 날 탈출하는 것으로 계산되지만 실제로는 13일이면 된다.) 출력시 format() 메소드를 사용하여 숫자들이 오른쪽 정렬이 되도록 하자.\n",
    "```\n",
    "day :  1 달팽이의 위치 :  7 미터\n",
    "day :  2 달팽이의 위치 :  9 미터\n",
    "day :  3 달팽이의 위치 : 11 미터\n",
    "day :  4 달팽이의 위치 : 13 미터\n",
    "day :  5 달팽이의 위치 : 15 미터\n",
    "day :  6 달팽이의 위치 : 17 미터\n",
    "day :  7 달팽이의 위치 : 19 미터\n",
    "day :  8 달팽이의 위치 : 21 미터\n",
    "day :  9 달팽이의 위치 : 23 미터\n",
    "day : 10 달팽이의 위치 : 25 미터\n",
    "day : 11 달팽이의 위치 : 27 미터\n",
    "day : 12 달팽이의 위치 : 29 미터\n",
    "day : 13 달팽이의 위치 : 31 미터\n",
    "축하합니다. 우물을 탈출하였습니다.\n",
    "우물을 탈출하는 데 걸린 날은 13 일입니다.\n",
    "```"
   ]
  },
  {
   "cell_type": "code",
   "execution_count": 7,
   "id": "2f7b6ac1-3930-4327-9eaf-eb1d6ee1ef64",
   "metadata": {},
   "outputs": [
    {
     "name": "stdout",
     "output_type": "stream",
     "text": [
      "day :   1 달팽이의 위치 :  7 미터\n",
      "day :   2 달팽이의 위치 :  9 미터\n",
      "day :   3 달팽이의 위치 : 11 미터\n",
      "day :   4 달팽이의 위치 : 13 미터\n",
      "day :   5 달팽이의 위치 : 15 미터\n",
      "day :   6 달팽이의 위치 : 17 미터\n",
      "day :   7 달팽이의 위치 : 19 미터\n",
      "day :   8 달팽이의 위치 : 21 미터\n",
      "day :   9 달팽이의 위치 : 23 미터\n",
      "day :  10 달팽이의 위치 : 25 미터\n",
      "day :  11 달팽이의 위치 : 27 미터\n",
      "day :  12 달팽이의 위치 : 29 미터\n"
     ]
    }
   ],
   "source": [
    "day = 1\n",
    "position = 0\n",
    " \n",
    "while True:\n",
    "    position += 7\n",
    "    if position > 30: break\n",
    "    print(f'day : {day:3d} 달팽이의 위치 :{position:3d} 미터') \n",
    "    day += 1\n",
    "    position -= 5\n",
    "    \n",
    " \n"
   ]
  },
  {
   "cell_type": "markdown",
   "id": "dc1d3ba6-6003-4488-8a89-962d6a1e12de",
   "metadata": {},
   "source": [
    "## 5.6\n",
    "다음과 같이 자동차의 연료 탱크 프로그램을 시뮬레이션하여 보자. 초기 연료의 양은 500으로 두자. 사용자가 주행을 하면 연료가 줄어들고 충전을 하면 연료가 증가한다. 이 때 연료의 사용과 충전은 -/+ 기호와 함께 입력하도록 한다. 반복문을 사용하여 사용자로부터 충전 또는 사용한 연료를 입력받아서 현재 남아있는 양을 계속 출력하고, 연료 탱크에 남아 있는 연료가 10% 미만이면 경고를 출력하고 프로그램 수행을 마친다.\n",
    "```\n",
    "충전 또는 사용한 연료를 +/- 기호와 함께 입력하시오: +60\r\n",
    "현재 탱크 양은 560 입니다.\r\n",
    "충전 또는 사용한 연료를 +/- 기호와 함께 입력하시오: -300\r\n",
    "현재 탱크 양은 260 입니다.\r\n",
    "충전 또는 사용한 연료를 +/- 기호와 함께 입력하시오: -220\r\n",
    "현재 탱크 양은 40 입니다.\r\n",
    "경고: 연료가 10% 미만이니 충전하세요!\n",
    "```"
   ]
  },
  {
   "cell_type": "code",
   "execution_count": null,
   "id": "84b783e2-334d-41cf-ace0-33a352bf005c",
   "metadata": {},
   "outputs": [],
   "source": []
  },
  {
   "cell_type": "markdown",
   "id": "e3805ebd-5c3e-4fae-a1c0-b4c5b958aa16",
   "metadata": {},
   "source": [
    "## 5.7\n",
    "암스트롱 수란 xyz로 표시되는 세 자리의 정수 중에서 각 자리의 수를 세제곱한 수의 합과 자신이 같은 수를 말하며 다음과 같은 조건을 만족한다.\n",
    "$$x*100+y*10+z=x^3+y^3+z^3$$\n",
    "구체적인 예를 들면 153은 1 + 125 + 27의 합으로 구성될 수 있는데 이러한 수가 암스트롱 수 이다. 세 자리 정수들 중에서 모든 암스트롱 수를 구하여 다음과 같이 출력하여라.\n",
    "\n",
    "```\n",
    "세 자리의 암스트롱 수: 153 370 371 407\n",
    "```"
   ]
  },
  {
   "cell_type": "code",
   "execution_count": 12,
   "id": "cc155354-50af-453b-b5b8-59ea5adec7ea",
   "metadata": {},
   "outputs": [
    {
     "name": "stdout",
     "output_type": "stream",
     "text": [
      "세 자리의 암스트롱 수:  153 370 371 407 "
     ]
    }
   ],
   "source": [
    "print('세 자리의 암스트롱 수: ', end=' ')\n",
    "for n in range(100, 1000):\n",
    "    x = n // 100\n",
    "    y = (n % 100) // 10\n",
    "    z = n % 10\n",
    "    if n == (x**3 + y**3 + z**3):\n",
    "        print(n, end=' ')"
   ]
  },
  {
   "cell_type": "markdown",
   "id": "f015ab5c-eab4-40ec-9058-f6ef40fb008b",
   "metadata": {},
   "source": [
    "## 5.8 \n",
    "거꾸로 정수는 121이나 3443와 같이 거꾸로 나열해도 그 값이 원래의 값과 같은 정수를 말한다. 사용자로부터 임의의 양의 정수를 이력받아 이 수가 거꾸로 정수인지 아닌지를 판단하는 다음과 같은 프로그램을 작성하여라. 입력받을 때 -99가 들어올 경우 더 이상 입력을 받지 않는다.\n",
    "```\n",
    "정수를 입력하시오 :  3443\n",
    "3443 은(는) 거꾸로 정수입니다.\n",
    "정수를 입력하시오 :  324\n",
    "324 은(는) 거꾸로 정수가 아닙니다.\n",
    "정수를 입력하시오 :  -99\n",
    "프로그램을 종료합니다.\n",
    "```"
   ]
  },
  {
   "cell_type": "code",
   "execution_count": null,
   "id": "da3c2d22-c1ae-47f0-a29d-936cb9dc90e9",
   "metadata": {},
   "outputs": [],
   "source": []
  },
  {
   "cell_type": "markdown",
   "id": "6d0e12d3-8899-403b-aac0-eecac7fc03a0",
   "metadata": {},
   "source": [
    "## 5.9\n",
    "사용자로부터 임의의 양의 정수를 입력받아 다음과 같이 입력된 정수의 개수와, 가장 큰 값, 가장 작은 값을 출력하도록 하자. 입력을 받을 때 -99가 들어올 경우 더 이상 입력을 받지 않는다.\n",
    "\n",
    "```\n",
    "정수를 입력하시오: 34\r\n",
    "정수를 입력하시오: 920\r\n",
    "정수를 입력하시오: 320\r\n",
    "정수를 입력하시오: 30\r\n",
    "정수를 입력하시오: -99\r\n",
    "4 개의 유효한 정수 중 가장 큰 정수는 920 이고, 가장 작은 정수는 30 입니다."
   ]
  },
  {
   "cell_type": "code",
   "execution_count": 23,
   "id": "f0646b13-e68b-4f63-bf1d-c15df02f1771",
   "metadata": {},
   "outputs": [
    {
     "name": "stdin",
     "output_type": "stream",
     "text": [
      "정수를 입력하시오:  45\n",
      "정수를 입력하시오:  234\n",
      "정수를 입력하시오:  234\n",
      "정수를 입력하시오:  1325\n",
      "정수를 입력하시오:  1234\n",
      "정수를 입력하시오:  4362\n",
      "정수를 입력하시오:  -99\n"
     ]
    },
    {
     "data": {
      "text/plain": [
       "(6, 4362, 45)"
      ]
     },
     "execution_count": 23,
     "metadata": {},
     "output_type": "execute_result"
    }
   ],
   "source": [
    "import math\n",
    "max_n = 0\n",
    "min_n = math.inf\n",
    "cnt = 0\n",
    "while True:\n",
    "    n = int(input(\"정수를 입력하시오: \"))\n",
    "    if cnt == : break\n",
    "    cnt += 1\n",
    "    if n > max_n:\n",
    "        max_n = n\n",
    "    if n < min_n:\n",
    "        min_n = n\n",
    "cnt, max_n, min_n"
   ]
  },
  {
   "cell_type": "markdown",
   "id": "bb108c8e-cd31-4923-a483-f630e0c3e2e4",
   "metadata": {},
   "source": [
    "## 5.10\n",
    "4장의 도전문제를 개선하여 다음과 같은 랜덤한 패턴의 그림을 그리는 터틀 그래픽 프로그램을 작성하라. 거북이는 총 30회 이동한다."
   ]
  },
  {
   "cell_type": "code",
   "execution_count": null,
   "id": "bee1d55b-d654-4d0f-a033-7f111508c42d",
   "metadata": {},
   "outputs": [],
   "source": []
  },
  {
   "cell_type": "markdown",
   "id": "e4af68e0-86f6-44b6-8c58-b6d3eba09c95",
   "metadata": {},
   "source": [
    "# 06 함수로 일처리를 짜임새있게 하자"
   ]
  },
  {
   "cell_type": "markdown",
   "id": "b385da15-3a27-49b8-be4e-b257f858b4e1",
   "metadata": {},
   "source": [
    "## 6.1 \n",
    "n이라는 이름의 매개변수를 입력으로 받아서 이 값의 제곱 값을 반환하는 square(n) 함수를 정의하고 이 함수를 호출하여 3과 4의 제곱을 출력하고자 한다. 밑줄 친 부분에 들어갈 알맞은 코드를 채우고 전체 코드를 실행하여라.\n",
    "```\n",
    "def square(n):\n",
    "    return ______________\n",
    "print('3의 제곱은 : ', ____________)\n",
    "print('4의 제곱은 : ', ____________)\n"
   ]
  },
  {
   "cell_type": "code",
   "execution_count": 24,
   "id": "f80d0e3c-8ff8-422d-9263-94513ff387e5",
   "metadata": {},
   "outputs": [
    {
     "name": "stdout",
     "output_type": "stream",
     "text": [
      "3의 제곱은 :  9\n",
      "4의 제곱은 :  16\n"
     ]
    }
   ],
   "source": [
    "def square(n):\n",
    "    return n ** 2\n",
    "print('3의 제곱은 : ', square(3))\n",
    "print('4의 제곱은 : ', square(4))\n"
   ]
  },
  {
   "cell_type": "markdown",
   "id": "b0701ccc-d6d8-4177-96ba-671d9219bdf0",
   "metadata": {},
   "source": [
    "## 6.2\n",
    "m과 n이라는 이름의 매개변수를 두 개 입력받아서 이 두 값 중에서 큰 값을 반환하는 max2(m, n) 함수와 작은 값을 반환하는 min2(m, n) 함수를 구현하여라. 100과 200을 인자로 넣어서 호출하여 그 결과를 확인하라. 이를 위하여 밑줄 친 부분에 들어갈 알맞은 코드를 채우고 전체 코드를 실행하여라.\n",
    "```\n",
    "def max2(m, n):\n",
    "    if __________ :\n",
    "        return __________\n",
    "    else:\n",
    "        return __________\n",
    "def min2(m, n):\n",
    "    if __________ :\n",
    "        return __________\n",
    "    else:\n",
    "        return __________\n",
    "print('100과 200중 큰 수는:', __________)\n",
    "print('100과 200중 작은 수는:', __________)"
   ]
  },
  {
   "cell_type": "code",
   "execution_count": 27,
   "id": "087088a6-313e-4898-b607-be38b53ac97a",
   "metadata": {},
   "outputs": [
    {
     "name": "stdout",
     "output_type": "stream",
     "text": [
      "100과 200중 큰 수는: 200\n",
      "100과 200중 작은 수는: 100\n"
     ]
    }
   ],
   "source": [
    "def max2(m, n):\n",
    "    if m > n :\n",
    "        return m\n",
    "    else:\n",
    "        return n\n",
    "def min2(m, n):\n",
    "    if m > n :\n",
    "        return n\n",
    "    else:\n",
    "        return m\n",
    "print('100과 200중 큰 수는:', max2(100, 200))\n",
    "print('100과 200중 작은 수는:', min2(100, 200))"
   ]
  },
  {
   "cell_type": "markdown",
   "id": "4ebe1e5a-d28a-4e22-9592-c271b0656ac9",
   "metadata": {},
   "source": [
    "## 6.3\n",
    "n1, n2, n3라는 이름의 매개변수를 3개 입력받아서 이 값 중에서 가장 큰 값을 반환하는 max3(n1, n2, n3) 함수와 가장 작은 값을 반환하는 min3(n1, n2, n3) 함수를 구현하여라. 사용자로부터 임의의 정수 3개를 입력으로 받아서 이 함수를 호출하여 다음과 같은 출력을 내 보이도록 하여라.\n",
    "\n",
    "```\n",
    "세 수를 입력하시오: 34 66 20\r\n",
    "가장 큰 수: 34\r\n",
    "가장 작은 수: 20"
   ]
  },
  {
   "cell_type": "code",
   "execution_count": 29,
   "id": "7a40928d-b258-44d2-8301-6601ad01eeb6",
   "metadata": {},
   "outputs": [],
   "source": [
    "def max3(n1, n2, n3):\n",
    "    max_n = n1\n",
    "    for n in [n2, n3]:\n",
    "        if max_n < n:\n",
    "            max_n = n\n",
    "    return max_n"
   ]
  },
  {
   "cell_type": "code",
   "execution_count": null,
   "id": "2f28fd67-77e3-4c52-af24-5bd6eb4da955",
   "metadata": {},
   "outputs": [],
   "source": []
  },
  {
   "cell_type": "markdown",
   "id": "24a6d5e0-ffdd-4321-b5dd-58b2f7181abc",
   "metadata": {},
   "source": [
    "## 6.4\n",
    "n1, n2, n3라는 이름의 매개변수를 3개 입력받아서 이 값들 중에서 가장 큰 값과 작은 값을 반환하는 max_and_min(n1, n2, n3) 함수를 return 문을 사용하여 구현하여라. 사용자로부터 임의의 정수 3개를 입력으로 받아서 이 함수를 호출하여 다음과 같은 출력을 내 보이도록 하여라.\n",
    "\n",
    "```\n",
    "세 수를 입력하시오: 34 66 20\n",
    "가장 큰 수: 66\n",
    "가장 작은 수: 20"
   ]
  },
  {
   "cell_type": "code",
   "execution_count": null,
   "id": "32618a9e-5990-418c-838b-17a3a88f89d0",
   "metadata": {},
   "outputs": [],
   "source": []
  },
  {
   "cell_type": "markdown",
   "id": "3eb1c02d-c07e-4e04-bf3f-bba2beb5805f",
   "metadata": {},
   "source": [
    "## 6.5\n",
    "섭씨온도(celsius)를 화씨온도(fahernheit)로 변환하는 식은 다음과 같다. \n",
    "\n",
    "fahrenheit = (9/5) * celcius + 32\n",
    "\n",
    "이 식을 바탕으로 섭씨온도를 0도에서 50까지 10도 단위로 증가시키면서 이에 해당하는 화씨온도를 출력하는 프로그램을 작성하여라. 이를 위하여 섭씨온도를 인자로 받아서 화씨온도를 반환하는 `cel2fah(cel)` 함수를 만들어라."
   ]
  },
  {
   "cell_type": "code",
   "execution_count": null,
   "id": "04d7cf65-362d-4448-ac88-a2792f2ab2b1",
   "metadata": {},
   "outputs": [],
   "source": []
  },
  {
   "cell_type": "markdown",
   "id": "f72cd3cd-d7d9-4e50-bc1c-46a1cc7a03a7",
   "metadata": {},
   "source": [
    "## 6.6\n",
    "임의의 수를 입력으로 받은 다음 이 수가 소수인지 아닌지를 판단하는 함수 `is_prime(n)`을 작성하여라. 만일 $n$이 소수이면 True, 그렇지 않으면 False를 반환하도록 하여라(힌트: 소수는 1과 자기 자신이외에는 약수를 갖지 않는다. 따라서 어떤수 $n$을 2에서 부터 $n-1$까지의 수로 나누어 보면 소수인지 확인할 수 있다. 만일 중간에 $n$을 나눌 수 있는 수가 있다면 이 수는 소수가 아니다).\n",
    "```\n",
    "소수 검사를 할 정수를 입력하시오: 9677\n",
    "소수인가요?: True\n",
    "소수 검사를 할 정수를 입력하시오: 13\n",
    "소수인가요?: True\n",
    "소수 검사를 할 정수를 입력하시오: 4\n",
    "소수인가요?: False\n",
    "소수 검사를 할 정수를 입력하시오: 12347987345345\n",
    "소수인가요?: False"
   ]
  },
  {
   "cell_type": "code",
   "execution_count": null,
   "id": "3b30b78f-f5df-4558-9f93-7dbc25ef9548",
   "metadata": {},
   "outputs": [],
   "source": []
  },
  {
   "cell_type": "markdown",
   "id": "a80c7692-736e-4032-ad98-610fa29101df",
   "metadata": {},
   "source": [
    "## 6.7\n",
    "$n!$은 $n*(n-1)*(n-2)...2*1$의 식으로 표현되는 값이다. 양의 정수 $n$을 매개변수로 받아서 팩토리얼 값을 반환하는 `factorial(n)` 함수를 구현하여라. 이 함수를 재귀 함수를 사용하지 말고 for 문을 사용하여 작성하여라. 이함수를 이용하여 `factorial(5)`, `factorial(7)`, `factorial(10)`의 값을 출력하는 출력문을 구현하여라."
   ]
  },
  {
   "cell_type": "code",
   "execution_count": null,
   "id": "dbf71aa7-3cae-4260-a2ff-7e58aaf36324",
   "metadata": {},
   "outputs": [],
   "source": []
  },
  {
   "cell_type": "markdown",
   "id": "652859ce-8dbc-4f13-b70e-6d34fab3d936",
   "metadata": {},
   "source": [
    "## 6.8\n",
    "사용자로부터 $x_1$, $y_1$, $x_2$, $y_2$의 값을 받아들인 다음 $(x_1, y_1)$ 좌표에서 $(x_2, y_2)$ 좌표를 잇는 직선의 거리를 출력하고자 한다. `distance(x1, y1, x2, y2)`를 구현하고 이 함수를 호출하여 다음과 같이 화면에 직선과 거리를 출력하도록 하여라.\n",
    "\n",
    "```\n",
    "x1 :  4\r\n",
    "y1 :  2\r\n",
    "x2 :  2\r\n",
    "y2 :  1\r\n",
    "(4.0, 2.0) 과 (2.0, 1.0) 사이의 거리는 2.23606797749979"
   ]
  },
  {
   "cell_type": "code",
   "execution_count": null,
   "id": "879f18ee-8fe6-4a15-9638-9cd63aeaeb2c",
   "metadata": {},
   "outputs": [],
   "source": []
  },
  {
   "cell_type": "markdown",
   "id": "5fa17ab1-1405-4c9e-813d-152f4185ad47",
   "metadata": {},
   "source": [
    "## 6.9\n",
    "반지름이 $r$인 원의 넓이와 둘레를 한 번에 계산해서 반환하는 함수 `area_and_circumference(r)`을 작성하여라. 이 함수를 이용하여 다음과 같이 사용자가 입력한 반지름을 가진 원의 넓이와 둘레의 길이를 출력하는 프로그램을 작성하여라. 이때 양의 값이 입력되면 넓이와 둘레를 구하고 나서 새 반지름 값을 입력받도록 하며, -1이 입력되면 \"프로그램을 종료합니다.\"를 출력한 후 프로그램을 중지하여라. 이때 반드시 while문과 break 문을 사용하여라.\n",
    "```\n",
    "반지름을 입력하시오 (-1이 입력되면 종료):  6\n",
    "원의 넓이: 113.10, 원의 둘레: 37.70\n",
    "반지름을 입력하시오 (-1이 입력되면 종료):  4\n",
    "원의 넓이: 50.27, 원의 둘레: 25.13\n",
    "반지름을 입력하시오 (-1이 입력되면 종료):  -1\n",
    "프로그램을 종료합니다."
   ]
  },
  {
   "cell_type": "code",
   "execution_count": 32,
   "id": "4fdf0965-b0aa-4e28-97d5-b432f436f516",
   "metadata": {},
   "outputs": [
    {
     "ename": "SyntaxError",
     "evalue": "unterminated string literal (detected at line 8) (380488614.py, line 8)",
     "output_type": "error",
     "traceback": [
      "\u001b[0;36m  Cell \u001b[0;32mIn[32], line 8\u001b[0;36m\u001b[0m\n\u001b[0;31m    print(f'원의 넓이: {area:7.2f}, 원의 둘레: {circ:7.2f})\u001b[0m\n\u001b[0m          ^\u001b[0m\n\u001b[0;31mSyntaxError\u001b[0m\u001b[0;31m:\u001b[0m unterminated string literal (detected at line 8)\n"
     ]
    }
   ],
   "source": [
    "def area_and_circumference(r):\n",
    "    area = 3.14 * r ** 2\n",
    "    circum = 2 * 3.14 * r\n",
    "    return area, circum\n",
    "    r = float(input(\"반지름을 입력하시오 (-1이 입력되면 종료):\"))\n",
    "    if r == -1:break\n",
    "    area, circ = area_and_circumference(5)\n",
    "    print(f'원의 넓이: {area:7.2f}, 원의 둘레: {circ:7.2f})"
   ]
  },
  {
   "cell_type": "code",
   "execution_count": null,
   "id": "e38c2dfd-269c-44bb-9c61-b112c3b6dec5",
   "metadata": {},
   "outputs": [],
   "source": []
  }
 ],
 "metadata": {
  "kernelspec": {
   "display_name": "Python 3 (ipykernel)",
   "language": "python",
   "name": "python3"
  },
  "language_info": {
   "codemirror_mode": {
    "name": "ipython",
    "version": 3
   },
   "file_extension": ".py",
   "mimetype": "text/x-python",
   "name": "python",
   "nbconvert_exporter": "python",
   "pygments_lexer": "ipython3",
   "version": "3.11.7"
  }
 },
 "nbformat": 4,
 "nbformat_minor": 5
}
